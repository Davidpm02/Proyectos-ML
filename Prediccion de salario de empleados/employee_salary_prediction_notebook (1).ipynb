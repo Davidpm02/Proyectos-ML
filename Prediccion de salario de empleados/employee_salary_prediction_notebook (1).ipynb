{
 "cells": [
  {
   "cell_type": "markdown",
   "metadata": {
    "colab_type": "text",
    "id": "M27qF7CTrBqc"
   },
   "source": [
    "# TASK #1: UNDERSTAND THE PROBLEM STATEMENT "
   ]
  },
  {
   "cell_type": "code",
   "execution_count": null,
   "metadata": {
    "colab_type": "text",
    "id": "xNl52nl3qiyL"
   },
   "outputs": [],
   "source": [
    "- The objective of this case study is to predict the employee salary based on the number of years of experience. \n",
    "- In simple linear regression, we predict the value of one variable Y based on another variable X.\n",
    "- X is called the independent variable and Y is called the dependant variable.\n",
    "- Why simple? Because it examines relationship between two variables only.\n",
    "- Why linear? when the independent variable increases (or decreases), the dependent variable increases (or decreases) in a linear fashion.\n"
   ]
  },
  {
   "cell_type": "markdown",
   "metadata": {
    "colab_type": "text",
    "id": "zKmFmyaGunc7"
   },
   "source": [
    "# TASK #2: IMPORT LIBRARIES AND DATASETS"
   ]
  },
  {
   "cell_type": "code",
   "execution_count": 178,
   "metadata": {
    "tags": []
   },
   "outputs": [
    {
     "name": "stdout",
     "output_type": "stream",
     "text": [
      "Keyring is skipped due to an exception: 'keyring.backends'\n",
      "Requirement already satisfied: sagemaker==1.72.0 in /opt/conda/lib/python3.7/site-packages (1.72.0)\n",
      "Requirement already satisfied: importlib-metadata>=1.4.0 in /opt/conda/lib/python3.7/site-packages (from sagemaker==1.72.0) (5.1.0)\n",
      "Requirement already satisfied: protobuf3-to-dict>=0.1.5 in /opt/conda/lib/python3.7/site-packages (from sagemaker==1.72.0) (0.1.5)\n",
      "Requirement already satisfied: boto3>=1.14.12 in /opt/conda/lib/python3.7/site-packages (from sagemaker==1.72.0) (1.26.24)\n",
      "Requirement already satisfied: packaging>=20.0 in /opt/conda/lib/python3.7/site-packages (from sagemaker==1.72.0) (20.1)\n",
      "Requirement already satisfied: protobuf>=3.1 in /opt/conda/lib/python3.7/site-packages (from sagemaker==1.72.0) (3.19.6)\n",
      "Requirement already satisfied: scipy>=0.19.0 in /opt/conda/lib/python3.7/site-packages (from sagemaker==1.72.0) (1.4.1)\n",
      "Requirement already satisfied: numpy>=1.9.0 in /opt/conda/lib/python3.7/site-packages (from sagemaker==1.72.0) (1.21.6)\n",
      "Requirement already satisfied: smdebug-rulesconfig==0.1.4 in /opt/conda/lib/python3.7/site-packages (from sagemaker==1.72.0) (0.1.4)\n",
      "Requirement already satisfied: jmespath<2.0.0,>=0.7.1 in /opt/conda/lib/python3.7/site-packages (from boto3>=1.14.12->sagemaker==1.72.0) (1.0.1)\n",
      "Requirement already satisfied: botocore<1.30.0,>=1.29.24 in /opt/conda/lib/python3.7/site-packages (from boto3>=1.14.12->sagemaker==1.72.0) (1.29.24)\n",
      "Requirement already satisfied: s3transfer<0.7.0,>=0.6.0 in /opt/conda/lib/python3.7/site-packages (from boto3>=1.14.12->sagemaker==1.72.0) (0.6.0)\n",
      "Requirement already satisfied: typing-extensions>=3.6.4 in /opt/conda/lib/python3.7/site-packages (from importlib-metadata>=1.4.0->sagemaker==1.72.0) (4.4.0)\n",
      "Requirement already satisfied: zipp>=0.5 in /opt/conda/lib/python3.7/site-packages (from importlib-metadata>=1.4.0->sagemaker==1.72.0) (3.11.0)\n",
      "Requirement already satisfied: pyparsing>=2.0.2 in /opt/conda/lib/python3.7/site-packages (from packaging>=20.0->sagemaker==1.72.0) (2.4.6)\n",
      "Requirement already satisfied: six in /opt/conda/lib/python3.7/site-packages (from packaging>=20.0->sagemaker==1.72.0) (1.14.0)\n",
      "Requirement already satisfied: python-dateutil<3.0.0,>=2.1 in /opt/conda/lib/python3.7/site-packages (from botocore<1.30.0,>=1.29.24->boto3>=1.14.12->sagemaker==1.72.0) (2.8.2)\n",
      "Requirement already satisfied: urllib3<1.27,>=1.25.4 in /opt/conda/lib/python3.7/site-packages (from botocore<1.30.0,>=1.29.24->boto3>=1.14.12->sagemaker==1.72.0) (1.26.13)\n",
      "\u001b[33mWARNING: Running pip as the 'root' user can result in broken permissions and conflicting behaviour with the system package manager. It is recommended to use a virtual environment instead: https://pip.pypa.io/warnings/venv\u001b[0m\u001b[33m\n",
      "\u001b[0mNote: you may need to restart the kernel to use updated packages.\n"
     ]
    }
   ],
   "source": [
    "pip install sagemaker==1.72.0"
   ]
  },
  {
   "cell_type": "code",
   "execution_count": 179,
   "metadata": {
    "tags": []
   },
   "outputs": [
    {
     "name": "stdout",
     "output_type": "stream",
     "text": [
      "Keyring is skipped due to an exception: 'keyring.backends'\n",
      "Requirement already satisfied: seaborn in /opt/conda/lib/python3.7/site-packages (0.10.0)\n",
      "Requirement already satisfied: matplotlib>=2.1.2 in /opt/conda/lib/python3.7/site-packages (from seaborn) (3.1.3)\n",
      "Requirement already satisfied: pandas>=0.22.0 in /opt/conda/lib/python3.7/site-packages (from seaborn) (1.3.5)\n",
      "Requirement already satisfied: scipy>=1.0.1 in /opt/conda/lib/python3.7/site-packages (from seaborn) (1.4.1)\n",
      "Requirement already satisfied: numpy>=1.13.3 in /opt/conda/lib/python3.7/site-packages (from seaborn) (1.21.6)\n",
      "Requirement already satisfied: pyparsing!=2.0.4,!=2.1.2,!=2.1.6,>=2.0.1 in /opt/conda/lib/python3.7/site-packages (from matplotlib>=2.1.2->seaborn) (2.4.6)\n",
      "Requirement already satisfied: cycler>=0.10 in /opt/conda/lib/python3.7/site-packages (from matplotlib>=2.1.2->seaborn) (0.10.0)\n",
      "Requirement already satisfied: kiwisolver>=1.0.1 in /opt/conda/lib/python3.7/site-packages (from matplotlib>=2.1.2->seaborn) (1.1.0)\n",
      "Requirement already satisfied: python-dateutil>=2.1 in /opt/conda/lib/python3.7/site-packages (from matplotlib>=2.1.2->seaborn) (2.8.2)\n",
      "Requirement already satisfied: pytz>=2017.3 in /opt/conda/lib/python3.7/site-packages (from pandas>=0.22.0->seaborn) (2019.3)\n",
      "Requirement already satisfied: six in /opt/conda/lib/python3.7/site-packages (from cycler>=0.10->matplotlib>=2.1.2->seaborn) (1.14.0)\n",
      "Requirement already satisfied: setuptools in /opt/conda/lib/python3.7/site-packages (from kiwisolver>=1.0.1->matplotlib>=2.1.2->seaborn) (59.3.0)\n",
      "\u001b[33mWARNING: Running pip as the 'root' user can result in broken permissions and conflicting behaviour with the system package manager. It is recommended to use a virtual environment instead: https://pip.pypa.io/warnings/venv\u001b[0m\u001b[33m\n",
      "\u001b[0mNote: you may need to restart the kernel to use updated packages.\n"
     ]
    }
   ],
   "source": [
    "pip install seaborn"
   ]
  },
  {
   "cell_type": "code",
   "execution_count": 180,
   "metadata": {
    "tags": []
   },
   "outputs": [],
   "source": [
    "# install seaborn library\n",
    "# !pip install seaborn\n",
    "# !pip install tensorflow\n",
    "import tensorflow as tf\n",
    "import pandas as pd\n",
    "import numpy as np\n",
    "import seaborn as sns\n",
    "import matplotlib.pyplot as plt\n"
   ]
  },
  {
   "cell_type": "code",
   "execution_count": 181,
   "metadata": {
    "colab": {},
    "colab_type": "code",
    "id": "tjIiJdM4u1IE",
    "tags": []
   },
   "outputs": [],
   "source": [
    "# read the csv file \n",
    "salary_df = pd.read_csv('salary.csv')"
   ]
  },
  {
   "cell_type": "code",
   "execution_count": 182,
   "metadata": {
    "colab": {
     "base_uri": "https://localhost:8080/",
     "height": 204
    },
    "colab_type": "code",
    "id": "q4_wPDKCu5Uc",
    "outputId": "886d2aaf-0205-4f46-96a7-629d0f367d2f",
    "tags": []
   },
   "outputs": [
    {
     "data": {
      "text/html": [
       "<div>\n",
       "<style scoped>\n",
       "    .dataframe tbody tr th:only-of-type {\n",
       "        vertical-align: middle;\n",
       "    }\n",
       "\n",
       "    .dataframe tbody tr th {\n",
       "        vertical-align: top;\n",
       "    }\n",
       "\n",
       "    .dataframe thead th {\n",
       "        text-align: right;\n",
       "    }\n",
       "</style>\n",
       "<table border=\"1\" class=\"dataframe\">\n",
       "  <thead>\n",
       "    <tr style=\"text-align: right;\">\n",
       "      <th></th>\n",
       "      <th>YearsExperience</th>\n",
       "      <th>Salary</th>\n",
       "    </tr>\n",
       "  </thead>\n",
       "  <tbody>\n",
       "    <tr>\n",
       "      <th>0</th>\n",
       "      <td>1.1</td>\n",
       "      <td>39343</td>\n",
       "    </tr>\n",
       "    <tr>\n",
       "      <th>1</th>\n",
       "      <td>1.3</td>\n",
       "      <td>46205</td>\n",
       "    </tr>\n",
       "    <tr>\n",
       "      <th>2</th>\n",
       "      <td>1.5</td>\n",
       "      <td>37731</td>\n",
       "    </tr>\n",
       "    <tr>\n",
       "      <th>3</th>\n",
       "      <td>2.0</td>\n",
       "      <td>43525</td>\n",
       "    </tr>\n",
       "    <tr>\n",
       "      <th>4</th>\n",
       "      <td>2.2</td>\n",
       "      <td>39891</td>\n",
       "    </tr>\n",
       "    <tr>\n",
       "      <th>5</th>\n",
       "      <td>2.9</td>\n",
       "      <td>56642</td>\n",
       "    </tr>\n",
       "    <tr>\n",
       "      <th>6</th>\n",
       "      <td>3.0</td>\n",
       "      <td>60150</td>\n",
       "    </tr>\n",
       "    <tr>\n",
       "      <th>7</th>\n",
       "      <td>3.2</td>\n",
       "      <td>54445</td>\n",
       "    </tr>\n",
       "    <tr>\n",
       "      <th>8</th>\n",
       "      <td>3.2</td>\n",
       "      <td>64445</td>\n",
       "    </tr>\n",
       "    <tr>\n",
       "      <th>9</th>\n",
       "      <td>3.7</td>\n",
       "      <td>57189</td>\n",
       "    </tr>\n",
       "    <tr>\n",
       "      <th>10</th>\n",
       "      <td>3.9</td>\n",
       "      <td>63218</td>\n",
       "    </tr>\n",
       "    <tr>\n",
       "      <th>11</th>\n",
       "      <td>4.0</td>\n",
       "      <td>55794</td>\n",
       "    </tr>\n",
       "    <tr>\n",
       "      <th>12</th>\n",
       "      <td>4.0</td>\n",
       "      <td>56957</td>\n",
       "    </tr>\n",
       "    <tr>\n",
       "      <th>13</th>\n",
       "      <td>4.1</td>\n",
       "      <td>57081</td>\n",
       "    </tr>\n",
       "    <tr>\n",
       "      <th>14</th>\n",
       "      <td>4.5</td>\n",
       "      <td>61111</td>\n",
       "    </tr>\n",
       "    <tr>\n",
       "      <th>15</th>\n",
       "      <td>4.9</td>\n",
       "      <td>67938</td>\n",
       "    </tr>\n",
       "    <tr>\n",
       "      <th>16</th>\n",
       "      <td>5.1</td>\n",
       "      <td>66029</td>\n",
       "    </tr>\n",
       "    <tr>\n",
       "      <th>17</th>\n",
       "      <td>5.3</td>\n",
       "      <td>83088</td>\n",
       "    </tr>\n",
       "    <tr>\n",
       "      <th>18</th>\n",
       "      <td>5.9</td>\n",
       "      <td>81363</td>\n",
       "    </tr>\n",
       "    <tr>\n",
       "      <th>19</th>\n",
       "      <td>6.0</td>\n",
       "      <td>93940</td>\n",
       "    </tr>\n",
       "    <tr>\n",
       "      <th>20</th>\n",
       "      <td>6.8</td>\n",
       "      <td>91738</td>\n",
       "    </tr>\n",
       "    <tr>\n",
       "      <th>21</th>\n",
       "      <td>7.1</td>\n",
       "      <td>98273</td>\n",
       "    </tr>\n",
       "    <tr>\n",
       "      <th>22</th>\n",
       "      <td>7.9</td>\n",
       "      <td>101302</td>\n",
       "    </tr>\n",
       "    <tr>\n",
       "      <th>23</th>\n",
       "      <td>8.2</td>\n",
       "      <td>113812</td>\n",
       "    </tr>\n",
       "    <tr>\n",
       "      <th>24</th>\n",
       "      <td>8.7</td>\n",
       "      <td>109431</td>\n",
       "    </tr>\n",
       "    <tr>\n",
       "      <th>25</th>\n",
       "      <td>9.0</td>\n",
       "      <td>105582</td>\n",
       "    </tr>\n",
       "    <tr>\n",
       "      <th>26</th>\n",
       "      <td>9.5</td>\n",
       "      <td>116969</td>\n",
       "    </tr>\n",
       "    <tr>\n",
       "      <th>27</th>\n",
       "      <td>9.6</td>\n",
       "      <td>112635</td>\n",
       "    </tr>\n",
       "    <tr>\n",
       "      <th>28</th>\n",
       "      <td>10.3</td>\n",
       "      <td>122391</td>\n",
       "    </tr>\n",
       "    <tr>\n",
       "      <th>29</th>\n",
       "      <td>10.5</td>\n",
       "      <td>121872</td>\n",
       "    </tr>\n",
       "    <tr>\n",
       "      <th>30</th>\n",
       "      <td>11.2</td>\n",
       "      <td>127345</td>\n",
       "    </tr>\n",
       "    <tr>\n",
       "      <th>31</th>\n",
       "      <td>11.5</td>\n",
       "      <td>126756</td>\n",
       "    </tr>\n",
       "    <tr>\n",
       "      <th>32</th>\n",
       "      <td>12.3</td>\n",
       "      <td>128765</td>\n",
       "    </tr>\n",
       "    <tr>\n",
       "      <th>33</th>\n",
       "      <td>12.9</td>\n",
       "      <td>135675</td>\n",
       "    </tr>\n",
       "    <tr>\n",
       "      <th>34</th>\n",
       "      <td>13.5</td>\n",
       "      <td>139465</td>\n",
       "    </tr>\n",
       "  </tbody>\n",
       "</table>\n",
       "</div>"
      ],
      "text/plain": [
       "    YearsExperience  Salary\n",
       "0               1.1   39343\n",
       "1               1.3   46205\n",
       "2               1.5   37731\n",
       "3               2.0   43525\n",
       "4               2.2   39891\n",
       "5               2.9   56642\n",
       "6               3.0   60150\n",
       "7               3.2   54445\n",
       "8               3.2   64445\n",
       "9               3.7   57189\n",
       "10              3.9   63218\n",
       "11              4.0   55794\n",
       "12              4.0   56957\n",
       "13              4.1   57081\n",
       "14              4.5   61111\n",
       "15              4.9   67938\n",
       "16              5.1   66029\n",
       "17              5.3   83088\n",
       "18              5.9   81363\n",
       "19              6.0   93940\n",
       "20              6.8   91738\n",
       "21              7.1   98273\n",
       "22              7.9  101302\n",
       "23              8.2  113812\n",
       "24              8.7  109431\n",
       "25              9.0  105582\n",
       "26              9.5  116969\n",
       "27              9.6  112635\n",
       "28             10.3  122391\n",
       "29             10.5  121872\n",
       "30             11.2  127345\n",
       "31             11.5  126756\n",
       "32             12.3  128765\n",
       "33             12.9  135675\n",
       "34             13.5  139465"
      ]
     },
     "execution_count": 182,
     "metadata": {},
     "output_type": "execute_result"
    }
   ],
   "source": [
    "salary_df"
   ]
  },
  {
   "cell_type": "markdown",
   "metadata": {},
   "source": [
    "MINI CHALLENGE\n",
    " - Use head and tail methods to print the first and last 7 rows of the dataframe\n",
    " - Try to find the maximum salary value in the dataframe "
   ]
  },
  {
   "cell_type": "code",
   "execution_count": 183,
   "metadata": {
    "tags": []
   },
   "outputs": [
    {
     "name": "stdout",
     "output_type": "stream",
     "text": [
      "   YearsExperience  Salary\n",
      "0              1.1   39343\n",
      "1              1.3   46205\n",
      "2              1.5   37731\n",
      "3              2.0   43525\n",
      "4              2.2   39891\n",
      "5              2.9   56642\n",
      "6              3.0   60150\n"
     ]
    }
   ],
   "source": [
    "print(salary_df.head(7))"
   ]
  },
  {
   "cell_type": "code",
   "execution_count": 184,
   "metadata": {
    "tags": []
   },
   "outputs": [
    {
     "name": "stdout",
     "output_type": "stream",
     "text": [
      "    YearsExperience  Salary\n",
      "28             10.3  122391\n",
      "29             10.5  121872\n",
      "30             11.2  127345\n",
      "31             11.5  126756\n",
      "32             12.3  128765\n",
      "33             12.9  135675\n",
      "34             13.5  139465\n"
     ]
    }
   ],
   "source": [
    "print(salary_df.tail(7))"
   ]
  },
  {
   "cell_type": "code",
   "execution_count": 185,
   "metadata": {
    "tags": []
   },
   "outputs": [
    {
     "name": "stdout",
     "output_type": "stream",
     "text": [
      "139465\n"
     ]
    }
   ],
   "source": [
    "print(salary_df['Salary'].max())"
   ]
  },
  {
   "cell_type": "markdown",
   "metadata": {
    "colab_type": "text",
    "id": "tMcr7xqMQre2"
   },
   "source": [
    "# TASK #3: PERFORM EXPLORATORY DATA ANALYSIS AND VISUALIZATION"
   ]
  },
  {
   "cell_type": "code",
   "execution_count": 186,
   "metadata": {
    "tags": []
   },
   "outputs": [
    {
     "data": {
      "image/png": "[encoded data removed]",
      "text/plain": [
       "<Figure size 640x480 with 1 Axes>"
      ]
     },
     "metadata": {},
     "output_type": "display_data"
    }
   ],
   "source": [
    "# check if there are any Null values\n",
    "sns.heatmap(salary_df.isnull(), yticklabels = False, cbar = False, cmap=\"Blues\")\n",
    "plt.show()"
   ]
  },
  {
   "cell_type": "code",
   "execution_count": 187,
   "metadata": {
    "colab": {
     "base_uri": "https://localhost:8080/",
     "height": 272
    },
    "colab_type": "code",
    "id": "hMq3-KWOx0e1",
    "outputId": "22a5b184-1f07-46ef-dfc1-f8377fd7042f",
    "scrolled": true,
    "tags": []
   },
   "outputs": [
    {
     "name": "stdout",
     "output_type": "stream",
     "text": [
      "<class 'pandas.core.frame.DataFrame'>\n",
      "RangeIndex: 35 entries, 0 to 34\n",
      "Data columns (total 2 columns):\n",
      " #   Column           Non-Null Count  Dtype  \n",
      "---  ------           --------------  -----  \n",
      " 0   YearsExperience  35 non-null     float64\n",
      " 1   Salary           35 non-null     int64  \n",
      "dtypes: float64(1), int64(1)\n",
      "memory usage: 688.0 bytes\n"
     ]
    }
   ],
   "source": [
    "# Check the dataframe info\n",
    "\n",
    "salary_df.info()"
   ]
  },
  {
   "cell_type": "code",
   "execution_count": 188,
   "metadata": {
    "colab": {
     "base_uri": "https://localhost:8080/",
     "height": 297
    },
    "colab_type": "code",
    "id": "Nn1Oxk2SzPX3",
    "outputId": "95f0265a-5e75-4a32-d771-4b3d15850c3c",
    "tags": []
   },
   "outputs": [
    {
     "data": {
      "text/html": [
       "<div>\n",
       "<style scoped>\n",
       "    .dataframe tbody tr th:only-of-type {\n",
       "        vertical-align: middle;\n",
       "    }\n",
       "\n",
       "    .dataframe tbody tr th {\n",
       "        vertical-align: top;\n",
       "    }\n",
       "\n",
       "    .dataframe thead th {\n",
       "        text-align: right;\n",
       "    }\n",
       "</style>\n",
       "<table border=\"1\" class=\"dataframe\">\n",
       "  <thead>\n",
       "    <tr style=\"text-align: right;\">\n",
       "      <th></th>\n",
       "      <th>YearsExperience</th>\n",
       "      <th>Salary</th>\n",
       "    </tr>\n",
       "  </thead>\n",
       "  <tbody>\n",
       "    <tr>\n",
       "      <th>count</th>\n",
       "      <td>35.000000</td>\n",
       "      <td>35.000000</td>\n",
       "    </tr>\n",
       "    <tr>\n",
       "      <th>mean</th>\n",
       "      <td>6.308571</td>\n",
       "      <td>83945.600000</td>\n",
       "    </tr>\n",
       "    <tr>\n",
       "      <th>std</th>\n",
       "      <td>3.618610</td>\n",
       "      <td>32162.673003</td>\n",
       "    </tr>\n",
       "    <tr>\n",
       "      <th>min</th>\n",
       "      <td>1.100000</td>\n",
       "      <td>37731.000000</td>\n",
       "    </tr>\n",
       "    <tr>\n",
       "      <th>25%</th>\n",
       "      <td>3.450000</td>\n",
       "      <td>57019.000000</td>\n",
       "    </tr>\n",
       "    <tr>\n",
       "      <th>50%</th>\n",
       "      <td>5.300000</td>\n",
       "      <td>81363.000000</td>\n",
       "    </tr>\n",
       "    <tr>\n",
       "      <th>75%</th>\n",
       "      <td>9.250000</td>\n",
       "      <td>113223.500000</td>\n",
       "    </tr>\n",
       "    <tr>\n",
       "      <th>max</th>\n",
       "      <td>13.500000</td>\n",
       "      <td>139465.000000</td>\n",
       "    </tr>\n",
       "  </tbody>\n",
       "</table>\n",
       "</div>"
      ],
      "text/plain": [
       "       YearsExperience         Salary\n",
       "count        35.000000      35.000000\n",
       "mean          6.308571   83945.600000\n",
       "std           3.618610   32162.673003\n",
       "min           1.100000   37731.000000\n",
       "25%           3.450000   57019.000000\n",
       "50%           5.300000   81363.000000\n",
       "75%           9.250000  113223.500000\n",
       "max          13.500000  139465.000000"
      ]
     },
     "execution_count": 188,
     "metadata": {},
     "output_type": "execute_result"
    }
   ],
   "source": [
    "# Statistical summary of the dataframe\n",
    "\n",
    "salary_df.describe()"
   ]
  },
  {
   "cell_type": "markdown",
   "metadata": {},
   "source": [
    "MINI CHALLENGE\n",
    " - What are the number of years of experience corresponding to employees with minimum and maximim salaries?"
   ]
  },
  {
   "cell_type": "code",
   "execution_count": 189,
   "metadata": {
    "tags": []
   },
   "outputs": [
    {
     "name": "stdout",
     "output_type": "stream",
     "text": [
      "    YearsExperience  Salary\n",
      "34             13.5  139465\n",
      "   YearsExperience  Salary\n",
      "2              1.5   37731\n"
     ]
    }
   ],
   "source": [
    "max = salary_df[ salary_df['Salary'] == salary_df['Salary'].max() ]\n",
    "print(max)\n",
    "\n",
    "min = salary_df[ salary_df['Salary'] == salary_df['Salary'].min() ]\n",
    "print(min)"
   ]
  },
  {
   "cell_type": "code",
   "execution_count": 190,
   "metadata": {
    "tags": []
   },
   "outputs": [],
   "source": [
    "%matplotlib inline"
   ]
  },
  {
   "cell_type": "code",
   "execution_count": 191,
   "metadata": {
    "tags": []
   },
   "outputs": [
    {
     "data": {
      "image/png": "[encoded data removed]",
      "text/plain": [
       "<Figure size 2000x1000 with 2 Axes>"
      ]
     },
     "metadata": {},
     "output_type": "display_data"
    }
   ],
   "source": [
    "salary_df.hist(bins = 30, figsize = (20,10), color = 'r')\n",
    "plt.show()"
   ]
  },
  {
   "cell_type": "code",
   "execution_count": 192,
   "metadata": {
    "colab": {
     "base_uri": "https://localhost:8080/",
     "height": 1000
    },
    "colab_type": "code",
    "id": "Ka9uFRXSkWHw",
    "outputId": "f42a681e-93d4-4b1f-a29c-f58fc8a6f974",
    "tags": []
   },
   "outputs": [
    {
     "data": {
      "text/plain": [
       "<seaborn.axisgrid.PairGrid at 0x7fe0ffa21490>"
      ]
     },
     "execution_count": 192,
     "metadata": {},
     "output_type": "execute_result"
    },
    {
     "data": {
      "image/png": "[encoded data removed]",
      "text/plain": [
       "<Figure size 500x500 with 6 Axes>"
      ]
     },
     "metadata": {},
     "output_type": "display_data"
    }
   ],
   "source": [
    "# plot pairplot\n",
    "\n",
    "sns.pairplot(salary_df)"
   ]
  },
  {
   "cell_type": "code",
   "execution_count": 193,
   "metadata": {
    "colab": {
     "base_uri": "https://localhost:8080/",
     "height": 297
    },
    "colab_type": "code",
    "id": "9q-tFxvskWDa",
    "outputId": "8834e9ec-7676-4e86-c5e7-20f4e9eccbcb",
    "tags": []
   },
   "outputs": [
    {
     "data": {
      "image/png": "[encoded data removed]",
      "text/plain": [
       "<Figure size 640x480 with 2 Axes>"
      ]
     },
     "metadata": {},
     "output_type": "display_data"
    }
   ],
   "source": [
    "corr_matrix = salary_df.corr()\n",
    "sns.heatmap(corr_matrix, annot = True)\n",
    "plt.show()"
   ]
  },
  {
   "cell_type": "markdown",
   "metadata": {},
   "source": [
    "MINI CHALLENGE\n",
    "- Use regplot in Seaborn to obtain a straight line fit between \"salary\" and \"years of experience\""
   ]
  },
  {
   "cell_type": "code",
   "execution_count": 194,
   "metadata": {
    "tags": []
   },
   "outputs": [
    {
     "data": {
      "text/plain": [
       "<matplotlib.axes._subplots.AxesSubplot at 0x7fe10259c3d0>"
      ]
     },
     "execution_count": 194,
     "metadata": {},
     "output_type": "execute_result"
    },
    {
     "data": {
      "image/png": "[encoded data removed]",
      "text/plain": [
       "<Figure size 640x480 with 1 Axes>"
      ]
     },
     "metadata": {},
     "output_type": "display_data"
    }
   ],
   "source": [
    "sns.regplot(x = salary_df['YearsExperience'],\n",
    "            y = salary_df['Salary'],\n",
    "            data = salary_df)"
   ]
  },
  {
   "cell_type": "markdown",
   "metadata": {
    "colab_type": "text",
    "id": "53qDZFRn3-S1"
   },
   "source": [
    "# TASK #4: CREATE TRAINING AND TESTING DATASET"
   ]
  },
  {
   "cell_type": "code",
   "execution_count": 195,
   "metadata": {
    "colab": {},
    "colab_type": "code",
    "id": "4OXZB2F21e4H",
    "tags": []
   },
   "outputs": [],
   "source": [
    "X = salary_df[['YearsExperience']]\n",
    "y = salary_df[['Salary']]\n"
   ]
  },
  {
   "cell_type": "code",
   "execution_count": 196,
   "metadata": {
    "scrolled": true,
    "tags": []
   },
   "outputs": [
    {
     "data": {
      "text/html": [
       "<div>\n",
       "<style scoped>\n",
       "    .dataframe tbody tr th:only-of-type {\n",
       "        vertical-align: middle;\n",
       "    }\n",
       "\n",
       "    .dataframe tbody tr th {\n",
       "        vertical-align: top;\n",
       "    }\n",
       "\n",
       "    .dataframe thead th {\n",
       "        text-align: right;\n",
       "    }\n",
       "</style>\n",
       "<table border=\"1\" class=\"dataframe\">\n",
       "  <thead>\n",
       "    <tr style=\"text-align: right;\">\n",
       "      <th></th>\n",
       "      <th>YearsExperience</th>\n",
       "    </tr>\n",
       "  </thead>\n",
       "  <tbody>\n",
       "    <tr>\n",
       "      <th>0</th>\n",
       "      <td>1.1</td>\n",
       "    </tr>\n",
       "    <tr>\n",
       "      <th>1</th>\n",
       "      <td>1.3</td>\n",
       "    </tr>\n",
       "    <tr>\n",
       "      <th>2</th>\n",
       "      <td>1.5</td>\n",
       "    </tr>\n",
       "    <tr>\n",
       "      <th>3</th>\n",
       "      <td>2.0</td>\n",
       "    </tr>\n",
       "    <tr>\n",
       "      <th>4</th>\n",
       "      <td>2.2</td>\n",
       "    </tr>\n",
       "    <tr>\n",
       "      <th>5</th>\n",
       "      <td>2.9</td>\n",
       "    </tr>\n",
       "    <tr>\n",
       "      <th>6</th>\n",
       "      <td>3.0</td>\n",
       "    </tr>\n",
       "    <tr>\n",
       "      <th>7</th>\n",
       "      <td>3.2</td>\n",
       "    </tr>\n",
       "    <tr>\n",
       "      <th>8</th>\n",
       "      <td>3.2</td>\n",
       "    </tr>\n",
       "    <tr>\n",
       "      <th>9</th>\n",
       "      <td>3.7</td>\n",
       "    </tr>\n",
       "    <tr>\n",
       "      <th>10</th>\n",
       "      <td>3.9</td>\n",
       "    </tr>\n",
       "    <tr>\n",
       "      <th>11</th>\n",
       "      <td>4.0</td>\n",
       "    </tr>\n",
       "    <tr>\n",
       "      <th>12</th>\n",
       "      <td>4.0</td>\n",
       "    </tr>\n",
       "    <tr>\n",
       "      <th>13</th>\n",
       "      <td>4.1</td>\n",
       "    </tr>\n",
       "    <tr>\n",
       "      <th>14</th>\n",
       "      <td>4.5</td>\n",
       "    </tr>\n",
       "    <tr>\n",
       "      <th>15</th>\n",
       "      <td>4.9</td>\n",
       "    </tr>\n",
       "    <tr>\n",
       "      <th>16</th>\n",
       "      <td>5.1</td>\n",
       "    </tr>\n",
       "    <tr>\n",
       "      <th>17</th>\n",
       "      <td>5.3</td>\n",
       "    </tr>\n",
       "    <tr>\n",
       "      <th>18</th>\n",
       "      <td>5.9</td>\n",
       "    </tr>\n",
       "    <tr>\n",
       "      <th>19</th>\n",
       "      <td>6.0</td>\n",
       "    </tr>\n",
       "    <tr>\n",
       "      <th>20</th>\n",
       "      <td>6.8</td>\n",
       "    </tr>\n",
       "    <tr>\n",
       "      <th>21</th>\n",
       "      <td>7.1</td>\n",
       "    </tr>\n",
       "    <tr>\n",
       "      <th>22</th>\n",
       "      <td>7.9</td>\n",
       "    </tr>\n",
       "    <tr>\n",
       "      <th>23</th>\n",
       "      <td>8.2</td>\n",
       "    </tr>\n",
       "    <tr>\n",
       "      <th>24</th>\n",
       "      <td>8.7</td>\n",
       "    </tr>\n",
       "    <tr>\n",
       "      <th>25</th>\n",
       "      <td>9.0</td>\n",
       "    </tr>\n",
       "    <tr>\n",
       "      <th>26</th>\n",
       "      <td>9.5</td>\n",
       "    </tr>\n",
       "    <tr>\n",
       "      <th>27</th>\n",
       "      <td>9.6</td>\n",
       "    </tr>\n",
       "    <tr>\n",
       "      <th>28</th>\n",
       "      <td>10.3</td>\n",
       "    </tr>\n",
       "    <tr>\n",
       "      <th>29</th>\n",
       "      <td>10.5</td>\n",
       "    </tr>\n",
       "    <tr>\n",
       "      <th>30</th>\n",
       "      <td>11.2</td>\n",
       "    </tr>\n",
       "    <tr>\n",
       "      <th>31</th>\n",
       "      <td>11.5</td>\n",
       "    </tr>\n",
       "    <tr>\n",
       "      <th>32</th>\n",
       "      <td>12.3</td>\n",
       "    </tr>\n",
       "    <tr>\n",
       "      <th>33</th>\n",
       "      <td>12.9</td>\n",
       "    </tr>\n",
       "    <tr>\n",
       "      <th>34</th>\n",
       "      <td>13.5</td>\n",
       "    </tr>\n",
       "  </tbody>\n",
       "</table>\n",
       "</div>"
      ],
      "text/plain": [
       "    YearsExperience\n",
       "0               1.1\n",
       "1               1.3\n",
       "2               1.5\n",
       "3               2.0\n",
       "4               2.2\n",
       "5               2.9\n",
       "6               3.0\n",
       "7               3.2\n",
       "8               3.2\n",
       "9               3.7\n",
       "10              3.9\n",
       "11              4.0\n",
       "12              4.0\n",
       "13              4.1\n",
       "14              4.5\n",
       "15              4.9\n",
       "16              5.1\n",
       "17              5.3\n",
       "18              5.9\n",
       "19              6.0\n",
       "20              6.8\n",
       "21              7.1\n",
       "22              7.9\n",
       "23              8.2\n",
       "24              8.7\n",
       "25              9.0\n",
       "26              9.5\n",
       "27              9.6\n",
       "28             10.3\n",
       "29             10.5\n",
       "30             11.2\n",
       "31             11.5\n",
       "32             12.3\n",
       "33             12.9\n",
       "34             13.5"
      ]
     },
     "execution_count": 196,
     "metadata": {},
     "output_type": "execute_result"
    }
   ],
   "source": [
    "X"
   ]
  },
  {
   "cell_type": "code",
   "execution_count": 197,
   "metadata": {
    "tags": []
   },
   "outputs": [
    {
     "data": {
      "text/html": [
       "<div>\n",
       "<style scoped>\n",
       "    .dataframe tbody tr th:only-of-type {\n",
       "        vertical-align: middle;\n",
       "    }\n",
       "\n",
       "    .dataframe tbody tr th {\n",
       "        vertical-align: top;\n",
       "    }\n",
       "\n",
       "    .dataframe thead th {\n",
       "        text-align: right;\n",
       "    }\n",
       "</style>\n",
       "<table border=\"1\" class=\"dataframe\">\n",
       "  <thead>\n",
       "    <tr style=\"text-align: right;\">\n",
       "      <th></th>\n",
       "      <th>Salary</th>\n",
       "    </tr>\n",
       "  </thead>\n",
       "  <tbody>\n",
       "    <tr>\n",
       "      <th>0</th>\n",
       "      <td>39343</td>\n",
       "    </tr>\n",
       "    <tr>\n",
       "      <th>1</th>\n",
       "      <td>46205</td>\n",
       "    </tr>\n",
       "    <tr>\n",
       "      <th>2</th>\n",
       "      <td>37731</td>\n",
       "    </tr>\n",
       "    <tr>\n",
       "      <th>3</th>\n",
       "      <td>43525</td>\n",
       "    </tr>\n",
       "    <tr>\n",
       "      <th>4</th>\n",
       "      <td>39891</td>\n",
       "    </tr>\n",
       "    <tr>\n",
       "      <th>5</th>\n",
       "      <td>56642</td>\n",
       "    </tr>\n",
       "    <tr>\n",
       "      <th>6</th>\n",
       "      <td>60150</td>\n",
       "    </tr>\n",
       "    <tr>\n",
       "      <th>7</th>\n",
       "      <td>54445</td>\n",
       "    </tr>\n",
       "    <tr>\n",
       "      <th>8</th>\n",
       "      <td>64445</td>\n",
       "    </tr>\n",
       "    <tr>\n",
       "      <th>9</th>\n",
       "      <td>57189</td>\n",
       "    </tr>\n",
       "    <tr>\n",
       "      <th>10</th>\n",
       "      <td>63218</td>\n",
       "    </tr>\n",
       "    <tr>\n",
       "      <th>11</th>\n",
       "      <td>55794</td>\n",
       "    </tr>\n",
       "    <tr>\n",
       "      <th>12</th>\n",
       "      <td>56957</td>\n",
       "    </tr>\n",
       "    <tr>\n",
       "      <th>13</th>\n",
       "      <td>57081</td>\n",
       "    </tr>\n",
       "    <tr>\n",
       "      <th>14</th>\n",
       "      <td>61111</td>\n",
       "    </tr>\n",
       "    <tr>\n",
       "      <th>15</th>\n",
       "      <td>67938</td>\n",
       "    </tr>\n",
       "    <tr>\n",
       "      <th>16</th>\n",
       "      <td>66029</td>\n",
       "    </tr>\n",
       "    <tr>\n",
       "      <th>17</th>\n",
       "      <td>83088</td>\n",
       "    </tr>\n",
       "    <tr>\n",
       "      <th>18</th>\n",
       "      <td>81363</td>\n",
       "    </tr>\n",
       "    <tr>\n",
       "      <th>19</th>\n",
       "      <td>93940</td>\n",
       "    </tr>\n",
       "    <tr>\n",
       "      <th>20</th>\n",
       "      <td>91738</td>\n",
       "    </tr>\n",
       "    <tr>\n",
       "      <th>21</th>\n",
       "      <td>98273</td>\n",
       "    </tr>\n",
       "    <tr>\n",
       "      <th>22</th>\n",
       "      <td>101302</td>\n",
       "    </tr>\n",
       "    <tr>\n",
       "      <th>23</th>\n",
       "      <td>113812</td>\n",
       "    </tr>\n",
       "    <tr>\n",
       "      <th>24</th>\n",
       "      <td>109431</td>\n",
       "    </tr>\n",
       "    <tr>\n",
       "      <th>25</th>\n",
       "      <td>105582</td>\n",
       "    </tr>\n",
       "    <tr>\n",
       "      <th>26</th>\n",
       "      <td>116969</td>\n",
       "    </tr>\n",
       "    <tr>\n",
       "      <th>27</th>\n",
       "      <td>112635</td>\n",
       "    </tr>\n",
       "    <tr>\n",
       "      <th>28</th>\n",
       "      <td>122391</td>\n",
       "    </tr>\n",
       "    <tr>\n",
       "      <th>29</th>\n",
       "      <td>121872</td>\n",
       "    </tr>\n",
       "    <tr>\n",
       "      <th>30</th>\n",
       "      <td>127345</td>\n",
       "    </tr>\n",
       "    <tr>\n",
       "      <th>31</th>\n",
       "      <td>126756</td>\n",
       "    </tr>\n",
       "    <tr>\n",
       "      <th>32</th>\n",
       "      <td>128765</td>\n",
       "    </tr>\n",
       "    <tr>\n",
       "      <th>33</th>\n",
       "      <td>135675</td>\n",
       "    </tr>\n",
       "    <tr>\n",
       "      <th>34</th>\n",
       "      <td>139465</td>\n",
       "    </tr>\n",
       "  </tbody>\n",
       "</table>\n",
       "</div>"
      ],
      "text/plain": [
       "    Salary\n",
       "0    39343\n",
       "1    46205\n",
       "2    37731\n",
       "3    43525\n",
       "4    39891\n",
       "5    56642\n",
       "6    60150\n",
       "7    54445\n",
       "8    64445\n",
       "9    57189\n",
       "10   63218\n",
       "11   55794\n",
       "12   56957\n",
       "13   57081\n",
       "14   61111\n",
       "15   67938\n",
       "16   66029\n",
       "17   83088\n",
       "18   81363\n",
       "19   93940\n",
       "20   91738\n",
       "21   98273\n",
       "22  101302\n",
       "23  113812\n",
       "24  109431\n",
       "25  105582\n",
       "26  116969\n",
       "27  112635\n",
       "28  122391\n",
       "29  121872\n",
       "30  127345\n",
       "31  126756\n",
       "32  128765\n",
       "33  135675\n",
       "34  139465"
      ]
     },
     "execution_count": 197,
     "metadata": {},
     "output_type": "execute_result"
    }
   ],
   "source": [
    "y"
   ]
  },
  {
   "cell_type": "code",
   "execution_count": 198,
   "metadata": {
    "colab": {
     "base_uri": "https://localhost:8080/",
     "height": 34
    },
    "colab_type": "code",
    "id": "XpGU63Ne1e9P",
    "outputId": "e16c74ca-dc1c-416c-dc44-7f927bb99bc6",
    "tags": []
   },
   "outputs": [
    {
     "data": {
      "text/plain": [
       "(35, 1)"
      ]
     },
     "execution_count": 198,
     "metadata": {},
     "output_type": "execute_result"
    }
   ],
   "source": [
    "X.shape"
   ]
  },
  {
   "cell_type": "code",
   "execution_count": 199,
   "metadata": {
    "colab": {
     "base_uri": "https://localhost:8080/",
     "height": 34
    },
    "colab_type": "code",
    "id": "OjGj0RALA0qZ",
    "outputId": "26559a6c-880b-45b4-a1e8-3c4b92bea889",
    "tags": []
   },
   "outputs": [
    {
     "data": {
      "text/plain": [
       "(35, 1)"
      ]
     },
     "execution_count": 199,
     "metadata": {},
     "output_type": "execute_result"
    }
   ],
   "source": [
    "y.shape"
   ]
  },
  {
   "cell_type": "code",
   "execution_count": 200,
   "metadata": {
    "colab": {},
    "colab_type": "code",
    "id": "jIeiK1maA6mm",
    "tags": []
   },
   "outputs": [],
   "source": [
    "X = np.array(X).astype('float32')\n",
    "y = np.array(y).astype('float32')"
   ]
  },
  {
   "cell_type": "code",
   "execution_count": 201,
   "metadata": {
    "tags": []
   },
   "outputs": [
    {
     "data": {
      "text/plain": [
       "array([[ 1.1],\n",
       "       [ 1.3],\n",
       "       [ 1.5],\n",
       "       [ 2. ],\n",
       "       [ 2.2],\n",
       "       [ 2.9],\n",
       "       [ 3. ],\n",
       "       [ 3.2],\n",
       "       [ 3.2],\n",
       "       [ 3.7],\n",
       "       [ 3.9],\n",
       "       [ 4. ],\n",
       "       [ 4. ],\n",
       "       [ 4.1],\n",
       "       [ 4.5],\n",
       "       [ 4.9],\n",
       "       [ 5.1],\n",
       "       [ 5.3],\n",
       "       [ 5.9],\n",
       "       [ 6. ],\n",
       "       [ 6.8],\n",
       "       [ 7.1],\n",
       "       [ 7.9],\n",
       "       [ 8.2],\n",
       "       [ 8.7],\n",
       "       [ 9. ],\n",
       "       [ 9.5],\n",
       "       [ 9.6],\n",
       "       [10.3],\n",
       "       [10.5],\n",
       "       [11.2],\n",
       "       [11.5],\n",
       "       [12.3],\n",
       "       [12.9],\n",
       "       [13.5]], dtype=float32)"
      ]
     },
     "execution_count": 201,
     "metadata": {},
     "output_type": "execute_result"
    }
   ],
   "source": [
    "# Only take the numerical variables and scale them\n",
    "X "
   ]
  },
  {
   "cell_type": "code",
   "execution_count": 202,
   "metadata": {
    "colab": {},
    "colab_type": "code",
    "id": "GoReLFfnA6uF",
    "tags": []
   },
   "outputs": [
    {
     "name": "stdout",
     "output_type": "stream",
     "text": [
      "(28, 1)\n",
      "(7, 1)\n"
     ]
    }
   ],
   "source": [
    "# split the data into test and train sets\n",
    "from sklearn.model_selection import train_test_split\n",
    "\n",
    "X_train, X_test, y_train, y_test = train_test_split(X, y, test_size = 0.2)\n",
    "print(X_train.shape)\n",
    "print(X_test.shape)"
   ]
  },
  {
   "cell_type": "markdown",
   "metadata": {},
   "source": [
    "MINI CHALLENGE\n",
    " - Try splitting the data into 75% for training and the rest for testing\n",
    " - Verify that the split was successful by obtaining the shape of both X_train and X_test\n",
    " - Did you notice any change in the order of the data? why?"
   ]
  },
  {
   "cell_type": "code",
   "execution_count": 203,
   "metadata": {
    "tags": []
   },
   "outputs": [
    {
     "name": "stdout",
     "output_type": "stream",
     "text": [
      "(26, 1)\n",
      "(9, 1)\n"
     ]
    }
   ],
   "source": [
    "X_train, X_test, y_train, y_test = train_test_split(X, y, test_size = 0.25)\n",
    "print(X_train.shape)\n",
    "print(X_test.shape)"
   ]
  },
  {
   "cell_type": "code",
   "execution_count": 204,
   "metadata": {
    "tags": []
   },
   "outputs": [
    {
     "name": "stdout",
     "output_type": "stream",
     "text": [
      "[[ 5.9]\n",
      " [ 1.3]\n",
      " [ 3.2]\n",
      " [13.5]\n",
      " [ 2. ]\n",
      " [ 4. ]\n",
      " [ 4.5]\n",
      " [ 1.1]\n",
      " [ 4.9]\n",
      " [ 3.7]\n",
      " [12.9]\n",
      " [10.5]\n",
      " [10.3]\n",
      " [ 3.2]\n",
      " [ 8.7]\n",
      " [ 8.2]\n",
      " [ 6. ]\n",
      " [ 3.9]\n",
      " [ 5.1]\n",
      " [ 5.3]\n",
      " [ 4. ]\n",
      " [ 1.5]\n",
      " [11.5]\n",
      " [ 3. ]\n",
      " [ 4.1]\n",
      " [ 2.2]]\n"
     ]
    }
   ],
   "source": [
    "print(X_train)"
   ]
  },
  {
   "cell_type": "code",
   "execution_count": 205,
   "metadata": {
    "tags": []
   },
   "outputs": [],
   "source": [
    "# Al usar el metodo train_test_split contenido en sk_learn,\n",
    "# hemos marcado como queremos que se repartan los datos de entrenamiento y testing.\n",
    "# Como vemos al imprimir nuestra variable X_train, esta solo contiene un 75% de los datos\n",
    "# (el 25% restante es para testing), y ademas estos datos se encuentran desordenados, ya que NO QUEREMOS\n",
    "# que nuestro modelo se percate de ningun orden en especifico en la evaluacion de los datos, si no que \n",
    "# intente generalizar los valores de los datos."
   ]
  },
  {
   "cell_type": "markdown",
   "metadata": {
    "colab_type": "text",
    "id": "idWHLv5alF4C"
   },
   "source": [
    "# TASK #5: TRAIN A LINEAR REGRESSION MODEL IN SK-LEARN (NOTE THAT SAGEMAKER BUILT-IN ALGORITHMS ARE NOT USED HERE)"
   ]
  },
  {
   "cell_type": "code",
   "execution_count": 206,
   "metadata": {
    "colab": {
     "base_uri": "https://localhost:8080/",
     "height": 34
    },
    "colab_type": "code",
    "id": "yHL-6mKwBURs",
    "outputId": "10d71b6d-9c2b-4bab-8b27-d3c5883e6a25",
    "tags": []
   },
   "outputs": [
    {
     "data": {
      "text/plain": [
       "LinearRegression(copy_X=True, fit_intercept=True, n_jobs=None, normalize=False)"
      ]
     },
     "execution_count": 206,
     "metadata": {},
     "output_type": "execute_result"
    }
   ],
   "source": [
    "# using linear regression model\n",
    "from sklearn.linear_model import LinearRegression\n",
    "from sklearn.metrics import mean_squared_error, accuracy_score\n",
    "\n",
    "regresssion_model_sklearn = LinearRegression(fit_intercept = True)\n",
    "regresssion_model_sklearn.fit(X_train, y_train)\n"
   ]
  },
  {
   "cell_type": "code",
   "execution_count": 207,
   "metadata": {
    "colab": {
     "base_uri": "https://localhost:8080/",
     "height": 34
    },
    "colab_type": "code",
    "id": "elD8m5N0BgEY",
    "outputId": "16a1813d-a0f1-4d1f-dc02-d7ad5a445417",
    "tags": []
   },
   "outputs": [
    {
     "data": {
      "text/plain": [
       "0.9508687983423639"
      ]
     },
     "execution_count": 207,
     "metadata": {},
     "output_type": "execute_result"
    }
   ],
   "source": [
    "regresssion_model_sklearn_accuracy = regresssion_model_sklearn.score(X_test, y_test)\n",
    "regresssion_model_sklearn_accuracy"
   ]
  },
  {
   "cell_type": "code",
   "execution_count": 208,
   "metadata": {
    "tags": []
   },
   "outputs": [
    {
     "name": "stdout",
     "output_type": "stream",
     "text": [
      "Linear Model Coefficient (m):  [[8779.626]]\n",
      "Linear Model Coefficient (b):  [28084.195]\n"
     ]
    }
   ],
   "source": [
    "print('Linear Model Coefficient (m): ', regresssion_model_sklearn.coef_)\n",
    "print('Linear Model Coefficient (b): ', regresssion_model_sklearn.intercept_)"
   ]
  },
  {
   "cell_type": "markdown",
   "metadata": {},
   "source": [
    "MINI CHALLENGE\n",
    "- Retrain the model while setting the fit_intercept = False, what do you notice?"
   ]
  },
  {
   "cell_type": "code",
   "execution_count": 209,
   "metadata": {
    "tags": []
   },
   "outputs": [],
   "source": [
    "#regresssion_model_sklearn = LinearRegression(fit_intercept = False)\n",
    "#regresssion_model_sklearn.fit(X_train, y_train)"
   ]
  },
  {
   "cell_type": "code",
   "execution_count": 210,
   "metadata": {
    "tags": []
   },
   "outputs": [],
   "source": [
    "#regresssion_model_sklearn_accuracy = regresssion_model_sklearn.score(X_test, y_test)\n",
    "#regresssion_model_sklearn_accuracy"
   ]
  },
  {
   "cell_type": "code",
   "execution_count": 211,
   "metadata": {
    "tags": []
   },
   "outputs": [],
   "source": [
    "#print('Linear Model Coefficient (m): ', regresssion_model_sklearn.coef_)\n",
    "#print('Linear Model Coefficient (b): ', regresssion_model_sklearn.intercept_)"
   ]
  },
  {
   "cell_type": "markdown",
   "metadata": {},
   "source": [
    "# TASK #6: EVALUATE TRAINED MODEL PERFORMANCE (NOTE THAT SAGEMAKER BUILT-IN ALGORITHMS ARE NOT USED HERE)"
   ]
  },
  {
   "cell_type": "code",
   "execution_count": 212,
   "metadata": {
    "tags": []
   },
   "outputs": [],
   "source": [
    "y_predict = regresssion_model_sklearn.predict(X_test)"
   ]
  },
  {
   "cell_type": "code",
   "execution_count": 213,
   "metadata": {
    "scrolled": true,
    "tags": []
   },
   "outputs": [
    {
     "data": {
      "text/plain": [
       "array([[ 53545.11],\n",
       "       [136073.6 ],\n",
       "       [ 90419.54],\n",
       "       [ 97443.24],\n",
       "       [126416.01],\n",
       "       [112368.61],\n",
       "       [ 87785.66],\n",
       "       [107100.83],\n",
       "       [111490.64]], dtype=float32)"
      ]
     },
     "execution_count": 213,
     "metadata": {},
     "output_type": "execute_result"
    }
   ],
   "source": [
    "y_predict"
   ]
  },
  {
   "cell_type": "code",
   "execution_count": 214,
   "metadata": {
    "tags": []
   },
   "outputs": [
    {
     "data": {
      "text/plain": [
       "Text(0.5, 1.0, 'Salary vs. Years of Experience')"
      ]
     },
     "execution_count": 214,
     "metadata": {},
     "output_type": "execute_result"
    },
    {
     "data": {
      "image/png": "[encoded data removed]",
      "text/plain": [
       "<Figure size 640x480 with 1 Axes>"
      ]
     },
     "metadata": {},
     "output_type": "display_data"
    }
   ],
   "source": [
    "plt.scatter(X_train, y_train, color = 'gray')\n",
    "plt.plot(X_train, regresssion_model_sklearn.predict(X_train), color = 'red')\n",
    "plt.ylabel('Salary')\n",
    "plt.xlabel('Number of Years of Experience')\n",
    "plt.title('Salary vs. Years of Experience')"
   ]
  },
  {
   "cell_type": "markdown",
   "metadata": {},
   "source": [
    "MINI CHALLENGE\n",
    " - Use the trained model, obtain the salary corresponding to eployees who have years of experience = 5"
   ]
  },
  {
   "cell_type": "code",
   "execution_count": 215,
   "metadata": {
    "tags": []
   },
   "outputs": [
    {
     "name": "stdout",
     "output_type": "stream",
     "text": [
      "[[71982.32519531]]\n"
     ]
    }
   ],
   "source": [
    "num_years_exp = [[5]]\n",
    "\n",
    "salary_predict = regresssion_model_sklearn.predict(num_years_exp)\n",
    "print(salary_predict)"
   ]
  },
  {
   "cell_type": "markdown",
   "metadata": {},
   "source": [
    "# TASK #7: TRAIN A LINEAR LEARNER MODEL USING SAGEMAKER"
   ]
  },
  {
   "cell_type": "code",
   "execution_count": 230,
   "metadata": {
    "tags": []
   },
   "outputs": [
    {
     "name": "stdout",
     "output_type": "stream",
     "text": [
      "arn:aws:iam::559598778339:role/service-role/SageMaker-ProgramadorPython2\n"
     ]
    }
   ],
   "source": [
    "# Boto3 is the Amazon Web Services (AWS) Software Development Kit (SDK) for Python\n",
    "# Boto3 allows Python developer to write software that makes use of services like Amazon S3 and Amazon EC2\n",
    "\n",
    "import sagemaker\n",
    "import boto3\n",
    "from sagemaker import Session\n",
    "\n",
    "# Let's create a Sagemaker session\n",
    "sagemaker_session = sagemaker.Session()\n",
    "bucket = 'sagemaker-practical-2course'\n",
    "# Let's define the S3 bucket and prefix that we want to use in this session\n",
    "# bucket = 'sagemaker-practica' # bucket named 'sagemaker-practical' was created beforehand\n",
    "prefix = 'linear_learner' # prefix is the subfolder within the bucket.\n",
    "\n",
    "# Let's get the execution role for the notebook instance. \n",
    "# This is the IAM role that you created when you created your notebook instance. You pass the role to the training job.\n",
    "# Note that AWS Identity and Access Management (IAM) role that Amazon SageMaker can assume to perform tasks on your behalf (for example, reading training results, called model artifacts, from the S3 bucket and writing training results to Amazon S3). \n",
    "role = 'arn:aws:iam::559598778339:role/service-role/SageMaker-ProgramadorPython2'\n",
    "print(role)"
   ]
  },
  {
   "cell_type": "code",
   "execution_count": 217,
   "metadata": {
    "tags": []
   },
   "outputs": [
    {
     "data": {
      "text/plain": [
       "(26, 1)"
      ]
     },
     "execution_count": 217,
     "metadata": {},
     "output_type": "execute_result"
    }
   ],
   "source": [
    "X_train.shape"
   ]
  },
  {
   "cell_type": "code",
   "execution_count": 218,
   "metadata": {
    "tags": []
   },
   "outputs": [],
   "source": [
    "y_train = y_train[:,0]"
   ]
  },
  {
   "cell_type": "code",
   "execution_count": 219,
   "metadata": {
    "tags": []
   },
   "outputs": [
    {
     "data": {
      "text/plain": [
       "(26,)"
      ]
     },
     "execution_count": 219,
     "metadata": {},
     "output_type": "execute_result"
    }
   ],
   "source": [
    "y_train.shape"
   ]
  },
  {
   "cell_type": "code",
   "execution_count": 220,
   "metadata": {
    "tags": []
   },
   "outputs": [
    {
     "data": {
      "text/plain": [
       "0"
      ]
     },
     "execution_count": 220,
     "metadata": {},
     "output_type": "execute_result"
    }
   ],
   "source": [
    "import io # The io module allows for dealing with various types of I/O (text I/O, binary I/O and raw I/O). \n",
    "import numpy as np\n",
    "import sagemaker.amazon.common as smac # sagemaker common libary\n",
    "\n",
    "# Code below converts the data in numpy array format to RecordIO format\n",
    "# This is the format required by Sagemaker Linear Learner \n",
    "\n",
    "buf = io.BytesIO() # create an in-memory byte array (buf is a buffer I will be writing to)\n",
    "smac.write_numpy_to_dense_tensor(buf, X_train, y_train)\n",
    "buf.seek(0) \n",
    "# When you write to in-memory byte arrays, it increments 1 every time you write to it\n",
    "# Let's reset that back to zero \n"
   ]
  },
  {
   "cell_type": "code",
   "execution_count": 221,
   "metadata": {
    "tags": []
   },
   "outputs": [
    {
     "name": "stdout",
     "output_type": "stream",
     "text": [
      "uploaded training data location: s3://sagemaker-practical-2course/linear_learner/train/linear-train-data\n"
     ]
    }
   ],
   "source": [
    "import os\n",
    "\n",
    "# Code to upload RecordIO data to S3\n",
    " \n",
    "# Key refers to the name of the file    \n",
    "key = 'linear-train-data'\n",
    "\n",
    "# The following code uploads the data in record-io format to S3 bucket to be accessed later for training\n",
    "boto3.resource('s3').Bucket(bucket).Object(os.path.join(prefix, 'train', key)).upload_fileobj(buf)\n",
    "\n",
    "# Let's print out the training data location in s3\n",
    "s3_train_data = 's3://{}/{}/train/{}'.format(bucket, prefix, key)\n",
    "print('uploaded training data location: {}'.format(s3_train_data))"
   ]
  },
  {
   "cell_type": "code",
   "execution_count": 222,
   "metadata": {
    "tags": []
   },
   "outputs": [
    {
     "data": {
      "text/plain": [
       "(9, 1)"
      ]
     },
     "execution_count": 222,
     "metadata": {},
     "output_type": "execute_result"
    }
   ],
   "source": [
    "X_test.shape"
   ]
  },
  {
   "cell_type": "code",
   "execution_count": 223,
   "metadata": {
    "tags": []
   },
   "outputs": [
    {
     "data": {
      "text/plain": [
       "(9, 1)"
      ]
     },
     "execution_count": 223,
     "metadata": {},
     "output_type": "execute_result"
    }
   ],
   "source": [
    "y_test.shape"
   ]
  },
  {
   "cell_type": "code",
   "execution_count": 224,
   "metadata": {
    "tags": []
   },
   "outputs": [],
   "source": [
    "# Make sure that the target label is a vector\n",
    "y_test = y_test[:,0]\n"
   ]
  },
  {
   "cell_type": "code",
   "execution_count": 225,
   "metadata": {
    "tags": []
   },
   "outputs": [
    {
     "data": {
      "text/plain": [
       "0"
      ]
     },
     "execution_count": 225,
     "metadata": {},
     "output_type": "execute_result"
    }
   ],
   "source": [
    "# Code to upload RecordIO data to S3\n",
    "\n",
    "buf = io.BytesIO() # create an in-memory byte array (buf is a buffer I will be writing to)\n",
    "smac.write_numpy_to_dense_tensor(buf, X_test, y_test)\n",
    "buf.seek(0) \n",
    "# When you write to in-memory byte arrays, it increments 1 every time you write to it\n",
    "# Let's reset that back to zero \n"
   ]
  },
  {
   "cell_type": "code",
   "execution_count": 226,
   "metadata": {
    "tags": []
   },
   "outputs": [
    {
     "name": "stdout",
     "output_type": "stream",
     "text": [
      "uploaded training data location: s3://sagemaker-practical-2course/linear_learner/test/linear-test-data\n"
     ]
    }
   ],
   "source": [
    "# Key refers to the name of the file    \n",
    "key = 'linear-test-data'\n",
    "\n",
    "# The following code uploads the data in record-io format to S3 bucket to be accessed later for training\n",
    "boto3.resource('s3').Bucket(bucket).Object(os.path.join(prefix, 'test', key)).upload_fileobj(buf)\n",
    "\n",
    "# Let's print out the testing data location in s3\n",
    "s3_test_data = 's3://{}/{}/test/{}'.format(bucket, prefix, key)\n",
    "print('uploaded training data location: {}'.format(s3_test_data))"
   ]
  },
  {
   "cell_type": "code",
   "execution_count": 227,
   "metadata": {
    "tags": []
   },
   "outputs": [
    {
     "name": "stdout",
     "output_type": "stream",
     "text": [
      "Training artifacts will be uploaded to: s3://sagemaker-practical-2course/linear_learner/output\n"
     ]
    }
   ],
   "source": [
    "# create an output placeholder in S3 bucket to store the linear learner output\n",
    "\n",
    "output_location = 's3://{}/{}/output'.format(bucket, prefix)\n",
    "print('Training artifacts will be uploaded to: {}'.format(output_location))"
   ]
  },
  {
   "cell_type": "code",
   "execution_count": 228,
   "metadata": {
    "tags": []
   },
   "outputs": [
    {
     "name": "stderr",
     "output_type": "stream",
     "text": [
      "'get_image_uri' method will be deprecated in favor of 'ImageURIProvider' class in SageMaker Python SDK v2.\n"
     ]
    }
   ],
   "source": [
    "# This code is used to get the training container of sagemaker built-in algorithms\n",
    "# all we have to do is to specify the name of the algorithm, that we want to use\n",
    "\n",
    "# Let's obtain a reference to the linearLearner container image\n",
    "# Note that all regression models are named estimators\n",
    "# You don't have to specify (hardcode) the region, get_image_uri will get the current region name using boto3.Session\n",
    "\n",
    "from sagemaker.amazon.amazon_estimator import get_image_uri\n",
    "\n",
    "container = get_image_uri(boto3.Session().region_name, 'linear-learner')"
   ]
  },
  {
   "cell_type": "code",
   "execution_count": 231,
   "metadata": {
    "tags": []
   },
   "outputs": [
    {
     "name": "stderr",
     "output_type": "stream",
     "text": [
      "Parameter image_name will be renamed to image_uri in SageMaker Python SDK v2.\n",
      "'s3_input' class will be renamed to 'TrainingInput' in SageMaker Python SDK v2.\n"
     ]
    },
    {
     "name": "stdout",
     "output_type": "stream",
     "text": [
      "2023-01-17 18:26:54 Starting - Starting the training job...\n",
      "2023-01-17 18:27:09 Starting - Preparing the instances for training......\n",
      "2023-01-17 18:28:07 Downloading - Downloading input data...\n",
      "2023-01-17 18:28:27 Training - Downloading the training image........\u001b[34mDocker entrypoint called with argument(s): train\u001b[0m\n",
      "\u001b[34mRunning default environment configuration script\u001b[0m\n",
      "\u001b[34m[01/17/2023 18:30:05 INFO 140541269587776] Reading default configuration from /opt/amazon/lib/python3.7/site-packages/algorithm/resources/default-input.json: {'mini_batch_size': '1000', 'epochs': '15', 'feature_dim': 'auto', 'use_bias': 'true', 'binary_classifier_model_selection_criteria': 'accuracy', 'f_beta': '1.0', 'target_recall': '0.8', 'target_precision': '0.8', 'num_models': 'auto', 'num_calibration_samples': '10000000', 'init_method': 'uniform', 'init_scale': '0.07', 'init_sigma': '0.01', 'init_bias': '0.0', 'optimizer': 'auto', 'loss': 'auto', 'margin': '1.0', 'quantile': '0.5', 'loss_insensitivity': '0.01', 'huber_delta': '1.0', 'num_classes': '1', 'accuracy_top_k': '3', 'wd': 'auto', 'l1': 'auto', 'momentum': 'auto', 'learning_rate': 'auto', 'beta_1': 'auto', 'beta_2': 'auto', 'bias_lr_mult': 'auto', 'bias_wd_mult': 'auto', 'use_lr_scheduler': 'true', 'lr_scheduler_step': 'auto', 'lr_scheduler_factor': 'auto', 'lr_scheduler_minimum_lr': 'auto', 'positive_example_weight_mult': '1.0', 'balance_multiclass_weights': 'false', 'normalize_data': 'true', 'normalize_label': 'auto', 'unbias_data': 'auto', 'unbias_label': 'auto', 'num_point_for_scaler': '10000', '_kvstore': 'auto', '_num_gpus': 'auto', '_num_kv_servers': 'auto', '_log_level': 'info', '_tuning_objective_metric': '', 'early_stopping_patience': '3', 'early_stopping_tolerance': '0.001', '_enable_profiler': 'false'}\u001b[0m\n",
      "\u001b[34m[01/17/2023 18:30:05 INFO 140541269587776] Merging with provided configuration from /opt/ml/input/config/hyperparameters.json: {'epochs': '5', 'feature_dim': '1', 'loss': 'absolute_loss', 'mini_batch_size': '5', 'num_models': '32', 'predictor_type': 'regressor'}\u001b[0m\n",
      "\u001b[34m[01/17/2023 18:30:05 INFO 140541269587776] Final configuration: {'mini_batch_size': '5', 'epochs': '5', 'feature_dim': '1', 'use_bias': 'true', 'binary_classifier_model_selection_criteria': 'accuracy', 'f_beta': '1.0', 'target_recall': '0.8', 'target_precision': '0.8', 'num_models': '32', 'num_calibration_samples': '10000000', 'init_method': 'uniform', 'init_scale': '0.07', 'init_sigma': '0.01', 'init_bias': '0.0', 'optimizer': 'auto', 'loss': 'absolute_loss', 'margin': '1.0', 'quantile': '0.5', 'loss_insensitivity': '0.01', 'huber_delta': '1.0', 'num_classes': '1', 'accuracy_top_k': '3', 'wd': 'auto', 'l1': 'auto', 'momentum': 'auto', 'learning_rate': 'auto', 'beta_1': 'auto', 'beta_2': 'auto', 'bias_lr_mult': 'auto', 'bias_wd_mult': 'auto', 'use_lr_scheduler': 'true', 'lr_scheduler_step': 'auto', 'lr_scheduler_factor': 'auto', 'lr_scheduler_minimum_lr': 'auto', 'positive_example_weight_mult': '1.0', 'balance_multiclass_weights': 'false', 'normalize_data': 'true', 'normalize_label': 'auto', 'unbias_data': 'auto', 'unbias_label': 'auto', 'num_point_for_scaler': '10000', '_kvstore': 'auto', '_num_gpus': 'auto', '_num_kv_servers': 'auto', '_log_level': 'info', '_tuning_objective_metric': '', 'early_stopping_patience': '3', 'early_stopping_tolerance': '0.001', '_enable_profiler': 'false', 'predictor_type': 'regressor'}\u001b[0m\n",
      "\u001b[34m[01/17/2023 18:30:08 WARNING 140541269587776] Loggers have already been setup.\u001b[0m\n",
      "\u001b[34m[01/17/2023 18:30:08 INFO 140541269587776] Final configuration: {'mini_batch_size': '5', 'epochs': '5', 'feature_dim': '1', 'use_bias': 'true', 'binary_classifier_model_selection_criteria': 'accuracy', 'f_beta': '1.0', 'target_recall': '0.8', 'target_precision': '0.8', 'num_models': '32', 'num_calibration_samples': '10000000', 'init_method': 'uniform', 'init_scale': '0.07', 'init_sigma': '0.01', 'init_bias': '0.0', 'optimizer': 'auto', 'loss': 'absolute_loss', 'margin': '1.0', 'quantile': '0.5', 'loss_insensitivity': '0.01', 'huber_delta': '1.0', 'num_classes': '1', 'accuracy_top_k': '3', 'wd': 'auto', 'l1': 'auto', 'momentum': 'auto', 'learning_rate': 'auto', 'beta_1': 'auto', 'beta_2': 'auto', 'bias_lr_mult': 'auto', 'bias_wd_mult': 'auto', 'use_lr_scheduler': 'true', 'lr_scheduler_step': 'auto', 'lr_scheduler_factor': 'auto', 'lr_scheduler_minimum_lr': 'auto', 'positive_example_weight_mult': '1.0', 'balance_multiclass_weights': 'false', 'normalize_data': 'true', 'normalize_label': 'auto', 'unbias_data': 'auto', 'unbias_label': 'auto', 'num_point_for_scaler': '10000', '_kvstore': 'auto', '_num_gpus': 'auto', '_num_kv_servers': 'auto', '_log_level': 'info', '_tuning_objective_metric': '', 'early_stopping_patience': '3', 'early_stopping_tolerance': '0.001', '_enable_profiler': 'false', 'predictor_type': 'regressor'}\u001b[0m\n",
      "\u001b[34m[01/17/2023 18:30:08 WARNING 140541269587776] Loggers have already been setup.\u001b[0m\n",
      "\u001b[34mProcess 7 is a worker.\u001b[0m\n",
      "\u001b[34m[01/17/2023 18:30:08 INFO 140541269587776] Using default worker.\u001b[0m\n",
      "\u001b[34m[01/17/2023 18:30:08 INFO 140541269587776] Checkpoint loading and saving are disabled.\u001b[0m\n",
      "\u001b[34m[2023-01-17 18:30:08.581] [tensorio] [info] epoch_stats={\"data_pipeline\": \"/opt/ml/input/data/train\", \"epoch\": 0, \"duration\": 14, \"num_examples\": 1, \"num_bytes\": 240}\u001b[0m\n",
      "\u001b[34m[01/17/2023 18:30:08 INFO 140541269587776] Create Store: local\u001b[0m\n",
      "\u001b[34m[2023-01-17 18:30:08.623] [tensorio] [info] epoch_stats={\"data_pipeline\": \"/opt/ml/input/data/train\", \"epoch\": 1, \"duration\": 41, \"num_examples\": 6, \"num_bytes\": 1248}\u001b[0m\n",
      "\u001b[34m[01/17/2023 18:30:08 INFO 140541269587776] Scaler algorithm parameters\n",
      " <algorithm.scaler.ScalerAlgorithmStable object at 0x7fd1c72af990>\u001b[0m\n",
      "\u001b[34m[01/17/2023 18:30:08 INFO 140541269587776] Scaling model computed with parameters:\n",
      " {'stdev_label': \u001b[0m\n",
      "\u001b[34m[31535.889]\u001b[0m\n",
      "\u001b[34m<NDArray 1 @cpu(0)>, 'stdev_weight': \u001b[0m\n",
      "\u001b[34m[3.5536933]\u001b[0m\n",
      "\u001b[34m<NDArray 1 @cpu(0)>, 'mean_label': \u001b[0m\n",
      "\u001b[34m[78358.16]\u001b[0m\n",
      "\u001b[34m<NDArray 1 @cpu(0)>, 'mean_weight': \u001b[0m\n",
      "\u001b[34m[5.692]\u001b[0m\n",
      "\u001b[34m<NDArray 1 @cpu(0)>}\u001b[0m\n",
      "\u001b[34m[01/17/2023 18:30:08 INFO 140541269587776] nvidia-smi: took 0.032 seconds to run.\u001b[0m\n",
      "\u001b[34m[01/17/2023 18:30:08 INFO 140541269587776] nvidia-smi identified 0 GPUs.\u001b[0m\n",
      "\u001b[34m[01/17/2023 18:30:08 INFO 140541269587776] Number of GPUs being used: 0\u001b[0m\n",
      "\u001b[34m#metrics {\"StartTime\": 1673980208.730374, \"EndTime\": 1673980208.7304044, \"Dimensions\": {\"Algorithm\": \"Linear Learner\", \"Host\": \"algo-1\", \"Operation\": \"training\", \"Meta\": \"init_train_data_iter\"}, \"Metrics\": {\"Total Records Seen\": {\"sum\": 31.0, \"count\": 1, \"min\": 31, \"max\": 31}, \"Total Batches Seen\": {\"sum\": 7.0, \"count\": 1, \"min\": 7, \"max\": 7}, \"Max Records Seen Between Resets\": {\"sum\": 26.0, \"count\": 1, \"min\": 26, \"max\": 26}, \"Max Batches Seen Between Resets\": {\"sum\": 6.0, \"count\": 1, \"min\": 6, \"max\": 6}, \"Reset Count\": {\"sum\": 2.0, \"count\": 1, \"min\": 2, \"max\": 2}, \"Number of Records Since Last Reset\": {\"sum\": 0.0, \"count\": 1, \"min\": 0, \"max\": 0}, \"Number of Batches Since Last Reset\": {\"sum\": 0.0, \"count\": 1, \"min\": 0, \"max\": 0}}}\u001b[0m\n",
      "\u001b[34m[2023-01-17 18:30:08.827] [tensorio] [info] epoch_stats={\"data_pipeline\": \"/opt/ml/input/data/train\", \"epoch\": 4, \"duration\": 97, \"num_examples\": 6, \"num_bytes\": 1248}\u001b[0m\n",
      "\u001b[34m#metrics {\"StartTime\": 1673980208.8279881, \"EndTime\": 1673980208.8280632, \"Dimensions\": {\"Algorithm\": \"Linear Learner\", \"Host\": \"algo-1\", \"Operation\": \"training\", \"epoch\": 0, \"model\": 0}, \"Metrics\": {\"train_absolute_loss_objective\": {\"sum\": 0.8525755214691162, \"count\": 1, \"min\": 0.8525755214691162, \"max\": 0.8525755214691162}}}\u001b[0m\n",
      "\u001b[34m#metrics {\"StartTime\": 1673980208.8281372, \"EndTime\": 1673980208.8281558, \"Dimensions\": {\"Algorithm\": \"Linear Learner\", \"Host\": \"algo-1\", \"Operation\": \"training\", \"epoch\": 0, \"model\": 1}, \"Metrics\": {\"train_absolute_loss_objective\": {\"sum\": 0.8711696624755859, \"count\": 1, \"min\": 0.8711696624755859, \"max\": 0.8711696624755859}}}\u001b[0m\n",
      "\u001b[34m#metrics {\"StartTime\": 1673980208.8282158, \"EndTime\": 1673980208.8282337, \"Dimensions\": {\"Algorithm\": \"Linear Learner\", \"Host\": \"algo-1\", \"Operation\": \"training\", \"epoch\": 0, \"model\": 2}, \"Metrics\": {\"train_absolute_loss_objective\": {\"sum\": 0.8548279571533203, \"count\": 1, \"min\": 0.8548279571533203, \"max\": 0.8548279571533203}}}\u001b[0m\n",
      "\u001b[34m#metrics {\"StartTime\": 1673980208.828292, \"EndTime\": 1673980208.8283095, \"Dimensions\": {\"Algorithm\": \"Linear Learner\", \"Host\": \"algo-1\", \"Operation\": \"training\", \"epoch\": 0, \"model\": 3}, \"Metrics\": {\"train_absolute_loss_objective\": {\"sum\": 0.8702194213867187, \"count\": 1, \"min\": 0.8702194213867187, \"max\": 0.8702194213867187}}}\u001b[0m\n",
      "\u001b[34m#metrics {\"StartTime\": 1673980208.8283615, \"EndTime\": 1673980208.8283763, \"Dimensions\": {\"Algorithm\": \"Linear Learner\", \"Host\": \"algo-1\", \"Operation\": \"training\", \"epoch\": 0, \"model\": 4}, \"Metrics\": {\"train_absolute_loss_objective\": {\"sum\": 0.7948151111602784, \"count\": 1, \"min\": 0.7948151111602784, \"max\": 0.7948151111602784}}}\u001b[0m\n",
      "\u001b[34m#metrics {\"StartTime\": 1673980208.8284137, \"EndTime\": 1673980208.828428, \"Dimensions\": {\"Algorithm\": \"Linear Learner\", \"Host\": \"algo-1\", \"Operation\": \"training\", \"epoch\": 0, \"model\": 5}, \"Metrics\": {\"train_absolute_loss_objective\": {\"sum\": 0.8034493160247803, \"count\": 1, \"min\": 0.8034493160247803, \"max\": 0.8034493160247803}}}\u001b[0m\n",
      "\u001b[34m#metrics {\"StartTime\": 1673980208.8284578, \"EndTime\": 1673980208.8284657, \"Dimensions\": {\"Algorithm\": \"Linear Learner\", \"Host\": \"algo-1\", \"Operation\": \"training\", \"epoch\": 0, \"model\": 6}, \"Metrics\": {\"train_absolute_loss_objective\": {\"sum\": 0.8772394752502441, \"count\": 1, \"min\": 0.8772394752502441, \"max\": 0.8772394752502441}}}\u001b[0m\n",
      "\u001b[34m#metrics {\"StartTime\": 1673980208.8284903, \"EndTime\": 1673980208.8285022, \"Dimensions\": {\"Algorithm\": \"Linear Learner\", \"Host\": \"algo-1\", \"Operation\": \"training\", \"epoch\": 0, \"model\": 7}, \"Metrics\": {\"train_absolute_loss_objective\": {\"sum\": 0.8515484189987182, \"count\": 1, \"min\": 0.8515484189987182, \"max\": 0.8515484189987182}}}\u001b[0m\n",
      "\u001b[34m#metrics {\"StartTime\": 1673980208.8285508, \"EndTime\": 1673980208.828567, \"Dimensions\": {\"Algorithm\": \"Linear Learner\", \"Host\": \"algo-1\", \"Operation\": \"training\", \"epoch\": 0, \"model\": 8}, \"Metrics\": {\"train_absolute_loss_objective\": {\"sum\": 0.9047830867767334, \"count\": 1, \"min\": 0.9047830867767334, \"max\": 0.9047830867767334}}}\u001b[0m\n",
      "\u001b[34m#metrics {\"StartTime\": 1673980208.8286035, \"EndTime\": 1673980208.8286176, \"Dimensions\": {\"Algorithm\": \"Linear Learner\", \"Host\": \"algo-1\", \"Operation\": \"training\", \"epoch\": 0, \"model\": 9}, \"Metrics\": {\"train_absolute_loss_objective\": {\"sum\": 0.8413401412963867, \"count\": 1, \"min\": 0.8413401412963867, \"max\": 0.8413401412963867}}}\u001b[0m\n",
      "\u001b[34m#metrics {\"StartTime\": 1673980208.8286576, \"EndTime\": 1673980208.8286667, \"Dimensions\": {\"Algorithm\": \"Linear Learner\", \"Host\": \"algo-1\", \"Operation\": \"training\", \"epoch\": 0, \"model\": 10}, \"Metrics\": {\"train_absolute_loss_objective\": {\"sum\": 0.847596549987793, \"count\": 1, \"min\": 0.847596549987793, \"max\": 0.847596549987793}}}\u001b[0m\n",
      "\u001b[34m#metrics {\"StartTime\": 1673980208.8287055, \"EndTime\": 1673980208.8287206, \"Dimensions\": {\"Algorithm\": \"Linear Learner\", \"Host\": \"algo-1\", \"Operation\": \"training\", \"epoch\": 0, \"model\": 11}, \"Metrics\": {\"train_absolute_loss_objective\": {\"sum\": 0.8337617683410644, \"count\": 1, \"min\": 0.8337617683410644, \"max\": 0.8337617683410644}}}\u001b[0m\n",
      "\u001b[34m#metrics {\"StartTime\": 1673980208.828774, \"EndTime\": 1673980208.8287864, \"Dimensions\": {\"Algorithm\": \"Linear Learner\", \"Host\": \"algo-1\", \"Operation\": \"training\", \"epoch\": 0, \"model\": 12}, \"Metrics\": {\"train_absolute_loss_objective\": {\"sum\": 0.8027490139007568, \"count\": 1, \"min\": 0.8027490139007568, \"max\": 0.8027490139007568}}}\u001b[0m\n",
      "\u001b[34m#metrics {\"StartTime\": 1673980208.8288138, \"EndTime\": 1673980208.8288505, \"Dimensions\": {\"Algorithm\": \"Linear Learner\", \"Host\": \"algo-1\", \"Operation\": \"training\", \"epoch\": 0, \"model\": 13}, \"Metrics\": {\"train_absolute_loss_objective\": {\"sum\": 0.8260232353210449, \"count\": 1, \"min\": 0.8260232353210449, \"max\": 0.8260232353210449}}}\u001b[0m\n",
      "\u001b[34m#metrics {\"StartTime\": 1673980208.8288996, \"EndTime\": 1673980208.8289099, \"Dimensions\": {\"Algorithm\": \"Linear Learner\", \"Host\": \"algo-1\", \"Operation\": \"training\", \"epoch\": 0, \"model\": 14}, \"Metrics\": {\"train_absolute_loss_objective\": {\"sum\": 0.8014306354522706, \"count\": 1, \"min\": 0.8014306354522706, \"max\": 0.8014306354522706}}}\u001b[0m\n",
      "\u001b[34m#metrics {\"StartTime\": 1673980208.8289351, \"EndTime\": 1673980208.8289425, \"Dimensions\": {\"Algorithm\": \"Linear Learner\", \"Host\": \"algo-1\", \"Operation\": \"training\", \"epoch\": 0, \"model\": 15}, \"Metrics\": {\"train_absolute_loss_objective\": {\"sum\": 0.8316012954711914, \"count\": 1, \"min\": 0.8316012954711914, \"max\": 0.8316012954711914}}}\u001b[0m\n",
      "\u001b[34m#metrics {\"StartTime\": 1673980208.8289905, \"EndTime\": 1673980208.8290067, \"Dimensions\": {\"Algorithm\": \"Linear Learner\", \"Host\": \"algo-1\", \"Operation\": \"training\", \"epoch\": 0, \"model\": 16}, \"Metrics\": {\"train_absolute_loss_objective\": {\"sum\": 0.8188650226593017, \"count\": 1, \"min\": 0.8188650226593017, \"max\": 0.8188650226593017}}}\u001b[0m\n",
      "\u001b[34m#metrics {\"StartTime\": 1673980208.829058, \"EndTime\": 1673980208.8290749, \"Dimensions\": {\"Algorithm\": \"Linear Learner\", \"Host\": \"algo-1\", \"Operation\": \"training\", \"epoch\": 0, \"model\": 17}, \"Metrics\": {\"train_absolute_loss_objective\": {\"sum\": 0.8667292594909668, \"count\": 1, \"min\": 0.8667292594909668, \"max\": 0.8667292594909668}}}\u001b[0m\n",
      "\u001b[34m#metrics {\"StartTime\": 1673980208.8291233, \"EndTime\": 1673980208.8291383, \"Dimensions\": {\"Algorithm\": \"Linear Learner\", \"Host\": \"algo-1\", \"Operation\": \"training\", \"epoch\": 0, \"model\": 18}, \"Metrics\": {\"train_absolute_loss_objective\": {\"sum\": 0.844139757156372, \"count\": 1, \"min\": 0.844139757156372, \"max\": 0.844139757156372}}}\u001b[0m\n",
      "\u001b[34m#metrics {\"StartTime\": 1673980208.8291848, \"EndTime\": 1673980208.829199, \"Dimensions\": {\"Algorithm\": \"Linear Learner\", \"Host\": \"algo-1\", \"Operation\": \"training\", \"epoch\": 0, \"model\": 19}, \"Metrics\": {\"train_absolute_loss_objective\": {\"sum\": 0.8416165351867676, \"count\": 1, \"min\": 0.8416165351867676, \"max\": 0.8416165351867676}}}\u001b[0m\n",
      "\u001b[34m#metrics {\"StartTime\": 1673980208.8292477, \"EndTime\": 1673980208.8292634, \"Dimensions\": {\"Algorithm\": \"Linear Learner\", \"Host\": \"algo-1\", \"Operation\": \"training\", \"epoch\": 0, \"model\": 20}, \"Metrics\": {\"train_absolute_loss_objective\": {\"sum\": 0.8480626773834229, \"count\": 1, \"min\": 0.8480626773834229, \"max\": 0.8480626773834229}}}\u001b[0m\n",
      "\u001b[34m#metrics {\"StartTime\": 1673980208.8293107, \"EndTime\": 1673980208.8293207, \"Dimensions\": {\"Algorithm\": \"Linear Learner\", \"Host\": \"algo-1\", \"Operation\": \"training\", \"epoch\": 0, \"model\": 21}, \"Metrics\": {\"train_absolute_loss_objective\": {\"sum\": 0.8602843904495239, \"count\": 1, \"min\": 0.8602843904495239, \"max\": 0.8602843904495239}}}\u001b[0m\n",
      "\u001b[34m#metrics {\"StartTime\": 1673980208.8293452, \"EndTime\": 1673980208.8293521, \"Dimensions\": {\"Algorithm\": \"Linear Learner\", \"Host\": \"algo-1\", \"Operation\": \"training\", \"epoch\": 0, \"model\": 22}, \"Metrics\": {\"train_absolute_loss_objective\": {\"sum\": 0.808852710723877, \"count\": 1, \"min\": 0.808852710723877, \"max\": 0.808852710723877}}}\u001b[0m\n",
      "\u001b[34m#metrics {\"StartTime\": 1673980208.8293917, \"EndTime\": 1673980208.829407, \"Dimensions\": {\"Algorithm\": \"Linear Learner\", \"Host\": \"algo-1\", \"Operation\": \"training\", \"epoch\": 0, \"model\": 23}, \"Metrics\": {\"train_absolute_loss_objective\": {\"sum\": 0.8814338922500611, \"count\": 1, \"min\": 0.8814338922500611, \"max\": 0.8814338922500611}}}\u001b[0m\n",
      "\u001b[34m#metrics {\"StartTime\": 1673980208.8294566, \"EndTime\": 1673980208.8294718, \"Dimensions\": {\"Algorithm\": \"Linear Learner\", \"Host\": \"algo-1\", \"Operation\": \"training\", \"epoch\": 0, \"model\": 24}, \"Metrics\": {\"train_absolute_loss_objective\": {\"sum\": 0.8203041172027588, \"count\": 1, \"min\": 0.8203041172027588, \"max\": 0.8203041172027588}}}\u001b[0m\n",
      "\u001b[34m#metrics {\"StartTime\": 1673980208.8295255, \"EndTime\": 1673980208.8295414, \"Dimensions\": {\"Algorithm\": \"Linear Learner\", \"Host\": \"algo-1\", \"Operation\": \"training\", \"epoch\": 0, \"model\": 25}, \"Metrics\": {\"train_absolute_loss_objective\": {\"sum\": 0.883624620437622, \"count\": 1, \"min\": 0.883624620437622, \"max\": 0.883624620437622}}}\u001b[0m\n",
      "\u001b[34m#metrics {\"StartTime\": 1673980208.829598, \"EndTime\": 1673980208.8296146, \"Dimensions\": {\"Algorithm\": \"Linear Learner\", \"Host\": \"algo-1\", \"Operation\": \"training\", \"epoch\": 0, \"model\": 26}, \"Metrics\": {\"train_absolute_loss_objective\": {\"sum\": 0.8712449169158936, \"count\": 1, \"min\": 0.8712449169158936, \"max\": 0.8712449169158936}}}\u001b[0m\n",
      "\u001b[34m#metrics {\"StartTime\": 1673980208.8296585, \"EndTime\": 1673980208.8296733, \"Dimensions\": {\"Algorithm\": \"Linear Learner\", \"Host\": \"algo-1\", \"Operation\": \"training\", \"epoch\": 0, \"model\": 27}, \"Metrics\": {\"train_absolute_loss_objective\": {\"sum\": 0.8614308738708496, \"count\": 1, \"min\": 0.8614308738708496, \"max\": 0.8614308738708496}}}\u001b[0m\n",
      "\u001b[34m#metrics {\"StartTime\": 1673980208.8297238, \"EndTime\": 1673980208.8297408, \"Dimensions\": {\"Algorithm\": \"Linear Learner\", \"Host\": \"algo-1\", \"Operation\": \"training\", \"epoch\": 0, \"model\": 28}, \"Metrics\": {\"train_absolute_loss_objective\": {\"sum\": 0.9328700923919677, \"count\": 1, \"min\": 0.9328700923919677, \"max\": 0.9328700923919677}}}\u001b[0m\n",
      "\u001b[34m#metrics {\"StartTime\": 1673980208.8297904, \"EndTime\": 1673980208.8298068, \"Dimensions\": {\"Algorithm\": \"Linear Learner\", \"Host\": \"algo-1\", \"Operation\": \"training\", \"epoch\": 0, \"model\": 29}, \"Metrics\": {\"train_absolute_loss_objective\": {\"sum\": 0.9337308692932129, \"count\": 1, \"min\": 0.9337308692932129, \"max\": 0.9337308692932129}}}\u001b[0m\n",
      "\u001b[34m#metrics {\"StartTime\": 1673980208.8298602, \"EndTime\": 1673980208.829877, \"Dimensions\": {\"Algorithm\": \"Linear Learner\", \"Host\": \"algo-1\", \"Operation\": \"training\", \"epoch\": 0, \"model\": 30}, \"Metrics\": {\"train_absolute_loss_objective\": {\"sum\": 0.9538436031341553, \"count\": 1, \"min\": 0.9538436031341553, \"max\": 0.9538436031341553}}}\u001b[0m\n",
      "\u001b[34m#metrics {\"StartTime\": 1673980208.8299258, \"EndTime\": 1673980208.8299415, \"Dimensions\": {\"Algorithm\": \"Linear Learner\", \"Host\": \"algo-1\", \"Operation\": \"training\", \"epoch\": 0, \"model\": 31}, \"Metrics\": {\"train_absolute_loss_objective\": {\"sum\": 0.9525952053070068, \"count\": 1, \"min\": 0.9525952053070068, \"max\": 0.9525952053070068}}}\u001b[0m\n",
      "\u001b[34m[01/17/2023 18:30:08 INFO 140541269587776] #quality_metric: host=algo-1, epoch=0, train absolute_loss_objective <loss>=0.8525755214691162\u001b[0m\n",
      "\u001b[34m[01/17/2023 18:30:08 INFO 140541269587776] #early_stopping_criteria_metric: host=algo-1, epoch=0, criteria=absolute_loss_objective, value=0.7948151111602784\u001b[0m\n",
      "\u001b[34m[01/17/2023 18:30:08 INFO 140541269587776] Epoch 0: Loss improved. Updating best model\u001b[0m\n",
      "\u001b[34m[01/17/2023 18:30:08 INFO 140541269587776] Saving model for epoch: 0\u001b[0m\n",
      "\u001b[34m[01/17/2023 18:30:08 INFO 140541269587776] Saved checkpoint to \"/tmp/tmp19rbnuc0/mx-mod-0000.params\"\u001b[0m\n",
      "\u001b[34m[01/17/2023 18:30:08 INFO 140541269587776] #progress_metric: host=algo-1, completed 20.0 % of epochs\u001b[0m\n",
      "\u001b[34m#metrics {\"StartTime\": 1673980208.730637, \"EndTime\": 1673980208.8386755, \"Dimensions\": {\"Algorithm\": \"Linear Learner\", \"Host\": \"algo-1\", \"Operation\": \"training\", \"epoch\": 0, \"Meta\": \"training_data_iter\"}, \"Metrics\": {\"Total Records Seen\": {\"sum\": 57.0, \"count\": 1, \"min\": 57, \"max\": 57}, \"Total Batches Seen\": {\"sum\": 13.0, \"count\": 1, \"min\": 13, \"max\": 13}, \"Max Records Seen Between Resets\": {\"sum\": 26.0, \"count\": 1, \"min\": 26, \"max\": 26}, \"Max Batches Seen Between Resets\": {\"sum\": 6.0, \"count\": 1, \"min\": 6, \"max\": 6}, \"Reset Count\": {\"sum\": 3.0, \"count\": 1, \"min\": 3, \"max\": 3}, \"Number of Records Since Last Reset\": {\"sum\": 26.0, \"count\": 1, \"min\": 26, \"max\": 26}, \"Number of Batches Since Last Reset\": {\"sum\": 6.0, \"count\": 1, \"min\": 6, \"max\": 6}}}\u001b[0m\n",
      "\u001b[34m[01/17/2023 18:30:08 INFO 140541269587776] #throughput_metric: host=algo-1, train throughput=240.3999409206242 records/second\u001b[0m\n",
      "\u001b[34m[2023-01-17 18:30:08.945] [tensorio] [info] epoch_stats={\"data_pipeline\": \"/opt/ml/input/data/train\", \"epoch\": 6, \"duration\": 106, \"num_examples\": 6, \"num_bytes\": 1248}\u001b[0m\n",
      "\u001b[34m#metrics {\"StartTime\": 1673980208.9453928, \"EndTime\": 1673980208.9454536, \"Dimensions\": {\"Algorithm\": \"Linear Learner\", \"Host\": \"algo-1\", \"Operation\": \"training\", \"epoch\": 1, \"model\": 0}, \"Metrics\": {\"train_absolute_loss_objective\": {\"sum\": 0.8123386478424073, \"count\": 1, \"min\": 0.8123386478424073, \"max\": 0.8123386478424073}}}\u001b[0m\n",
      "\u001b[34m#metrics {\"StartTime\": 1673980208.9455295, \"EndTime\": 1673980208.9455435, \"Dimensions\": {\"Algorithm\": \"Linear Learner\", \"Host\": \"algo-1\", \"Operation\": \"training\", \"epoch\": 1, \"model\": 1}, \"Metrics\": {\"train_absolute_loss_objective\": {\"sum\": 0.8309327793121338, \"count\": 1, \"min\": 0.8309327793121338, \"max\": 0.8309327793121338}}}\u001b[0m\n",
      "\u001b[34m#metrics {\"StartTime\": 1673980208.9455862, \"EndTime\": 1673980208.945597, \"Dimensions\": {\"Algorithm\": \"Linear Learner\", \"Host\": \"algo-1\", \"Operation\": \"training\", \"epoch\": 1, \"model\": 2}, \"Metrics\": {\"train_absolute_loss_objective\": {\"sum\": 0.8145910549163818, \"count\": 1, \"min\": 0.8145910549163818, \"max\": 0.8145910549163818}}}\u001b[0m\n",
      "\u001b[34m#metrics {\"StartTime\": 1673980208.9456315, \"EndTime\": 1673980208.945641, \"Dimensions\": {\"Algorithm\": \"Linear Learner\", \"Host\": \"algo-1\", \"Operation\": \"training\", \"epoch\": 1, \"model\": 3}, \"Metrics\": {\"train_absolute_loss_objective\": {\"sum\": 0.8299825382232666, \"count\": 1, \"min\": 0.8299825382232666, \"max\": 0.8299825382232666}}}\u001b[0m\n",
      "\u001b[34m#metrics {\"StartTime\": 1673980208.9456732, \"EndTime\": 1673980208.9456818, \"Dimensions\": {\"Algorithm\": \"Linear Learner\", \"Host\": \"algo-1\", \"Operation\": \"training\", \"epoch\": 1, \"model\": 4}, \"Metrics\": {\"train_absolute_loss_objective\": {\"sum\": 0.561041579246521, \"count\": 1, \"min\": 0.561041579246521, \"max\": 0.561041579246521}}}\u001b[0m\n",
      "\u001b[34m#metrics {\"StartTime\": 1673980208.945717, \"EndTime\": 1673980208.9457262, \"Dimensions\": {\"Algorithm\": \"Linear Learner\", \"Host\": \"algo-1\", \"Operation\": \"training\", \"epoch\": 1, \"model\": 5}, \"Metrics\": {\"train_absolute_loss_objective\": {\"sum\": 0.569673376083374, \"count\": 1, \"min\": 0.569673376083374, \"max\": 0.569673376083374}}}\u001b[0m\n",
      "\u001b[34m#metrics {\"StartTime\": 1673980208.9457603, \"EndTime\": 1673980208.9457695, \"Dimensions\": {\"Algorithm\": \"Linear Learner\", \"Host\": \"algo-1\", \"Operation\": \"training\", \"epoch\": 1, \"model\": 6}, \"Metrics\": {\"train_absolute_loss_objective\": {\"sum\": 0.6434429454803466, \"count\": 1, \"min\": 0.6434429454803466, \"max\": 0.6434429454803466}}}\u001b[0m\n",
      "\u001b[34m#metrics {\"StartTime\": 1673980208.9458013, \"EndTime\": 1673980208.9458098, \"Dimensions\": {\"Algorithm\": \"Linear Learner\", \"Host\": \"algo-1\", \"Operation\": \"training\", \"epoch\": 1, \"model\": 7}, \"Metrics\": {\"train_absolute_loss_objective\": {\"sum\": 0.6177590465545655, \"count\": 1, \"min\": 0.6177590465545655, \"max\": 0.6177590465545655}}}\u001b[0m\n",
      "\u001b[34m#metrics {\"StartTime\": 1673980208.9458406, \"EndTime\": 1673980208.9458494, \"Dimensions\": {\"Algorithm\": \"Linear Learner\", \"Host\": \"algo-1\", \"Operation\": \"training\", \"epoch\": 1, \"model\": 8}, \"Metrics\": {\"train_absolute_loss_objective\": {\"sum\": 0.8645450687408447, \"count\": 1, \"min\": 0.8645450687408447, \"max\": 0.8645450687408447}}}\u001b[0m\n",
      "\u001b[34m#metrics {\"StartTime\": 1673980208.9458878, \"EndTime\": 1673980208.945898, \"Dimensions\": {\"Algorithm\": \"Linear Learner\", \"Host\": \"algo-1\", \"Operation\": \"training\", \"epoch\": 1, \"model\": 9}, \"Metrics\": {\"train_absolute_loss_objective\": {\"sum\": 0.8011045360565185, \"count\": 1, \"min\": 0.8011045360565185, \"max\": 0.8011045360565185}}}\u001b[0m\n",
      "\u001b[34m#metrics {\"StartTime\": 1673980208.945931, \"EndTime\": 1673980208.94594, \"Dimensions\": {\"Algorithm\": \"Linear Learner\", \"Host\": \"algo-1\", \"Operation\": \"training\", \"epoch\": 1, \"model\": 10}, \"Metrics\": {\"train_absolute_loss_objective\": {\"sum\": 0.807360725402832, \"count\": 1, \"min\": 0.807360725402832, \"max\": 0.807360725402832}}}\u001b[0m\n",
      "\u001b[34m#metrics {\"StartTime\": 1673980208.9459774, \"EndTime\": 1673980208.9459872, \"Dimensions\": {\"Algorithm\": \"Linear Learner\", \"Host\": \"algo-1\", \"Operation\": \"training\", \"epoch\": 1, \"model\": 11}, \"Metrics\": {\"train_absolute_loss_objective\": {\"sum\": 0.7935264682769776, \"count\": 1, \"min\": 0.7935264682769776, \"max\": 0.7935264682769776}}}\u001b[0m\n",
      "\u001b[34m#metrics {\"StartTime\": 1673980208.9460204, \"EndTime\": 1673980208.9460294, \"Dimensions\": {\"Algorithm\": \"Linear Learner\", \"Host\": \"algo-1\", \"Operation\": \"training\", \"epoch\": 1, \"model\": 12}, \"Metrics\": {\"train_absolute_loss_objective\": {\"sum\": 0.5692792081832886, \"count\": 1, \"min\": 0.5692792081832886, \"max\": 0.5692792081832886}}}\u001b[0m\n",
      "\u001b[34m#metrics {\"StartTime\": 1673980208.94606, \"EndTime\": 1673980208.9460688, \"Dimensions\": {\"Algorithm\": \"Linear Learner\", \"Host\": \"algo-1\", \"Operation\": \"training\", \"epoch\": 1, \"model\": 13}, \"Metrics\": {\"train_absolute_loss_objective\": {\"sum\": 0.5925069570541381, \"count\": 1, \"min\": 0.5925069570541381, \"max\": 0.5925069570541381}}}\u001b[0m\n",
      "\u001b[34m#metrics {\"StartTime\": 1673980208.9461017, \"EndTime\": 1673980208.946111, \"Dimensions\": {\"Algorithm\": \"Linear Learner\", \"Host\": \"algo-1\", \"Operation\": \"training\", \"epoch\": 1, \"model\": 14}, \"Metrics\": {\"train_absolute_loss_objective\": {\"sum\": 0.5679634642601014, \"count\": 1, \"min\": 0.5679634642601014, \"max\": 0.5679634642601014}}}\u001b[0m\n",
      "\u001b[34m#metrics {\"StartTime\": 1673980208.946149, \"EndTime\": 1673980208.9461594, \"Dimensions\": {\"Algorithm\": \"Linear Learner\", \"Host\": \"algo-1\", \"Operation\": \"training\", \"epoch\": 1, \"model\": 15}, \"Metrics\": {\"train_absolute_loss_objective\": {\"sum\": 0.5980739021301269, \"count\": 1, \"min\": 0.5980739021301269, \"max\": 0.5980739021301269}}}\u001b[0m\n",
      "\u001b[34m#metrics {\"StartTime\": 1673980208.9461918, \"EndTime\": 1673980208.9462006, \"Dimensions\": {\"Algorithm\": \"Linear Learner\", \"Host\": \"algo-1\", \"Operation\": \"training\", \"epoch\": 1, \"model\": 16}, \"Metrics\": {\"train_absolute_loss_objective\": {\"sum\": 0.778864688873291, \"count\": 1, \"min\": 0.778864688873291, \"max\": 0.778864688873291}}}\u001b[0m\n",
      "\u001b[34m#metrics {\"StartTime\": 1673980208.9462316, \"EndTime\": 1673980208.94624, \"Dimensions\": {\"Algorithm\": \"Linear Learner\", \"Host\": \"algo-1\", \"Operation\": \"training\", \"epoch\": 1, \"model\": 17}, \"Metrics\": {\"train_absolute_loss_objective\": {\"sum\": 0.8265250587463379, \"count\": 1, \"min\": 0.8265250587463379, \"max\": 0.8265250587463379}}}\u001b[0m\n",
      "\u001b[34m#metrics {\"StartTime\": 1673980208.9462733, \"EndTime\": 1673980208.946282, \"Dimensions\": {\"Algorithm\": \"Linear Learner\", \"Host\": \"algo-1\", \"Operation\": \"training\", \"epoch\": 1, \"model\": 18}, \"Metrics\": {\"train_absolute_loss_objective\": {\"sum\": 0.8040270805358887, \"count\": 1, \"min\": 0.8040270805358887, \"max\": 0.8040270805358887}}}\u001b[0m\n",
      "\u001b[34m#metrics {\"StartTime\": 1673980208.946313, \"EndTime\": 1673980208.9463217, \"Dimensions\": {\"Algorithm\": \"Linear Learner\", \"Host\": \"algo-1\", \"Operation\": \"training\", \"epoch\": 1, \"model\": 19}, \"Metrics\": {\"train_absolute_loss_objective\": {\"sum\": 0.8015145874023437, \"count\": 1, \"min\": 0.8015145874023437, \"max\": 0.8015145874023437}}}\u001b[0m\n",
      "\u001b[34m#metrics {\"StartTime\": 1673980208.9463577, \"EndTime\": 1673980208.9463668, \"Dimensions\": {\"Algorithm\": \"Linear Learner\", \"Host\": \"algo-1\", \"Operation\": \"training\", \"epoch\": 1, \"model\": 20}, \"Metrics\": {\"train_absolute_loss_objective\": {\"sum\": 0.6457269334793091, \"count\": 1, \"min\": 0.6457269334793091, \"max\": 0.6457269334793091}}}\u001b[0m\n",
      "\u001b[34m#metrics {\"StartTime\": 1673980208.9463983, \"EndTime\": 1673980208.9464068, \"Dimensions\": {\"Algorithm\": \"Linear Learner\", \"Host\": \"algo-1\", \"Operation\": \"training\", \"epoch\": 1, \"model\": 21}, \"Metrics\": {\"train_absolute_loss_objective\": {\"sum\": 0.6546827507019043, \"count\": 1, \"min\": 0.6546827507019043, \"max\": 0.6546827507019043}}}\u001b[0m\n",
      "\u001b[34m#metrics {\"StartTime\": 1673980208.9464445, \"EndTime\": 1673980208.9464545, \"Dimensions\": {\"Algorithm\": \"Linear Learner\", \"Host\": \"algo-1\", \"Operation\": \"training\", \"epoch\": 1, \"model\": 22}, \"Metrics\": {\"train_absolute_loss_objective\": {\"sum\": 0.6181756019592285, \"count\": 1, \"min\": 0.6181756019592285, \"max\": 0.6181756019592285}}}\u001b[0m\n",
      "\u001b[34m#metrics {\"StartTime\": 1673980208.9464934, \"EndTime\": 1673980208.9465032, \"Dimensions\": {\"Algorithm\": \"Linear Learner\", \"Host\": \"algo-1\", \"Operation\": \"training\", \"epoch\": 1, \"model\": 23}, \"Metrics\": {\"train_absolute_loss_objective\": {\"sum\": 0.6705528783798218, \"count\": 1, \"min\": 0.6705528783798218, \"max\": 0.6705528783798218}}}\u001b[0m\n",
      "\u001b[34m#metrics {\"StartTime\": 1673980208.9465423, \"EndTime\": 1673980208.946552, \"Dimensions\": {\"Algorithm\": \"Linear Learner\", \"Host\": \"algo-1\", \"Operation\": \"training\", \"epoch\": 1, \"model\": 24}, \"Metrics\": {\"train_absolute_loss_objective\": {\"sum\": 0.8181472969055176, \"count\": 1, \"min\": 0.8181472969055176, \"max\": 0.8181472969055176}}}\u001b[0m\n",
      "\u001b[34m#metrics {\"StartTime\": 1673980208.946585, \"EndTime\": 1673980208.9465933, \"Dimensions\": {\"Algorithm\": \"Linear Learner\", \"Host\": \"algo-1\", \"Operation\": \"training\", \"epoch\": 1, \"model\": 25}, \"Metrics\": {\"train_absolute_loss_objective\": {\"sum\": 0.8435546970367431, \"count\": 1, \"min\": 0.8435546970367431, \"max\": 0.8435546970367431}}}\u001b[0m\n",
      "\u001b[34m#metrics {\"StartTime\": 1673980208.94663, \"EndTime\": 1673980208.9466388, \"Dimensions\": {\"Algorithm\": \"Linear Learner\", \"Host\": \"algo-1\", \"Operation\": \"training\", \"epoch\": 1, \"model\": 26}, \"Metrics\": {\"train_absolute_loss_objective\": {\"sum\": 0.8338979244232178, \"count\": 1, \"min\": 0.8338979244232178, \"max\": 0.8338979244232178}}}\u001b[0m\n",
      "\u001b[34m#metrics {\"StartTime\": 1673980208.946673, \"EndTime\": 1673980208.9466817, \"Dimensions\": {\"Algorithm\": \"Linear Learner\", \"Host\": \"algo-1\", \"Operation\": \"training\", \"epoch\": 1, \"model\": 27}, \"Metrics\": {\"train_absolute_loss_objective\": {\"sum\": 0.8334714698791504, \"count\": 1, \"min\": 0.8334714698791504, \"max\": 0.8334714698791504}}}\u001b[0m\n",
      "\u001b[34m#metrics {\"StartTime\": 1673980208.946715, \"EndTime\": 1673980208.946724, \"Dimensions\": {\"Algorithm\": \"Linear Learner\", \"Host\": \"algo-1\", \"Operation\": \"training\", \"epoch\": 1, \"model\": 28}, \"Metrics\": {\"train_absolute_loss_objective\": {\"sum\": 0.9915974140167236, \"count\": 1, \"min\": 0.9915974140167236, \"max\": 0.9915974140167236}}}\u001b[0m\n",
      "\u001b[34m#metrics {\"StartTime\": 1673980208.9467626, \"EndTime\": 1673980208.9467723, \"Dimensions\": {\"Algorithm\": \"Linear Learner\", \"Host\": \"algo-1\", \"Operation\": \"training\", \"epoch\": 1, \"model\": 29}, \"Metrics\": {\"train_absolute_loss_objective\": {\"sum\": 0.9904624366760254, \"count\": 1, \"min\": 0.9904624366760254, \"max\": 0.9904624366760254}}}\u001b[0m\n",
      "\u001b[34m#metrics {\"StartTime\": 1673980208.9468048, \"EndTime\": 1673980208.946813, \"Dimensions\": {\"Algorithm\": \"Linear Learner\", \"Host\": \"algo-1\", \"Operation\": \"training\", \"epoch\": 1, \"model\": 30}, \"Metrics\": {\"train_absolute_loss_objective\": {\"sum\": 0.9918254470825195, \"count\": 1, \"min\": 0.9918254470825195, \"max\": 0.9918254470825195}}}\u001b[0m\n",
      "\u001b[34m#metrics {\"StartTime\": 1673980208.9468641, \"EndTime\": 1673980208.9468791, \"Dimensions\": {\"Algorithm\": \"Linear Learner\", \"Host\": \"algo-1\", \"Operation\": \"training\", \"epoch\": 1, \"model\": 31}, \"Metrics\": {\"train_absolute_loss_objective\": {\"sum\": 0.999483404159546, \"count\": 1, \"min\": 0.999483404159546, \"max\": 0.999483404159546}}}\u001b[0m\n",
      "\u001b[34m[01/17/2023 18:30:08 INFO 140541269587776] #quality_metric: host=algo-1, epoch=1, train absolute_loss_objective <loss>=0.8123386478424073\u001b[0m\n",
      "\u001b[34m[01/17/2023 18:30:08 INFO 140541269587776] #early_stopping_criteria_metric: host=algo-1, epoch=1, criteria=absolute_loss_objective, value=0.561041579246521\u001b[0m\n",
      "\u001b[34m[01/17/2023 18:30:08 INFO 140541269587776] Epoch 1: Loss improved. Updating best model\u001b[0m\n",
      "\u001b[34m[01/17/2023 18:30:08 INFO 140541269587776] Saving model for epoch: 1\u001b[0m\n",
      "\u001b[34m[01/17/2023 18:30:08 INFO 140541269587776] Saved checkpoint to \"/tmp/tmp2lzbfofu/mx-mod-0000.params\"\u001b[0m\n",
      "\u001b[34m[01/17/2023 18:30:08 INFO 140541269587776] #progress_metric: host=algo-1, completed 40.0 % of epochs\u001b[0m\n",
      "\u001b[34m#metrics {\"StartTime\": 1673980208.83895, \"EndTime\": 1673980208.955398, \"Dimensions\": {\"Algorithm\": \"Linear Learner\", \"Host\": \"algo-1\", \"Operation\": \"training\", \"epoch\": 1, \"Meta\": \"training_data_iter\"}, \"Metrics\": {\"Total Records Seen\": {\"sum\": 83.0, \"count\": 1, \"min\": 83, \"max\": 83}, \"Total Batches Seen\": {\"sum\": 19.0, \"count\": 1, \"min\": 19, \"max\": 19}, \"Max Records Seen Between Resets\": {\"sum\": 26.0, \"count\": 1, \"min\": 26, \"max\": 26}, \"Max Batches Seen Between Resets\": {\"sum\": 6.0, \"count\": 1, \"min\": 6, \"max\": 6}, \"Reset Count\": {\"sum\": 4.0, \"count\": 1, \"min\": 4, \"max\": 4}, \"Number of Records Since Last Reset\": {\"sum\": 26.0, \"count\": 1, \"min\": 26, \"max\": 26}, \"Number of Batches Since Last Reset\": {\"sum\": 6.0, \"count\": 1, \"min\": 6, \"max\": 6}}}\u001b[0m\n",
      "\u001b[34m[01/17/2023 18:30:08 INFO 140541269587776] #throughput_metric: host=algo-1, train throughput=223.02006225228948 records/second\u001b[0m\n",
      "\u001b[34m[2023-01-17 18:30:09.061] [tensorio] [info] epoch_stats={\"data_pipeline\": \"/opt/ml/input/data/train\", \"epoch\": 8, \"duration\": 105, \"num_examples\": 6, \"num_bytes\": 1248}\u001b[0m\n",
      "\u001b[34m#metrics {\"StartTime\": 1673980209.0614235, \"EndTime\": 1673980209.0614824, \"Dimensions\": {\"Algorithm\": \"Linear Learner\", \"Host\": \"algo-1\", \"Operation\": \"training\", \"epoch\": 2, \"model\": 0}, \"Metrics\": {\"train_absolute_loss_objective\": {\"sum\": 0.7766026496887207, \"count\": 1, \"min\": 0.7766026496887207, \"max\": 0.7766026496887207}}}\u001b[0m\n",
      "\u001b[34m#metrics {\"StartTime\": 1673980209.0615437, \"EndTime\": 1673980209.0615568, \"Dimensions\": {\"Algorithm\": \"Linear Learner\", \"Host\": \"algo-1\", \"Operation\": \"training\", \"epoch\": 2, \"model\": 1}, \"Metrics\": {\"train_absolute_loss_objective\": {\"sum\": 0.7950851345062255, \"count\": 1, \"min\": 0.7950851345062255, \"max\": 0.7950851345062255}}}\u001b[0m\n",
      "\u001b[34m#metrics {\"StartTime\": 1673980209.061604, \"EndTime\": 1673980209.061615, \"Dimensions\": {\"Algorithm\": \"Linear Learner\", \"Host\": \"algo-1\", \"Operation\": \"training\", \"epoch\": 2, \"model\": 2}, \"Metrics\": {\"train_absolute_loss_objective\": {\"sum\": 0.7788550567626953, \"count\": 1, \"min\": 0.7788550567626953, \"max\": 0.7788550567626953}}}\u001b[0m\n",
      "\u001b[34m#metrics {\"StartTime\": 1673980209.0616577, \"EndTime\": 1673980209.0616682, \"Dimensions\": {\"Algorithm\": \"Linear Learner\", \"Host\": \"algo-1\", \"Operation\": \"training\", \"epoch\": 2, \"model\": 3}, \"Metrics\": {\"train_absolute_loss_objective\": {\"sum\": 0.7941349029541016, \"count\": 1, \"min\": 0.7941349029541016, \"max\": 0.7941349029541016}}}\u001b[0m\n",
      "\u001b[34m#metrics {\"StartTime\": 1673980209.0617044, \"EndTime\": 1673980209.061714, \"Dimensions\": {\"Algorithm\": \"Linear Learner\", \"Host\": \"algo-1\", \"Operation\": \"training\", \"epoch\": 2, \"model\": 4}, \"Metrics\": {\"train_absolute_loss_objective\": {\"sum\": 0.1976061773300171, \"count\": 1, \"min\": 0.1976061773300171, \"max\": 0.1976061773300171}}}\u001b[0m\n",
      "\u001b[34m#metrics {\"StartTime\": 1673980209.0617537, \"EndTime\": 1673980209.0617638, \"Dimensions\": {\"Algorithm\": \"Linear Learner\", \"Host\": \"algo-1\", \"Operation\": \"training\", \"epoch\": 2, \"model\": 5}, \"Metrics\": {\"train_absolute_loss_objective\": {\"sum\": 0.1979096531867981, \"count\": 1, \"min\": 0.1979096531867981, \"max\": 0.1979096531867981}}}\u001b[0m\n",
      "\u001b[34m#metrics {\"StartTime\": 1673980209.0617995, \"EndTime\": 1673980209.0618088, \"Dimensions\": {\"Algorithm\": \"Linear Learner\", \"Host\": \"algo-1\", \"Operation\": \"training\", \"epoch\": 2, \"model\": 6}, \"Metrics\": {\"train_absolute_loss_objective\": {\"sum\": 0.23905985832214355, \"count\": 1, \"min\": 0.23905985832214355, \"max\": 0.23905985832214355}}}\u001b[0m\n",
      "\u001b[34m#metrics {\"StartTime\": 1673980209.061849, \"EndTime\": 1673980209.0618591, \"Dimensions\": {\"Algorithm\": \"Linear Learner\", \"Host\": \"algo-1\", \"Operation\": \"training\", \"epoch\": 2, \"model\": 7}, \"Metrics\": {\"train_absolute_loss_objective\": {\"sum\": 0.22549888372421265, \"count\": 1, \"min\": 0.22549888372421265, \"max\": 0.22549888372421265}}}\u001b[0m\n",
      "\u001b[34m#metrics {\"StartTime\": 1673980209.061895, \"EndTime\": 1673980209.0619044, \"Dimensions\": {\"Algorithm\": \"Linear Learner\", \"Host\": \"algo-1\", \"Operation\": \"training\", \"epoch\": 2, \"model\": 8}, \"Metrics\": {\"train_absolute_loss_objective\": {\"sum\": 0.8288087463378906, \"count\": 1, \"min\": 0.8288087463378906, \"max\": 0.8288087463378906}}}\u001b[0m\n",
      "\u001b[34m#metrics {\"StartTime\": 1673980209.0619392, \"EndTime\": 1673980209.061948, \"Dimensions\": {\"Algorithm\": \"Linear Learner\", \"Host\": \"algo-1\", \"Operation\": \"training\", \"epoch\": 2, \"model\": 9}, \"Metrics\": {\"train_absolute_loss_objective\": {\"sum\": 0.7652593517303466, \"count\": 1, \"min\": 0.7652593517303466, \"max\": 0.7652593517303466}}}\u001b[0m\n",
      "\u001b[34m#metrics {\"StartTime\": 1673980209.061982, \"EndTime\": 1673980209.0619912, \"Dimensions\": {\"Algorithm\": \"Linear Learner\", \"Host\": \"algo-1\", \"Operation\": \"training\", \"epoch\": 2, \"model\": 10}, \"Metrics\": {\"train_absolute_loss_objective\": {\"sum\": 0.7716268825531006, \"count\": 1, \"min\": 0.7716268825531006, \"max\": 0.7716268825531006}}}\u001b[0m\n",
      "\u001b[34m#metrics {\"StartTime\": 1673980209.0620258, \"EndTime\": 1673980209.0620348, \"Dimensions\": {\"Algorithm\": \"Linear Learner\", \"Host\": \"algo-1\", \"Operation\": \"training\", \"epoch\": 2, \"model\": 11}, \"Metrics\": {\"train_absolute_loss_objective\": {\"sum\": 0.7576815795898437, \"count\": 1, \"min\": 0.7576815795898437, \"max\": 0.7576815795898437}}}\u001b[0m\n",
      "\u001b[34m#metrics {\"StartTime\": 1673980209.0620737, \"EndTime\": 1673980209.0620835, \"Dimensions\": {\"Algorithm\": \"Linear Learner\", \"Host\": \"algo-1\", \"Operation\": \"training\", \"epoch\": 2, \"model\": 12}, \"Metrics\": {\"train_absolute_loss_objective\": {\"sum\": 0.20463402032852174, \"count\": 1, \"min\": 0.20463402032852174, \"max\": 0.20463402032852174}}}\u001b[0m\n",
      "\u001b[34m#metrics {\"StartTime\": 1673980209.062119, \"EndTime\": 1673980209.0621278, \"Dimensions\": {\"Algorithm\": \"Linear Learner\", \"Host\": \"algo-1\", \"Operation\": \"training\", \"epoch\": 2, \"model\": 13}, \"Metrics\": {\"train_absolute_loss_objective\": {\"sum\": 0.2017790150642395, \"count\": 1, \"min\": 0.2017790150642395, \"max\": 0.2017790150642395}}}\u001b[0m\n",
      "\u001b[34m#metrics {\"StartTime\": 1673980209.06216, \"EndTime\": 1673980209.062169, \"Dimensions\": {\"Algorithm\": \"Linear Learner\", \"Host\": \"algo-1\", \"Operation\": \"training\", \"epoch\": 2, \"model\": 14}, \"Metrics\": {\"train_absolute_loss_objective\": {\"sum\": 0.20429907083511353, \"count\": 1, \"min\": 0.20429907083511353, \"max\": 0.20429907083511353}}}\u001b[0m\n",
      "\u001b[34m#metrics {\"StartTime\": 1673980209.062203, \"EndTime\": 1673980209.0622118, \"Dimensions\": {\"Algorithm\": \"Linear Learner\", \"Host\": \"algo-1\", \"Operation\": \"training\", \"epoch\": 2, \"model\": 15}, \"Metrics\": {\"train_absolute_loss_objective\": {\"sum\": 0.21138057231903076, \"count\": 1, \"min\": 0.21138057231903076, \"max\": 0.21138057231903076}}}\u001b[0m\n",
      "\u001b[34m#metrics {\"StartTime\": 1673980209.0622525, \"EndTime\": 1673980209.0622628, \"Dimensions\": {\"Algorithm\": \"Linear Learner\", \"Host\": \"algo-1\", \"Operation\": \"training\", \"epoch\": 2, \"model\": 16}, \"Metrics\": {\"train_absolute_loss_objective\": {\"sum\": 0.7435044956207275, \"count\": 1, \"min\": 0.7435044956207275, \"max\": 0.7435044956207275}}}\u001b[0m\n",
      "\u001b[34m#metrics {\"StartTime\": 1673980209.0623038, \"EndTime\": 1673980209.0623138, \"Dimensions\": {\"Algorithm\": \"Linear Learner\", \"Host\": \"algo-1\", \"Operation\": \"training\", \"epoch\": 2, \"model\": 17}, \"Metrics\": {\"train_absolute_loss_objective\": {\"sum\": 0.7908149528503418, \"count\": 1, \"min\": 0.7908149528503418, \"max\": 0.7908149528503418}}}\u001b[0m\n",
      "\u001b[34m#metrics {\"StartTime\": 1673980209.0623462, \"EndTime\": 1673980209.062355, \"Dimensions\": {\"Algorithm\": \"Linear Learner\", \"Host\": \"algo-1\", \"Operation\": \"training\", \"epoch\": 2, \"model\": 18}, \"Metrics\": {\"train_absolute_loss_objective\": {\"sum\": 0.7685352134704589, \"count\": 1, \"min\": 0.7685352134704589, \"max\": 0.7685352134704589}}}\u001b[0m\n",
      "\u001b[34m#metrics {\"StartTime\": 1673980209.0623856, \"EndTime\": 1673980209.0623944, \"Dimensions\": {\"Algorithm\": \"Linear Learner\", \"Host\": \"algo-1\", \"Operation\": \"training\", \"epoch\": 2, \"model\": 19}, \"Metrics\": {\"train_absolute_loss_objective\": {\"sum\": 0.7659248161315918, \"count\": 1, \"min\": 0.7659248161315918, \"max\": 0.7659248161315918}}}\u001b[0m\n",
      "\u001b[34m#metrics {\"StartTime\": 1673980209.062425, \"EndTime\": 1673980209.0624335, \"Dimensions\": {\"Algorithm\": \"Linear Learner\", \"Host\": \"algo-1\", \"Operation\": \"training\", \"epoch\": 2, \"model\": 20}, \"Metrics\": {\"train_absolute_loss_objective\": {\"sum\": 0.3166340970993042, \"count\": 1, \"min\": 0.3166340970993042, \"max\": 0.3166340970993042}}}\u001b[0m\n",
      "\u001b[34m#metrics {\"StartTime\": 1673980209.062464, \"EndTime\": 1673980209.0624723, \"Dimensions\": {\"Algorithm\": \"Linear Learner\", \"Host\": \"algo-1\", \"Operation\": \"training\", \"epoch\": 2, \"model\": 21}, \"Metrics\": {\"train_absolute_loss_objective\": {\"sum\": 0.31171014308929446, \"count\": 1, \"min\": 0.31171014308929446, \"max\": 0.31171014308929446}}}\u001b[0m\n",
      "\u001b[34m#metrics {\"StartTime\": 1673980209.062503, \"EndTime\": 1673980209.0625117, \"Dimensions\": {\"Algorithm\": \"Linear Learner\", \"Host\": \"algo-1\", \"Operation\": \"training\", \"epoch\": 2, \"model\": 22}, \"Metrics\": {\"train_absolute_loss_objective\": {\"sum\": 0.3086257457733154, \"count\": 1, \"min\": 0.3086257457733154, \"max\": 0.3086257457733154}}}\u001b[0m\n",
      "\u001b[34m#metrics {\"StartTime\": 1673980209.06255, \"EndTime\": 1673980209.0625598, \"Dimensions\": {\"Algorithm\": \"Linear Learner\", \"Host\": \"algo-1\", \"Operation\": \"training\", \"epoch\": 2, \"model\": 23}, \"Metrics\": {\"train_absolute_loss_objective\": {\"sum\": 0.3175968360900879, \"count\": 1, \"min\": 0.3175968360900879, \"max\": 0.3175968360900879}}}\u001b[0m\n",
      "\u001b[34m#metrics {\"StartTime\": 1673980209.062592, \"EndTime\": 1673980209.0626006, \"Dimensions\": {\"Algorithm\": \"Linear Learner\", \"Host\": \"algo-1\", \"Operation\": \"training\", \"epoch\": 2, \"model\": 24}, \"Metrics\": {\"train_absolute_loss_objective\": {\"sum\": 0.8172618389129639, \"count\": 1, \"min\": 0.8172618389129639, \"max\": 0.8172618389129639}}}\u001b[0m\n",
      "\u001b[34m#metrics {\"StartTime\": 1673980209.0626314, \"EndTime\": 1673980209.06264, \"Dimensions\": {\"Algorithm\": \"Linear Learner\", \"Host\": \"algo-1\", \"Operation\": \"training\", \"epoch\": 2, \"model\": 25}, \"Metrics\": {\"train_absolute_loss_objective\": {\"sum\": 0.8134660339355468, \"count\": 1, \"min\": 0.8134660339355468, \"max\": 0.8134660339355468}}}\u001b[0m\n",
      "\u001b[34m#metrics {\"StartTime\": 1673980209.06267, \"EndTime\": 1673980209.0626786, \"Dimensions\": {\"Algorithm\": \"Linear Learner\", \"Host\": \"algo-1\", \"Operation\": \"training\", \"epoch\": 2, \"model\": 26}, \"Metrics\": {\"train_absolute_loss_objective\": {\"sum\": 0.8126381683349609, \"count\": 1, \"min\": 0.8126381683349609, \"max\": 0.8126381683349609}}}\u001b[0m\n",
      "\u001b[34m#metrics {\"StartTime\": 1673980209.0627089, \"EndTime\": 1673980209.0627172, \"Dimensions\": {\"Algorithm\": \"Linear Learner\", \"Host\": \"algo-1\", \"Operation\": \"training\", \"epoch\": 2, \"model\": 27}, \"Metrics\": {\"train_absolute_loss_objective\": {\"sum\": 0.8207694149017334, \"count\": 1, \"min\": 0.8207694149017334, \"max\": 0.8207694149017334}}}\u001b[0m\n",
      "\u001b[34m#metrics {\"StartTime\": 1673980209.0627475, \"EndTime\": 1673980209.062756, \"Dimensions\": {\"Algorithm\": \"Linear Learner\", \"Host\": \"algo-1\", \"Operation\": \"training\", \"epoch\": 2, \"model\": 28}, \"Metrics\": {\"train_absolute_loss_objective\": {\"sum\": 0.9516906023025513, \"count\": 1, \"min\": 0.9516906023025513, \"max\": 0.9516906023025513}}}\u001b[0m\n",
      "\u001b[34m#metrics {\"StartTime\": 1673980209.0627897, \"EndTime\": 1673980209.0627985, \"Dimensions\": {\"Algorithm\": \"Linear Learner\", \"Host\": \"algo-1\", \"Operation\": \"training\", \"epoch\": 2, \"model\": 29}, \"Metrics\": {\"train_absolute_loss_objective\": {\"sum\": 0.953180980682373, \"count\": 1, \"min\": 0.953180980682373, \"max\": 0.953180980682373}}}\u001b[0m\n",
      "\u001b[34m#metrics {\"StartTime\": 1673980209.062833, \"EndTime\": 1673980209.062842, \"Dimensions\": {\"Algorithm\": \"Linear Learner\", \"Host\": \"algo-1\", \"Operation\": \"training\", \"epoch\": 2, \"model\": 30}, \"Metrics\": {\"train_absolute_loss_objective\": {\"sum\": 0.95441650390625, \"count\": 1, \"min\": 0.95441650390625, \"max\": 0.95441650390625}}}\u001b[0m\n",
      "\u001b[34m#metrics {\"StartTime\": 1673980209.0628936, \"EndTime\": 1673980209.0629096, \"Dimensions\": {\"Algorithm\": \"Linear Learner\", \"Host\": \"algo-1\", \"Operation\": \"training\", \"epoch\": 2, \"model\": 31}, \"Metrics\": {\"train_absolute_loss_objective\": {\"sum\": 0.9484502458572388, \"count\": 1, \"min\": 0.9484502458572388, \"max\": 0.9484502458572388}}}\u001b[0m\n",
      "\u001b[34m[01/17/2023 18:30:09 INFO 140541269587776] #quality_metric: host=algo-1, epoch=2, train absolute_loss_objective <loss>=0.7766026496887207\u001b[0m\n",
      "\u001b[34m[01/17/2023 18:30:09 INFO 140541269587776] #early_stopping_criteria_metric: host=algo-1, epoch=2, criteria=absolute_loss_objective, value=0.1976061773300171\u001b[0m\n",
      "\u001b[34m[01/17/2023 18:30:09 INFO 140541269587776] Epoch 2: Loss improved. Updating best model\u001b[0m\n",
      "\u001b[34m[01/17/2023 18:30:09 INFO 140541269587776] Saving model for epoch: 2\u001b[0m\n",
      "\u001b[34m[01/17/2023 18:30:09 INFO 140541269587776] Saved checkpoint to \"/tmp/tmp4gklq8j1/mx-mod-0000.params\"\u001b[0m\n",
      "\u001b[34m[01/17/2023 18:30:09 INFO 140541269587776] #progress_metric: host=algo-1, completed 60.0 % of epochs\u001b[0m\n",
      "\u001b[34m#metrics {\"StartTime\": 1673980208.9556894, \"EndTime\": 1673980209.0708935, \"Dimensions\": {\"Algorithm\": \"Linear Learner\", \"Host\": \"algo-1\", \"Operation\": \"training\", \"epoch\": 2, \"Meta\": \"training_data_iter\"}, \"Metrics\": {\"Total Records Seen\": {\"sum\": 109.0, \"count\": 1, \"min\": 109, \"max\": 109}, \"Total Batches Seen\": {\"sum\": 25.0, \"count\": 1, \"min\": 25, \"max\": 25}, \"Max Records Seen Between Resets\": {\"sum\": 26.0, \"count\": 1, \"min\": 26, \"max\": 26}, \"Max Batches Seen Between Resets\": {\"sum\": 6.0, \"count\": 1, \"min\": 6, \"max\": 6}, \"Reset Count\": {\"sum\": 5.0, \"count\": 1, \"min\": 5, \"max\": 5}, \"Number of Records Since Last Reset\": {\"sum\": 26.0, \"count\": 1, \"min\": 26, \"max\": 26}, \"Number of Batches Since Last Reset\": {\"sum\": 6.0, \"count\": 1, \"min\": 6, \"max\": 6}}}\u001b[0m\n",
      "\u001b[34m[01/17/2023 18:30:09 INFO 140541269587776] #throughput_metric: host=algo-1, train throughput=225.4601208221863 records/second\u001b[0m\n",
      "\u001b[34m[2023-01-17 18:30:09.175] [tensorio] [info] epoch_stats={\"data_pipeline\": \"/opt/ml/input/data/train\", \"epoch\": 10, \"duration\": 104, \"num_examples\": 6, \"num_bytes\": 1248}\u001b[0m\n",
      "\u001b[34m#metrics {\"StartTime\": 1673980209.1754918, \"EndTime\": 1673980209.1755607, \"Dimensions\": {\"Algorithm\": \"Linear Learner\", \"Host\": \"algo-1\", \"Operation\": \"training\", \"epoch\": 3, \"model\": 0}, \"Metrics\": {\"train_absolute_loss_objective\": {\"sum\": 0.7415670394897461, \"count\": 1, \"min\": 0.7415670394897461, \"max\": 0.7415670394897461}}}\u001b[0m\n",
      "\u001b[34m#metrics {\"StartTime\": 1673980209.1756227, \"EndTime\": 1673980209.1756403, \"Dimensions\": {\"Algorithm\": \"Linear Learner\", \"Host\": \"algo-1\", \"Operation\": \"training\", \"epoch\": 3, \"model\": 1}, \"Metrics\": {\"train_absolute_loss_objective\": {\"sum\": 0.7596956062316894, \"count\": 1, \"min\": 0.7596956062316894, \"max\": 0.7596956062316894}}}\u001b[0m\n",
      "\u001b[34m#metrics {\"StartTime\": 1673980209.175694, \"EndTime\": 1673980209.1757107, \"Dimensions\": {\"Algorithm\": \"Linear Learner\", \"Host\": \"algo-1\", \"Operation\": \"training\", \"epoch\": 3, \"model\": 2}, \"Metrics\": {\"train_absolute_loss_objective\": {\"sum\": 0.743819465637207, \"count\": 1, \"min\": 0.743819465637207, \"max\": 0.743819465637207}}}\u001b[0m\n",
      "\u001b[34m#metrics {\"StartTime\": 1673980209.1757631, \"EndTime\": 1673980209.1757798, \"Dimensions\": {\"Algorithm\": \"Linear Learner\", \"Host\": \"algo-1\", \"Operation\": \"training\", \"epoch\": 3, \"model\": 3}, \"Metrics\": {\"train_absolute_loss_objective\": {\"sum\": 0.7587454128265381, \"count\": 1, \"min\": 0.7587454128265381, \"max\": 0.7587454128265381}}}\u001b[0m\n",
      "\u001b[34m#metrics {\"StartTime\": 1673980209.175854, \"EndTime\": 1673980209.175867, \"Dimensions\": {\"Algorithm\": \"Linear Learner\", \"Host\": \"algo-1\", \"Operation\": \"training\", \"epoch\": 3, \"model\": 4}, \"Metrics\": {\"train_absolute_loss_objective\": {\"sum\": 0.2679017210006714, \"count\": 1, \"min\": 0.2679017210006714, \"max\": 0.2679017210006714}}}\u001b[0m\n",
      "\u001b[34m#metrics {\"StartTime\": 1673980209.1759124, \"EndTime\": 1673980209.175928, \"Dimensions\": {\"Algorithm\": \"Linear Learner\", \"Host\": \"algo-1\", \"Operation\": \"training\", \"epoch\": 3, \"model\": 5}, \"Metrics\": {\"train_absolute_loss_objective\": {\"sum\": 0.2630136966705322, \"count\": 1, \"min\": 0.2630136966705322, \"max\": 0.2630136966705322}}}\u001b[0m\n",
      "\u001b[34m#metrics {\"StartTime\": 1673980209.1759748, \"EndTime\": 1673980209.1759894, \"Dimensions\": {\"Algorithm\": \"Linear Learner\", \"Host\": \"algo-1\", \"Operation\": \"training\", \"epoch\": 3, \"model\": 6}, \"Metrics\": {\"train_absolute_loss_objective\": {\"sum\": 0.3471939849853516, \"count\": 1, \"min\": 0.3471939849853516, \"max\": 0.3471939849853516}}}\u001b[0m\n",
      "\u001b[34m#metrics {\"StartTime\": 1673980209.1760461, \"EndTime\": 1673980209.1760623, \"Dimensions\": {\"Algorithm\": \"Linear Learner\", \"Host\": \"algo-1\", \"Operation\": \"training\", \"epoch\": 3, \"model\": 7}, \"Metrics\": {\"train_absolute_loss_objective\": {\"sum\": 0.3416657304763794, \"count\": 1, \"min\": 0.3416657304763794, \"max\": 0.3416657304763794}}}\u001b[0m\n",
      "\u001b[34m#metrics {\"StartTime\": 1673980209.176115, \"EndTime\": 1673980209.1761305, \"Dimensions\": {\"Algorithm\": \"Linear Learner\", \"Host\": \"algo-1\", \"Operation\": \"training\", \"epoch\": 3, \"model\": 8}, \"Metrics\": {\"train_absolute_loss_objective\": {\"sum\": 0.7937742090225219, \"count\": 1, \"min\": 0.7937742090225219, \"max\": 0.7937742090225219}}}\u001b[0m\n",
      "\u001b[34m#metrics {\"StartTime\": 1673980209.176189, \"EndTime\": 1673980209.176208, \"Dimensions\": {\"Algorithm\": \"Linear Learner\", \"Host\": \"algo-1\", \"Operation\": \"training\", \"epoch\": 3, \"model\": 9}, \"Metrics\": {\"train_absolute_loss_objective\": {\"sum\": 0.730668683052063, \"count\": 1, \"min\": 0.730668683052063, \"max\": 0.730668683052063}}}\u001b[0m\n",
      "\u001b[34m#metrics {\"StartTime\": 1673980209.1762624, \"EndTime\": 1673980209.176279, \"Dimensions\": {\"Algorithm\": \"Linear Learner\", \"Host\": \"algo-1\", \"Operation\": \"training\", \"epoch\": 3, \"model\": 10}, \"Metrics\": {\"train_absolute_loss_objective\": {\"sum\": 0.737161545753479, \"count\": 1, \"min\": 0.737161545753479, \"max\": 0.737161545753479}}}\u001b[0m\n",
      "\u001b[34m#metrics {\"StartTime\": 1673980209.176326, \"EndTime\": 1673980209.1763425, \"Dimensions\": {\"Algorithm\": \"Linear Learner\", \"Host\": \"algo-1\", \"Operation\": \"training\", \"epoch\": 3, \"model\": 11}, \"Metrics\": {\"train_absolute_loss_objective\": {\"sum\": 0.7232585239410401, \"count\": 1, \"min\": 0.7232585239410401, \"max\": 0.7232585239410401}}}\u001b[0m\n",
      "\u001b[34m#metrics {\"StartTime\": 1673980209.1763916, \"EndTime\": 1673980209.1764066, \"Dimensions\": {\"Algorithm\": \"Linear Learner\", \"Host\": \"algo-1\", \"Operation\": \"training\", \"epoch\": 3, \"model\": 12}, \"Metrics\": {\"train_absolute_loss_objective\": {\"sum\": 0.32266147136688234, \"count\": 1, \"min\": 0.32266147136688234, \"max\": 0.32266147136688234}}}\u001b[0m\n",
      "\u001b[34m#metrics {\"StartTime\": 1673980209.1764534, \"EndTime\": 1673980209.1764684, \"Dimensions\": {\"Algorithm\": \"Linear Learner\", \"Host\": \"algo-1\", \"Operation\": \"training\", \"epoch\": 3, \"model\": 13}, \"Metrics\": {\"train_absolute_loss_objective\": {\"sum\": 0.31667365550994875, \"count\": 1, \"min\": 0.31667365550994875, \"max\": 0.31667365550994875}}}\u001b[0m\n",
      "\u001b[34m#metrics {\"StartTime\": 1673980209.1765249, \"EndTime\": 1673980209.1765418, \"Dimensions\": {\"Algorithm\": \"Linear Learner\", \"Host\": \"algo-1\", \"Operation\": \"training\", \"epoch\": 3, \"model\": 14}, \"Metrics\": {\"train_absolute_loss_objective\": {\"sum\": 0.32369060039520264, \"count\": 1, \"min\": 0.32369060039520264, \"max\": 0.32369060039520264}}}\u001b[0m\n",
      "\u001b[34m#metrics {\"StartTime\": 1673980209.176594, \"EndTime\": 1673980209.1766105, \"Dimensions\": {\"Algorithm\": \"Linear Learner\", \"Host\": \"algo-1\", \"Operation\": \"training\", \"epoch\": 3, \"model\": 15}, \"Metrics\": {\"train_absolute_loss_objective\": {\"sum\": 0.2808043384552002, \"count\": 1, \"min\": 0.2808043384552002, \"max\": 0.2808043384552002}}}\u001b[0m\n",
      "\u001b[34m#metrics {\"StartTime\": 1673980209.1766565, \"EndTime\": 1673980209.1766722, \"Dimensions\": {\"Algorithm\": \"Linear Learner\", \"Host\": \"algo-1\", \"Operation\": \"training\", \"epoch\": 3, \"model\": 16}, \"Metrics\": {\"train_absolute_loss_objective\": {\"sum\": 0.710197114944458, \"count\": 1, \"min\": 0.710197114944458, \"max\": 0.710197114944458}}}\u001b[0m\n",
      "\u001b[34m#metrics {\"StartTime\": 1673980209.1767135, \"EndTime\": 1673980209.1767278, \"Dimensions\": {\"Algorithm\": \"Linear Learner\", \"Host\": \"algo-1\", \"Operation\": \"training\", \"epoch\": 3, \"model\": 17}, \"Metrics\": {\"train_absolute_loss_objective\": {\"sum\": 0.755717225074768, \"count\": 1, \"min\": 0.755717225074768, \"max\": 0.755717225074768}}}\u001b[0m\n",
      "\u001b[34m#metrics {\"StartTime\": 1673980209.1768394, \"EndTime\": 1673980209.1768613, \"Dimensions\": {\"Algorithm\": \"Linear Learner\", \"Host\": \"algo-1\", \"Operation\": \"training\", \"epoch\": 3, \"model\": 18}, \"Metrics\": {\"train_absolute_loss_objective\": {\"sum\": 0.7345349502563476, \"count\": 1, \"min\": 0.7345349502563476, \"max\": 0.7345349502563476}}}\u001b[0m\n",
      "\u001b[34m#metrics {\"StartTime\": 1673980209.1769164, \"EndTime\": 1673980209.1769342, \"Dimensions\": {\"Algorithm\": \"Linear Learner\", \"Host\": \"algo-1\", \"Operation\": \"training\", \"epoch\": 3, \"model\": 19}, \"Metrics\": {\"train_absolute_loss_objective\": {\"sum\": 0.7317343807220459, \"count\": 1, \"min\": 0.7317343807220459, \"max\": 0.7317343807220459}}}\u001b[0m\n",
      "\u001b[34m#metrics {\"StartTime\": 1673980209.1769922, \"EndTime\": 1673980209.1770093, \"Dimensions\": {\"Algorithm\": \"Linear Learner\", \"Host\": \"algo-1\", \"Operation\": \"training\", \"epoch\": 3, \"model\": 20}, \"Metrics\": {\"train_absolute_loss_objective\": {\"sum\": 0.2750132608413696, \"count\": 1, \"min\": 0.2750132608413696, \"max\": 0.2750132608413696}}}\u001b[0m\n",
      "\u001b[34m#metrics {\"StartTime\": 1673980209.1770682, \"EndTime\": 1673980209.177085, \"Dimensions\": {\"Algorithm\": \"Linear Learner\", \"Host\": \"algo-1\", \"Operation\": \"training\", \"epoch\": 3, \"model\": 21}, \"Metrics\": {\"train_absolute_loss_objective\": {\"sum\": 0.2568195724487305, \"count\": 1, \"min\": 0.2568195724487305, \"max\": 0.2568195724487305}}}\u001b[0m\n",
      "\u001b[34m#metrics {\"StartTime\": 1673980209.1771894, \"EndTime\": 1673980209.1772032, \"Dimensions\": {\"Algorithm\": \"Linear Learner\", \"Host\": \"algo-1\", \"Operation\": \"training\", \"epoch\": 3, \"model\": 22}, \"Metrics\": {\"train_absolute_loss_objective\": {\"sum\": 0.27964235305786134, \"count\": 1, \"min\": 0.27964235305786134, \"max\": 0.27964235305786134}}}\u001b[0m\n",
      "\u001b[34m#metrics {\"StartTime\": 1673980209.1772552, \"EndTime\": 1673980209.1772723, \"Dimensions\": {\"Algorithm\": \"Linear Learner\", \"Host\": \"algo-1\", \"Operation\": \"training\", \"epoch\": 3, \"model\": 23}, \"Metrics\": {\"train_absolute_loss_objective\": {\"sum\": 0.25540038108825686, \"count\": 1, \"min\": 0.25540038108825686, \"max\": 0.25540038108825686}}}\u001b[0m\n",
      "\u001b[34m#metrics {\"StartTime\": 1673980209.1773307, \"EndTime\": 1673980209.177348, \"Dimensions\": {\"Algorithm\": \"Linear Learner\", \"Host\": \"algo-1\", \"Operation\": \"training\", \"epoch\": 3, \"model\": 24}, \"Metrics\": {\"train_absolute_loss_objective\": {\"sum\": 0.8109908533096314, \"count\": 1, \"min\": 0.8109908533096314, \"max\": 0.8109908533096314}}}\u001b[0m\n",
      "\u001b[34m#metrics {\"StartTime\": 1673980209.1774085, \"EndTime\": 1673980209.1774263, \"Dimensions\": {\"Algorithm\": \"Linear Learner\", \"Host\": \"algo-1\", \"Operation\": \"training\", \"epoch\": 3, \"model\": 25}, \"Metrics\": {\"train_absolute_loss_objective\": {\"sum\": 0.7932529449462891, \"count\": 1, \"min\": 0.7932529449462891, \"max\": 0.7932529449462891}}}\u001b[0m\n",
      "\u001b[34m#metrics {\"StartTime\": 1673980209.1775239, \"EndTime\": 1673980209.1775439, \"Dimensions\": {\"Algorithm\": \"Linear Learner\", \"Host\": \"algo-1\", \"Operation\": \"training\", \"epoch\": 3, \"model\": 26}, \"Metrics\": {\"train_absolute_loss_objective\": {\"sum\": 0.8010265731811523, \"count\": 1, \"min\": 0.8010265731811523, \"max\": 0.8010265731811523}}}\u001b[0m\n",
      "\u001b[34m#metrics {\"StartTime\": 1673980209.177606, \"EndTime\": 1673980209.1776237, \"Dimensions\": {\"Algorithm\": \"Linear Learner\", \"Host\": \"algo-1\", \"Operation\": \"training\", \"epoch\": 3, \"model\": 27}, \"Metrics\": {\"train_absolute_loss_objective\": {\"sum\": 0.8050885534286499, \"count\": 1, \"min\": 0.8050885534286499, \"max\": 0.8050885534286499}}}\u001b[0m\n",
      "\u001b[34m#metrics {\"StartTime\": 1673980209.1776714, \"EndTime\": 1673980209.1776874, \"Dimensions\": {\"Algorithm\": \"Linear Learner\", \"Host\": \"algo-1\", \"Operation\": \"training\", \"epoch\": 3, \"model\": 28}, \"Metrics\": {\"train_absolute_loss_objective\": {\"sum\": 0.8833331489562988, \"count\": 1, \"min\": 0.8833331489562988, \"max\": 0.8833331489562988}}}\u001b[0m\n",
      "\u001b[34m#metrics {\"StartTime\": 1673980209.1777484, \"EndTime\": 1673980209.1777663, \"Dimensions\": {\"Algorithm\": \"Linear Learner\", \"Host\": \"algo-1\", \"Operation\": \"training\", \"epoch\": 3, \"model\": 29}, \"Metrics\": {\"train_absolute_loss_objective\": {\"sum\": 0.8846463012695313, \"count\": 1, \"min\": 0.8846463012695313, \"max\": 0.8846463012695313}}}\u001b[0m\n",
      "\u001b[34m#metrics {\"StartTime\": 1673980209.177813, \"EndTime\": 1673980209.1778286, \"Dimensions\": {\"Algorithm\": \"Linear Learner\", \"Host\": \"algo-1\", \"Operation\": \"training\", \"epoch\": 3, \"model\": 30}, \"Metrics\": {\"train_absolute_loss_objective\": {\"sum\": 0.889650936126709, \"count\": 1, \"min\": 0.889650936126709, \"max\": 0.889650936126709}}}\u001b[0m\n",
      "\u001b[34m#metrics {\"StartTime\": 1673980209.17789, \"EndTime\": 1673980209.1779075, \"Dimensions\": {\"Algorithm\": \"Linear Learner\", \"Host\": \"algo-1\", \"Operation\": \"training\", \"epoch\": 3, \"model\": 31}, \"Metrics\": {\"train_absolute_loss_objective\": {\"sum\": 0.9013916015625, \"count\": 1, \"min\": 0.9013916015625, \"max\": 0.9013916015625}}}\u001b[0m\n",
      "\u001b[34m[01/17/2023 18:30:09 INFO 140541269587776] #quality_metric: host=algo-1, epoch=3, train absolute_loss_objective <loss>=0.7415670394897461\u001b[0m\n",
      "\u001b[34m[01/17/2023 18:30:09 INFO 140541269587776] #early_stopping_criteria_metric: host=algo-1, epoch=3, criteria=absolute_loss_objective, value=0.25540038108825686\u001b[0m\n",
      "\u001b[34m[01/17/2023 18:30:09 INFO 140541269587776] Saving model for epoch: 3\u001b[0m\n",
      "\u001b[34m[01/17/2023 18:30:09 INFO 140541269587776] Saved checkpoint to \"/tmp/tmpltggju3e/mx-mod-0000.params\"\u001b[0m\n",
      "\u001b[34m[01/17/2023 18:30:09 INFO 140541269587776] #progress_metric: host=algo-1, completed 80.0 % of epochs\u001b[0m\n",
      "\u001b[34m#metrics {\"StartTime\": 1673980209.0711434, \"EndTime\": 1673980209.1854846, \"Dimensions\": {\"Algorithm\": \"Linear Learner\", \"Host\": \"algo-1\", \"Operation\": \"training\", \"epoch\": 3, \"Meta\": \"training_data_iter\"}, \"Metrics\": {\"Total Records Seen\": {\"sum\": 135.0, \"count\": 1, \"min\": 135, \"max\": 135}, \"Total Batches Seen\": {\"sum\": 31.0, \"count\": 1, \"min\": 31, \"max\": 31}, \"Max Records Seen Between Resets\": {\"sum\": 26.0, \"count\": 1, \"min\": 26, \"max\": 26}, \"Max Batches Seen Between Resets\": {\"sum\": 6.0, \"count\": 1, \"min\": 6, \"max\": 6}, \"Reset Count\": {\"sum\": 6.0, \"count\": 1, \"min\": 6, \"max\": 6}, \"Number of Records Since Last Reset\": {\"sum\": 26.0, \"count\": 1, \"min\": 26, \"max\": 26}, \"Number of Batches Since Last Reset\": {\"sum\": 6.0, \"count\": 1, \"min\": 6, \"max\": 6}}}\u001b[0m\n",
      "\u001b[34m[01/17/2023 18:30:09 INFO 140541269587776] #throughput_metric: host=algo-1, train throughput=227.14603745917483 records/second\u001b[0m\n",
      "\u001b[34m[2023-01-17 18:30:09.294] [tensorio] [info] epoch_stats={\"data_pipeline\": \"/opt/ml/input/data/train\", \"epoch\": 12, \"duration\": 108, \"num_examples\": 6, \"num_bytes\": 1248}\u001b[0m\n",
      "\u001b[34m#metrics {\"StartTime\": 1673980209.2940922, \"EndTime\": 1673980209.2941542, \"Dimensions\": {\"Algorithm\": \"Linear Learner\", \"Host\": \"algo-1\", \"Operation\": \"training\", \"epoch\": 4, \"model\": 0}, \"Metrics\": {\"train_absolute_loss_objective\": {\"sum\": 0.7196188879013061, \"count\": 1, \"min\": 0.7196188879013061, \"max\": 0.7196188879013061}}}\u001b[0m\n",
      "\u001b[34m#metrics {\"StartTime\": 1673980209.294215, \"EndTime\": 1673980209.2942333, \"Dimensions\": {\"Algorithm\": \"Linear Learner\", \"Host\": \"algo-1\", \"Operation\": \"training\", \"epoch\": 4, \"model\": 1}, \"Metrics\": {\"train_absolute_loss_objective\": {\"sum\": 0.7364151239395141, \"count\": 1, \"min\": 0.7364151239395141, \"max\": 0.7364151239395141}}}\u001b[0m\n",
      "\u001b[34m#metrics {\"StartTime\": 1673980209.2942946, \"EndTime\": 1673980209.2943132, \"Dimensions\": {\"Algorithm\": \"Linear Learner\", \"Host\": \"algo-1\", \"Operation\": \"training\", \"epoch\": 4, \"model\": 2}, \"Metrics\": {\"train_absolute_loss_objective\": {\"sum\": 0.7216279983520508, \"count\": 1, \"min\": 0.7216279983520508, \"max\": 0.7216279983520508}}}\u001b[0m\n",
      "\u001b[34m#metrics {\"StartTime\": 1673980209.2943802, \"EndTime\": 1673980209.2943993, \"Dimensions\": {\"Algorithm\": \"Linear Learner\", \"Host\": \"algo-1\", \"Operation\": \"training\", \"epoch\": 4, \"model\": 3}, \"Metrics\": {\"train_absolute_loss_objective\": {\"sum\": 0.7355015563964844, \"count\": 1, \"min\": 0.7355015563964844, \"max\": 0.7355015563964844}}}\u001b[0m\n",
      "\u001b[34m#metrics {\"StartTime\": 1673980209.294461, \"EndTime\": 1673980209.2944787, \"Dimensions\": {\"Algorithm\": \"Linear Learner\", \"Host\": \"algo-1\", \"Operation\": \"training\", \"epoch\": 4, \"model\": 4}, \"Metrics\": {\"train_absolute_loss_objective\": {\"sum\": 0.2365428924560547, \"count\": 1, \"min\": 0.2365428924560547, \"max\": 0.2365428924560547}}}\u001b[0m\n",
      "\u001b[34m#metrics {\"StartTime\": 1673980209.294529, \"EndTime\": 1673980209.2945447, \"Dimensions\": {\"Algorithm\": \"Linear Learner\", \"Host\": \"algo-1\", \"Operation\": \"training\", \"epoch\": 4, \"model\": 5}, \"Metrics\": {\"train_absolute_loss_objective\": {\"sum\": 0.2334516429901123, \"count\": 1, \"min\": 0.2334516429901123, \"max\": 0.2334516429901123}}}\u001b[0m\n",
      "\u001b[34m#metrics {\"StartTime\": 1673980209.2945971, \"EndTime\": 1673980209.2946134, \"Dimensions\": {\"Algorithm\": \"Linear Learner\", \"Host\": \"algo-1\", \"Operation\": \"training\", \"epoch\": 4, \"model\": 6}, \"Metrics\": {\"train_absolute_loss_objective\": {\"sum\": 0.3605166292190552, \"count\": 1, \"min\": 0.3605166292190552, \"max\": 0.3605166292190552}}}\u001b[0m\n",
      "\u001b[34m#metrics {\"StartTime\": 1673980209.2946465, \"EndTime\": 1673980209.2946596, \"Dimensions\": {\"Algorithm\": \"Linear Learner\", \"Host\": \"algo-1\", \"Operation\": \"training\", \"epoch\": 4, \"model\": 7}, \"Metrics\": {\"train_absolute_loss_objective\": {\"sum\": 0.3206349563598633, \"count\": 1, \"min\": 0.3206349563598633, \"max\": 0.3206349563598633}}}\u001b[0m\n",
      "\u001b[34m#metrics {\"StartTime\": 1673980209.2947114, \"EndTime\": 1673980209.2947276, \"Dimensions\": {\"Algorithm\": \"Linear Learner\", \"Host\": \"algo-1\", \"Operation\": \"training\", \"epoch\": 4, \"model\": 8}, \"Metrics\": {\"train_absolute_loss_objective\": {\"sum\": 0.7692527866363525, \"count\": 1, \"min\": 0.7692527866363525, \"max\": 0.7692527866363525}}}\u001b[0m\n",
      "\u001b[34m#metrics {\"StartTime\": 1673980209.2947762, \"EndTime\": 1673980209.2947927, \"Dimensions\": {\"Algorithm\": \"Linear Learner\", \"Host\": \"algo-1\", \"Operation\": \"training\", \"epoch\": 4, \"model\": 9}, \"Metrics\": {\"train_absolute_loss_objective\": {\"sum\": 0.7089845609664917, \"count\": 1, \"min\": 0.7089845609664917, \"max\": 0.7089845609664917}}}\u001b[0m\n",
      "\u001b[34m#metrics {\"StartTime\": 1673980209.294847, \"EndTime\": 1673980209.294862, \"Dimensions\": {\"Algorithm\": \"Linear Learner\", \"Host\": \"algo-1\", \"Operation\": \"training\", \"epoch\": 4, \"model\": 10}, \"Metrics\": {\"train_absolute_loss_objective\": {\"sum\": 0.7149238872528076, \"count\": 1, \"min\": 0.7149238872528076, \"max\": 0.7149238872528076}}}\u001b[0m\n",
      "\u001b[34m#metrics {\"StartTime\": 1673980209.2949173, \"EndTime\": 1673980209.2949345, \"Dimensions\": {\"Algorithm\": \"Linear Learner\", \"Host\": \"algo-1\", \"Operation\": \"training\", \"epoch\": 4, \"model\": 11}, \"Metrics\": {\"train_absolute_loss_objective\": {\"sum\": 0.7022260618209839, \"count\": 1, \"min\": 0.7022260618209839, \"max\": 0.7022260618209839}}}\u001b[0m\n",
      "\u001b[34m#metrics {\"StartTime\": 1673980209.2949765, \"EndTime\": 1673980209.2949903, \"Dimensions\": {\"Algorithm\": \"Linear Learner\", \"Host\": \"algo-1\", \"Operation\": \"training\", \"epoch\": 4, \"model\": 12}, \"Metrics\": {\"train_absolute_loss_objective\": {\"sum\": 0.2970148181915283, \"count\": 1, \"min\": 0.2970148181915283, \"max\": 0.2970148181915283}}}\u001b[0m\n",
      "\u001b[34m#metrics {\"StartTime\": 1673980209.295037, \"EndTime\": 1673980209.2950523, \"Dimensions\": {\"Algorithm\": \"Linear Learner\", \"Host\": \"algo-1\", \"Operation\": \"training\", \"epoch\": 4, \"model\": 13}, \"Metrics\": {\"train_absolute_loss_objective\": {\"sum\": 0.28429131031036375, \"count\": 1, \"min\": 0.28429131031036375, \"max\": 0.28429131031036375}}}\u001b[0m\n",
      "\u001b[34m#metrics {\"StartTime\": 1673980209.295102, \"EndTime\": 1673980209.2951174, \"Dimensions\": {\"Algorithm\": \"Linear Learner\", \"Host\": \"algo-1\", \"Operation\": \"training\", \"epoch\": 4, \"model\": 14}, \"Metrics\": {\"train_absolute_loss_objective\": {\"sum\": 0.2980211234092712, \"count\": 1, \"min\": 0.2980211234092712, \"max\": 0.2980211234092712}}}\u001b[0m\n",
      "\u001b[34m#metrics {\"StartTime\": 1673980209.2951577, \"EndTime\": 1673980209.295173, \"Dimensions\": {\"Algorithm\": \"Linear Learner\", \"Host\": \"algo-1\", \"Operation\": \"training\", \"epoch\": 4, \"model\": 15}, \"Metrics\": {\"train_absolute_loss_objective\": {\"sum\": 0.26881267547607424, \"count\": 1, \"min\": 0.26881267547607424, \"max\": 0.26881267547607424}}}\u001b[0m\n",
      "\u001b[34m#metrics {\"StartTime\": 1673980209.2952194, \"EndTime\": 1673980209.2952342, \"Dimensions\": {\"Algorithm\": \"Linear Learner\", \"Host\": \"algo-1\", \"Operation\": \"training\", \"epoch\": 4, \"model\": 16}, \"Metrics\": {\"train_absolute_loss_objective\": {\"sum\": 0.6910659980773926, \"count\": 1, \"min\": 0.6910659980773926, \"max\": 0.6910659980773926}}}\u001b[0m\n",
      "\u001b[34m#metrics {\"StartTime\": 1673980209.2952912, \"EndTime\": 1673980209.2953084, \"Dimensions\": {\"Algorithm\": \"Linear Learner\", \"Host\": \"algo-1\", \"Operation\": \"training\", \"epoch\": 4, \"model\": 17}, \"Metrics\": {\"train_absolute_loss_objective\": {\"sum\": 0.7330626964569091, \"count\": 1, \"min\": 0.7330626964569091, \"max\": 0.7330626964569091}}}\u001b[0m\n",
      "\u001b[34m#metrics {\"StartTime\": 1673980209.2953541, \"EndTime\": 1673980209.2953706, \"Dimensions\": {\"Algorithm\": \"Linear Learner\", \"Host\": \"algo-1\", \"Operation\": \"training\", \"epoch\": 4, \"model\": 18}, \"Metrics\": {\"train_absolute_loss_objective\": {\"sum\": 0.7131124877929688, \"count\": 1, \"min\": 0.7131124877929688, \"max\": 0.7131124877929688}}}\u001b[0m\n",
      "\u001b[34m#metrics {\"StartTime\": 1673980209.2954106, \"EndTime\": 1673980209.295425, \"Dimensions\": {\"Algorithm\": \"Linear Learner\", \"Host\": \"algo-1\", \"Operation\": \"training\", \"epoch\": 4, \"model\": 19}, \"Metrics\": {\"train_absolute_loss_objective\": {\"sum\": 0.71056640625, \"count\": 1, \"min\": 0.71056640625, \"max\": 0.71056640625}}}\u001b[0m\n",
      "\u001b[34m#metrics {\"StartTime\": 1673980209.295478, \"EndTime\": 1673980209.2954943, \"Dimensions\": {\"Algorithm\": \"Linear Learner\", \"Host\": \"algo-1\", \"Operation\": \"training\", \"epoch\": 4, \"model\": 20}, \"Metrics\": {\"train_absolute_loss_objective\": {\"sum\": 0.2785785675048828, \"count\": 1, \"min\": 0.2785785675048828, \"max\": 0.2785785675048828}}}\u001b[0m\n",
      "\u001b[34m#metrics {\"StartTime\": 1673980209.295539, \"EndTime\": 1673980209.2955532, \"Dimensions\": {\"Algorithm\": \"Linear Learner\", \"Host\": \"algo-1\", \"Operation\": \"training\", \"epoch\": 4, \"model\": 21}, \"Metrics\": {\"train_absolute_loss_objective\": {\"sum\": 0.26473313331604004, \"count\": 1, \"min\": 0.26473313331604004, \"max\": 0.26473313331604004}}}\u001b[0m\n",
      "\u001b[34m#metrics {\"StartTime\": 1673980209.2956038, \"EndTime\": 1673980209.2956183, \"Dimensions\": {\"Algorithm\": \"Linear Learner\", \"Host\": \"algo-1\", \"Operation\": \"training\", \"epoch\": 4, \"model\": 22}, \"Metrics\": {\"train_absolute_loss_objective\": {\"sum\": 0.29176321506500247, \"count\": 1, \"min\": 0.29176321506500247, \"max\": 0.29176321506500247}}}\u001b[0m\n",
      "\u001b[34m#metrics {\"StartTime\": 1673980209.2956684, \"EndTime\": 1673980209.295684, \"Dimensions\": {\"Algorithm\": \"Linear Learner\", \"Host\": \"algo-1\", \"Operation\": \"training\", \"epoch\": 4, \"model\": 23}, \"Metrics\": {\"train_absolute_loss_objective\": {\"sum\": 0.26822916984558104, \"count\": 1, \"min\": 0.26822916984558104, \"max\": 0.26822916984558104}}}\u001b[0m\n",
      "\u001b[34m#metrics {\"StartTime\": 1673980209.2957358, \"EndTime\": 1673980209.2957513, \"Dimensions\": {\"Algorithm\": \"Linear Learner\", \"Host\": \"algo-1\", \"Operation\": \"training\", \"epoch\": 4, \"model\": 24}, \"Metrics\": {\"train_absolute_loss_objective\": {\"sum\": 0.806318244934082, \"count\": 1, \"min\": 0.806318244934082, \"max\": 0.806318244934082}}}\u001b[0m\n",
      "\u001b[34m#metrics {\"StartTime\": 1673980209.295797, \"EndTime\": 1673980209.295812, \"Dimensions\": {\"Algorithm\": \"Linear Learner\", \"Host\": \"algo-1\", \"Operation\": \"training\", \"epoch\": 4, \"model\": 25}, \"Metrics\": {\"train_absolute_loss_objective\": {\"sum\": 0.7902661800384522, \"count\": 1, \"min\": 0.7902661800384522, \"max\": 0.7902661800384522}}}\u001b[0m\n",
      "\u001b[34m#metrics {\"StartTime\": 1673980209.2959075, \"EndTime\": 1673980209.2959268, \"Dimensions\": {\"Algorithm\": \"Linear Learner\", \"Host\": \"algo-1\", \"Operation\": \"training\", \"epoch\": 4, \"model\": 26}, \"Metrics\": {\"train_absolute_loss_objective\": {\"sum\": 0.7987100982666016, \"count\": 1, \"min\": 0.7987100982666016, \"max\": 0.7987100982666016}}}\u001b[0m\n",
      "\u001b[34m#metrics {\"StartTime\": 1673980209.2959838, \"EndTime\": 1673980209.2959955, \"Dimensions\": {\"Algorithm\": \"Linear Learner\", \"Host\": \"algo-1\", \"Operation\": \"training\", \"epoch\": 4, \"model\": 27}, \"Metrics\": {\"train_absolute_loss_objective\": {\"sum\": 0.7952431201934814, \"count\": 1, \"min\": 0.7952431201934814, \"max\": 0.7952431201934814}}}\u001b[0m\n",
      "\u001b[34m#metrics {\"StartTime\": 1673980209.2960513, \"EndTime\": 1673980209.2960675, \"Dimensions\": {\"Algorithm\": \"Linear Learner\", \"Host\": \"algo-1\", \"Operation\": \"training\", \"epoch\": 4, \"model\": 28}, \"Metrics\": {\"train_absolute_loss_objective\": {\"sum\": 0.8543793106079102, \"count\": 1, \"min\": 0.8543793106079102, \"max\": 0.8543793106079102}}}\u001b[0m\n",
      "\u001b[34m#metrics {\"StartTime\": 1673980209.2961254, \"EndTime\": 1673980209.2961419, \"Dimensions\": {\"Algorithm\": \"Linear Learner\", \"Host\": \"algo-1\", \"Operation\": \"training\", \"epoch\": 4, \"model\": 29}, \"Metrics\": {\"train_absolute_loss_objective\": {\"sum\": 0.8558922863006592, \"count\": 1, \"min\": 0.8558922863006592, \"max\": 0.8558922863006592}}}\u001b[0m\n",
      "\u001b[34m#metrics {\"StartTime\": 1673980209.2961977, \"EndTime\": 1673980209.2962093, \"Dimensions\": {\"Algorithm\": \"Linear Learner\", \"Host\": \"algo-1\", \"Operation\": \"training\", \"epoch\": 4, \"model\": 30}, \"Metrics\": {\"train_absolute_loss_objective\": {\"sum\": 0.8451972103118897, \"count\": 1, \"min\": 0.8451972103118897, \"max\": 0.8451972103118897}}}\u001b[0m\n",
      "\u001b[34m#metrics {\"StartTime\": 1673980209.296249, \"EndTime\": 1673980209.2962642, \"Dimensions\": {\"Algorithm\": \"Linear Learner\", \"Host\": \"algo-1\", \"Operation\": \"training\", \"epoch\": 4, \"model\": 31}, \"Metrics\": {\"train_absolute_loss_objective\": {\"sum\": 0.8421410274505615, \"count\": 1, \"min\": 0.8421410274505615, \"max\": 0.8421410274505615}}}\u001b[0m\n",
      "\u001b[34m[01/17/2023 18:30:09 INFO 140541269587776] #quality_metric: host=algo-1, epoch=4, train absolute_loss_objective <loss>=0.7196188879013061\u001b[0m\n",
      "\u001b[34m[01/17/2023 18:30:09 INFO 140541269587776] #early_stopping_criteria_metric: host=algo-1, epoch=4, criteria=absolute_loss_objective, value=0.2334516429901123\u001b[0m\n",
      "\u001b[34m[01/17/2023 18:30:09 INFO 140541269587776] Saving model for epoch: 4\u001b[0m\n",
      "\u001b[34m[01/17/2023 18:30:09 INFO 140541269587776] Saved checkpoint to \"/tmp/tmp0e8dycqi/mx-mod-0000.params\"\u001b[0m\n",
      "\u001b[34m[01/17/2023 18:30:09 INFO 140541269587776] #progress_metric: host=algo-1, completed 100.0 % of epochs\u001b[0m\n",
      "\u001b[34m#metrics {\"StartTime\": 1673980209.1857734, \"EndTime\": 1673980209.3037379, \"Dimensions\": {\"Algorithm\": \"Linear Learner\", \"Host\": \"algo-1\", \"Operation\": \"training\", \"epoch\": 4, \"Meta\": \"training_data_iter\"}, \"Metrics\": {\"Total Records Seen\": {\"sum\": 161.0, \"count\": 1, \"min\": 161, \"max\": 161}, \"Total Batches Seen\": {\"sum\": 37.0, \"count\": 1, \"min\": 37, \"max\": 37}, \"Max Records Seen Between Resets\": {\"sum\": 26.0, \"count\": 1, \"min\": 26, \"max\": 26}, \"Max Batches Seen Between Resets\": {\"sum\": 6.0, \"count\": 1, \"min\": 6, \"max\": 6}, \"Reset Count\": {\"sum\": 7.0, \"count\": 1, \"min\": 7, \"max\": 7}, \"Number of Records Since Last Reset\": {\"sum\": 26.0, \"count\": 1, \"min\": 26, \"max\": 26}, \"Number of Batches Since Last Reset\": {\"sum\": 6.0, \"count\": 1, \"min\": 6, \"max\": 6}}}\u001b[0m\n",
      "\u001b[34m[01/17/2023 18:30:09 INFO 140541269587776] #throughput_metric: host=algo-1, train throughput=220.1881086363517 records/second\u001b[0m\n",
      "\u001b[34m[01/17/2023 18:30:09 WARNING 140541269587776] wait_for_all_workers will not sync workers since the kv store is not running distributed\u001b[0m\n",
      "\u001b[34m[01/17/2023 18:30:09 WARNING 140541269587776] wait_for_all_workers will not sync workers since the kv store is not running distributed\u001b[0m\n",
      "\u001b[34m[2023-01-17 18:30:09.304] [tensorio] [info] epoch_stats={\"data_pipeline\": \"/opt/ml/input/data/train\", \"epoch\": 14, \"duration\": 0, \"num_examples\": 1, \"num_bytes\": 240}\u001b[0m\n",
      "\u001b[34m[2023-01-17 18:30:09.317] [tensorio] [info] epoch_stats={\"data_pipeline\": \"/opt/ml/input/data/train\", \"epoch\": 16, \"duration\": 9, \"num_examples\": 6, \"num_bytes\": 1248}\u001b[0m\n",
      "\u001b[34m[01/17/2023 18:30:09 INFO 140541269587776] #train_score (algo-1) : ('absolute_loss_objective', 7280.2047776442305)\u001b[0m\n",
      "\u001b[34m[01/17/2023 18:30:09 INFO 140541269587776] #train_score (algo-1) : ('mse', 83138240.73076923)\u001b[0m\n",
      "\u001b[34m[01/17/2023 18:30:09 INFO 140541269587776] #train_score (algo-1) : ('absolute_loss', 7280.2047776442305)\u001b[0m\n",
      "\u001b[34m[01/17/2023 18:30:09 INFO 140541269587776] #train_score (algo-1) : ('rmse', 9118.017368417832)\u001b[0m\n",
      "\u001b[34m[01/17/2023 18:30:09 INFO 140541269587776] #train_score (algo-1) : ('r2', 0.9177651304747955)\u001b[0m\n",
      "\u001b[34m[01/17/2023 18:30:09 INFO 140541269587776] #train_score (algo-1) : ('mae', 7280.2047776442305)\u001b[0m\n",
      "\u001b[34m[01/17/2023 18:30:09 INFO 140541269587776] #quality_metric: host=algo-1, train absolute_loss_objective <loss>=7280.2047776442305\u001b[0m\n",
      "\u001b[34m[01/17/2023 18:30:09 INFO 140541269587776] #quality_metric: host=algo-1, train mse <loss>=83138240.73076923\u001b[0m\n",
      "\u001b[34m[01/17/2023 18:30:09 INFO 140541269587776] #quality_metric: host=algo-1, train absolute_loss <loss>=7280.2047776442305\u001b[0m\n",
      "\u001b[34m[01/17/2023 18:30:09 INFO 140541269587776] #quality_metric: host=algo-1, train rmse <loss>=9118.017368417832\u001b[0m\n",
      "\u001b[34m[01/17/2023 18:30:09 INFO 140541269587776] #quality_metric: host=algo-1, train r2 <loss>=0.9177651304747955\u001b[0m\n",
      "\u001b[34m[01/17/2023 18:30:09 INFO 140541269587776] #quality_metric: host=algo-1, train mae <loss>=7280.2047776442305\u001b[0m\n",
      "\u001b[34m[01/17/2023 18:30:09 INFO 140541269587776] Best model found for hyperparameters: {\"optimizer\": \"adam\", \"learning_rate\": 0.1, \"wd\": 0.0001, \"l1\": 0.0, \"lr_scheduler_step\": 10, \"lr_scheduler_factor\": 0.99, \"lr_scheduler_minimum_lr\": 1e-05}\u001b[0m\n",
      "\u001b[34m[01/17/2023 18:30:09 INFO 140541269587776] Saved checkpoint to \"/tmp/tmpxk16z6oy/mx-mod-0000.params\"\u001b[0m\n",
      "\u001b[34m[01/17/2023 18:30:09 INFO 140541269587776] Test data is not provided.\u001b[0m\n",
      "\u001b[34m#metrics {\"StartTime\": 1673980208.566886, \"EndTime\": 1673980209.3239377, \"Dimensions\": {\"Algorithm\": \"Linear Learner\", \"Host\": \"algo-1\", \"Operation\": \"training\"}, \"Metrics\": {\"initialize.time\": {\"sum\": 162.69278526306152, \"count\": 1, \"min\": 162.69278526306152, \"max\": 162.69278526306152}, \"epochs\": {\"sum\": 5.0, \"count\": 1, \"min\": 5, \"max\": 5}, \"check_early_stopping.time\": {\"sum\": 3.527402877807617, \"count\": 5, \"min\": 0.19288063049316406, \"max\": 1.1026859283447266}, \"update.time\": {\"sum\": 558.7158203125, \"count\": 5, \"min\": 105.15666007995605, \"max\": 115.43440818786621}, \"finalize.time\": {\"sum\": 15.292644500732422, \"count\": 1, \"min\": 15.292644500732422, \"max\": 15.292644500732422}, \"setuptime\": {\"sum\": 2.2323131561279297, \"count\": 1, \"min\": 2.2323131561279297, \"max\": 2.2323131561279297}, \"totaltime\": {\"sum\": 863.7130260467529, \"count\": 1, \"min\": 863.7130260467529, \"max\": 863.7130260467529}}}\u001b[0m\n",
      "\n",
      "2023-01-17 18:30:24 Uploading - Uploading generated training model\n",
      "2023-01-17 18:30:24 Completed - Training job completed\n",
      "Training seconds: 138\n",
      "Billable seconds: 138\n"
     ]
    }
   ],
   "source": [
    "# We have pass in the container, the type of instance that we would like to use for training \n",
    "# output path and sagemaker session into the Estimator. \n",
    "# We can also specify how many instances we would like to use for training\n",
    "# sagemaker_session = sagemaker.Session()\n",
    "\n",
    "linear = sagemaker.estimator.Estimator(container,\n",
    "                                       role, \n",
    "                                       train_instance_count = 1, \n",
    "                                       train_instance_type = 'ml.c4.xlarge',\n",
    "                                       output_path = output_location,\n",
    "                                       sagemaker_session = sagemaker_session)\n",
    "\n",
    "\n",
    "# We can tune parameters like the number of features that we are passing in, type of predictor like 'regressor' or 'classifier', mini batch size, epochs\n",
    "# Train 32 different versions of the model and will get the best out of them (built-in parameters optimization!)\n",
    "\n",
    "linear.set_hyperparameters(feature_dim = 1,\n",
    "                           predictor_type = 'regressor',\n",
    "                           mini_batch_size = 5,\n",
    "                           epochs = 5,\n",
    "                           num_models = 32,\n",
    "                           loss = 'absolute_loss')\n",
    "\n",
    "# Now we are ready to pass in the training data from S3 to train the linear learner model\n",
    "\n",
    "linear.fit({'train': s3_train_data})\n",
    "\n",
    "# Let's see the progress using cloudwatch logs"
   ]
  },
  {
   "cell_type": "markdown",
   "metadata": {},
   "source": [
    "MINI CHALLENGE\n",
    "- Try to train the model with more epochs and additional number of models\n",
    "- Can you try to reduce the cost of billable seconds?"
   ]
  },
  {
   "cell_type": "code",
   "execution_count": 234,
   "metadata": {
    "tags": []
   },
   "outputs": [
    {
     "name": "stderr",
     "output_type": "stream",
     "text": [
      "Parameter image_name will be renamed to image_uri in SageMaker Python SDK v2.\n",
      "'s3_input' class will be renamed to 'TrainingInput' in SageMaker Python SDK v2.\n"
     ]
    },
    {
     "name": "stdout",
     "output_type": "stream",
     "text": [
      "2023-01-17 18:53:19 Starting - Starting the training job...\n",
      "2023-01-17 18:53:46 Starting - Preparing the instances for training......\n",
      "2023-01-17 18:54:32 Downloading - Downloading input data...\n",
      "2023-01-17 18:54:57 Training - Downloading the training image......\n",
      "2023-01-17 18:56:18 Training - Training image download completed. Training in progress...\u001b[34mDocker entrypoint called with argument(s): train\u001b[0m\n",
      "\u001b[34mRunning default environment configuration script\u001b[0m\n",
      "\u001b[34m[01/17/2023 18:56:26 INFO 140353027958592] Reading default configuration from /opt/amazon/lib/python3.7/site-packages/algorithm/resources/default-input.json: {'mini_batch_size': '1000', 'epochs': '15', 'feature_dim': 'auto', 'use_bias': 'true', 'binary_classifier_model_selection_criteria': 'accuracy', 'f_beta': '1.0', 'target_recall': '0.8', 'target_precision': '0.8', 'num_models': 'auto', 'num_calibration_samples': '10000000', 'init_method': 'uniform', 'init_scale': '0.07', 'init_sigma': '0.01', 'init_bias': '0.0', 'optimizer': 'auto', 'loss': 'auto', 'margin': '1.0', 'quantile': '0.5', 'loss_insensitivity': '0.01', 'huber_delta': '1.0', 'num_classes': '1', 'accuracy_top_k': '3', 'wd': 'auto', 'l1': 'auto', 'momentum': 'auto', 'learning_rate': 'auto', 'beta_1': 'auto', 'beta_2': 'auto', 'bias_lr_mult': 'auto', 'bias_wd_mult': 'auto', 'use_lr_scheduler': 'true', 'lr_scheduler_step': 'auto', 'lr_scheduler_factor': 'auto', 'lr_scheduler_minimum_lr': 'auto', 'positive_example_weight_mult': '1.0', 'balance_multiclass_weights': 'false', 'normalize_data': 'true', 'normalize_label': 'auto', 'unbias_data': 'auto', 'unbias_label': 'auto', 'num_point_for_scaler': '10000', '_kvstore': 'auto', '_num_gpus': 'auto', '_num_kv_servers': 'auto', '_log_level': 'info', '_tuning_objective_metric': '', 'early_stopping_patience': '3', 'early_stopping_tolerance': '0.001', '_enable_profiler': 'false'}\u001b[0m\n",
      "\u001b[34m[01/17/2023 18:56:26 INFO 140353027958592] Merging with provided configuration from /opt/ml/input/config/hyperparameters.json: {'epochs': '500', 'feature_dim': '1', 'loss': 'absolute_loss', 'mini_batch_size': '5', 'num_models': '40', 'predictor_type': 'regressor'}\u001b[0m\n",
      "\u001b[34m[01/17/2023 18:56:26 INFO 140353027958592] Final configuration: {'mini_batch_size': '5', 'epochs': '500', 'feature_dim': '1', 'use_bias': 'true', 'binary_classifier_model_selection_criteria': 'accuracy', 'f_beta': '1.0', 'target_recall': '0.8', 'target_precision': '0.8', 'num_models': '40', 'num_calibration_samples': '10000000', 'init_method': 'uniform', 'init_scale': '0.07', 'init_sigma': '0.01', 'init_bias': '0.0', 'optimizer': 'auto', 'loss': 'absolute_loss', 'margin': '1.0', 'quantile': '0.5', 'loss_insensitivity': '0.01', 'huber_delta': '1.0', 'num_classes': '1', 'accuracy_top_k': '3', 'wd': 'auto', 'l1': 'auto', 'momentum': 'auto', 'learning_rate': 'auto', 'beta_1': 'auto', 'beta_2': 'auto', 'bias_lr_mult': 'auto', 'bias_wd_mult': 'auto', 'use_lr_scheduler': 'true', 'lr_scheduler_step': 'auto', 'lr_scheduler_factor': 'auto', 'lr_scheduler_minimum_lr': 'auto', 'positive_example_weight_mult': '1.0', 'balance_multiclass_weights': 'false', 'normalize_data': 'true', 'normalize_label': 'auto', 'unbias_data': 'auto', 'unbias_label': 'auto', 'num_point_for_scaler': '10000', '_kvstore': 'auto', '_num_gpus': 'auto', '_num_kv_servers': 'auto', '_log_level': 'info', '_tuning_objective_metric': '', 'early_stopping_patience': '3', 'early_stopping_tolerance': '0.001', '_enable_profiler': 'false', 'predictor_type': 'regressor'}\u001b[0m\n",
      "\u001b[34m[01/17/2023 18:56:29 WARNING 140353027958592] Loggers have already been setup.\u001b[0m\n",
      "\u001b[34m[01/17/2023 18:56:29 INFO 140353027958592] Final configuration: {'mini_batch_size': '5', 'epochs': '500', 'feature_dim': '1', 'use_bias': 'true', 'binary_classifier_model_selection_criteria': 'accuracy', 'f_beta': '1.0', 'target_recall': '0.8', 'target_precision': '0.8', 'num_models': '40', 'num_calibration_samples': '10000000', 'init_method': 'uniform', 'init_scale': '0.07', 'init_sigma': '0.01', 'init_bias': '0.0', 'optimizer': 'auto', 'loss': 'absolute_loss', 'margin': '1.0', 'quantile': '0.5', 'loss_insensitivity': '0.01', 'huber_delta': '1.0', 'num_classes': '1', 'accuracy_top_k': '3', 'wd': 'auto', 'l1': 'auto', 'momentum': 'auto', 'learning_rate': 'auto', 'beta_1': 'auto', 'beta_2': 'auto', 'bias_lr_mult': 'auto', 'bias_wd_mult': 'auto', 'use_lr_scheduler': 'true', 'lr_scheduler_step': 'auto', 'lr_scheduler_factor': 'auto', 'lr_scheduler_minimum_lr': 'auto', 'positive_example_weight_mult': '1.0', 'balance_multiclass_weights': 'false', 'normalize_data': 'true', 'normalize_label': 'auto', 'unbias_data': 'auto', 'unbias_label': 'auto', 'num_point_for_scaler': '10000', '_kvstore': 'auto', '_num_gpus': 'auto', '_num_kv_servers': 'auto', '_log_level': 'info', '_tuning_objective_metric': '', 'early_stopping_patience': '3', 'early_stopping_tolerance': '0.001', '_enable_profiler': 'false', 'predictor_type': 'regressor'}\u001b[0m\n",
      "\u001b[34m[01/17/2023 18:56:29 WARNING 140353027958592] Loggers have already been setup.\u001b[0m\n",
      "\u001b[34mProcess 7 is a worker.\u001b[0m\n",
      "\u001b[34m[01/17/2023 18:56:29 INFO 140353027958592] Using default worker.\u001b[0m\n",
      "\u001b[34m[01/17/2023 18:56:29 INFO 140353027958592] Checkpoint loading and saving are disabled.\u001b[0m\n",
      "\u001b[34m[2023-01-17 18:56:29.716] [tensorio] [info] epoch_stats={\"data_pipeline\": \"/opt/ml/input/data/train\", \"epoch\": 0, \"duration\": 15, \"num_examples\": 1, \"num_bytes\": 240}\u001b[0m\n",
      "\u001b[34m[01/17/2023 18:56:29 INFO 140353027958592] Create Store: local\u001b[0m\n",
      "\u001b[34m[2023-01-17 18:56:29.760] [tensorio] [info] epoch_stats={\"data_pipeline\": \"/opt/ml/input/data/train\", \"epoch\": 1, \"duration\": 43, \"num_examples\": 6, \"num_bytes\": 1248}\u001b[0m\n",
      "\u001b[34m[01/17/2023 18:56:29 INFO 140353027958592] Scaler algorithm parameters\n",
      " <algorithm.scaler.ScalerAlgorithmStable object at 0x7fa5f2fc7ed0>\u001b[0m\n",
      "\u001b[34m[01/17/2023 18:56:29 INFO 140353027958592] Scaling model computed with parameters:\n",
      " {'stdev_label': \u001b[0m\n",
      "\u001b[34m[31535.889]\u001b[0m\n",
      "\u001b[34m<NDArray 1 @cpu(0)>, 'stdev_weight': \u001b[0m\n",
      "\u001b[34m[3.5536933]\u001b[0m\n",
      "\u001b[34m<NDArray 1 @cpu(0)>, 'mean_label': \u001b[0m\n",
      "\u001b[34m[78358.16]\u001b[0m\n",
      "\u001b[34m<NDArray 1 @cpu(0)>, 'mean_weight': \u001b[0m\n",
      "\u001b[34m[5.692]\u001b[0m\n",
      "\u001b[34m<NDArray 1 @cpu(0)>}\u001b[0m\n",
      "\u001b[34m[01/17/2023 18:56:29 INFO 140353027958592] nvidia-smi: took 0.031 seconds to run.\u001b[0m\n",
      "\u001b[34m[01/17/2023 18:56:29 INFO 140353027958592] nvidia-smi identified 0 GPUs.\u001b[0m\n",
      "\u001b[34m[01/17/2023 18:56:29 INFO 140353027958592] Number of GPUs being used: 0\u001b[0m\n",
      "\u001b[34m[01/17/2023 18:56:29 WARNING 140353027958592] Setting num_models to 32.\u001b[0m\n",
      "\u001b[34m[01/17/2023 18:56:29 WARNING 140353027958592] Setting num_models to 32.\u001b[0m\n",
      "\u001b[34m[01/17/2023 18:56:29 WARNING 140353027958592] Setting num_models to 32.\u001b[0m\n",
      "\u001b[34m[01/17/2023 18:56:29 WARNING 140353027958592] Setting num_models to 32.\u001b[0m\n",
      "\u001b[34m[01/17/2023 18:56:29 WARNING 140353027958592] Setting num_models to 32.\u001b[0m\n",
      "\u001b[34m[01/17/2023 18:56:29 WARNING 140353027958592] Setting num_models to 32.\u001b[0m\n",
      "\u001b[34m[01/17/2023 18:56:29 WARNING 140353027958592] Setting num_models to 32.\u001b[0m\n",
      "\u001b[34m[01/17/2023 18:56:29 WARNING 140353027958592] Setting num_models to 32.\u001b[0m\n",
      "\u001b[34m[01/17/2023 18:56:29 WARNING 140353027958592] Setting num_models to 32.\u001b[0m\n",
      "\u001b[34m[01/17/2023 18:56:29 WARNING 140353027958592] Setting num_models to 32.\u001b[0m\n",
      "\u001b[34m[01/17/2023 18:56:29 WARNING 140353027958592] Setting num_models to 32.\u001b[0m\n",
      "\u001b[34m[01/17/2023 18:56:29 WARNING 140353027958592] Setting num_models to 32.\u001b[0m\n",
      "\u001b[34m[01/17/2023 18:56:29 WARNING 140353027958592] Setting num_models to 32.\u001b[0m\n",
      "\u001b[34m[01/17/2023 18:56:29 WARNING 140353027958592] Setting num_models to 32.\u001b[0m\n",
      "\u001b[34m[01/17/2023 18:56:29 WARNING 140353027958592] Setting num_models to 32.\u001b[0m\n",
      "\u001b[34m#metrics {\"StartTime\": 1673981789.8651454, \"EndTime\": 1673981789.8651776, \"Dimensions\": {\"Algorithm\": \"Linear Learner\", \"Host\": \"algo-1\", \"Operation\": \"training\", \"Meta\": \"init_train_data_iter\"}, \"Metrics\": {\"Total Records Seen\": {\"sum\": 31.0, \"count\": 1, \"min\": 31, \"max\": 31}, \"Total Batches Seen\": {\"sum\": 7.0, \"count\": 1, \"min\": 7, \"max\": 7}, \"Max Records Seen Between Resets\": {\"sum\": 26.0, \"count\": 1, \"min\": 26, \"max\": 26}, \"Max Batches Seen Between Resets\": {\"sum\": 6.0, \"count\": 1, \"min\": 6, \"max\": 6}, \"Reset Count\": {\"sum\": 2.0, \"count\": 1, \"min\": 2, \"max\": 2}, \"Number of Records Since Last Reset\": {\"sum\": 0.0, \"count\": 1, \"min\": 0, \"max\": 0}, \"Number of Batches Since Last Reset\": {\"sum\": 0.0, \"count\": 1, \"min\": 0, \"max\": 0}}}\u001b[0m\n",
      "\u001b[34m[2023-01-17 18:56:29.978] [tensorio] [info] epoch_stats={\"data_pipeline\": \"/opt/ml/input/data/train\", \"epoch\": 4, \"duration\": 113, \"num_examples\": 6, \"num_bytes\": 1248}\u001b[0m\n",
      "\u001b[34m#metrics {\"StartTime\": 1673981789.9790096, \"EndTime\": 1673981789.9790788, \"Dimensions\": {\"Algorithm\": \"Linear Learner\", \"Host\": \"algo-1\", \"Operation\": \"training\", \"epoch\": 0, \"model\": 0}, \"Metrics\": {\"train_absolute_loss_objective\": {\"sum\": 0.8525755214691162, \"count\": 1, \"min\": 0.8525755214691162, \"max\": 0.8525755214691162}}}\u001b[0m\n",
      "\u001b[34m#metrics {\"StartTime\": 1673981789.9791636, \"EndTime\": 1673981789.979185, \"Dimensions\": {\"Algorithm\": \"Linear Learner\", \"Host\": \"algo-1\", \"Operation\": \"training\", \"epoch\": 0, \"model\": 1}, \"Metrics\": {\"train_absolute_loss_objective\": {\"sum\": 0.8711696624755859, \"count\": 1, \"min\": 0.8711696624755859, \"max\": 0.8711696624755859}}}\u001b[0m\n",
      "\u001b[34m#metrics {\"StartTime\": 1673981789.9792547, \"EndTime\": 1673981789.9792717, \"Dimensions\": {\"Algorithm\": \"Linear Learner\", \"Host\": \"algo-1\", \"Operation\": \"training\", \"epoch\": 0, \"model\": 2}, \"Metrics\": {\"train_absolute_loss_objective\": {\"sum\": 0.8548279571533203, \"count\": 1, \"min\": 0.8548279571533203, \"max\": 0.8548279571533203}}}\u001b[0m\n",
      "\u001b[34m#metrics {\"StartTime\": 1673981789.9793308, \"EndTime\": 1673981789.9793537, \"Dimensions\": {\"Algorithm\": \"Linear Learner\", \"Host\": \"algo-1\", \"Operation\": \"training\", \"epoch\": 0, \"model\": 3}, \"Metrics\": {\"train_absolute_loss_objective\": {\"sum\": 0.8702194213867187, \"count\": 1, \"min\": 0.8702194213867187, \"max\": 0.8702194213867187}}}\u001b[0m\n",
      "\u001b[34m#metrics {\"StartTime\": 1673981789.979421, \"EndTime\": 1673981789.979434, \"Dimensions\": {\"Algorithm\": \"Linear Learner\", \"Host\": \"algo-1\", \"Operation\": \"training\", \"epoch\": 0, \"model\": 4}, \"Metrics\": {\"train_absolute_loss_objective\": {\"sum\": 0.7948151111602784, \"count\": 1, \"min\": 0.7948151111602784, \"max\": 0.7948151111602784}}}\u001b[0m\n",
      "\u001b[34m#metrics {\"StartTime\": 1673981789.9794981, \"EndTime\": 1673981789.9795196, \"Dimensions\": {\"Algorithm\": \"Linear Learner\", \"Host\": \"algo-1\", \"Operation\": \"training\", \"epoch\": 0, \"model\": 5}, \"Metrics\": {\"train_absolute_loss_objective\": {\"sum\": 0.8034493160247803, \"count\": 1, \"min\": 0.8034493160247803, \"max\": 0.8034493160247803}}}\u001b[0m\n",
      "\u001b[34m#metrics {\"StartTime\": 1673981789.979574, \"EndTime\": 1673981789.9795918, \"Dimensions\": {\"Algorithm\": \"Linear Learner\", \"Host\": \"algo-1\", \"Operation\": \"training\", \"epoch\": 0, \"model\": 6}, \"Metrics\": {\"train_absolute_loss_objective\": {\"sum\": 0.8772394752502441, \"count\": 1, \"min\": 0.8772394752502441, \"max\": 0.8772394752502441}}}\u001b[0m\n",
      "\u001b[34m#metrics {\"StartTime\": 1673981789.979647, \"EndTime\": 1673981789.9796677, \"Dimensions\": {\"Algorithm\": \"Linear Learner\", \"Host\": \"algo-1\", \"Operation\": \"training\", \"epoch\": 0, \"model\": 7}, \"Metrics\": {\"train_absolute_loss_objective\": {\"sum\": 0.8515484189987182, \"count\": 1, \"min\": 0.8515484189987182, \"max\": 0.8515484189987182}}}\u001b[0m\n",
      "\u001b[34m#metrics {\"StartTime\": 1673981789.9797218, \"EndTime\": 1673981789.97974, \"Dimensions\": {\"Algorithm\": \"Linear Learner\", \"Host\": \"algo-1\", \"Operation\": \"training\", \"epoch\": 0, \"model\": 8}, \"Metrics\": {\"train_absolute_loss_objective\": {\"sum\": 0.9047830867767334, \"count\": 1, \"min\": 0.9047830867767334, \"max\": 0.9047830867767334}}}\u001b[0m\n",
      "\u001b[34m#metrics {\"StartTime\": 1673981789.9797897, \"EndTime\": 1673981789.9798088, \"Dimensions\": {\"Algorithm\": \"Linear Learner\", \"Host\": \"algo-1\", \"Operation\": \"training\", \"epoch\": 0, \"model\": 9}, \"Metrics\": {\"train_absolute_loss_objective\": {\"sum\": 0.8413401412963867, \"count\": 1, \"min\": 0.8413401412963867, \"max\": 0.8413401412963867}}}\u001b[0m\n",
      "\u001b[34m#metrics {\"StartTime\": 1673981789.9798548, \"EndTime\": 1673981789.9798717, \"Dimensions\": {\"Algorithm\": \"Linear Learner\", \"Host\": \"algo-1\", \"Operation\": \"training\", \"epoch\": 0, \"model\": 10}, \"Metrics\": {\"train_absolute_loss_objective\": {\"sum\": 0.847596549987793, \"count\": 1, \"min\": 0.847596549987793, \"max\": 0.847596549987793}}}\u001b[0m\n",
      "\u001b[34m#metrics {\"StartTime\": 1673981789.979939, \"EndTime\": 1673981789.979957, \"Dimensions\": {\"Algorithm\": \"Linear Learner\", \"Host\": \"algo-1\", \"Operation\": \"training\", \"epoch\": 0, \"model\": 11}, \"Metrics\": {\"train_absolute_loss_objective\": {\"sum\": 0.8337617683410644, \"count\": 1, \"min\": 0.8337617683410644, \"max\": 0.8337617683410644}}}\u001b[0m\n",
      "\u001b[34m#metrics {\"StartTime\": 1673981789.9800065, \"EndTime\": 1673981789.9800277, \"Dimensions\": {\"Algorithm\": \"Linear Learner\", \"Host\": \"algo-1\", \"Operation\": \"training\", \"epoch\": 0, \"model\": 12}, \"Metrics\": {\"train_absolute_loss_objective\": {\"sum\": 0.8027490139007568, \"count\": 1, \"min\": 0.8027490139007568, \"max\": 0.8027490139007568}}}\u001b[0m\n",
      "\u001b[34m#metrics {\"StartTime\": 1673981789.9800904, \"EndTime\": 1673981789.9801075, \"Dimensions\": {\"Algorithm\": \"Linear Learner\", \"Host\": \"algo-1\", \"Operation\": \"training\", \"epoch\": 0, \"model\": 13}, \"Metrics\": {\"train_absolute_loss_objective\": {\"sum\": 0.8260232353210449, \"count\": 1, \"min\": 0.8260232353210449, \"max\": 0.8260232353210449}}}\u001b[0m\n",
      "\u001b[34m#metrics {\"StartTime\": 1673981789.9801707, \"EndTime\": 1673981789.9801855, \"Dimensions\": {\"Algorithm\": \"Linear Learner\", \"Host\": \"algo-1\", \"Operation\": \"training\", \"epoch\": 0, \"model\": 14}, \"Metrics\": {\"train_absolute_loss_objective\": {\"sum\": 0.8014306354522706, \"count\": 1, \"min\": 0.8014306354522706, \"max\": 0.8014306354522706}}}\u001b[0m\n",
      "\u001b[34m#metrics {\"StartTime\": 1673981789.9802406, \"EndTime\": 1673981789.9802616, \"Dimensions\": {\"Algorithm\": \"Linear Learner\", \"Host\": \"algo-1\", \"Operation\": \"training\", \"epoch\": 0, \"model\": 15}, \"Metrics\": {\"train_absolute_loss_objective\": {\"sum\": 0.8316012954711914, \"count\": 1, \"min\": 0.8316012954711914, \"max\": 0.8316012954711914}}}\u001b[0m\n",
      "\u001b[34m#metrics {\"StartTime\": 1673981789.9803092, \"EndTime\": 1673981789.9803336, \"Dimensions\": {\"Algorithm\": \"Linear Learner\", \"Host\": \"algo-1\", \"Operation\": \"training\", \"epoch\": 0, \"model\": 16}, \"Metrics\": {\"train_absolute_loss_objective\": {\"sum\": 0.8188650226593017, \"count\": 1, \"min\": 0.8188650226593017, \"max\": 0.8188650226593017}}}\u001b[0m\n",
      "\u001b[34m#metrics {\"StartTime\": 1673981789.980392, \"EndTime\": 1673981789.9804153, \"Dimensions\": {\"Algorithm\": \"Linear Learner\", \"Host\": \"algo-1\", \"Operation\": \"training\", \"epoch\": 0, \"model\": 17}, \"Metrics\": {\"train_absolute_loss_objective\": {\"sum\": 0.8667292594909668, \"count\": 1, \"min\": 0.8667292594909668, \"max\": 0.8667292594909668}}}\u001b[0m\n",
      "\u001b[34m#metrics {\"StartTime\": 1673981789.980474, \"EndTime\": 1673981789.9804904, \"Dimensions\": {\"Algorithm\": \"Linear Learner\", \"Host\": \"algo-1\", \"Operation\": \"training\", \"epoch\": 0, \"model\": 18}, \"Metrics\": {\"train_absolute_loss_objective\": {\"sum\": 0.844139757156372, \"count\": 1, \"min\": 0.844139757156372, \"max\": 0.844139757156372}}}\u001b[0m\n",
      "\u001b[34m#metrics {\"StartTime\": 1673981789.9805431, \"EndTime\": 1673981789.9805624, \"Dimensions\": {\"Algorithm\": \"Linear Learner\", \"Host\": \"algo-1\", \"Operation\": \"training\", \"epoch\": 0, \"model\": 19}, \"Metrics\": {\"train_absolute_loss_objective\": {\"sum\": 0.8416165351867676, \"count\": 1, \"min\": 0.8416165351867676, \"max\": 0.8416165351867676}}}\u001b[0m\n",
      "\u001b[34m#metrics {\"StartTime\": 1673981789.9806156, \"EndTime\": 1673981789.9806323, \"Dimensions\": {\"Algorithm\": \"Linear Learner\", \"Host\": \"algo-1\", \"Operation\": \"training\", \"epoch\": 0, \"model\": 20}, \"Metrics\": {\"train_absolute_loss_objective\": {\"sum\": 0.8480626773834229, \"count\": 1, \"min\": 0.8480626773834229, \"max\": 0.8480626773834229}}}\u001b[0m\n",
      "\u001b[34m#metrics {\"StartTime\": 1673981789.9806895, \"EndTime\": 1673981789.9807074, \"Dimensions\": {\"Algorithm\": \"Linear Learner\", \"Host\": \"algo-1\", \"Operation\": \"training\", \"epoch\": 0, \"model\": 21}, \"Metrics\": {\"train_absolute_loss_objective\": {\"sum\": 0.8602843904495239, \"count\": 1, \"min\": 0.8602843904495239, \"max\": 0.8602843904495239}}}\u001b[0m\n",
      "\u001b[34m#metrics {\"StartTime\": 1673981789.9807606, \"EndTime\": 1673981789.9807813, \"Dimensions\": {\"Algorithm\": \"Linear Learner\", \"Host\": \"algo-1\", \"Operation\": \"training\", \"epoch\": 0, \"model\": 22}, \"Metrics\": {\"train_absolute_loss_objective\": {\"sum\": 0.808852710723877, \"count\": 1, \"min\": 0.808852710723877, \"max\": 0.808852710723877}}}\u001b[0m\n",
      "\u001b[34m#metrics {\"StartTime\": 1673981789.9808292, \"EndTime\": 1673981789.9808462, \"Dimensions\": {\"Algorithm\": \"Linear Learner\", \"Host\": \"algo-1\", \"Operation\": \"training\", \"epoch\": 0, \"model\": 23}, \"Metrics\": {\"train_absolute_loss_objective\": {\"sum\": 0.8814338922500611, \"count\": 1, \"min\": 0.8814338922500611, \"max\": 0.8814338922500611}}}\u001b[0m\n",
      "\u001b[34m#metrics {\"StartTime\": 1673981789.9808753, \"EndTime\": 1673981789.9808905, \"Dimensions\": {\"Algorithm\": \"Linear Learner\", \"Host\": \"algo-1\", \"Operation\": \"training\", \"epoch\": 0, \"model\": 24}, \"Metrics\": {\"train_absolute_loss_objective\": {\"sum\": 0.8203041172027588, \"count\": 1, \"min\": 0.8203041172027588, \"max\": 0.8203041172027588}}}\u001b[0m\n",
      "\u001b[34m#metrics {\"StartTime\": 1673981789.9809425, \"EndTime\": 1673981789.9809546, \"Dimensions\": {\"Algorithm\": \"Linear Learner\", \"Host\": \"algo-1\", \"Operation\": \"training\", \"epoch\": 0, \"model\": 25}, \"Metrics\": {\"train_absolute_loss_objective\": {\"sum\": 0.883624620437622, \"count\": 1, \"min\": 0.883624620437622, \"max\": 0.883624620437622}}}\u001b[0m\n",
      "\u001b[34m#metrics {\"StartTime\": 1673981789.981023, \"EndTime\": 1673981789.9810388, \"Dimensions\": {\"Algorithm\": \"Linear Learner\", \"Host\": \"algo-1\", \"Operation\": \"training\", \"epoch\": 0, \"model\": 26}, \"Metrics\": {\"train_absolute_loss_objective\": {\"sum\": 0.8712449169158936, \"count\": 1, \"min\": 0.8712449169158936, \"max\": 0.8712449169158936}}}\u001b[0m\n",
      "\u001b[34m#metrics {\"StartTime\": 1673981789.981093, \"EndTime\": 1673981789.9811146, \"Dimensions\": {\"Algorithm\": \"Linear Learner\", \"Host\": \"algo-1\", \"Operation\": \"training\", \"epoch\": 0, \"model\": 27}, \"Metrics\": {\"train_absolute_loss_objective\": {\"sum\": 0.8614308738708496, \"count\": 1, \"min\": 0.8614308738708496, \"max\": 0.8614308738708496}}}\u001b[0m\n",
      "\u001b[34m#metrics {\"StartTime\": 1673981789.9811585, \"EndTime\": 1673981789.9811797, \"Dimensions\": {\"Algorithm\": \"Linear Learner\", \"Host\": \"algo-1\", \"Operation\": \"training\", \"epoch\": 0, \"model\": 28}, \"Metrics\": {\"train_absolute_loss_objective\": {\"sum\": 0.9328700923919677, \"count\": 1, \"min\": 0.9328700923919677, \"max\": 0.9328700923919677}}}\u001b[0m\n",
      "\u001b[34m#metrics {\"StartTime\": 1673981789.9812381, \"EndTime\": 1673981789.9812572, \"Dimensions\": {\"Algorithm\": \"Linear Learner\", \"Host\": \"algo-1\", \"Operation\": \"training\", \"epoch\": 0, \"model\": 29}, \"Metrics\": {\"train_absolute_loss_objective\": {\"sum\": 0.9337308692932129, \"count\": 1, \"min\": 0.9337308692932129, \"max\": 0.9337308692932129}}}\u001b[0m\n",
      "\u001b[34m#metrics {\"StartTime\": 1673981789.9813085, \"EndTime\": 1673981789.9813285, \"Dimensions\": {\"Algorithm\": \"Linear Learner\", \"Host\": \"algo-1\", \"Operation\": \"training\", \"epoch\": 0, \"model\": 30}, \"Metrics\": {\"train_absolute_loss_objective\": {\"sum\": 0.9538436031341553, \"count\": 1, \"min\": 0.9538436031341553, \"max\": 0.9538436031341553}}}\u001b[0m\n",
      "\u001b[34m#metrics {\"StartTime\": 1673981789.98142, \"EndTime\": 1673981789.9814398, \"Dimensions\": {\"Algorithm\": \"Linear Learner\", \"Host\": \"algo-1\", \"Operation\": \"training\", \"epoch\": 0, \"model\": 31}, \"Metrics\": {\"train_absolute_loss_objective\": {\"sum\": 0.9525952053070068, \"count\": 1, \"min\": 0.9525952053070068, \"max\": 0.9525952053070068}}}\u001b[0m\n",
      "\u001b[34m[01/17/2023 18:56:29 INFO 140353027958592] #quality_metric: host=algo-1, epoch=0, train absolute_loss_objective <loss>=0.8525755214691162\u001b[0m\n",
      "\u001b[34m[01/17/2023 18:56:29 INFO 140353027958592] #early_stopping_criteria_metric: host=algo-1, epoch=0, criteria=absolute_loss_objective, value=0.7948151111602784\u001b[0m\n",
      "\u001b[34m[01/17/2023 18:56:29 INFO 140353027958592] Epoch 0: Loss improved. Updating best model\u001b[0m\n",
      "\u001b[34m[01/17/2023 18:56:29 INFO 140353027958592] Saving model for epoch: 0\u001b[0m\n",
      "\u001b[34m[01/17/2023 18:56:29 INFO 140353027958592] Saved checkpoint to \"/tmp/tmpcsfq5exj/mx-mod-0000.params\"\u001b[0m\n",
      "\u001b[34m[01/17/2023 18:56:29 INFO 140353027958592] #progress_metric: host=algo-1, completed 0.2 % of epochs\u001b[0m\n",
      "\u001b[34m#metrics {\"StartTime\": 1673981789.8654704, \"EndTime\": 1673981789.9912608, \"Dimensions\": {\"Algorithm\": \"Linear Learner\", \"Host\": \"algo-1\", \"Operation\": \"training\", \"epoch\": 0, \"Meta\": \"training_data_iter\"}, \"Metrics\": {\"Total Records Seen\": {\"sum\": 57.0, \"count\": 1, \"min\": 57, \"max\": 57}, \"Total Batches Seen\": {\"sum\": 13.0, \"count\": 1, \"min\": 13, \"max\": 13}, \"Max Records Seen Between Resets\": {\"sum\": 26.0, \"count\": 1, \"min\": 26, \"max\": 26}, \"Max Batches Seen Between Resets\": {\"sum\": 6.0, \"count\": 1, \"min\": 6, \"max\": 6}, \"Reset Count\": {\"sum\": 3.0, \"count\": 1, \"min\": 3, \"max\": 3}, \"Number of Records Since Last Reset\": {\"sum\": 26.0, \"count\": 1, \"min\": 26, \"max\": 26}, \"Number of Batches Since Last Reset\": {\"sum\": 6.0, \"count\": 1, \"min\": 6, \"max\": 6}}}\u001b[0m\n",
      "\u001b[34m[01/17/2023 18:56:29 INFO 140353027958592] #throughput_metric: host=algo-1, train throughput=206.45949261643318 records/second\u001b[0m\n",
      "\u001b[34m[2023-01-17 18:56:30.102] [tensorio] [info] epoch_stats={\"data_pipeline\": \"/opt/ml/input/data/train\", \"epoch\": 6, \"duration\": 111, \"num_examples\": 6, \"num_bytes\": 1248}\u001b[0m\n",
      "\u001b[34m#metrics {\"StartTime\": 1673981790.1030197, \"EndTime\": 1673981790.1030874, \"Dimensions\": {\"Algorithm\": \"Linear Learner\", \"Host\": \"algo-1\", \"Operation\": \"training\", \"epoch\": 1, \"model\": 0}, \"Metrics\": {\"train_absolute_loss_objective\": {\"sum\": 0.8123386478424073, \"count\": 1, \"min\": 0.8123386478424073, \"max\": 0.8123386478424073}}}\u001b[0m\n",
      "\u001b[34m#metrics {\"StartTime\": 1673981790.103176, \"EndTime\": 1673981790.1031911, \"Dimensions\": {\"Algorithm\": \"Linear Learner\", \"Host\": \"algo-1\", \"Operation\": \"training\", \"epoch\": 1, \"model\": 1}, \"Metrics\": {\"train_absolute_loss_objective\": {\"sum\": 0.8309327793121338, \"count\": 1, \"min\": 0.8309327793121338, \"max\": 0.8309327793121338}}}\u001b[0m\n",
      "\u001b[34m#metrics {\"StartTime\": 1673981790.1032522, \"EndTime\": 1673981790.103265, \"Dimensions\": {\"Algorithm\": \"Linear Learner\", \"Host\": \"algo-1\", \"Operation\": \"training\", \"epoch\": 1, \"model\": 2}, \"Metrics\": {\"train_absolute_loss_objective\": {\"sum\": 0.8145910549163818, \"count\": 1, \"min\": 0.8145910549163818, \"max\": 0.8145910549163818}}}\u001b[0m\n",
      "\u001b[34m#metrics {\"StartTime\": 1673981790.1033354, \"EndTime\": 1673981790.1033497, \"Dimensions\": {\"Algorithm\": \"Linear Learner\", \"Host\": \"algo-1\", \"Operation\": \"training\", \"epoch\": 1, \"model\": 3}, \"Metrics\": {\"train_absolute_loss_objective\": {\"sum\": 0.8299825382232666, \"count\": 1, \"min\": 0.8299825382232666, \"max\": 0.8299825382232666}}}\u001b[0m\n",
      "\u001b[34m#metrics {\"StartTime\": 1673981790.1034067, \"EndTime\": 1673981790.1034193, \"Dimensions\": {\"Algorithm\": \"Linear Learner\", \"Host\": \"algo-1\", \"Operation\": \"training\", \"epoch\": 1, \"model\": 4}, \"Metrics\": {\"train_absolute_loss_objective\": {\"sum\": 0.561041579246521, \"count\": 1, \"min\": 0.561041579246521, \"max\": 0.561041579246521}}}\u001b[0m\n",
      "\u001b[34m#metrics {\"StartTime\": 1673981790.103475, \"EndTime\": 1673981790.1034954, \"Dimensions\": {\"Algorithm\": \"Linear Learner\", \"Host\": \"algo-1\", \"Operation\": \"training\", \"epoch\": 1, \"model\": 5}, \"Metrics\": {\"train_absolute_loss_objective\": {\"sum\": 0.569673376083374, \"count\": 1, \"min\": 0.569673376083374, \"max\": 0.569673376083374}}}\u001b[0m\n",
      "\u001b[34m#metrics {\"StartTime\": 1673981790.1035469, \"EndTime\": 1673981790.1035683, \"Dimensions\": {\"Algorithm\": \"Linear Learner\", \"Host\": \"algo-1\", \"Operation\": \"training\", \"epoch\": 1, \"model\": 6}, \"Metrics\": {\"train_absolute_loss_objective\": {\"sum\": 0.6434429454803466, \"count\": 1, \"min\": 0.6434429454803466, \"max\": 0.6434429454803466}}}\u001b[0m\n",
      "\u001b[34m#metrics {\"StartTime\": 1673981790.1036243, \"EndTime\": 1673981790.1036398, \"Dimensions\": {\"Algorithm\": \"Linear Learner\", \"Host\": \"algo-1\", \"Operation\": \"training\", \"epoch\": 1, \"model\": 7}, \"Metrics\": {\"train_absolute_loss_objective\": {\"sum\": 0.6177590465545655, \"count\": 1, \"min\": 0.6177590465545655, \"max\": 0.6177590465545655}}}\u001b[0m\n",
      "\u001b[34m#metrics {\"StartTime\": 1673981790.1037004, \"EndTime\": 1673981790.1037152, \"Dimensions\": {\"Algorithm\": \"Linear Learner\", \"Host\": \"algo-1\", \"Operation\": \"training\", \"epoch\": 1, \"model\": 8}, \"Metrics\": {\"train_absolute_loss_objective\": {\"sum\": 0.8645450687408447, \"count\": 1, \"min\": 0.8645450687408447, \"max\": 0.8645450687408447}}}\u001b[0m\n",
      "\u001b[34m#metrics {\"StartTime\": 1673981790.1037762, \"EndTime\": 1673981790.1037908, \"Dimensions\": {\"Algorithm\": \"Linear Learner\", \"Host\": \"algo-1\", \"Operation\": \"training\", \"epoch\": 1, \"model\": 9}, \"Metrics\": {\"train_absolute_loss_objective\": {\"sum\": 0.8011045360565185, \"count\": 1, \"min\": 0.8011045360565185, \"max\": 0.8011045360565185}}}\u001b[0m\n",
      "\u001b[34m#metrics {\"StartTime\": 1673981790.103842, \"EndTime\": 1673981790.1038551, \"Dimensions\": {\"Algorithm\": \"Linear Learner\", \"Host\": \"algo-1\", \"Operation\": \"training\", \"epoch\": 1, \"model\": 10}, \"Metrics\": {\"train_absolute_loss_objective\": {\"sum\": 0.807360725402832, \"count\": 1, \"min\": 0.807360725402832, \"max\": 0.807360725402832}}}\u001b[0m\n",
      "\u001b[34m#metrics {\"StartTime\": 1673981790.103907, \"EndTime\": 1673981790.1039221, \"Dimensions\": {\"Algorithm\": \"Linear Learner\", \"Host\": \"algo-1\", \"Operation\": \"training\", \"epoch\": 1, \"model\": 11}, \"Metrics\": {\"train_absolute_loss_objective\": {\"sum\": 0.7935264682769776, \"count\": 1, \"min\": 0.7935264682769776, \"max\": 0.7935264682769776}}}\u001b[0m\n",
      "\u001b[34m#metrics {\"StartTime\": 1673981790.103982, \"EndTime\": 1673981790.1039999, \"Dimensions\": {\"Algorithm\": \"Linear Learner\", \"Host\": \"algo-1\", \"Operation\": \"training\", \"epoch\": 1, \"model\": 12}, \"Metrics\": {\"train_absolute_loss_objective\": {\"sum\": 0.5692792081832886, \"count\": 1, \"min\": 0.5692792081832886, \"max\": 0.5692792081832886}}}\u001b[0m\n",
      "\u001b[34m#metrics {\"StartTime\": 1673981790.1040547, \"EndTime\": 1673981790.104068, \"Dimensions\": {\"Algorithm\": \"Linear Learner\", \"Host\": \"algo-1\", \"Operation\": \"training\", \"epoch\": 1, \"model\": 13}, \"Metrics\": {\"train_absolute_loss_objective\": {\"sum\": 0.5925069570541381, \"count\": 1, \"min\": 0.5925069570541381, \"max\": 0.5925069570541381}}}\u001b[0m\n",
      "\u001b[34m#metrics {\"StartTime\": 1673981790.104132, \"EndTime\": 1673981790.1041465, \"Dimensions\": {\"Algorithm\": \"Linear Learner\", \"Host\": \"algo-1\", \"Operation\": \"training\", \"epoch\": 1, \"model\": 14}, \"Metrics\": {\"train_absolute_loss_objective\": {\"sum\": 0.5679634642601014, \"count\": 1, \"min\": 0.5679634642601014, \"max\": 0.5679634642601014}}}\u001b[0m\n",
      "\u001b[34m#metrics {\"StartTime\": 1673981790.104204, \"EndTime\": 1673981790.104216, \"Dimensions\": {\"Algorithm\": \"Linear Learner\", \"Host\": \"algo-1\", \"Operation\": \"training\", \"epoch\": 1, \"model\": 15}, \"Metrics\": {\"train_absolute_loss_objective\": {\"sum\": 0.5980739021301269, \"count\": 1, \"min\": 0.5980739021301269, \"max\": 0.5980739021301269}}}\u001b[0m\n",
      "\u001b[34m#metrics {\"StartTime\": 1673981790.1042721, \"EndTime\": 1673981790.104293, \"Dimensions\": {\"Algorithm\": \"Linear Learner\", \"Host\": \"algo-1\", \"Operation\": \"training\", \"epoch\": 1, \"model\": 16}, \"Metrics\": {\"train_absolute_loss_objective\": {\"sum\": 0.778864688873291, \"count\": 1, \"min\": 0.778864688873291, \"max\": 0.778864688873291}}}\u001b[0m\n",
      "\u001b[34m#metrics {\"StartTime\": 1673981790.104349, \"EndTime\": 1673981790.1043725, \"Dimensions\": {\"Algorithm\": \"Linear Learner\", \"Host\": \"algo-1\", \"Operation\": \"training\", \"epoch\": 1, \"model\": 17}, \"Metrics\": {\"train_absolute_loss_objective\": {\"sum\": 0.8265250587463379, \"count\": 1, \"min\": 0.8265250587463379, \"max\": 0.8265250587463379}}}\u001b[0m\n",
      "\u001b[34m#metrics {\"StartTime\": 1673981790.1044917, \"EndTime\": 1673981790.1045063, \"Dimensions\": {\"Algorithm\": \"Linear Learner\", \"Host\": \"algo-1\", \"Operation\": \"training\", \"epoch\": 1, \"model\": 18}, \"Metrics\": {\"train_absolute_loss_objective\": {\"sum\": 0.8040270805358887, \"count\": 1, \"min\": 0.8040270805358887, \"max\": 0.8040270805358887}}}\u001b[0m\n",
      "\u001b[34m#metrics {\"StartTime\": 1673981790.1046078, \"EndTime\": 1673981790.1046271, \"Dimensions\": {\"Algorithm\": \"Linear Learner\", \"Host\": \"algo-1\", \"Operation\": \"training\", \"epoch\": 1, \"model\": 19}, \"Metrics\": {\"train_absolute_loss_objective\": {\"sum\": 0.8015145874023437, \"count\": 1, \"min\": 0.8015145874023437, \"max\": 0.8015145874023437}}}\u001b[0m\n",
      "\u001b[34m#metrics {\"StartTime\": 1673981790.1047, \"EndTime\": 1673981790.1047158, \"Dimensions\": {\"Algorithm\": \"Linear Learner\", \"Host\": \"algo-1\", \"Operation\": \"training\", \"epoch\": 1, \"model\": 20}, \"Metrics\": {\"train_absolute_loss_objective\": {\"sum\": 0.6457269334793091, \"count\": 1, \"min\": 0.6457269334793091, \"max\": 0.6457269334793091}}}\u001b[0m\n",
      "\u001b[34m#metrics {\"StartTime\": 1673981790.1047804, \"EndTime\": 1673981790.1048002, \"Dimensions\": {\"Algorithm\": \"Linear Learner\", \"Host\": \"algo-1\", \"Operation\": \"training\", \"epoch\": 1, \"model\": 21}, \"Metrics\": {\"train_absolute_loss_objective\": {\"sum\": 0.6546827507019043, \"count\": 1, \"min\": 0.6546827507019043, \"max\": 0.6546827507019043}}}\u001b[0m\n",
      "\u001b[34m#metrics {\"StartTime\": 1673981790.1049175, \"EndTime\": 1673981790.1049452, \"Dimensions\": {\"Algorithm\": \"Linear Learner\", \"Host\": \"algo-1\", \"Operation\": \"training\", \"epoch\": 1, \"model\": 22}, \"Metrics\": {\"train_absolute_loss_objective\": {\"sum\": 0.6181756019592285, \"count\": 1, \"min\": 0.6181756019592285, \"max\": 0.6181756019592285}}}\u001b[0m\n",
      "\u001b[34m#metrics {\"StartTime\": 1673981790.1050422, \"EndTime\": 1673981790.105058, \"Dimensions\": {\"Algorithm\": \"Linear Learner\", \"Host\": \"algo-1\", \"Operation\": \"training\", \"epoch\": 1, \"model\": 23}, \"Metrics\": {\"train_absolute_loss_objective\": {\"sum\": 0.6705528783798218, \"count\": 1, \"min\": 0.6705528783798218, \"max\": 0.6705528783798218}}}\u001b[0m\n",
      "\u001b[34m#metrics {\"StartTime\": 1673981790.1051292, \"EndTime\": 1673981790.1051476, \"Dimensions\": {\"Algorithm\": \"Linear Learner\", \"Host\": \"algo-1\", \"Operation\": \"training\", \"epoch\": 1, \"model\": 24}, \"Metrics\": {\"train_absolute_loss_objective\": {\"sum\": 0.8181472969055176, \"count\": 1, \"min\": 0.8181472969055176, \"max\": 0.8181472969055176}}}\u001b[0m\n",
      "\u001b[34m#metrics {\"StartTime\": 1673981790.1051993, \"EndTime\": 1673981790.1052103, \"Dimensions\": {\"Algorithm\": \"Linear Learner\", \"Host\": \"algo-1\", \"Operation\": \"training\", \"epoch\": 1, \"model\": 25}, \"Metrics\": {\"train_absolute_loss_objective\": {\"sum\": 0.8435546970367431, \"count\": 1, \"min\": 0.8435546970367431, \"max\": 0.8435546970367431}}}\u001b[0m\n",
      "\u001b[34m#metrics {\"StartTime\": 1673981790.1052608, \"EndTime\": 1673981790.1052768, \"Dimensions\": {\"Algorithm\": \"Linear Learner\", \"Host\": \"algo-1\", \"Operation\": \"training\", \"epoch\": 1, \"model\": 26}, \"Metrics\": {\"train_absolute_loss_objective\": {\"sum\": 0.8338979244232178, \"count\": 1, \"min\": 0.8338979244232178, \"max\": 0.8338979244232178}}}\u001b[0m\n",
      "\u001b[34m#metrics {\"StartTime\": 1673981790.1053567, \"EndTime\": 1673981790.1053805, \"Dimensions\": {\"Algorithm\": \"Linear Learner\", \"Host\": \"algo-1\", \"Operation\": \"training\", \"epoch\": 1, \"model\": 27}, \"Metrics\": {\"train_absolute_loss_objective\": {\"sum\": 0.8334714698791504, \"count\": 1, \"min\": 0.8334714698791504, \"max\": 0.8334714698791504}}}\u001b[0m\n",
      "\u001b[34m#metrics {\"StartTime\": 1673981790.1054425, \"EndTime\": 1673981790.105463, \"Dimensions\": {\"Algorithm\": \"Linear Learner\", \"Host\": \"algo-1\", \"Operation\": \"training\", \"epoch\": 1, \"model\": 28}, \"Metrics\": {\"train_absolute_loss_objective\": {\"sum\": 0.9915974140167236, \"count\": 1, \"min\": 0.9915974140167236, \"max\": 0.9915974140167236}}}\u001b[0m\n",
      "\u001b[34m#metrics {\"StartTime\": 1673981790.1055152, \"EndTime\": 1673981790.1055346, \"Dimensions\": {\"Algorithm\": \"Linear Learner\", \"Host\": \"algo-1\", \"Operation\": \"training\", \"epoch\": 1, \"model\": 29}, \"Metrics\": {\"train_absolute_loss_objective\": {\"sum\": 0.9904624366760254, \"count\": 1, \"min\": 0.9904624366760254, \"max\": 0.9904624366760254}}}\u001b[0m\n",
      "\u001b[34m#metrics {\"StartTime\": 1673981790.1055899, \"EndTime\": 1673981790.1056068, \"Dimensions\": {\"Algorithm\": \"Linear Learner\", \"Host\": \"algo-1\", \"Operation\": \"training\", \"epoch\": 1, \"model\": 30}, \"Metrics\": {\"train_absolute_loss_objective\": {\"sum\": 0.9918254470825195, \"count\": 1, \"min\": 0.9918254470825195, \"max\": 0.9918254470825195}}}\u001b[0m\n",
      "\u001b[34m#metrics {\"StartTime\": 1673981790.1056604, \"EndTime\": 1673981790.1056824, \"Dimensions\": {\"Algorithm\": \"Linear Learner\", \"Host\": \"algo-1\", \"Operation\": \"training\", \"epoch\": 1, \"model\": 31}, \"Metrics\": {\"train_absolute_loss_objective\": {\"sum\": 0.999483404159546, \"count\": 1, \"min\": 0.999483404159546, \"max\": 0.999483404159546}}}\u001b[0m\n",
      "\u001b[34m[01/17/2023 18:56:30 INFO 140353027958592] #quality_metric: host=algo-1, epoch=1, train absolute_loss_objective <loss>=0.8123386478424073\u001b[0m\n",
      "\u001b[34m[01/17/2023 18:56:30 INFO 140353027958592] #early_stopping_criteria_metric: host=algo-1, epoch=1, criteria=absolute_loss_objective, value=0.561041579246521\u001b[0m\n",
      "\u001b[34m[01/17/2023 18:56:30 INFO 140353027958592] Epoch 1: Loss improved. Updating best model\u001b[0m\n",
      "\u001b[34m[01/17/2023 18:56:30 INFO 140353027958592] Saving model for epoch: 1\u001b[0m\n",
      "\u001b[34m[01/17/2023 18:56:30 INFO 140353027958592] Saved checkpoint to \"/tmp/tmpfao0rwr8/mx-mod-0000.params\"\u001b[0m\n",
      "\u001b[34m[01/17/2023 18:56:30 INFO 140353027958592] #progress_metric: host=algo-1, completed 0.4 % of epochs\u001b[0m\n",
      "\u001b[34m#metrics {\"StartTime\": 1673981789.991567, \"EndTime\": 1673981790.1144614, \"Dimensions\": {\"Algorithm\": \"Linear Learner\", \"Host\": \"algo-1\", \"Operation\": \"training\", \"epoch\": 1, \"Meta\": \"training_data_iter\"}, \"Metrics\": {\"Total Records Seen\": {\"sum\": 83.0, \"count\": 1, \"min\": 83, \"max\": 83}, \"Total Batches Seen\": {\"sum\": 19.0, \"count\": 1, \"min\": 19, \"max\": 19}, \"Max Records Seen Between Resets\": {\"sum\": 26.0, \"count\": 1, \"min\": 26, \"max\": 26}, \"Max Batches Seen Between Resets\": {\"sum\": 6.0, \"count\": 1, \"min\": 6, \"max\": 6}, \"Reset Count\": {\"sum\": 4.0, \"count\": 1, \"min\": 4, \"max\": 4}, \"Number of Records Since Last Reset\": {\"sum\": 26.0, \"count\": 1, \"min\": 26, \"max\": 26}, \"Number of Batches Since Last Reset\": {\"sum\": 6.0, \"count\": 1, \"min\": 6, \"max\": 6}}}\u001b[0m\n",
      "\u001b[34m[01/17/2023 18:56:30 INFO 140353027958592] #throughput_metric: host=algo-1, train throughput=211.31428017788457 records/second\u001b[0m\n",
      "\u001b[34m[2023-01-17 18:56:30.225] [tensorio] [info] epoch_stats={\"data_pipeline\": \"/opt/ml/input/data/train\", \"epoch\": 8, \"duration\": 110, \"num_examples\": 6, \"num_bytes\": 1248}\u001b[0m\n",
      "\u001b[34m#metrics {\"StartTime\": 1673981790.2250836, \"EndTime\": 1673981790.2251544, \"Dimensions\": {\"Algorithm\": \"Linear Learner\", \"Host\": \"algo-1\", \"Operation\": \"training\", \"epoch\": 2, \"model\": 0}, \"Metrics\": {\"train_absolute_loss_objective\": {\"sum\": 0.7766026496887207, \"count\": 1, \"min\": 0.7766026496887207, \"max\": 0.7766026496887207}}}\u001b[0m\n",
      "\u001b[34m#metrics {\"StartTime\": 1673981790.2252276, \"EndTime\": 1673981790.2252526, \"Dimensions\": {\"Algorithm\": \"Linear Learner\", \"Host\": \"algo-1\", \"Operation\": \"training\", \"epoch\": 2, \"model\": 1}, \"Metrics\": {\"train_absolute_loss_objective\": {\"sum\": 0.7950851345062255, \"count\": 1, \"min\": 0.7950851345062255, \"max\": 0.7950851345062255}}}\u001b[0m\n",
      "\u001b[34m#metrics {\"StartTime\": 1673981790.2253149, \"EndTime\": 1673981790.2253351, \"Dimensions\": {\"Algorithm\": \"Linear Learner\", \"Host\": \"algo-1\", \"Operation\": \"training\", \"epoch\": 2, \"model\": 2}, \"Metrics\": {\"train_absolute_loss_objective\": {\"sum\": 0.7788550567626953, \"count\": 1, \"min\": 0.7788550567626953, \"max\": 0.7788550567626953}}}\u001b[0m\n",
      "\u001b[34m#metrics {\"StartTime\": 1673981790.2254145, \"EndTime\": 1673981790.2254333, \"Dimensions\": {\"Algorithm\": \"Linear Learner\", \"Host\": \"algo-1\", \"Operation\": \"training\", \"epoch\": 2, \"model\": 3}, \"Metrics\": {\"train_absolute_loss_objective\": {\"sum\": 0.7941349029541016, \"count\": 1, \"min\": 0.7941349029541016, \"max\": 0.7941349029541016}}}\u001b[0m\n",
      "\u001b[34m#metrics {\"StartTime\": 1673981790.2254899, \"EndTime\": 1673981790.2255135, \"Dimensions\": {\"Algorithm\": \"Linear Learner\", \"Host\": \"algo-1\", \"Operation\": \"training\", \"epoch\": 2, \"model\": 4}, \"Metrics\": {\"train_absolute_loss_objective\": {\"sum\": 0.1976061773300171, \"count\": 1, \"min\": 0.1976061773300171, \"max\": 0.1976061773300171}}}\u001b[0m\n",
      "\u001b[34m#metrics {\"StartTime\": 1673981790.2255654, \"EndTime\": 1673981790.2255876, \"Dimensions\": {\"Algorithm\": \"Linear Learner\", \"Host\": \"algo-1\", \"Operation\": \"training\", \"epoch\": 2, \"model\": 5}, \"Metrics\": {\"train_absolute_loss_objective\": {\"sum\": 0.1979096531867981, \"count\": 1, \"min\": 0.1979096531867981, \"max\": 0.1979096531867981}}}\u001b[0m\n",
      "\u001b[34m#metrics {\"StartTime\": 1673981790.2256413, \"EndTime\": 1673981790.2256536, \"Dimensions\": {\"Algorithm\": \"Linear Learner\", \"Host\": \"algo-1\", \"Operation\": \"training\", \"epoch\": 2, \"model\": 6}, \"Metrics\": {\"train_absolute_loss_objective\": {\"sum\": 0.23905985832214355, \"count\": 1, \"min\": 0.23905985832214355, \"max\": 0.23905985832214355}}}\u001b[0m\n",
      "\u001b[34m#metrics {\"StartTime\": 1673981790.2257168, \"EndTime\": 1673981790.2257376, \"Dimensions\": {\"Algorithm\": \"Linear Learner\", \"Host\": \"algo-1\", \"Operation\": \"training\", \"epoch\": 2, \"model\": 7}, \"Metrics\": {\"train_absolute_loss_objective\": {\"sum\": 0.22549888372421265, \"count\": 1, \"min\": 0.22549888372421265, \"max\": 0.22549888372421265}}}\u001b[0m\n",
      "\u001b[34m#metrics {\"StartTime\": 1673981790.2257922, \"EndTime\": 1673981790.225816, \"Dimensions\": {\"Algorithm\": \"Linear Learner\", \"Host\": \"algo-1\", \"Operation\": \"training\", \"epoch\": 2, \"model\": 8}, \"Metrics\": {\"train_absolute_loss_objective\": {\"sum\": 0.8288087463378906, \"count\": 1, \"min\": 0.8288087463378906, \"max\": 0.8288087463378906}}}\u001b[0m\n",
      "\u001b[34m#metrics {\"StartTime\": 1673981790.225866, \"EndTime\": 1673981790.225881, \"Dimensions\": {\"Algorithm\": \"Linear Learner\", \"Host\": \"algo-1\", \"Operation\": \"training\", \"epoch\": 2, \"model\": 9}, \"Metrics\": {\"train_absolute_loss_objective\": {\"sum\": 0.7652593517303466, \"count\": 1, \"min\": 0.7652593517303466, \"max\": 0.7652593517303466}}}\u001b[0m\n",
      "\u001b[34m#metrics {\"StartTime\": 1673981790.2259252, \"EndTime\": 1673981790.2259457, \"Dimensions\": {\"Algorithm\": \"Linear Learner\", \"Host\": \"algo-1\", \"Operation\": \"training\", \"epoch\": 2, \"model\": 10}, \"Metrics\": {\"train_absolute_loss_objective\": {\"sum\": 0.7716268825531006, \"count\": 1, \"min\": 0.7716268825531006, \"max\": 0.7716268825531006}}}\u001b[0m\n",
      "\u001b[34m#metrics {\"StartTime\": 1673981790.2259927, \"EndTime\": 1673981790.2260134, \"Dimensions\": {\"Algorithm\": \"Linear Learner\", \"Host\": \"algo-1\", \"Operation\": \"training\", \"epoch\": 2, \"model\": 11}, \"Metrics\": {\"train_absolute_loss_objective\": {\"sum\": 0.7576815795898437, \"count\": 1, \"min\": 0.7576815795898437, \"max\": 0.7576815795898437}}}\u001b[0m\n",
      "\u001b[34m#metrics {\"StartTime\": 1673981790.226063, \"EndTime\": 1673981790.22608, \"Dimensions\": {\"Algorithm\": \"Linear Learner\", \"Host\": \"algo-1\", \"Operation\": \"training\", \"epoch\": 2, \"model\": 12}, \"Metrics\": {\"train_absolute_loss_objective\": {\"sum\": 0.20463402032852174, \"count\": 1, \"min\": 0.20463402032852174, \"max\": 0.20463402032852174}}}\u001b[0m\n",
      "\u001b[34m#metrics {\"StartTime\": 1673981790.2261243, \"EndTime\": 1673981790.2261453, \"Dimensions\": {\"Algorithm\": \"Linear Learner\", \"Host\": \"algo-1\", \"Operation\": \"training\", \"epoch\": 2, \"model\": 13}, \"Metrics\": {\"train_absolute_loss_objective\": {\"sum\": 0.2017790150642395, \"count\": 1, \"min\": 0.2017790150642395, \"max\": 0.2017790150642395}}}\u001b[0m\n",
      "\u001b[34m#metrics {\"StartTime\": 1673981790.22619, \"EndTime\": 1673981790.2262132, \"Dimensions\": {\"Algorithm\": \"Linear Learner\", \"Host\": \"algo-1\", \"Operation\": \"training\", \"epoch\": 2, \"model\": 14}, \"Metrics\": {\"train_absolute_loss_objective\": {\"sum\": 0.20429907083511353, \"count\": 1, \"min\": 0.20429907083511353, \"max\": 0.20429907083511353}}}\u001b[0m\n",
      "\u001b[34m#metrics {\"StartTime\": 1673981790.2262692, \"EndTime\": 1673981790.2262864, \"Dimensions\": {\"Algorithm\": \"Linear Learner\", \"Host\": \"algo-1\", \"Operation\": \"training\", \"epoch\": 2, \"model\": 15}, \"Metrics\": {\"train_absolute_loss_objective\": {\"sum\": 0.21138057231903076, \"count\": 1, \"min\": 0.21138057231903076, \"max\": 0.21138057231903076}}}\u001b[0m\n",
      "\u001b[34m#metrics {\"StartTime\": 1673981790.2263427, \"EndTime\": 1673981790.2263563, \"Dimensions\": {\"Algorithm\": \"Linear Learner\", \"Host\": \"algo-1\", \"Operation\": \"training\", \"epoch\": 2, \"model\": 16}, \"Metrics\": {\"train_absolute_loss_objective\": {\"sum\": 0.7435044956207275, \"count\": 1, \"min\": 0.7435044956207275, \"max\": 0.7435044956207275}}}\u001b[0m\n",
      "\u001b[34m#metrics {\"StartTime\": 1673981790.2264066, \"EndTime\": 1673981790.2264268, \"Dimensions\": {\"Algorithm\": \"Linear Learner\", \"Host\": \"algo-1\", \"Operation\": \"training\", \"epoch\": 2, \"model\": 17}, \"Metrics\": {\"train_absolute_loss_objective\": {\"sum\": 0.7908149528503418, \"count\": 1, \"min\": 0.7908149528503418, \"max\": 0.7908149528503418}}}\u001b[0m\n",
      "\u001b[34m#metrics {\"StartTime\": 1673981790.2264736, \"EndTime\": 1673981790.2264898, \"Dimensions\": {\"Algorithm\": \"Linear Learner\", \"Host\": \"algo-1\", \"Operation\": \"training\", \"epoch\": 2, \"model\": 18}, \"Metrics\": {\"train_absolute_loss_objective\": {\"sum\": 0.7685352134704589, \"count\": 1, \"min\": 0.7685352134704589, \"max\": 0.7685352134704589}}}\u001b[0m\n",
      "\u001b[34m#metrics {\"StartTime\": 1673981790.2265515, \"EndTime\": 1673981790.2265732, \"Dimensions\": {\"Algorithm\": \"Linear Learner\", \"Host\": \"algo-1\", \"Operation\": \"training\", \"epoch\": 2, \"model\": 19}, \"Metrics\": {\"train_absolute_loss_objective\": {\"sum\": 0.7659248161315918, \"count\": 1, \"min\": 0.7659248161315918, \"max\": 0.7659248161315918}}}\u001b[0m\n",
      "\u001b[34m#metrics {\"StartTime\": 1673981790.2266288, \"EndTime\": 1673981790.226641, \"Dimensions\": {\"Algorithm\": \"Linear Learner\", \"Host\": \"algo-1\", \"Operation\": \"training\", \"epoch\": 2, \"model\": 20}, \"Metrics\": {\"train_absolute_loss_objective\": {\"sum\": 0.3166340970993042, \"count\": 1, \"min\": 0.3166340970993042, \"max\": 0.3166340970993042}}}\u001b[0m\n",
      "\u001b[34m#metrics {\"StartTime\": 1673981790.2266908, \"EndTime\": 1673981790.226706, \"Dimensions\": {\"Algorithm\": \"Linear Learner\", \"Host\": \"algo-1\", \"Operation\": \"training\", \"epoch\": 2, \"model\": 21}, \"Metrics\": {\"train_absolute_loss_objective\": {\"sum\": 0.31171014308929446, \"count\": 1, \"min\": 0.31171014308929446, \"max\": 0.31171014308929446}}}\u001b[0m\n",
      "\u001b[34m#metrics {\"StartTime\": 1673981790.2267745, \"EndTime\": 1673981790.2267911, \"Dimensions\": {\"Algorithm\": \"Linear Learner\", \"Host\": \"algo-1\", \"Operation\": \"training\", \"epoch\": 2, \"model\": 22}, \"Metrics\": {\"train_absolute_loss_objective\": {\"sum\": 0.3086257457733154, \"count\": 1, \"min\": 0.3086257457733154, \"max\": 0.3086257457733154}}}\u001b[0m\n",
      "\u001b[34m#metrics {\"StartTime\": 1673981790.2268553, \"EndTime\": 1673981790.2268722, \"Dimensions\": {\"Algorithm\": \"Linear Learner\", \"Host\": \"algo-1\", \"Operation\": \"training\", \"epoch\": 2, \"model\": 23}, \"Metrics\": {\"train_absolute_loss_objective\": {\"sum\": 0.3175968360900879, \"count\": 1, \"min\": 0.3175968360900879, \"max\": 0.3175968360900879}}}\u001b[0m\n",
      "\u001b[34m#metrics {\"StartTime\": 1673981790.2269182, \"EndTime\": 1673981790.2269354, \"Dimensions\": {\"Algorithm\": \"Linear Learner\", \"Host\": \"algo-1\", \"Operation\": \"training\", \"epoch\": 2, \"model\": 24}, \"Metrics\": {\"train_absolute_loss_objective\": {\"sum\": 0.8172618389129639, \"count\": 1, \"min\": 0.8172618389129639, \"max\": 0.8172618389129639}}}\u001b[0m\n",
      "\u001b[34m#metrics {\"StartTime\": 1673981790.2269988, \"EndTime\": 1673981790.227017, \"Dimensions\": {\"Algorithm\": \"Linear Learner\", \"Host\": \"algo-1\", \"Operation\": \"training\", \"epoch\": 2, \"model\": 25}, \"Metrics\": {\"train_absolute_loss_objective\": {\"sum\": 0.8134660339355468, \"count\": 1, \"min\": 0.8134660339355468, \"max\": 0.8134660339355468}}}\u001b[0m\n",
      "\u001b[34m#metrics {\"StartTime\": 1673981790.22707, \"EndTime\": 1673981790.2270868, \"Dimensions\": {\"Algorithm\": \"Linear Learner\", \"Host\": \"algo-1\", \"Operation\": \"training\", \"epoch\": 2, \"model\": 26}, \"Metrics\": {\"train_absolute_loss_objective\": {\"sum\": 0.8126381683349609, \"count\": 1, \"min\": 0.8126381683349609, \"max\": 0.8126381683349609}}}\u001b[0m\n",
      "\u001b[34m#metrics {\"StartTime\": 1673981790.227149, \"EndTime\": 1673981790.227168, \"Dimensions\": {\"Algorithm\": \"Linear Learner\", \"Host\": \"algo-1\", \"Operation\": \"training\", \"epoch\": 2, \"model\": 27}, \"Metrics\": {\"train_absolute_loss_objective\": {\"sum\": 0.8207694149017334, \"count\": 1, \"min\": 0.8207694149017334, \"max\": 0.8207694149017334}}}\u001b[0m\n",
      "\u001b[34m#metrics {\"StartTime\": 1673981790.2272255, \"EndTime\": 1673981790.2272418, \"Dimensions\": {\"Algorithm\": \"Linear Learner\", \"Host\": \"algo-1\", \"Operation\": \"training\", \"epoch\": 2, \"model\": 28}, \"Metrics\": {\"train_absolute_loss_objective\": {\"sum\": 0.9516906023025513, \"count\": 1, \"min\": 0.9516906023025513, \"max\": 0.9516906023025513}}}\u001b[0m\n",
      "\u001b[34m#metrics {\"StartTime\": 1673981790.2272854, \"EndTime\": 1673981790.2273018, \"Dimensions\": {\"Algorithm\": \"Linear Learner\", \"Host\": \"algo-1\", \"Operation\": \"training\", \"epoch\": 2, \"model\": 29}, \"Metrics\": {\"train_absolute_loss_objective\": {\"sum\": 0.953180980682373, \"count\": 1, \"min\": 0.953180980682373, \"max\": 0.953180980682373}}}\u001b[0m\n",
      "\u001b[34m#metrics {\"StartTime\": 1673981790.2273662, \"EndTime\": 1673981790.2273886, \"Dimensions\": {\"Algorithm\": \"Linear Learner\", \"Host\": \"algo-1\", \"Operation\": \"training\", \"epoch\": 2, \"model\": 30}, \"Metrics\": {\"train_absolute_loss_objective\": {\"sum\": 0.95441650390625, \"count\": 1, \"min\": 0.95441650390625, \"max\": 0.95441650390625}}}\u001b[0m\n",
      "\u001b[34m#metrics {\"StartTime\": 1673981790.2274988, \"EndTime\": 1673981790.227515, \"Dimensions\": {\"Algorithm\": \"Linear Learner\", \"Host\": \"algo-1\", \"Operation\": \"training\", \"epoch\": 2, \"model\": 31}, \"Metrics\": {\"train_absolute_loss_objective\": {\"sum\": 0.9484502458572388, \"count\": 1, \"min\": 0.9484502458572388, \"max\": 0.9484502458572388}}}\u001b[0m\n",
      "\u001b[34m[01/17/2023 18:56:30 INFO 140353027958592] #quality_metric: host=algo-1, epoch=2, train absolute_loss_objective <loss>=0.7766026496887207\u001b[0m\n",
      "\u001b[34m[01/17/2023 18:56:30 INFO 140353027958592] #early_stopping_criteria_metric: host=algo-1, epoch=2, criteria=absolute_loss_objective, value=0.1976061773300171\u001b[0m\n",
      "\u001b[34m[01/17/2023 18:56:30 INFO 140353027958592] Epoch 2: Loss improved. Updating best model\u001b[0m\n",
      "\u001b[34m[01/17/2023 18:56:30 INFO 140353027958592] Saving model for epoch: 2\u001b[0m\n",
      "\u001b[34m[01/17/2023 18:56:30 INFO 140353027958592] Saved checkpoint to \"/tmp/tmp0amf0u8j/mx-mod-0000.params\"\u001b[0m\n",
      "\u001b[34m[01/17/2023 18:56:30 INFO 140353027958592] #progress_metric: host=algo-1, completed 0.6 % of epochs\u001b[0m\n",
      "\u001b[34m#metrics {\"StartTime\": 1673981790.1147776, \"EndTime\": 1673981790.2357986, \"Dimensions\": {\"Algorithm\": \"Linear Learner\", \"Host\": \"algo-1\", \"Operation\": \"training\", \"epoch\": 2, \"Meta\": \"training_data_iter\"}, \"Metrics\": {\"Total Records Seen\": {\"sum\": 109.0, \"count\": 1, \"min\": 109, \"max\": 109}, \"Total Batches Seen\": {\"sum\": 25.0, \"count\": 1, \"min\": 25, \"max\": 25}, \"Max Records Seen Between Resets\": {\"sum\": 26.0, \"count\": 1, \"min\": 26, \"max\": 26}, \"Max Batches Seen Between Resets\": {\"sum\": 6.0, \"count\": 1, \"min\": 6, \"max\": 6}, \"Reset Count\": {\"sum\": 5.0, \"count\": 1, \"min\": 5, \"max\": 5}, \"Number of Records Since Last Reset\": {\"sum\": 26.0, \"count\": 1, \"min\": 26, \"max\": 26}, \"Number of Batches Since Last Reset\": {\"sum\": 6.0, \"count\": 1, \"min\": 6, \"max\": 6}}}\u001b[0m\n",
      "\u001b[34m[01/17/2023 18:56:30 INFO 140353027958592] #throughput_metric: host=algo-1, train throughput=214.5694205054345 records/second\u001b[0m\n",
      "\u001b[34m[2023-01-17 18:56:30.346] [tensorio] [info] epoch_stats={\"data_pipeline\": \"/opt/ml/input/data/train\", \"epoch\": 10, \"duration\": 109, \"num_examples\": 6, \"num_bytes\": 1248}\u001b[0m\n",
      "\u001b[34m#metrics {\"StartTime\": 1673981790.3461726, \"EndTime\": 1673981790.346239, \"Dimensions\": {\"Algorithm\": \"Linear Learner\", \"Host\": \"algo-1\", \"Operation\": \"training\", \"epoch\": 3, \"model\": 0}, \"Metrics\": {\"train_absolute_loss_objective\": {\"sum\": 0.7415670394897461, \"count\": 1, \"min\": 0.7415670394897461, \"max\": 0.7415670394897461}}}\u001b[0m\n",
      "\u001b[34m#metrics {\"StartTime\": 1673981790.3463054, \"EndTime\": 1673981790.346322, \"Dimensions\": {\"Algorithm\": \"Linear Learner\", \"Host\": \"algo-1\", \"Operation\": \"training\", \"epoch\": 3, \"model\": 1}, \"Metrics\": {\"train_absolute_loss_objective\": {\"sum\": 0.7596956062316894, \"count\": 1, \"min\": 0.7596956062316894, \"max\": 0.7596956062316894}}}\u001b[0m\n",
      "\u001b[34m#metrics {\"StartTime\": 1673981790.3463933, \"EndTime\": 1673981790.3464112, \"Dimensions\": {\"Algorithm\": \"Linear Learner\", \"Host\": \"algo-1\", \"Operation\": \"training\", \"epoch\": 3, \"model\": 2}, \"Metrics\": {\"train_absolute_loss_objective\": {\"sum\": 0.743819465637207, \"count\": 1, \"min\": 0.743819465637207, \"max\": 0.743819465637207}}}\u001b[0m\n",
      "\u001b[34m#metrics {\"StartTime\": 1673981790.3464682, \"EndTime\": 1673981790.3464844, \"Dimensions\": {\"Algorithm\": \"Linear Learner\", \"Host\": \"algo-1\", \"Operation\": \"training\", \"epoch\": 3, \"model\": 3}, \"Metrics\": {\"train_absolute_loss_objective\": {\"sum\": 0.7587454128265381, \"count\": 1, \"min\": 0.7587454128265381, \"max\": 0.7587454128265381}}}\u001b[0m\n",
      "\u001b[34m#metrics {\"StartTime\": 1673981790.346537, \"EndTime\": 1673981790.346554, \"Dimensions\": {\"Algorithm\": \"Linear Learner\", \"Host\": \"algo-1\", \"Operation\": \"training\", \"epoch\": 3, \"model\": 4}, \"Metrics\": {\"train_absolute_loss_objective\": {\"sum\": 0.2679017210006714, \"count\": 1, \"min\": 0.2679017210006714, \"max\": 0.2679017210006714}}}\u001b[0m\n",
      "\u001b[34m#metrics {\"StartTime\": 1673981790.3466082, \"EndTime\": 1673981790.3466234, \"Dimensions\": {\"Algorithm\": \"Linear Learner\", \"Host\": \"algo-1\", \"Operation\": \"training\", \"epoch\": 3, \"model\": 5}, \"Metrics\": {\"train_absolute_loss_objective\": {\"sum\": 0.2630136966705322, \"count\": 1, \"min\": 0.2630136966705322, \"max\": 0.2630136966705322}}}\u001b[0m\n",
      "\u001b[34m#metrics {\"StartTime\": 1673981790.346675, \"EndTime\": 1673981790.346694, \"Dimensions\": {\"Algorithm\": \"Linear Learner\", \"Host\": \"algo-1\", \"Operation\": \"training\", \"epoch\": 3, \"model\": 6}, \"Metrics\": {\"train_absolute_loss_objective\": {\"sum\": 0.3471939849853516, \"count\": 1, \"min\": 0.3471939849853516, \"max\": 0.3471939849853516}}}\u001b[0m\n",
      "\u001b[34m#metrics {\"StartTime\": 1673981790.3467536, \"EndTime\": 1673981790.3467705, \"Dimensions\": {\"Algorithm\": \"Linear Learner\", \"Host\": \"algo-1\", \"Operation\": \"training\", \"epoch\": 3, \"model\": 7}, \"Metrics\": {\"train_absolute_loss_objective\": {\"sum\": 0.3416657304763794, \"count\": 1, \"min\": 0.3416657304763794, \"max\": 0.3416657304763794}}}\u001b[0m\n",
      "\u001b[34m#metrics {\"StartTime\": 1673981790.3468223, \"EndTime\": 1673981790.3468382, \"Dimensions\": {\"Algorithm\": \"Linear Learner\", \"Host\": \"algo-1\", \"Operation\": \"training\", \"epoch\": 3, \"model\": 8}, \"Metrics\": {\"train_absolute_loss_objective\": {\"sum\": 0.7937742090225219, \"count\": 1, \"min\": 0.7937742090225219, \"max\": 0.7937742090225219}}}\u001b[0m\n",
      "\u001b[34m#metrics {\"StartTime\": 1673981790.3468928, \"EndTime\": 1673981790.346911, \"Dimensions\": {\"Algorithm\": \"Linear Learner\", \"Host\": \"algo-1\", \"Operation\": \"training\", \"epoch\": 3, \"model\": 9}, \"Metrics\": {\"train_absolute_loss_objective\": {\"sum\": 0.730668683052063, \"count\": 1, \"min\": 0.730668683052063, \"max\": 0.730668683052063}}}\u001b[0m\n",
      "\u001b[34m#metrics {\"StartTime\": 1673981790.3469584, \"EndTime\": 1673981790.3469722, \"Dimensions\": {\"Algorithm\": \"Linear Learner\", \"Host\": \"algo-1\", \"Operation\": \"training\", \"epoch\": 3, \"model\": 10}, \"Metrics\": {\"train_absolute_loss_objective\": {\"sum\": 0.737161545753479, \"count\": 1, \"min\": 0.737161545753479, \"max\": 0.737161545753479}}}\u001b[0m\n",
      "\u001b[34m#metrics {\"StartTime\": 1673981790.3470314, \"EndTime\": 1673981790.3470519, \"Dimensions\": {\"Algorithm\": \"Linear Learner\", \"Host\": \"algo-1\", \"Operation\": \"training\", \"epoch\": 3, \"model\": 11}, \"Metrics\": {\"train_absolute_loss_objective\": {\"sum\": 0.7232585239410401, \"count\": 1, \"min\": 0.7232585239410401, \"max\": 0.7232585239410401}}}\u001b[0m\n",
      "\u001b[34m#metrics {\"StartTime\": 1673981790.3470967, \"EndTime\": 1673981790.3471177, \"Dimensions\": {\"Algorithm\": \"Linear Learner\", \"Host\": \"algo-1\", \"Operation\": \"training\", \"epoch\": 3, \"model\": 12}, \"Metrics\": {\"train_absolute_loss_objective\": {\"sum\": 0.32266147136688234, \"count\": 1, \"min\": 0.32266147136688234, \"max\": 0.32266147136688234}}}\u001b[0m\n",
      "\u001b[34m#metrics {\"StartTime\": 1673981790.347174, \"EndTime\": 1673981790.347187, \"Dimensions\": {\"Algorithm\": \"Linear Learner\", \"Host\": \"algo-1\", \"Operation\": \"training\", \"epoch\": 3, \"model\": 13}, \"Metrics\": {\"train_absolute_loss_objective\": {\"sum\": 0.31667365550994875, \"count\": 1, \"min\": 0.31667365550994875, \"max\": 0.31667365550994875}}}\u001b[0m\n",
      "\u001b[34m#metrics {\"StartTime\": 1673981790.3472354, \"EndTime\": 1673981790.3472521, \"Dimensions\": {\"Algorithm\": \"Linear Learner\", \"Host\": \"algo-1\", \"Operation\": \"training\", \"epoch\": 3, \"model\": 14}, \"Metrics\": {\"train_absolute_loss_objective\": {\"sum\": 0.32369060039520264, \"count\": 1, \"min\": 0.32369060039520264, \"max\": 0.32369060039520264}}}\u001b[0m\n",
      "\u001b[34m#metrics {\"StartTime\": 1673981790.3473122, \"EndTime\": 1673981790.3473225, \"Dimensions\": {\"Algorithm\": \"Linear Learner\", \"Host\": \"algo-1\", \"Operation\": \"training\", \"epoch\": 3, \"model\": 15}, \"Metrics\": {\"train_absolute_loss_objective\": {\"sum\": 0.2808043384552002, \"count\": 1, \"min\": 0.2808043384552002, \"max\": 0.2808043384552002}}}\u001b[0m\n",
      "\u001b[34m#metrics {\"StartTime\": 1673981790.347375, \"EndTime\": 1673981790.3473883, \"Dimensions\": {\"Algorithm\": \"Linear Learner\", \"Host\": \"algo-1\", \"Operation\": \"training\", \"epoch\": 3, \"model\": 16}, \"Metrics\": {\"train_absolute_loss_objective\": {\"sum\": 0.710197114944458, \"count\": 1, \"min\": 0.710197114944458, \"max\": 0.710197114944458}}}\u001b[0m\n",
      "\u001b[34m#metrics {\"StartTime\": 1673981790.347427, \"EndTime\": 1673981790.3474412, \"Dimensions\": {\"Algorithm\": \"Linear Learner\", \"Host\": \"algo-1\", \"Operation\": \"training\", \"epoch\": 3, \"model\": 17}, \"Metrics\": {\"train_absolute_loss_objective\": {\"sum\": 0.755717225074768, \"count\": 1, \"min\": 0.755717225074768, \"max\": 0.755717225074768}}}\u001b[0m\n",
      "\u001b[34m#metrics {\"StartTime\": 1673981790.3474839, \"EndTime\": 1673981790.3474965, \"Dimensions\": {\"Algorithm\": \"Linear Learner\", \"Host\": \"algo-1\", \"Operation\": \"training\", \"epoch\": 3, \"model\": 18}, \"Metrics\": {\"train_absolute_loss_objective\": {\"sum\": 0.7345349502563476, \"count\": 1, \"min\": 0.7345349502563476, \"max\": 0.7345349502563476}}}\u001b[0m\n",
      "\u001b[34m#metrics {\"StartTime\": 1673981790.3475323, \"EndTime\": 1673981790.3475435, \"Dimensions\": {\"Algorithm\": \"Linear Learner\", \"Host\": \"algo-1\", \"Operation\": \"training\", \"epoch\": 3, \"model\": 19}, \"Metrics\": {\"train_absolute_loss_objective\": {\"sum\": 0.7317343807220459, \"count\": 1, \"min\": 0.7317343807220459, \"max\": 0.7317343807220459}}}\u001b[0m\n",
      "\u001b[34m#metrics {\"StartTime\": 1673981790.3475804, \"EndTime\": 1673981790.347591, \"Dimensions\": {\"Algorithm\": \"Linear Learner\", \"Host\": \"algo-1\", \"Operation\": \"training\", \"epoch\": 3, \"model\": 20}, \"Metrics\": {\"train_absolute_loss_objective\": {\"sum\": 0.2750132608413696, \"count\": 1, \"min\": 0.2750132608413696, \"max\": 0.2750132608413696}}}\u001b[0m\n",
      "\u001b[34m#metrics {\"StartTime\": 1673981790.3476264, \"EndTime\": 1673981790.3476367, \"Dimensions\": {\"Algorithm\": \"Linear Learner\", \"Host\": \"algo-1\", \"Operation\": \"training\", \"epoch\": 3, \"model\": 21}, \"Metrics\": {\"train_absolute_loss_objective\": {\"sum\": 0.2568195724487305, \"count\": 1, \"min\": 0.2568195724487305, \"max\": 0.2568195724487305}}}\u001b[0m\n",
      "\u001b[34m#metrics {\"StartTime\": 1673981790.3476725, \"EndTime\": 1673981790.3476837, \"Dimensions\": {\"Algorithm\": \"Linear Learner\", \"Host\": \"algo-1\", \"Operation\": \"training\", \"epoch\": 3, \"model\": 22}, \"Metrics\": {\"train_absolute_loss_objective\": {\"sum\": 0.27964235305786134, \"count\": 1, \"min\": 0.27964235305786134, \"max\": 0.27964235305786134}}}\u001b[0m\n",
      "\u001b[34m#metrics {\"StartTime\": 1673981790.347724, \"EndTime\": 1673981790.3477387, \"Dimensions\": {\"Algorithm\": \"Linear Learner\", \"Host\": \"algo-1\", \"Operation\": \"training\", \"epoch\": 3, \"model\": 23}, \"Metrics\": {\"train_absolute_loss_objective\": {\"sum\": 0.25540038108825686, \"count\": 1, \"min\": 0.25540038108825686, \"max\": 0.25540038108825686}}}\u001b[0m\n",
      "\u001b[34m#metrics {\"StartTime\": 1673981790.3477883, \"EndTime\": 1673981790.3478036, \"Dimensions\": {\"Algorithm\": \"Linear Learner\", \"Host\": \"algo-1\", \"Operation\": \"training\", \"epoch\": 3, \"model\": 24}, \"Metrics\": {\"train_absolute_loss_objective\": {\"sum\": 0.8109908533096314, \"count\": 1, \"min\": 0.8109908533096314, \"max\": 0.8109908533096314}}}\u001b[0m\n",
      "\u001b[34m#metrics {\"StartTime\": 1673981790.3478534, \"EndTime\": 1673981790.3478699, \"Dimensions\": {\"Algorithm\": \"Linear Learner\", \"Host\": \"algo-1\", \"Operation\": \"training\", \"epoch\": 3, \"model\": 25}, \"Metrics\": {\"train_absolute_loss_objective\": {\"sum\": 0.7932529449462891, \"count\": 1, \"min\": 0.7932529449462891, \"max\": 0.7932529449462891}}}\u001b[0m\n",
      "\u001b[34m#metrics {\"StartTime\": 1673981790.3479183, \"EndTime\": 1673981790.3479345, \"Dimensions\": {\"Algorithm\": \"Linear Learner\", \"Host\": \"algo-1\", \"Operation\": \"training\", \"epoch\": 3, \"model\": 26}, \"Metrics\": {\"train_absolute_loss_objective\": {\"sum\": 0.8010265731811523, \"count\": 1, \"min\": 0.8010265731811523, \"max\": 0.8010265731811523}}}\u001b[0m\n",
      "\u001b[34m#metrics {\"StartTime\": 1673981790.3479843, \"EndTime\": 1673981790.3480015, \"Dimensions\": {\"Algorithm\": \"Linear Learner\", \"Host\": \"algo-1\", \"Operation\": \"training\", \"epoch\": 3, \"model\": 27}, \"Metrics\": {\"train_absolute_loss_objective\": {\"sum\": 0.8050885534286499, \"count\": 1, \"min\": 0.8050885534286499, \"max\": 0.8050885534286499}}}\u001b[0m\n",
      "\u001b[34m#metrics {\"StartTime\": 1673981790.3480527, \"EndTime\": 1673981790.3480663, \"Dimensions\": {\"Algorithm\": \"Linear Learner\", \"Host\": \"algo-1\", \"Operation\": \"training\", \"epoch\": 3, \"model\": 28}, \"Metrics\": {\"train_absolute_loss_objective\": {\"sum\": 0.8833331489562988, \"count\": 1, \"min\": 0.8833331489562988, \"max\": 0.8833331489562988}}}\u001b[0m\n",
      "\u001b[34m#metrics {\"StartTime\": 1673981790.3481045, \"EndTime\": 1673981790.3481169, \"Dimensions\": {\"Algorithm\": \"Linear Learner\", \"Host\": \"algo-1\", \"Operation\": \"training\", \"epoch\": 3, \"model\": 29}, \"Metrics\": {\"train_absolute_loss_objective\": {\"sum\": 0.8846463012695313, \"count\": 1, \"min\": 0.8846463012695313, \"max\": 0.8846463012695313}}}\u001b[0m\n",
      "\u001b[34m#metrics {\"StartTime\": 1673981790.3481593, \"EndTime\": 1673981790.3481712, \"Dimensions\": {\"Algorithm\": \"Linear Learner\", \"Host\": \"algo-1\", \"Operation\": \"training\", \"epoch\": 3, \"model\": 30}, \"Metrics\": {\"train_absolute_loss_objective\": {\"sum\": 0.889650936126709, \"count\": 1, \"min\": 0.889650936126709, \"max\": 0.889650936126709}}}\u001b[0m\n",
      "\u001b[34m#metrics {\"StartTime\": 1673981790.3482084, \"EndTime\": 1673981790.3482192, \"Dimensions\": {\"Algorithm\": \"Linear Learner\", \"Host\": \"algo-1\", \"Operation\": \"training\", \"epoch\": 3, \"model\": 31}, \"Metrics\": {\"train_absolute_loss_objective\": {\"sum\": 0.9013916015625, \"count\": 1, \"min\": 0.9013916015625, \"max\": 0.9013916015625}}}\u001b[0m\n",
      "\u001b[34m[01/17/2023 18:56:30 INFO 140353027958592] #quality_metric: host=algo-1, epoch=3, train absolute_loss_objective <loss>=0.7415670394897461\u001b[0m\n",
      "\u001b[34m[01/17/2023 18:56:30 INFO 140353027958592] #early_stopping_criteria_metric: host=algo-1, epoch=3, criteria=absolute_loss_objective, value=0.25540038108825686\u001b[0m\n",
      "\u001b[34m[01/17/2023 18:56:30 INFO 140353027958592] Saving model for epoch: 3\u001b[0m\n",
      "\u001b[34m[01/17/2023 18:56:30 INFO 140353027958592] Saved checkpoint to \"/tmp/tmpgzwks3ni/mx-mod-0000.params\"\u001b[0m\n",
      "\u001b[34m[01/17/2023 18:56:30 INFO 140353027958592] #progress_metric: host=algo-1, completed 0.8 % of epochs\u001b[0m\n",
      "\u001b[34m#metrics {\"StartTime\": 1673981790.2360919, \"EndTime\": 1673981790.3580275, \"Dimensions\": {\"Algorithm\": \"Linear Learner\", \"Host\": \"algo-1\", \"Operation\": \"training\", \"epoch\": 3, \"Meta\": \"training_data_iter\"}, \"Metrics\": {\"Total Records Seen\": {\"sum\": 135.0, \"count\": 1, \"min\": 135, \"max\": 135}, \"Total Batches Seen\": {\"sum\": 31.0, \"count\": 1, \"min\": 31, \"max\": 31}, \"Max Records Seen Between Resets\": {\"sum\": 26.0, \"count\": 1, \"min\": 26, \"max\": 26}, \"Max Batches Seen Between Resets\": {\"sum\": 6.0, \"count\": 1, \"min\": 6, \"max\": 6}, \"Reset Count\": {\"sum\": 6.0, \"count\": 1, \"min\": 6, \"max\": 6}, \"Number of Records Since Last Reset\": {\"sum\": 26.0, \"count\": 1, \"min\": 26, \"max\": 26}, \"Number of Batches Since Last Reset\": {\"sum\": 6.0, \"count\": 1, \"min\": 6, \"max\": 6}}}\u001b[0m\n",
      "\u001b[34m[01/17/2023 18:56:30 INFO 140353027958592] #throughput_metric: host=algo-1, train throughput=213.02070786883388 records/second\u001b[0m\n",
      "\u001b[34m[2023-01-17 18:56:30.461] [tensorio] [info] epoch_stats={\"data_pipeline\": \"/opt/ml/input/data/train\", \"epoch\": 12, \"duration\": 102, \"num_examples\": 6, \"num_bytes\": 1248}\u001b[0m\n",
      "\u001b[34m#metrics {\"StartTime\": 1673981790.4613051, \"EndTime\": 1673981790.4613981, \"Dimensions\": {\"Algorithm\": \"Linear Learner\", \"Host\": \"algo-1\", \"Operation\": \"training\", \"epoch\": 4, \"model\": 0}, \"Metrics\": {\"train_absolute_loss_objective\": {\"sum\": 0.7196188879013061, \"count\": 1, \"min\": 0.7196188879013061, \"max\": 0.7196188879013061}}}\u001b[0m\n",
      "\u001b[34m#metrics {\"StartTime\": 1673981790.4614785, \"EndTime\": 1673981790.4614918, \"Dimensions\": {\"Algorithm\": \"Linear Learner\", \"Host\": \"algo-1\", \"Operation\": \"training\", \"epoch\": 4, \"model\": 1}, \"Metrics\": {\"train_absolute_loss_objective\": {\"sum\": 0.7364151239395141, \"count\": 1, \"min\": 0.7364151239395141, \"max\": 0.7364151239395141}}}\u001b[0m\n",
      "\u001b[34m#metrics {\"StartTime\": 1673981790.4615622, \"EndTime\": 1673981790.4615822, \"Dimensions\": {\"Algorithm\": \"Linear Learner\", \"Host\": \"algo-1\", \"Operation\": \"training\", \"epoch\": 4, \"model\": 2}, \"Metrics\": {\"train_absolute_loss_objective\": {\"sum\": 0.7216279983520508, \"count\": 1, \"min\": 0.7216279983520508, \"max\": 0.7216279983520508}}}\u001b[0m\n",
      "\u001b[34m#metrics {\"StartTime\": 1673981790.4616542, \"EndTime\": 1673981790.4616776, \"Dimensions\": {\"Algorithm\": \"Linear Learner\", \"Host\": \"algo-1\", \"Operation\": \"training\", \"epoch\": 4, \"model\": 3}, \"Metrics\": {\"train_absolute_loss_objective\": {\"sum\": 0.7355015563964844, \"count\": 1, \"min\": 0.7355015563964844, \"max\": 0.7355015563964844}}}\u001b[0m\n",
      "\u001b[34m#metrics {\"StartTime\": 1673981790.4617403, \"EndTime\": 1673981790.4617646, \"Dimensions\": {\"Algorithm\": \"Linear Learner\", \"Host\": \"algo-1\", \"Operation\": \"training\", \"epoch\": 4, \"model\": 4}, \"Metrics\": {\"train_absolute_loss_objective\": {\"sum\": 0.2365428924560547, \"count\": 1, \"min\": 0.2365428924560547, \"max\": 0.2365428924560547}}}\u001b[0m\n",
      "\u001b[34m#metrics {\"StartTime\": 1673981790.4618304, \"EndTime\": 1673981790.4618506, \"Dimensions\": {\"Algorithm\": \"Linear Learner\", \"Host\": \"algo-1\", \"Operation\": \"training\", \"epoch\": 4, \"model\": 5}, \"Metrics\": {\"train_absolute_loss_objective\": {\"sum\": 0.2334516429901123, \"count\": 1, \"min\": 0.2334516429901123, \"max\": 0.2334516429901123}}}\u001b[0m\n",
      "\u001b[34m#metrics {\"StartTime\": 1673981790.4619105, \"EndTime\": 1673981790.4619339, \"Dimensions\": {\"Algorithm\": \"Linear Learner\", \"Host\": \"algo-1\", \"Operation\": \"training\", \"epoch\": 4, \"model\": 6}, \"Metrics\": {\"train_absolute_loss_objective\": {\"sum\": 0.3605166292190552, \"count\": 1, \"min\": 0.3605166292190552, \"max\": 0.3605166292190552}}}\u001b[0m\n",
      "\u001b[34m#metrics {\"StartTime\": 1673981790.4619925, \"EndTime\": 1673981790.4620042, \"Dimensions\": {\"Algorithm\": \"Linear Learner\", \"Host\": \"algo-1\", \"Operation\": \"training\", \"epoch\": 4, \"model\": 7}, \"Metrics\": {\"train_absolute_loss_objective\": {\"sum\": 0.3206349563598633, \"count\": 1, \"min\": 0.3206349563598633, \"max\": 0.3206349563598633}}}\u001b[0m\n",
      "\u001b[34m#metrics {\"StartTime\": 1673981790.4620683, \"EndTime\": 1673981790.462087, \"Dimensions\": {\"Algorithm\": \"Linear Learner\", \"Host\": \"algo-1\", \"Operation\": \"training\", \"epoch\": 4, \"model\": 8}, \"Metrics\": {\"train_absolute_loss_objective\": {\"sum\": 0.7692527866363525, \"count\": 1, \"min\": 0.7692527866363525, \"max\": 0.7692527866363525}}}\u001b[0m\n",
      "\u001b[34m#metrics {\"StartTime\": 1673981790.462141, \"EndTime\": 1673981790.462164, \"Dimensions\": {\"Algorithm\": \"Linear Learner\", \"Host\": \"algo-1\", \"Operation\": \"training\", \"epoch\": 4, \"model\": 9}, \"Metrics\": {\"train_absolute_loss_objective\": {\"sum\": 0.7089845609664917, \"count\": 1, \"min\": 0.7089845609664917, \"max\": 0.7089845609664917}}}\u001b[0m\n",
      "\u001b[34m#metrics {\"StartTime\": 1673981790.46223, \"EndTime\": 1673981790.4622478, \"Dimensions\": {\"Algorithm\": \"Linear Learner\", \"Host\": \"algo-1\", \"Operation\": \"training\", \"epoch\": 4, \"model\": 10}, \"Metrics\": {\"train_absolute_loss_objective\": {\"sum\": 0.7149238872528076, \"count\": 1, \"min\": 0.7149238872528076, \"max\": 0.7149238872528076}}}\u001b[0m\n",
      "\u001b[34m#metrics {\"StartTime\": 1673981790.4623134, \"EndTime\": 1673981790.4623368, \"Dimensions\": {\"Algorithm\": \"Linear Learner\", \"Host\": \"algo-1\", \"Operation\": \"training\", \"epoch\": 4, \"model\": 11}, \"Metrics\": {\"train_absolute_loss_objective\": {\"sum\": 0.7022260618209839, \"count\": 1, \"min\": 0.7022260618209839, \"max\": 0.7022260618209839}}}\u001b[0m\n",
      "\u001b[34m#metrics {\"StartTime\": 1673981790.4623992, \"EndTime\": 1673981790.4624176, \"Dimensions\": {\"Algorithm\": \"Linear Learner\", \"Host\": \"algo-1\", \"Operation\": \"training\", \"epoch\": 4, \"model\": 12}, \"Metrics\": {\"train_absolute_loss_objective\": {\"sum\": 0.2970148181915283, \"count\": 1, \"min\": 0.2970148181915283, \"max\": 0.2970148181915283}}}\u001b[0m\n",
      "\u001b[34m#metrics {\"StartTime\": 1673981790.4624715, \"EndTime\": 1673981790.4624944, \"Dimensions\": {\"Algorithm\": \"Linear Learner\", \"Host\": \"algo-1\", \"Operation\": \"training\", \"epoch\": 4, \"model\": 13}, \"Metrics\": {\"train_absolute_loss_objective\": {\"sum\": 0.28429131031036375, \"count\": 1, \"min\": 0.28429131031036375, \"max\": 0.28429131031036375}}}\u001b[0m\n",
      "\u001b[34m#metrics {\"StartTime\": 1673981790.4625604, \"EndTime\": 1673981790.4625745, \"Dimensions\": {\"Algorithm\": \"Linear Learner\", \"Host\": \"algo-1\", \"Operation\": \"training\", \"epoch\": 4, \"model\": 14}, \"Metrics\": {\"train_absolute_loss_objective\": {\"sum\": 0.2980211234092712, \"count\": 1, \"min\": 0.2980211234092712, \"max\": 0.2980211234092712}}}\u001b[0m\n",
      "\u001b[34m#metrics {\"StartTime\": 1673981790.4626305, \"EndTime\": 1673981790.4626465, \"Dimensions\": {\"Algorithm\": \"Linear Learner\", \"Host\": \"algo-1\", \"Operation\": \"training\", \"epoch\": 4, \"model\": 15}, \"Metrics\": {\"train_absolute_loss_objective\": {\"sum\": 0.26881267547607424, \"count\": 1, \"min\": 0.26881267547607424, \"max\": 0.26881267547607424}}}\u001b[0m\n",
      "\u001b[34m#metrics {\"StartTime\": 1673981790.4627156, \"EndTime\": 1673981790.4627368, \"Dimensions\": {\"Algorithm\": \"Linear Learner\", \"Host\": \"algo-1\", \"Operation\": \"training\", \"epoch\": 4, \"model\": 16}, \"Metrics\": {\"train_absolute_loss_objective\": {\"sum\": 0.6910659980773926, \"count\": 1, \"min\": 0.6910659980773926, \"max\": 0.6910659980773926}}}\u001b[0m\n",
      "\u001b[34m#metrics {\"StartTime\": 1673981790.4628453, \"EndTime\": 1673981790.4628665, \"Dimensions\": {\"Algorithm\": \"Linear Learner\", \"Host\": \"algo-1\", \"Operation\": \"training\", \"epoch\": 4, \"model\": 17}, \"Metrics\": {\"train_absolute_loss_objective\": {\"sum\": 0.7330626964569091, \"count\": 1, \"min\": 0.7330626964569091, \"max\": 0.7330626964569091}}}\u001b[0m\n",
      "\u001b[34m#metrics {\"StartTime\": 1673981790.4629378, \"EndTime\": 1673981790.462957, \"Dimensions\": {\"Algorithm\": \"Linear Learner\", \"Host\": \"algo-1\", \"Operation\": \"training\", \"epoch\": 4, \"model\": 18}, \"Metrics\": {\"train_absolute_loss_objective\": {\"sum\": 0.7131124877929688, \"count\": 1, \"min\": 0.7131124877929688, \"max\": 0.7131124877929688}}}\u001b[0m\n",
      "\u001b[34m#metrics {\"StartTime\": 1673981790.4630213, \"EndTime\": 1673981790.4630392, \"Dimensions\": {\"Algorithm\": \"Linear Learner\", \"Host\": \"algo-1\", \"Operation\": \"training\", \"epoch\": 4, \"model\": 19}, \"Metrics\": {\"train_absolute_loss_objective\": {\"sum\": 0.71056640625, \"count\": 1, \"min\": 0.71056640625, \"max\": 0.71056640625}}}\u001b[0m\n",
      "\u001b[34m#metrics {\"StartTime\": 1673981790.4630823, \"EndTime\": 1673981790.4631007, \"Dimensions\": {\"Algorithm\": \"Linear Learner\", \"Host\": \"algo-1\", \"Operation\": \"training\", \"epoch\": 4, \"model\": 20}, \"Metrics\": {\"train_absolute_loss_objective\": {\"sum\": 0.2785785675048828, \"count\": 1, \"min\": 0.2785785675048828, \"max\": 0.2785785675048828}}}\u001b[0m\n",
      "\u001b[34m#metrics {\"StartTime\": 1673981790.463161, \"EndTime\": 1673981790.4631767, \"Dimensions\": {\"Algorithm\": \"Linear Learner\", \"Host\": \"algo-1\", \"Operation\": \"training\", \"epoch\": 4, \"model\": 21}, \"Metrics\": {\"train_absolute_loss_objective\": {\"sum\": 0.26473313331604004, \"count\": 1, \"min\": 0.26473313331604004, \"max\": 0.26473313331604004}}}\u001b[0m\n",
      "\u001b[34m#metrics {\"StartTime\": 1673981790.463245, \"EndTime\": 1673981790.4632628, \"Dimensions\": {\"Algorithm\": \"Linear Learner\", \"Host\": \"algo-1\", \"Operation\": \"training\", \"epoch\": 4, \"model\": 22}, \"Metrics\": {\"train_absolute_loss_objective\": {\"sum\": 0.29176321506500247, \"count\": 1, \"min\": 0.29176321506500247, \"max\": 0.29176321506500247}}}\u001b[0m\n",
      "\u001b[34m#metrics {\"StartTime\": 1673981790.4633229, \"EndTime\": 1673981790.4633434, \"Dimensions\": {\"Algorithm\": \"Linear Learner\", \"Host\": \"algo-1\", \"Operation\": \"training\", \"epoch\": 4, \"model\": 23}, \"Metrics\": {\"train_absolute_loss_objective\": {\"sum\": 0.26822916984558104, \"count\": 1, \"min\": 0.26822916984558104, \"max\": 0.26822916984558104}}}\u001b[0m\n",
      "\u001b[34m#metrics {\"StartTime\": 1673981790.463404, \"EndTime\": 1673981790.463422, \"Dimensions\": {\"Algorithm\": \"Linear Learner\", \"Host\": \"algo-1\", \"Operation\": \"training\", \"epoch\": 4, \"model\": 24}, \"Metrics\": {\"train_absolute_loss_objective\": {\"sum\": 0.806318244934082, \"count\": 1, \"min\": 0.806318244934082, \"max\": 0.806318244934082}}}\u001b[0m\n",
      "\u001b[34m#metrics {\"StartTime\": 1673981790.4635482, \"EndTime\": 1673981790.4635742, \"Dimensions\": {\"Algorithm\": \"Linear Learner\", \"Host\": \"algo-1\", \"Operation\": \"training\", \"epoch\": 4, \"model\": 25}, \"Metrics\": {\"train_absolute_loss_objective\": {\"sum\": 0.7902661800384522, \"count\": 1, \"min\": 0.7902661800384522, \"max\": 0.7902661800384522}}}\u001b[0m\n",
      "\u001b[34m#metrics {\"StartTime\": 1673981790.463628, \"EndTime\": 1673981790.4636395, \"Dimensions\": {\"Algorithm\": \"Linear Learner\", \"Host\": \"algo-1\", \"Operation\": \"training\", \"epoch\": 4, \"model\": 26}, \"Metrics\": {\"train_absolute_loss_objective\": {\"sum\": 0.7987100982666016, \"count\": 1, \"min\": 0.7987100982666016, \"max\": 0.7987100982666016}}}\u001b[0m\n",
      "\u001b[34m#metrics {\"StartTime\": 1673981790.4637058, \"EndTime\": 1673981790.4637218, \"Dimensions\": {\"Algorithm\": \"Linear Learner\", \"Host\": \"algo-1\", \"Operation\": \"training\", \"epoch\": 4, \"model\": 27}, \"Metrics\": {\"train_absolute_loss_objective\": {\"sum\": 0.7952431201934814, \"count\": 1, \"min\": 0.7952431201934814, \"max\": 0.7952431201934814}}}\u001b[0m\n",
      "\u001b[34m#metrics {\"StartTime\": 1673981790.46377, \"EndTime\": 1673981790.463786, \"Dimensions\": {\"Algorithm\": \"Linear Learner\", \"Host\": \"algo-1\", \"Operation\": \"training\", \"epoch\": 4, \"model\": 28}, \"Metrics\": {\"train_absolute_loss_objective\": {\"sum\": 0.8543793106079102, \"count\": 1, \"min\": 0.8543793106079102, \"max\": 0.8543793106079102}}}\u001b[0m\n",
      "\u001b[34m#metrics {\"StartTime\": 1673981790.4638293, \"EndTime\": 1673981790.4638445, \"Dimensions\": {\"Algorithm\": \"Linear Learner\", \"Host\": \"algo-1\", \"Operation\": \"training\", \"epoch\": 4, \"model\": 29}, \"Metrics\": {\"train_absolute_loss_objective\": {\"sum\": 0.8558922863006592, \"count\": 1, \"min\": 0.8558922863006592, \"max\": 0.8558922863006592}}}\u001b[0m\n",
      "\u001b[34m#metrics {\"StartTime\": 1673981790.463907, \"EndTime\": 1673981790.4639196, \"Dimensions\": {\"Algorithm\": \"Linear Learner\", \"Host\": \"algo-1\", \"Operation\": \"training\", \"epoch\": 4, \"model\": 30}, \"Metrics\": {\"train_absolute_loss_objective\": {\"sum\": 0.8451972103118897, \"count\": 1, \"min\": 0.8451972103118897, \"max\": 0.8451972103118897}}}\u001b[0m\n",
      "\u001b[34m#metrics {\"StartTime\": 1673981790.4639814, \"EndTime\": 1673981790.4639993, \"Dimensions\": {\"Algorithm\": \"Linear Learner\", \"Host\": \"algo-1\", \"Operation\": \"training\", \"epoch\": 4, \"model\": 31}, \"Metrics\": {\"train_absolute_loss_objective\": {\"sum\": 0.8421410274505615, \"count\": 1, \"min\": 0.8421410274505615, \"max\": 0.8421410274505615}}}\u001b[0m\n",
      "\u001b[34m[01/17/2023 18:56:30 INFO 140353027958592] #quality_metric: host=algo-1, epoch=4, train absolute_loss_objective <loss>=0.7196188879013061\u001b[0m\n",
      "\u001b[34m[01/17/2023 18:56:30 INFO 140353027958592] #early_stopping_criteria_metric: host=algo-1, epoch=4, criteria=absolute_loss_objective, value=0.2334516429901123\u001b[0m\n",
      "\u001b[34m[01/17/2023 18:56:30 INFO 140353027958592] Saving model for epoch: 4\u001b[0m\n",
      "\u001b[34m[01/17/2023 18:56:30 INFO 140353027958592] Saved checkpoint to \"/tmp/tmp1y29ls74/mx-mod-0000.params\"\u001b[0m\n",
      "\u001b[34m[01/17/2023 18:56:30 INFO 140353027958592] #progress_metric: host=algo-1, completed 1.0 % of epochs\u001b[0m\n",
      "\u001b[34m#metrics {\"StartTime\": 1673981790.358322, \"EndTime\": 1673981790.4707797, \"Dimensions\": {\"Algorithm\": \"Linear Learner\", \"Host\": \"algo-1\", \"Operation\": \"training\", \"epoch\": 4, \"Meta\": \"training_data_iter\"}, \"Metrics\": {\"Total Records Seen\": {\"sum\": 161.0, \"count\": 1, \"min\": 161, \"max\": 161}, \"Total Batches Seen\": {\"sum\": 37.0, \"count\": 1, \"min\": 37, \"max\": 37}, \"Max Records Seen Between Resets\": {\"sum\": 26.0, \"count\": 1, \"min\": 26, \"max\": 26}, \"Max Batches Seen Between Resets\": {\"sum\": 6.0, \"count\": 1, \"min\": 6, \"max\": 6}, \"Reset Count\": {\"sum\": 7.0, \"count\": 1, \"min\": 7, \"max\": 7}, \"Number of Records Since Last Reset\": {\"sum\": 26.0, \"count\": 1, \"min\": 26, \"max\": 26}, \"Number of Batches Since Last Reset\": {\"sum\": 6.0, \"count\": 1, \"min\": 6, \"max\": 6}}}\u001b[0m\n",
      "\u001b[34m[01/17/2023 18:56:30 INFO 140353027958592] #throughput_metric: host=algo-1, train throughput=230.8963916849108 records/second\u001b[0m\n",
      "\u001b[34m[2023-01-17 18:56:30.616] [tensorio] [info] epoch_stats={\"data_pipeline\": \"/opt/ml/input/data/train\", \"epoch\": 14, \"duration\": 145, \"num_examples\": 6, \"num_bytes\": 1248}\u001b[0m\n",
      "\u001b[34m#metrics {\"StartTime\": 1673981790.6165705, \"EndTime\": 1673981790.6166525, \"Dimensions\": {\"Algorithm\": \"Linear Learner\", \"Host\": \"algo-1\", \"Operation\": \"training\", \"epoch\": 5, \"model\": 0}, \"Metrics\": {\"train_absolute_loss_objective\": {\"sum\": 0.708951530456543, \"count\": 1, \"min\": 0.708951530456543, \"max\": 0.708951530456543}}}\u001b[0m\n",
      "\u001b[34m#metrics {\"StartTime\": 1673981790.61675, \"EndTime\": 1673981790.6167777, \"Dimensions\": {\"Algorithm\": \"Linear Learner\", \"Host\": \"algo-1\", \"Operation\": \"training\", \"epoch\": 5, \"model\": 1}, \"Metrics\": {\"train_absolute_loss_objective\": {\"sum\": 0.726318244934082, \"count\": 1, \"min\": 0.726318244934082, \"max\": 0.726318244934082}}}\u001b[0m\n",
      "\u001b[34m#metrics {\"StartTime\": 1673981790.616842, \"EndTime\": 1673981790.616857, \"Dimensions\": {\"Algorithm\": \"Linear Learner\", \"Host\": \"algo-1\", \"Operation\": \"training\", \"epoch\": 5, \"model\": 2}, \"Metrics\": {\"train_absolute_loss_objective\": {\"sum\": 0.7108481550216674, \"count\": 1, \"min\": 0.7108481550216674, \"max\": 0.7108481550216674}}}\u001b[0m\n",
      "\u001b[34m#metrics {\"StartTime\": 1673981790.6169217, \"EndTime\": 1673981790.6169431, \"Dimensions\": {\"Algorithm\": \"Linear Learner\", \"Host\": \"algo-1\", \"Operation\": \"training\", \"epoch\": 5, \"model\": 3}, \"Metrics\": {\"train_absolute_loss_objective\": {\"sum\": 0.7255181455612183, \"count\": 1, \"min\": 0.7255181455612183, \"max\": 0.7255181455612183}}}\u001b[0m\n",
      "\u001b[34m#metrics {\"StartTime\": 1673981790.6170034, \"EndTime\": 1673981790.6170282, \"Dimensions\": {\"Algorithm\": \"Linear Learner\", \"Host\": \"algo-1\", \"Operation\": \"training\", \"epoch\": 5, \"model\": 4}, \"Metrics\": {\"train_absolute_loss_objective\": {\"sum\": 0.1974351453781128, \"count\": 1, \"min\": 0.1974351453781128, \"max\": 0.1974351453781128}}}\u001b[0m\n",
      "\u001b[34m#metrics {\"StartTime\": 1673981790.6170857, \"EndTime\": 1673981790.6171005, \"Dimensions\": {\"Algorithm\": \"Linear Learner\", \"Host\": \"algo-1\", \"Operation\": \"training\", \"epoch\": 5, \"model\": 5}, \"Metrics\": {\"train_absolute_loss_objective\": {\"sum\": 0.19657713890075684, \"count\": 1, \"min\": 0.19657713890075684, \"max\": 0.19657713890075684}}}\u001b[0m\n",
      "\u001b[34m#metrics {\"StartTime\": 1673981790.6171618, \"EndTime\": 1673981790.6171794, \"Dimensions\": {\"Algorithm\": \"Linear Learner\", \"Host\": \"algo-1\", \"Operation\": \"training\", \"epoch\": 5, \"model\": 6}, \"Metrics\": {\"train_absolute_loss_objective\": {\"sum\": 0.29959487676620483, \"count\": 1, \"min\": 0.29959487676620483, \"max\": 0.29959487676620483}}}\u001b[0m\n",
      "\u001b[34m#metrics {\"StartTime\": 1673981790.6172423, \"EndTime\": 1673981790.6172655, \"Dimensions\": {\"Algorithm\": \"Linear Learner\", \"Host\": \"algo-1\", \"Operation\": \"training\", \"epoch\": 5, \"model\": 7}, \"Metrics\": {\"train_absolute_loss_objective\": {\"sum\": 0.2525821900367737, \"count\": 1, \"min\": 0.2525821900367737, \"max\": 0.2525821900367737}}}\u001b[0m\n",
      "\u001b[34m#metrics {\"StartTime\": 1673981790.6173308, \"EndTime\": 1673981790.617371, \"Dimensions\": {\"Algorithm\": \"Linear Learner\", \"Host\": \"algo-1\", \"Operation\": \"training\", \"epoch\": 5, \"model\": 8}, \"Metrics\": {\"train_absolute_loss_objective\": {\"sum\": 0.7549249267578125, \"count\": 1, \"min\": 0.7549249267578125, \"max\": 0.7549249267578125}}}\u001b[0m\n",
      "\u001b[34m#metrics {\"StartTime\": 1673981790.6174326, \"EndTime\": 1673981790.617455, \"Dimensions\": {\"Algorithm\": \"Linear Learner\", \"Host\": \"algo-1\", \"Operation\": \"training\", \"epoch\": 5, \"model\": 9}, \"Metrics\": {\"train_absolute_loss_objective\": {\"sum\": 0.6968629121780395, \"count\": 1, \"min\": 0.6968629121780395, \"max\": 0.6968629121780395}}}\u001b[0m\n",
      "\u001b[34m#metrics {\"StartTime\": 1673981790.6175182, \"EndTime\": 1673981790.6175294, \"Dimensions\": {\"Algorithm\": \"Linear Learner\", \"Host\": \"algo-1\", \"Operation\": \"training\", \"epoch\": 5, \"model\": 10}, \"Metrics\": {\"train_absolute_loss_objective\": {\"sum\": 0.7025014305114746, \"count\": 1, \"min\": 0.7025014305114746, \"max\": 0.7025014305114746}}}\u001b[0m\n",
      "\u001b[34m#metrics {\"StartTime\": 1673981790.6175961, \"EndTime\": 1673981790.6176176, \"Dimensions\": {\"Algorithm\": \"Linear Learner\", \"Host\": \"algo-1\", \"Operation\": \"training\", \"epoch\": 5, \"model\": 11}, \"Metrics\": {\"train_absolute_loss_objective\": {\"sum\": 0.6904831886291504, \"count\": 1, \"min\": 0.6904831886291504, \"max\": 0.6904831886291504}}}\u001b[0m\n",
      "\u001b[34m#metrics {\"StartTime\": 1673981790.617679, \"EndTime\": 1673981790.6176975, \"Dimensions\": {\"Algorithm\": \"Linear Learner\", \"Host\": \"algo-1\", \"Operation\": \"training\", \"epoch\": 5, \"model\": 12}, \"Metrics\": {\"train_absolute_loss_objective\": {\"sum\": 0.20515432357788085, \"count\": 1, \"min\": 0.20515432357788085, \"max\": 0.20515432357788085}}}\u001b[0m\n",
      "\u001b[34m#metrics {\"StartTime\": 1673981790.617762, \"EndTime\": 1673981790.6177738, \"Dimensions\": {\"Algorithm\": \"Linear Learner\", \"Host\": \"algo-1\", \"Operation\": \"training\", \"epoch\": 5, \"model\": 13}, \"Metrics\": {\"train_absolute_loss_objective\": {\"sum\": 0.20466176509857179, \"count\": 1, \"min\": 0.20466176509857179, \"max\": 0.20466176509857179}}}\u001b[0m\n",
      "\u001b[34m#metrics {\"StartTime\": 1673981790.61784, \"EndTime\": 1673981790.617855, \"Dimensions\": {\"Algorithm\": \"Linear Learner\", \"Host\": \"algo-1\", \"Operation\": \"training\", \"epoch\": 5, \"model\": 14}, \"Metrics\": {\"train_absolute_loss_objective\": {\"sum\": 0.20550931692123414, \"count\": 1, \"min\": 0.20550931692123414, \"max\": 0.20550931692123414}}}\u001b[0m\n",
      "\u001b[34m#metrics {\"StartTime\": 1673981790.6179209, \"EndTime\": 1673981790.617934, \"Dimensions\": {\"Algorithm\": \"Linear Learner\", \"Host\": \"algo-1\", \"Operation\": \"training\", \"epoch\": 5, \"model\": 15}, \"Metrics\": {\"train_absolute_loss_objective\": {\"sum\": 0.20255324363708496, \"count\": 1, \"min\": 0.20255324363708496, \"max\": 0.20255324363708496}}}\u001b[0m\n",
      "\u001b[34m#metrics {\"StartTime\": 1673981790.6180327, \"EndTime\": 1673981790.6180508, \"Dimensions\": {\"Algorithm\": \"Linear Learner\", \"Host\": \"algo-1\", \"Operation\": \"training\", \"epoch\": 5, \"model\": 16}, \"Metrics\": {\"train_absolute_loss_objective\": {\"sum\": 0.6809292078018189, \"count\": 1, \"min\": 0.6809292078018189, \"max\": 0.6809292078018189}}}\u001b[0m\n",
      "\u001b[34m#metrics {\"StartTime\": 1673981790.6181383, \"EndTime\": 1673981790.6181526, \"Dimensions\": {\"Algorithm\": \"Linear Learner\", \"Host\": \"algo-1\", \"Operation\": \"training\", \"epoch\": 5, \"model\": 17}, \"Metrics\": {\"train_absolute_loss_objective\": {\"sum\": 0.7240374660491944, \"count\": 1, \"min\": 0.7240374660491944, \"max\": 0.7240374660491944}}}\u001b[0m\n",
      "\u001b[34m#metrics {\"StartTime\": 1673981790.618244, \"EndTime\": 1673981790.6182618, \"Dimensions\": {\"Algorithm\": \"Linear Learner\", \"Host\": \"algo-1\", \"Operation\": \"training\", \"epoch\": 5, \"model\": 18}, \"Metrics\": {\"train_absolute_loss_objective\": {\"sum\": 0.7015747928619385, \"count\": 1, \"min\": 0.7015747928619385, \"max\": 0.7015747928619385}}}\u001b[0m\n",
      "\u001b[34m#metrics {\"StartTime\": 1673981790.6184318, \"EndTime\": 1673981790.6184554, \"Dimensions\": {\"Algorithm\": \"Linear Learner\", \"Host\": \"algo-1\", \"Operation\": \"training\", \"epoch\": 5, \"model\": 19}, \"Metrics\": {\"train_absolute_loss_objective\": {\"sum\": 0.6991765785217285, \"count\": 1, \"min\": 0.6991765785217285, \"max\": 0.6991765785217285}}}\u001b[0m\n",
      "\u001b[34m#metrics {\"StartTime\": 1673981790.6185775, \"EndTime\": 1673981790.6186035, \"Dimensions\": {\"Algorithm\": \"Linear Learner\", \"Host\": \"algo-1\", \"Operation\": \"training\", \"epoch\": 5, \"model\": 20}, \"Metrics\": {\"train_absolute_loss_objective\": {\"sum\": 0.32805944919586183, \"count\": 1, \"min\": 0.32805944919586183, \"max\": 0.32805944919586183}}}\u001b[0m\n",
      "\u001b[34m#metrics {\"StartTime\": 1673981790.6188133, \"EndTime\": 1673981790.6188369, \"Dimensions\": {\"Algorithm\": \"Linear Learner\", \"Host\": \"algo-1\", \"Operation\": \"training\", \"epoch\": 5, \"model\": 21}, \"Metrics\": {\"train_absolute_loss_objective\": {\"sum\": 0.29703951358795166, \"count\": 1, \"min\": 0.29703951358795166, \"max\": 0.29703951358795166}}}\u001b[0m\n",
      "\u001b[34m#metrics {\"StartTime\": 1673981790.6189177, \"EndTime\": 1673981790.6189332, \"Dimensions\": {\"Algorithm\": \"Linear Learner\", \"Host\": \"algo-1\", \"Operation\": \"training\", \"epoch\": 5, \"model\": 22}, \"Metrics\": {\"train_absolute_loss_objective\": {\"sum\": 0.34106640338897704, \"count\": 1, \"min\": 0.34106640338897704, \"max\": 0.34106640338897704}}}\u001b[0m\n",
      "\u001b[34m#metrics {\"StartTime\": 1673981790.6190012, \"EndTime\": 1673981790.6190197, \"Dimensions\": {\"Algorithm\": \"Linear Learner\", \"Host\": \"algo-1\", \"Operation\": \"training\", \"epoch\": 5, \"model\": 23}, \"Metrics\": {\"train_absolute_loss_objective\": {\"sum\": 0.33456570625305176, \"count\": 1, \"min\": 0.33456570625305176, \"max\": 0.33456570625305176}}}\u001b[0m\n",
      "\u001b[34m#metrics {\"StartTime\": 1673981790.6190677, \"EndTime\": 1673981790.6190825, \"Dimensions\": {\"Algorithm\": \"Linear Learner\", \"Host\": \"algo-1\", \"Operation\": \"training\", \"epoch\": 5, \"model\": 24}, \"Metrics\": {\"train_absolute_loss_objective\": {\"sum\": 0.801144905090332, \"count\": 1, \"min\": 0.801144905090332, \"max\": 0.801144905090332}}}\u001b[0m\n",
      "\u001b[34m#metrics {\"StartTime\": 1673981790.6191928, \"EndTime\": 1673981790.6192102, \"Dimensions\": {\"Algorithm\": \"Linear Learner\", \"Host\": \"algo-1\", \"Operation\": \"training\", \"epoch\": 5, \"model\": 25}, \"Metrics\": {\"train_absolute_loss_objective\": {\"sum\": 0.7943231201171875, \"count\": 1, \"min\": 0.7943231201171875, \"max\": 0.7943231201171875}}}\u001b[0m\n",
      "\u001b[34m#metrics {\"StartTime\": 1673981790.6193314, \"EndTime\": 1673981790.6193514, \"Dimensions\": {\"Algorithm\": \"Linear Learner\", \"Host\": \"algo-1\", \"Operation\": \"training\", \"epoch\": 5, \"model\": 26}, \"Metrics\": {\"train_absolute_loss_objective\": {\"sum\": 0.7967411041259765, \"count\": 1, \"min\": 0.7967411041259765, \"max\": 0.7967411041259765}}}\u001b[0m\n",
      "\u001b[34m#metrics {\"StartTime\": 1673981790.6194468, \"EndTime\": 1673981790.6194592, \"Dimensions\": {\"Algorithm\": \"Linear Learner\", \"Host\": \"algo-1\", \"Operation\": \"training\", \"epoch\": 5, \"model\": 27}, \"Metrics\": {\"train_absolute_loss_objective\": {\"sum\": 0.7933771896362305, \"count\": 1, \"min\": 0.7933771896362305, \"max\": 0.7933771896362305}}}\u001b[0m\n",
      "\u001b[34m#metrics {\"StartTime\": 1673981790.6195571, \"EndTime\": 1673981790.619582, \"Dimensions\": {\"Algorithm\": \"Linear Learner\", \"Host\": \"algo-1\", \"Operation\": \"training\", \"epoch\": 5, \"model\": 28}, \"Metrics\": {\"train_absolute_loss_objective\": {\"sum\": 0.8731864261627197, \"count\": 1, \"min\": 0.8731864261627197, \"max\": 0.8731864261627197}}}\u001b[0m\n",
      "\u001b[34m#metrics {\"StartTime\": 1673981790.6196866, \"EndTime\": 1673981790.6197035, \"Dimensions\": {\"Algorithm\": \"Linear Learner\", \"Host\": \"algo-1\", \"Operation\": \"training\", \"epoch\": 5, \"model\": 29}, \"Metrics\": {\"train_absolute_loss_objective\": {\"sum\": 0.8757370662689209, \"count\": 1, \"min\": 0.8757370662689209, \"max\": 0.8757370662689209}}}\u001b[0m\n",
      "\u001b[34m#metrics {\"StartTime\": 1673981790.6198938, \"EndTime\": 1673981790.6199117, \"Dimensions\": {\"Algorithm\": \"Linear Learner\", \"Host\": \"algo-1\", \"Operation\": \"training\", \"epoch\": 5, \"model\": 30}, \"Metrics\": {\"train_absolute_loss_objective\": {\"sum\": 0.8788138008117676, \"count\": 1, \"min\": 0.8788138008117676, \"max\": 0.8788138008117676}}}\u001b[0m\n",
      "\u001b[34m#metrics {\"StartTime\": 1673981790.6200297, \"EndTime\": 1673981790.6200507, \"Dimensions\": {\"Algorithm\": \"Linear Learner\", \"Host\": \"algo-1\", \"Operation\": \"training\", \"epoch\": 5, \"model\": 31}, \"Metrics\": {\"train_absolute_loss_objective\": {\"sum\": 0.8807061195373536, \"count\": 1, \"min\": 0.8807061195373536, \"max\": 0.8807061195373536}}}\u001b[0m\n",
      "\u001b[34m[01/17/2023 18:56:30 INFO 140353027958592] #quality_metric: host=algo-1, epoch=5, train absolute_loss_objective <loss>=0.708951530456543\u001b[0m\n",
      "\u001b[34m[01/17/2023 18:56:30 INFO 140353027958592] #early_stopping_criteria_metric: host=algo-1, epoch=5, criteria=absolute_loss_objective, value=0.19657713890075684\u001b[0m\n",
      "\u001b[34m[01/17/2023 18:56:30 INFO 140353027958592] Epoch 5: Loss improved. Updating best model\u001b[0m\n",
      "\u001b[34m[01/17/2023 18:56:30 INFO 140353027958592] Saving model for epoch: 5\u001b[0m\n",
      "\u001b[34m[01/17/2023 18:56:30 INFO 140353027958592] Saved checkpoint to \"/tmp/tmpgwbdozdo/mx-mod-0000.params\"\u001b[0m\n",
      "\u001b[34m[01/17/2023 18:56:30 INFO 140353027958592] #progress_metric: host=algo-1, completed 1.2 % of epochs\u001b[0m\n",
      "\u001b[34m#metrics {\"StartTime\": 1673981790.4710772, \"EndTime\": 1673981790.6318927, \"Dimensions\": {\"Algorithm\": \"Linear Learner\", \"Host\": \"algo-1\", \"Operation\": \"training\", \"epoch\": 5, \"Meta\": \"training_data_iter\"}, \"Metrics\": {\"Total Records Seen\": {\"sum\": 187.0, \"count\": 1, \"min\": 187, \"max\": 187}, \"Total Batches Seen\": {\"sum\": 43.0, \"count\": 1, \"min\": 43, \"max\": 43}, \"Max Records Seen Between Resets\": {\"sum\": 26.0, \"count\": 1, \"min\": 26, \"max\": 26}, \"Max Batches Seen Between Resets\": {\"sum\": 6.0, \"count\": 1, \"min\": 6, \"max\": 6}, \"Reset Count\": {\"sum\": 8.0, \"count\": 1, \"min\": 8, \"max\": 8}, \"Number of Records Since Last Reset\": {\"sum\": 26.0, \"count\": 1, \"min\": 26, \"max\": 26}, \"Number of Batches Since Last Reset\": {\"sum\": 6.0, \"count\": 1, \"min\": 6, \"max\": 6}}}\u001b[0m\n",
      "\u001b[34m[01/17/2023 18:56:30 INFO 140353027958592] #throughput_metric: host=algo-1, train throughput=161.54808508495015 records/second\u001b[0m\n",
      "\u001b[34m[2023-01-17 18:56:30.740] [tensorio] [info] epoch_stats={\"data_pipeline\": \"/opt/ml/input/data/train\", \"epoch\": 16, \"duration\": 108, \"num_examples\": 6, \"num_bytes\": 1248}\u001b[0m\n",
      "\u001b[34m#metrics {\"StartTime\": 1673981790.7406757, \"EndTime\": 1673981790.7407396, \"Dimensions\": {\"Algorithm\": \"Linear Learner\", \"Host\": \"algo-1\", \"Operation\": \"training\", \"epoch\": 6, \"model\": 0}, \"Metrics\": {\"train_absolute_loss_objective\": {\"sum\": 0.69472412109375, \"count\": 1, \"min\": 0.69472412109375, \"max\": 0.69472412109375}}}\u001b[0m\n",
      "\u001b[34m#metrics {\"StartTime\": 1673981790.740812, \"EndTime\": 1673981790.7408223, \"Dimensions\": {\"Algorithm\": \"Linear Learner\", \"Host\": \"algo-1\", \"Operation\": \"training\", \"epoch\": 6, \"model\": 1}, \"Metrics\": {\"train_absolute_loss_objective\": {\"sum\": 0.7125193643569946, \"count\": 1, \"min\": 0.7125193643569946, \"max\": 0.7125193643569946}}}\u001b[0m\n",
      "\u001b[34m#metrics {\"StartTime\": 1673981790.7408626, \"EndTime\": 1673981790.7408793, \"Dimensions\": {\"Algorithm\": \"Linear Learner\", \"Host\": \"algo-1\", \"Operation\": \"training\", \"epoch\": 6, \"model\": 2}, \"Metrics\": {\"train_absolute_loss_objective\": {\"sum\": 0.6966207218170166, \"count\": 1, \"min\": 0.6966207218170166, \"max\": 0.6966207218170166}}}\u001b[0m\n",
      "\u001b[34m#metrics {\"StartTime\": 1673981790.7409077, \"EndTime\": 1673981790.7409172, \"Dimensions\": {\"Algorithm\": \"Linear Learner\", \"Host\": \"algo-1\", \"Operation\": \"training\", \"epoch\": 6, \"model\": 3}, \"Metrics\": {\"train_absolute_loss_objective\": {\"sum\": 0.7117192459106445, \"count\": 1, \"min\": 0.7117192459106445, \"max\": 0.7117192459106445}}}\u001b[0m\n",
      "\u001b[34m#metrics {\"StartTime\": 1673981790.740956, \"EndTime\": 1673981790.7409654, \"Dimensions\": {\"Algorithm\": \"Linear Learner\", \"Host\": \"algo-1\", \"Operation\": \"training\", \"epoch\": 6, \"model\": 4}, \"Metrics\": {\"train_absolute_loss_objective\": {\"sum\": 0.24318156242370606, \"count\": 1, \"min\": 0.24318156242370606, \"max\": 0.24318156242370606}}}\u001b[0m\n",
      "\u001b[34m#metrics {\"StartTime\": 1673981790.741001, \"EndTime\": 1673981790.7410061, \"Dimensions\": {\"Algorithm\": \"Linear Learner\", \"Host\": \"algo-1\", \"Operation\": \"training\", \"epoch\": 6, \"model\": 5}, \"Metrics\": {\"train_absolute_loss_objective\": {\"sum\": 0.2503860664367676, \"count\": 1, \"min\": 0.2503860664367676, \"max\": 0.2503860664367676}}}\u001b[0m\n",
      "\u001b[34m#metrics {\"StartTime\": 1673981790.741041, \"EndTime\": 1673981790.7410457, \"Dimensions\": {\"Algorithm\": \"Linear Learner\", \"Host\": \"algo-1\", \"Operation\": \"training\", \"epoch\": 6, \"model\": 6}, \"Metrics\": {\"train_absolute_loss_objective\": {\"sum\": 0.24242504835128784, \"count\": 1, \"min\": 0.24242504835128784, \"max\": 0.24242504835128784}}}\u001b[0m\n",
      "\u001b[34m#metrics {\"StartTime\": 1673981790.741077, \"EndTime\": 1673981790.741086, \"Dimensions\": {\"Algorithm\": \"Linear Learner\", \"Host\": \"algo-1\", \"Operation\": \"training\", \"epoch\": 6, \"model\": 7}, \"Metrics\": {\"train_absolute_loss_objective\": {\"sum\": 0.2518950939178467, \"count\": 1, \"min\": 0.2518950939178467, \"max\": 0.2518950939178467}}}\u001b[0m\n",
      "\u001b[34m#metrics {\"StartTime\": 1673981790.7411215, \"EndTime\": 1673981790.7411304, \"Dimensions\": {\"Algorithm\": \"Linear Learner\", \"Host\": \"algo-1\", \"Operation\": \"training\", \"epoch\": 6, \"model\": 8}, \"Metrics\": {\"train_absolute_loss_objective\": {\"sum\": 0.7414420270919799, \"count\": 1, \"min\": 0.7414420270919799, \"max\": 0.7414420270919799}}}\u001b[0m\n",
      "\u001b[34m#metrics {\"StartTime\": 1673981790.7411597, \"EndTime\": 1673981790.7411695, \"Dimensions\": {\"Algorithm\": \"Linear Learner\", \"Host\": \"algo-1\", \"Operation\": \"training\", \"epoch\": 6, \"model\": 9}, \"Metrics\": {\"train_absolute_loss_objective\": {\"sum\": 0.6817722797393799, \"count\": 1, \"min\": 0.6817722797393799, \"max\": 0.6817722797393799}}}\u001b[0m\n",
      "\u001b[34m#metrics {\"StartTime\": 1673981790.741201, \"EndTime\": 1673981790.741215, \"Dimensions\": {\"Algorithm\": \"Linear Learner\", \"Host\": \"algo-1\", \"Operation\": \"training\", \"epoch\": 6, \"model\": 10}, \"Metrics\": {\"train_absolute_loss_objective\": {\"sum\": 0.6877497959136963, \"count\": 1, \"min\": 0.6877497959136963, \"max\": 0.6877497959136963}}}\u001b[0m\n",
      "\u001b[34m#metrics {\"StartTime\": 1673981790.7412438, \"EndTime\": 1673981790.7412498, \"Dimensions\": {\"Algorithm\": \"Linear Learner\", \"Host\": \"algo-1\", \"Operation\": \"training\", \"epoch\": 6, \"model\": 11}, \"Metrics\": {\"train_absolute_loss_objective\": {\"sum\": 0.6753929996490479, \"count\": 1, \"min\": 0.6753929996490479, \"max\": 0.6753929996490479}}}\u001b[0m\n",
      "\u001b[34m#metrics {\"StartTime\": 1673981790.741281, \"EndTime\": 1673981790.7412896, \"Dimensions\": {\"Algorithm\": \"Linear Learner\", \"Host\": \"algo-1\", \"Operation\": \"training\", \"epoch\": 6, \"model\": 12}, \"Metrics\": {\"train_absolute_loss_objective\": {\"sum\": 0.2145858335494995, \"count\": 1, \"min\": 0.2145858335494995, \"max\": 0.2145858335494995}}}\u001b[0m\n",
      "\u001b[34m#metrics {\"StartTime\": 1673981790.741324, \"EndTime\": 1673981790.7413292, \"Dimensions\": {\"Algorithm\": \"Linear Learner\", \"Host\": \"algo-1\", \"Operation\": \"training\", \"epoch\": 6, \"model\": 13}, \"Metrics\": {\"train_absolute_loss_objective\": {\"sum\": 0.21633435726165773, \"count\": 1, \"min\": 0.21633435726165773, \"max\": 0.21633435726165773}}}\u001b[0m\n",
      "\u001b[34m#metrics {\"StartTime\": 1673981790.7413971, \"EndTime\": 1673981790.7414105, \"Dimensions\": {\"Algorithm\": \"Linear Learner\", \"Host\": \"algo-1\", \"Operation\": \"training\", \"epoch\": 6, \"model\": 14}, \"Metrics\": {\"train_absolute_loss_objective\": {\"sum\": 0.22213221311569215, \"count\": 1, \"min\": 0.22213221311569215, \"max\": 0.22213221311569215}}}\u001b[0m\n",
      "\u001b[34m#metrics {\"StartTime\": 1673981790.7414522, \"EndTime\": 1673981790.7414582, \"Dimensions\": {\"Algorithm\": \"Linear Learner\", \"Host\": \"algo-1\", \"Operation\": \"training\", \"epoch\": 6, \"model\": 15}, \"Metrics\": {\"train_absolute_loss_objective\": {\"sum\": 0.22492082595825194, \"count\": 1, \"min\": 0.22492082595825194, \"max\": 0.22492082595825194}}}\u001b[0m\n",
      "\u001b[34m#metrics {\"StartTime\": 1673981790.7414923, \"EndTime\": 1673981790.7415006, \"Dimensions\": {\"Algorithm\": \"Linear Learner\", \"Host\": \"algo-1\", \"Operation\": \"training\", \"epoch\": 6, \"model\": 16}, \"Metrics\": {\"train_absolute_loss_objective\": {\"sum\": 0.6674663925170898, \"count\": 1, \"min\": 0.6674663925170898, \"max\": 0.6674663925170898}}}\u001b[0m\n",
      "\u001b[34m#metrics {\"StartTime\": 1673981790.7415357, \"EndTime\": 1673981790.741539, \"Dimensions\": {\"Algorithm\": \"Linear Learner\", \"Host\": \"algo-1\", \"Operation\": \"training\", \"epoch\": 6, \"model\": 17}, \"Metrics\": {\"train_absolute_loss_objective\": {\"sum\": 0.7111822032928466, \"count\": 1, \"min\": 0.7111822032928466, \"max\": 0.7111822032928466}}}\u001b[0m\n",
      "\u001b[34m#metrics {\"StartTime\": 1673981790.7415695, \"EndTime\": 1673981790.7415848, \"Dimensions\": {\"Algorithm\": \"Linear Learner\", \"Host\": \"algo-1\", \"Operation\": \"training\", \"epoch\": 6, \"model\": 18}, \"Metrics\": {\"train_absolute_loss_objective\": {\"sum\": 0.6879099082946777, \"count\": 1, \"min\": 0.6879099082946777, \"max\": 0.6879099082946777}}}\u001b[0m\n",
      "\u001b[34m#metrics {\"StartTime\": 1673981790.741615, \"EndTime\": 1673981790.741621, \"Dimensions\": {\"Algorithm\": \"Linear Learner\", \"Host\": \"algo-1\", \"Operation\": \"training\", \"epoch\": 6, \"model\": 19}, \"Metrics\": {\"train_absolute_loss_objective\": {\"sum\": 0.6852290296554565, \"count\": 1, \"min\": 0.6852290296554565, \"max\": 0.6852290296554565}}}\u001b[0m\n",
      "\u001b[34m#metrics {\"StartTime\": 1673981790.7416487, \"EndTime\": 1673981790.7416625, \"Dimensions\": {\"Algorithm\": \"Linear Learner\", \"Host\": \"algo-1\", \"Operation\": \"training\", \"epoch\": 6, \"model\": 20}, \"Metrics\": {\"train_absolute_loss_objective\": {\"sum\": 0.3620898723602295, \"count\": 1, \"min\": 0.3620898723602295, \"max\": 0.3620898723602295}}}\u001b[0m\n",
      "\u001b[34m#metrics {\"StartTime\": 1673981790.7416937, \"EndTime\": 1673981790.7416983, \"Dimensions\": {\"Algorithm\": \"Linear Learner\", \"Host\": \"algo-1\", \"Operation\": \"training\", \"epoch\": 6, \"model\": 21}, \"Metrics\": {\"train_absolute_loss_objective\": {\"sum\": 0.34711409091949463, \"count\": 1, \"min\": 0.34711409091949463, \"max\": 0.34711409091949463}}}\u001b[0m\n",
      "\u001b[34m#metrics {\"StartTime\": 1673981790.7417324, \"EndTime\": 1673981790.741742, \"Dimensions\": {\"Algorithm\": \"Linear Learner\", \"Host\": \"algo-1\", \"Operation\": \"training\", \"epoch\": 6, \"model\": 22}, \"Metrics\": {\"train_absolute_loss_objective\": {\"sum\": 0.36484676599502563, \"count\": 1, \"min\": 0.36484676599502563, \"max\": 0.36484676599502563}}}\u001b[0m\n",
      "\u001b[34m#metrics {\"StartTime\": 1673981790.7417738, \"EndTime\": 1673981790.741788, \"Dimensions\": {\"Algorithm\": \"Linear Learner\", \"Host\": \"algo-1\", \"Operation\": \"training\", \"epoch\": 6, \"model\": 23}, \"Metrics\": {\"train_absolute_loss_objective\": {\"sum\": 0.3655781412124634, \"count\": 1, \"min\": 0.3655781412124634, \"max\": 0.3655781412124634}}}\u001b[0m\n",
      "\u001b[34m#metrics {\"StartTime\": 1673981790.741814, \"EndTime\": 1673981790.7418225, \"Dimensions\": {\"Algorithm\": \"Linear Learner\", \"Host\": \"algo-1\", \"Operation\": \"training\", \"epoch\": 6, \"model\": 24}, \"Metrics\": {\"train_absolute_loss_objective\": {\"sum\": 0.8007770872116089, \"count\": 1, \"min\": 0.8007770872116089, \"max\": 0.8007770872116089}}}\u001b[0m\n",
      "\u001b[34m#metrics {\"StartTime\": 1673981790.741858, \"EndTime\": 1673981790.7418664, \"Dimensions\": {\"Algorithm\": \"Linear Learner\", \"Host\": \"algo-1\", \"Operation\": \"training\", \"epoch\": 6, \"model\": 25}, \"Metrics\": {\"train_absolute_loss_objective\": {\"sum\": 0.8000100088119507, \"count\": 1, \"min\": 0.8000100088119507, \"max\": 0.8000100088119507}}}\u001b[0m\n",
      "\u001b[34m#metrics {\"StartTime\": 1673981790.7418923, \"EndTime\": 1673981790.7419016, \"Dimensions\": {\"Algorithm\": \"Linear Learner\", \"Host\": \"algo-1\", \"Operation\": \"training\", \"epoch\": 6, \"model\": 26}, \"Metrics\": {\"train_absolute_loss_objective\": {\"sum\": 0.7965490770339966, \"count\": 1, \"min\": 0.7965490770339966, \"max\": 0.7965490770339966}}}\u001b[0m\n",
      "\u001b[34m#metrics {\"StartTime\": 1673981790.7419367, \"EndTime\": 1673981790.7419448, \"Dimensions\": {\"Algorithm\": \"Linear Learner\", \"Host\": \"algo-1\", \"Operation\": \"training\", \"epoch\": 6, \"model\": 27}, \"Metrics\": {\"train_absolute_loss_objective\": {\"sum\": 0.7976129102706909, \"count\": 1, \"min\": 0.7976129102706909, \"max\": 0.7976129102706909}}}\u001b[0m\n",
      "\u001b[34m#metrics {\"StartTime\": 1673981790.7419713, \"EndTime\": 1673981790.7419798, \"Dimensions\": {\"Algorithm\": \"Linear Learner\", \"Host\": \"algo-1\", \"Operation\": \"training\", \"epoch\": 6, \"model\": 28}, \"Metrics\": {\"train_absolute_loss_objective\": {\"sum\": 0.8054399538040161, \"count\": 1, \"min\": 0.8054399538040161, \"max\": 0.8054399538040161}}}\u001b[0m\n",
      "\u001b[34m#metrics {\"StartTime\": 1673981790.7420173, \"EndTime\": 1673981790.7420201, \"Dimensions\": {\"Algorithm\": \"Linear Learner\", \"Host\": \"algo-1\", \"Operation\": \"training\", \"epoch\": 6, \"model\": 29}, \"Metrics\": {\"train_absolute_loss_objective\": {\"sum\": 0.8064414691925049, \"count\": 1, \"min\": 0.8064414691925049, \"max\": 0.8064414691925049}}}\u001b[0m\n",
      "\u001b[34m#metrics {\"StartTime\": 1673981790.742061, \"EndTime\": 1673981790.7420716, \"Dimensions\": {\"Algorithm\": \"Linear Learner\", \"Host\": \"algo-1\", \"Operation\": \"training\", \"epoch\": 6, \"model\": 30}, \"Metrics\": {\"train_absolute_loss_objective\": {\"sum\": 0.8000871658325195, \"count\": 1, \"min\": 0.8000871658325195, \"max\": 0.8000871658325195}}}\u001b[0m\n",
      "\u001b[34m#metrics {\"StartTime\": 1673981790.7421193, \"EndTime\": 1673981790.7421303, \"Dimensions\": {\"Algorithm\": \"Linear Learner\", \"Host\": \"algo-1\", \"Operation\": \"training\", \"epoch\": 6, \"model\": 31}, \"Metrics\": {\"train_absolute_loss_objective\": {\"sum\": 0.8064916801452636, \"count\": 1, \"min\": 0.8064916801452636, \"max\": 0.8064916801452636}}}\u001b[0m\n",
      "\u001b[34m[01/17/2023 18:56:30 INFO 140353027958592] #quality_metric: host=algo-1, epoch=6, train absolute_loss_objective <loss>=0.69472412109375\u001b[0m\n",
      "\u001b[34m[01/17/2023 18:56:30 INFO 140353027958592] #early_stopping_criteria_metric: host=algo-1, epoch=6, criteria=absolute_loss_objective, value=0.2145858335494995\u001b[0m\n",
      "\u001b[34m[01/17/2023 18:56:30 INFO 140353027958592] Saving model for epoch: 6\u001b[0m\n",
      "\u001b[34m[01/17/2023 18:56:30 INFO 140353027958592] Saved checkpoint to \"/tmp/tmpyqlov0k8/mx-mod-0000.params\"\u001b[0m\n",
      "\u001b[34m[01/17/2023 18:56:30 INFO 140353027958592] #progress_metric: host=algo-1, completed 1.4 % of epochs\u001b[0m\n",
      "\u001b[34m#metrics {\"StartTime\": 1673981790.6321912, \"EndTime\": 1673981790.750559, \"Dimensions\": {\"Algorithm\": \"Linear Learner\", \"Host\": \"algo-1\", \"Operation\": \"training\", \"epoch\": 6, \"Meta\": \"training_data_iter\"}, \"Metrics\": {\"Total Records Seen\": {\"sum\": 213.0, \"count\": 1, \"min\": 213, \"max\": 213}, \"Total Batches Seen\": {\"sum\": 49.0, \"count\": 1, \"min\": 49, \"max\": 49}, \"Max Records Seen Between Resets\": {\"sum\": 26.0, \"count\": 1, \"min\": 26, \"max\": 26}, \"Max Batches Seen Between Resets\": {\"sum\": 6.0, \"count\": 1, \"min\": 6, \"max\": 6}, \"Reset Count\": {\"sum\": 9.0, \"count\": 1, \"min\": 9, \"max\": 9}, \"Number of Records Since Last Reset\": {\"sum\": 26.0, \"count\": 1, \"min\": 26, \"max\": 26}, \"Number of Batches Since Last Reset\": {\"sum\": 6.0, \"count\": 1, \"min\": 6, \"max\": 6}}}\u001b[0m\n",
      "\u001b[34m[01/17/2023 18:56:30 INFO 140353027958592] #throughput_metric: host=algo-1, train throughput=219.43136777503898 records/second\u001b[0m\n",
      "\u001b[34m[2023-01-17 18:56:30.857] [tensorio] [info] epoch_stats={\"data_pipeline\": \"/opt/ml/input/data/train\", \"epoch\": 18, \"duration\": 106, \"num_examples\": 6, \"num_bytes\": 1248}\u001b[0m\n",
      "\u001b[34m#metrics {\"StartTime\": 1673981790.8579419, \"EndTime\": 1673981790.8580391, \"Dimensions\": {\"Algorithm\": \"Linear Learner\", \"Host\": \"algo-1\", \"Operation\": \"training\", \"epoch\": 7, \"model\": 0}, \"Metrics\": {\"train_absolute_loss_objective\": {\"sum\": 0.6784459209442139, \"count\": 1, \"min\": 0.6784459209442139, \"max\": 0.6784459209442139}}}\u001b[0m\n",
      "\u001b[34m#metrics {\"StartTime\": 1673981790.858173, \"EndTime\": 1673981790.858192, \"Dimensions\": {\"Algorithm\": \"Linear Learner\", \"Host\": \"algo-1\", \"Operation\": \"training\", \"epoch\": 7, \"model\": 1}, \"Metrics\": {\"train_absolute_loss_objective\": {\"sum\": 0.6962194538116455, \"count\": 1, \"min\": 0.6962194538116455, \"max\": 0.6962194538116455}}}\u001b[0m\n",
      "\u001b[34m#metrics {\"StartTime\": 1673981790.8582673, \"EndTime\": 1673981790.8583148, \"Dimensions\": {\"Algorithm\": \"Linear Learner\", \"Host\": \"algo-1\", \"Operation\": \"training\", \"epoch\": 7, \"model\": 2}, \"Metrics\": {\"train_absolute_loss_objective\": {\"sum\": 0.6803425025939941, \"count\": 1, \"min\": 0.6803425025939941, \"max\": 0.6803425025939941}}}\u001b[0m\n",
      "\u001b[34m#metrics {\"StartTime\": 1673981790.8584106, \"EndTime\": 1673981790.8584263, \"Dimensions\": {\"Algorithm\": \"Linear Learner\", \"Host\": \"algo-1\", \"Operation\": \"training\", \"epoch\": 7, \"model\": 3}, \"Metrics\": {\"train_absolute_loss_objective\": {\"sum\": 0.6954193353652954, \"count\": 1, \"min\": 0.6954193353652954, \"max\": 0.6954193353652954}}}\u001b[0m\n",
      "\u001b[34m#metrics {\"StartTime\": 1673981790.8585443, \"EndTime\": 1673981790.8585544, \"Dimensions\": {\"Algorithm\": \"Linear Learner\", \"Host\": \"algo-1\", \"Operation\": \"training\", \"epoch\": 7, \"model\": 4}, \"Metrics\": {\"train_absolute_loss_objective\": {\"sum\": 0.19611660957336427, \"count\": 1, \"min\": 0.19611660957336427, \"max\": 0.19611660957336427}}}\u001b[0m\n",
      "\u001b[34m#metrics {\"StartTime\": 1673981790.8587217, \"EndTime\": 1673981790.8587437, \"Dimensions\": {\"Algorithm\": \"Linear Learner\", \"Host\": \"algo-1\", \"Operation\": \"training\", \"epoch\": 7, \"model\": 5}, \"Metrics\": {\"train_absolute_loss_objective\": {\"sum\": 0.2018035840988159, \"count\": 1, \"min\": 0.2018035840988159, \"max\": 0.2018035840988159}}}\u001b[0m\n",
      "\u001b[34m#metrics {\"StartTime\": 1673981790.858861, \"EndTime\": 1673981790.8588724, \"Dimensions\": {\"Algorithm\": \"Linear Learner\", \"Host\": \"algo-1\", \"Operation\": \"training\", \"epoch\": 7, \"model\": 6}, \"Metrics\": {\"train_absolute_loss_objective\": {\"sum\": 0.27857041358947754, \"count\": 1, \"min\": 0.27857041358947754, \"max\": 0.27857041358947754}}}\u001b[0m\n",
      "\u001b[34m#metrics {\"StartTime\": 1673981790.8589475, \"EndTime\": 1673981790.8589706, \"Dimensions\": {\"Algorithm\": \"Linear Learner\", \"Host\": \"algo-1\", \"Operation\": \"training\", \"epoch\": 7, \"model\": 7}, \"Metrics\": {\"train_absolute_loss_objective\": {\"sum\": 0.34371734619140626, \"count\": 1, \"min\": 0.34371734619140626, \"max\": 0.34371734619140626}}}\u001b[0m\n",
      "\u001b[34m#metrics {\"StartTime\": 1673981790.8590832, \"EndTime\": 1673981790.8590999, \"Dimensions\": {\"Algorithm\": \"Linear Learner\", \"Host\": \"algo-1\", \"Operation\": \"training\", \"epoch\": 7, \"model\": 8}, \"Metrics\": {\"train_absolute_loss_objective\": {\"sum\": 0.7256351232528686, \"count\": 1, \"min\": 0.7256351232528686, \"max\": 0.7256351232528686}}}\u001b[0m\n",
      "\u001b[34m#metrics {\"StartTime\": 1673981790.8592145, \"EndTime\": 1673981790.8592367, \"Dimensions\": {\"Algorithm\": \"Linear Learner\", \"Host\": \"algo-1\", \"Operation\": \"training\", \"epoch\": 7, \"model\": 9}, \"Metrics\": {\"train_absolute_loss_objective\": {\"sum\": 0.664623475074768, \"count\": 1, \"min\": 0.664623475074768, \"max\": 0.664623475074768}}}\u001b[0m\n",
      "\u001b[34m#metrics {\"StartTime\": 1673981790.8593352, \"EndTime\": 1673981790.859353, \"Dimensions\": {\"Algorithm\": \"Linear Learner\", \"Host\": \"algo-1\", \"Operation\": \"training\", \"epoch\": 7, \"model\": 10}, \"Metrics\": {\"train_absolute_loss_objective\": {\"sum\": 0.6711098146438599, \"count\": 1, \"min\": 0.6711098146438599, \"max\": 0.6711098146438599}}}\u001b[0m\n",
      "\u001b[34m#metrics {\"StartTime\": 1673981790.85947, \"EndTime\": 1673981790.859489, \"Dimensions\": {\"Algorithm\": \"Linear Learner\", \"Host\": \"algo-1\", \"Operation\": \"training\", \"epoch\": 7, \"model\": 11}, \"Metrics\": {\"train_absolute_loss_objective\": {\"sum\": 0.65824462890625, \"count\": 1, \"min\": 0.65824462890625, \"max\": 0.65824462890625}}}\u001b[0m\n",
      "\u001b[34m#metrics {\"StartTime\": 1673981790.8595915, \"EndTime\": 1673981790.8596096, \"Dimensions\": {\"Algorithm\": \"Linear Learner\", \"Host\": \"algo-1\", \"Operation\": \"training\", \"epoch\": 7, \"model\": 12}, \"Metrics\": {\"train_absolute_loss_objective\": {\"sum\": 0.25457833290100096, \"count\": 1, \"min\": 0.25457833290100096, \"max\": 0.25457833290100096}}}\u001b[0m\n",
      "\u001b[34m#metrics {\"StartTime\": 1673981790.8597171, \"EndTime\": 1673981790.8597322, \"Dimensions\": {\"Algorithm\": \"Linear Learner\", \"Host\": \"algo-1\", \"Operation\": \"training\", \"epoch\": 7, \"model\": 13}, \"Metrics\": {\"train_absolute_loss_objective\": {\"sum\": 0.19887408018112182, \"count\": 1, \"min\": 0.19887408018112182, \"max\": 0.19887408018112182}}}\u001b[0m\n",
      "\u001b[34m#metrics {\"StartTime\": 1673981790.8598597, \"EndTime\": 1673981790.8598852, \"Dimensions\": {\"Algorithm\": \"Linear Learner\", \"Host\": \"algo-1\", \"Operation\": \"training\", \"epoch\": 7, \"model\": 14}, \"Metrics\": {\"train_absolute_loss_objective\": {\"sum\": 0.2702290892601013, \"count\": 1, \"min\": 0.2702290892601013, \"max\": 0.2702290892601013}}}\u001b[0m\n",
      "\u001b[34m#metrics {\"StartTime\": 1673981790.8600166, \"EndTime\": 1673981790.8600318, \"Dimensions\": {\"Algorithm\": \"Linear Learner\", \"Host\": \"algo-1\", \"Operation\": \"training\", \"epoch\": 7, \"model\": 15}, \"Metrics\": {\"train_absolute_loss_objective\": {\"sum\": 0.2004823589324951, \"count\": 1, \"min\": 0.2004823589324951, \"max\": 0.2004823589324951}}}\u001b[0m\n",
      "\u001b[34m#metrics {\"StartTime\": 1673981790.8601398, \"EndTime\": 1673981790.8601592, \"Dimensions\": {\"Algorithm\": \"Linear Learner\", \"Host\": \"algo-1\", \"Operation\": \"training\", \"epoch\": 7, \"model\": 16}, \"Metrics\": {\"train_absolute_loss_objective\": {\"sum\": 0.6524443531036377, \"count\": 1, \"min\": 0.6524443531036377, \"max\": 0.6524443531036377}}}\u001b[0m\n",
      "\u001b[34m#metrics {\"StartTime\": 1673981790.8602626, \"EndTime\": 1673981790.8602874, \"Dimensions\": {\"Algorithm\": \"Linear Learner\", \"Host\": \"algo-1\", \"Operation\": \"training\", \"epoch\": 7, \"model\": 17}, \"Metrics\": {\"train_absolute_loss_objective\": {\"sum\": 0.6961356353759766, \"count\": 1, \"min\": 0.6961356353759766, \"max\": 0.6961356353759766}}}\u001b[0m\n",
      "\u001b[34m#metrics {\"StartTime\": 1673981790.8603928, \"EndTime\": 1673981790.860412, \"Dimensions\": {\"Algorithm\": \"Linear Learner\", \"Host\": \"algo-1\", \"Operation\": \"training\", \"epoch\": 7, \"model\": 18}, \"Metrics\": {\"train_absolute_loss_objective\": {\"sum\": 0.672657823562622, \"count\": 1, \"min\": 0.672657823562622, \"max\": 0.672657823562622}}}\u001b[0m\n",
      "\u001b[34m#metrics {\"StartTime\": 1673981790.8605046, \"EndTime\": 1673981790.8605242, \"Dimensions\": {\"Algorithm\": \"Linear Learner\", \"Host\": \"algo-1\", \"Operation\": \"training\", \"epoch\": 7, \"model\": 19}, \"Metrics\": {\"train_absolute_loss_objective\": {\"sum\": 0.6695491600036622, \"count\": 1, \"min\": 0.6695491600036622, \"max\": 0.6695491600036622}}}\u001b[0m\n",
      "\u001b[34m#metrics {\"StartTime\": 1673981790.860635, \"EndTime\": 1673981790.8606591, \"Dimensions\": {\"Algorithm\": \"Linear Learner\", \"Host\": \"algo-1\", \"Operation\": \"training\", \"epoch\": 7, \"model\": 20}, \"Metrics\": {\"train_absolute_loss_objective\": {\"sum\": 0.3946066331863403, \"count\": 1, \"min\": 0.3946066331863403, \"max\": 0.3946066331863403}}}\u001b[0m\n",
      "\u001b[34m#metrics {\"StartTime\": 1673981790.8607721, \"EndTime\": 1673981790.8607938, \"Dimensions\": {\"Algorithm\": \"Linear Learner\", \"Host\": \"algo-1\", \"Operation\": \"training\", \"epoch\": 7, \"model\": 21}, \"Metrics\": {\"train_absolute_loss_objective\": {\"sum\": 0.3780560064315796, \"count\": 1, \"min\": 0.3780560064315796, \"max\": 0.3780560064315796}}}\u001b[0m\n",
      "\u001b[34m#metrics {\"StartTime\": 1673981790.8608985, \"EndTime\": 1673981790.8609197, \"Dimensions\": {\"Algorithm\": \"Linear Learner\", \"Host\": \"algo-1\", \"Operation\": \"training\", \"epoch\": 7, \"model\": 22}, \"Metrics\": {\"train_absolute_loss_objective\": {\"sum\": 0.3727146768569946, \"count\": 1, \"min\": 0.3727146768569946, \"max\": 0.3727146768569946}}}\u001b[0m\n",
      "\u001b[34m#metrics {\"StartTime\": 1673981790.8610218, \"EndTime\": 1673981790.861041, \"Dimensions\": {\"Algorithm\": \"Linear Learner\", \"Host\": \"algo-1\", \"Operation\": \"training\", \"epoch\": 7, \"model\": 23}, \"Metrics\": {\"train_absolute_loss_objective\": {\"sum\": 0.3866508722305298, \"count\": 1, \"min\": 0.3866508722305298, \"max\": 0.3866508722305298}}}\u001b[0m\n",
      "\u001b[34m#metrics {\"StartTime\": 1673981790.8611379, \"EndTime\": 1673981790.8611526, \"Dimensions\": {\"Algorithm\": \"Linear Learner\", \"Host\": \"algo-1\", \"Operation\": \"training\", \"epoch\": 7, \"model\": 24}, \"Metrics\": {\"train_absolute_loss_objective\": {\"sum\": 0.7971526527404785, \"count\": 1, \"min\": 0.7971526527404785, \"max\": 0.7971526527404785}}}\u001b[0m\n",
      "\u001b[34m#metrics {\"StartTime\": 1673981790.8612676, \"EndTime\": 1673981790.8612819, \"Dimensions\": {\"Algorithm\": \"Linear Learner\", \"Host\": \"algo-1\", \"Operation\": \"training\", \"epoch\": 7, \"model\": 25}, \"Metrics\": {\"train_absolute_loss_objective\": {\"sum\": 0.7988142490386962, \"count\": 1, \"min\": 0.7988142490386962, \"max\": 0.7988142490386962}}}\u001b[0m\n",
      "\u001b[34m#metrics {\"StartTime\": 1673981790.8614185, \"EndTime\": 1673981790.8614388, \"Dimensions\": {\"Algorithm\": \"Linear Learner\", \"Host\": \"algo-1\", \"Operation\": \"training\", \"epoch\": 7, \"model\": 26}, \"Metrics\": {\"train_absolute_loss_objective\": {\"sum\": 0.7941006803512574, \"count\": 1, \"min\": 0.7941006803512574, \"max\": 0.7941006803512574}}}\u001b[0m\n",
      "\u001b[34m#metrics {\"StartTime\": 1673981790.8615417, \"EndTime\": 1673981790.8615608, \"Dimensions\": {\"Algorithm\": \"Linear Learner\", \"Host\": \"algo-1\", \"Operation\": \"training\", \"epoch\": 7, \"model\": 27}, \"Metrics\": {\"train_absolute_loss_objective\": {\"sum\": 0.7963691425323486, \"count\": 1, \"min\": 0.7963691425323486, \"max\": 0.7963691425323486}}}\u001b[0m\n",
      "\u001b[34m#metrics {\"StartTime\": 1673981790.86168, \"EndTime\": 1673981790.8617, \"Dimensions\": {\"Algorithm\": \"Linear Learner\", \"Host\": \"algo-1\", \"Operation\": \"training\", \"epoch\": 7, \"model\": 28}, \"Metrics\": {\"train_absolute_loss_objective\": {\"sum\": 0.8397931432724, \"count\": 1, \"min\": 0.8397931432724, \"max\": 0.8397931432724}}}\u001b[0m\n",
      "\u001b[34m#metrics {\"StartTime\": 1673981790.8618038, \"EndTime\": 1673981790.8618212, \"Dimensions\": {\"Algorithm\": \"Linear Learner\", \"Host\": \"algo-1\", \"Operation\": \"training\", \"epoch\": 7, \"model\": 29}, \"Metrics\": {\"train_absolute_loss_objective\": {\"sum\": 0.8406958436965942, \"count\": 1, \"min\": 0.8406958436965942, \"max\": 0.8406958436965942}}}\u001b[0m\n",
      "\u001b[34m#metrics {\"StartTime\": 1673981790.8619325, \"EndTime\": 1673981790.8619516, \"Dimensions\": {\"Algorithm\": \"Linear Learner\", \"Host\": \"algo-1\", \"Operation\": \"training\", \"epoch\": 7, \"model\": 30}, \"Metrics\": {\"train_absolute_loss_objective\": {\"sum\": 0.8421560668945313, \"count\": 1, \"min\": 0.8421560668945313, \"max\": 0.8421560668945313}}}\u001b[0m\n",
      "\u001b[34m#metrics {\"StartTime\": 1673981790.8620641, \"EndTime\": 1673981790.8620842, \"Dimensions\": {\"Algorithm\": \"Linear Learner\", \"Host\": \"algo-1\", \"Operation\": \"training\", \"epoch\": 7, \"model\": 31}, \"Metrics\": {\"train_absolute_loss_objective\": {\"sum\": 0.8363340616226196, \"count\": 1, \"min\": 0.8363340616226196, \"max\": 0.8363340616226196}}}\u001b[0m\n",
      "\u001b[34m[01/17/2023 18:56:30 INFO 140353027958592] #quality_metric: host=algo-1, epoch=7, train absolute_loss_objective <loss>=0.6784459209442139\u001b[0m\n",
      "\u001b[34m[01/17/2023 18:56:30 INFO 140353027958592] #early_stopping_criteria_metric: host=algo-1, epoch=7, criteria=absolute_loss_objective, value=0.19611660957336427\u001b[0m\n",
      "\u001b[34m[01/17/2023 18:56:30 INFO 140353027958592] Epoch 7: Loss improved. Updating best model\u001b[0m\n",
      "\u001b[34m[01/17/2023 18:56:30 INFO 140353027958592] Saving model for epoch: 7\u001b[0m\n",
      "\u001b[34m[01/17/2023 18:56:30 INFO 140353027958592] Saved checkpoint to \"/tmp/tmpdvfylchp/mx-mod-0000.params\"\u001b[0m\n",
      "\u001b[34m[01/17/2023 18:56:30 INFO 140353027958592] #progress_metric: host=algo-1, completed 1.6 % of epochs\u001b[0m\n",
      "\u001b[34m#metrics {\"StartTime\": 1673981790.7508464, \"EndTime\": 1673981790.8715148, \"Dimensions\": {\"Algorithm\": \"Linear Learner\", \"Host\": \"algo-1\", \"Operation\": \"training\", \"epoch\": 7, \"Meta\": \"training_data_iter\"}, \"Metrics\": {\"Total Records Seen\": {\"sum\": 239.0, \"count\": 1, \"min\": 239, \"max\": 239}, \"Total Batches Seen\": {\"sum\": 55.0, \"count\": 1, \"min\": 55, \"max\": 55}, \"Max Records Seen Between Resets\": {\"sum\": 26.0, \"count\": 1, \"min\": 26, \"max\": 26}, \"Max Batches Seen Between Resets\": {\"sum\": 6.0, \"count\": 1, \"min\": 6, \"max\": 6}, \"Reset Count\": {\"sum\": 10.0, \"count\": 1, \"min\": 10, \"max\": 10}, \"Number of Records Since Last Reset\": {\"sum\": 26.0, \"count\": 1, \"min\": 26, \"max\": 26}, \"Number of Batches Since Last Reset\": {\"sum\": 6.0, \"count\": 1, \"min\": 6, \"max\": 6}}}\u001b[0m\n",
      "\u001b[34m[01/17/2023 18:56:30 INFO 140353027958592] #throughput_metric: host=algo-1, train throughput=215.20712016261126 records/second\u001b[0m\n",
      "\u001b[34m[2023-01-17 18:56:30.998] [tensorio] [info] epoch_stats={\"data_pipeline\": \"/opt/ml/input/data/train\", \"epoch\": 20, \"duration\": 126, \"num_examples\": 6, \"num_bytes\": 1248}\u001b[0m\n",
      "\u001b[34m#metrics {\"StartTime\": 1673981790.9988391, \"EndTime\": 1673981790.9989305, \"Dimensions\": {\"Algorithm\": \"Linear Learner\", \"Host\": \"algo-1\", \"Operation\": \"training\", \"epoch\": 8, \"model\": 0}, \"Metrics\": {\"train_absolute_loss_objective\": {\"sum\": 0.6609999942779541, \"count\": 1, \"min\": 0.6609999942779541, \"max\": 0.6609999942779541}}}\u001b[0m\n",
      "\u001b[34m#metrics {\"StartTime\": 1673981790.999096, \"EndTime\": 1673981790.9991226, \"Dimensions\": {\"Algorithm\": \"Linear Learner\", \"Host\": \"algo-1\", \"Operation\": \"training\", \"epoch\": 8, \"model\": 1}, \"Metrics\": {\"train_absolute_loss_objective\": {\"sum\": 0.678504672050476, \"count\": 1, \"min\": 0.678504672050476, \"max\": 0.678504672050476}}}\u001b[0m\n",
      "\u001b[34m#metrics {\"StartTime\": 1673981790.9992325, \"EndTime\": 1673981790.999255, \"Dimensions\": {\"Algorithm\": \"Linear Learner\", \"Host\": \"algo-1\", \"Operation\": \"training\", \"epoch\": 8, \"model\": 2}, \"Metrics\": {\"train_absolute_loss_objective\": {\"sum\": 0.662896614074707, \"count\": 1, \"min\": 0.662896614074707, \"max\": 0.662896614074707}}}\u001b[0m\n",
      "\u001b[34m#metrics {\"StartTime\": 1673981790.9993522, \"EndTime\": 1673981790.9993708, \"Dimensions\": {\"Algorithm\": \"Linear Learner\", \"Host\": \"algo-1\", \"Operation\": \"training\", \"epoch\": 8, \"model\": 3}, \"Metrics\": {\"train_absolute_loss_objective\": {\"sum\": 0.6777045440673828, \"count\": 1, \"min\": 0.6777045440673828, \"max\": 0.6777045440673828}}}\u001b[0m\n",
      "\u001b[34m#metrics {\"StartTime\": 1673981790.9994617, \"EndTime\": 1673981790.9994802, \"Dimensions\": {\"Algorithm\": \"Linear Learner\", \"Host\": \"algo-1\", \"Operation\": \"training\", \"epoch\": 8, \"model\": 4}, \"Metrics\": {\"train_absolute_loss_objective\": {\"sum\": 0.1989532959461212, \"count\": 1, \"min\": 0.1989532959461212, \"max\": 0.1989532959461212}}}\u001b[0m\n",
      "\u001b[34m#metrics {\"StartTime\": 1673981790.999577, \"EndTime\": 1673981790.9996042, \"Dimensions\": {\"Algorithm\": \"Linear Learner\", \"Host\": \"algo-1\", \"Operation\": \"training\", \"epoch\": 8, \"model\": 5}, \"Metrics\": {\"train_absolute_loss_objective\": {\"sum\": 0.19875449180603028, \"count\": 1, \"min\": 0.19875449180603028, \"max\": 0.19875449180603028}}}\u001b[0m\n",
      "\u001b[34m#metrics {\"StartTime\": 1673981790.9996881, \"EndTime\": 1673981790.9997113, \"Dimensions\": {\"Algorithm\": \"Linear Learner\", \"Host\": \"algo-1\", \"Operation\": \"training\", \"epoch\": 8, \"model\": 6}, \"Metrics\": {\"train_absolute_loss_objective\": {\"sum\": 0.20804264545440673, \"count\": 1, \"min\": 0.20804264545440673, \"max\": 0.20804264545440673}}}\u001b[0m\n",
      "\u001b[34m#metrics {\"StartTime\": 1673981790.9997966, \"EndTime\": 1673981790.9998155, \"Dimensions\": {\"Algorithm\": \"Linear Learner\", \"Host\": \"algo-1\", \"Operation\": \"training\", \"epoch\": 8, \"model\": 7}, \"Metrics\": {\"train_absolute_loss_objective\": {\"sum\": 0.24758859872817993, \"count\": 1, \"min\": 0.24758859872817993, \"max\": 0.24758859872817993}}}\u001b[0m\n",
      "\u001b[34m#metrics {\"StartTime\": 1673981790.999907, \"EndTime\": 1673981790.9999256, \"Dimensions\": {\"Algorithm\": \"Linear Learner\", \"Host\": \"algo-1\", \"Operation\": \"training\", \"epoch\": 8, \"model\": 8}, \"Metrics\": {\"train_absolute_loss_objective\": {\"sum\": 0.7085071182250977, \"count\": 1, \"min\": 0.7085071182250977, \"max\": 0.7085071182250977}}}\u001b[0m\n",
      "\u001b[34m#metrics {\"StartTime\": 1673981791.0000205, \"EndTime\": 1673981791.000041, \"Dimensions\": {\"Algorithm\": \"Linear Learner\", \"Host\": \"algo-1\", \"Operation\": \"training\", \"epoch\": 8, \"model\": 9}, \"Metrics\": {\"train_absolute_loss_objective\": {\"sum\": 0.6472031593322753, \"count\": 1, \"min\": 0.6472031593322753, \"max\": 0.6472031593322753}}}\u001b[0m\n",
      "\u001b[34m#metrics {\"StartTime\": 1673981791.0001354, \"EndTime\": 1673981791.0001557, \"Dimensions\": {\"Algorithm\": \"Linear Learner\", \"Host\": \"algo-1\", \"Operation\": \"training\", \"epoch\": 8, \"model\": 10}, \"Metrics\": {\"train_absolute_loss_objective\": {\"sum\": 0.6544231271743775, \"count\": 1, \"min\": 0.6544231271743775, \"max\": 0.6544231271743775}}}\u001b[0m\n",
      "\u001b[34m#metrics {\"StartTime\": 1673981791.0003154, \"EndTime\": 1673981791.0003366, \"Dimensions\": {\"Algorithm\": \"Linear Learner\", \"Host\": \"algo-1\", \"Operation\": \"training\", \"epoch\": 8, \"model\": 11}, \"Metrics\": {\"train_absolute_loss_objective\": {\"sum\": 0.6404464721679688, \"count\": 1, \"min\": 0.6404464721679688, \"max\": 0.6404464721679688}}}\u001b[0m\n",
      "\u001b[34m#metrics {\"StartTime\": 1673981791.0004318, \"EndTime\": 1673981791.0004466, \"Dimensions\": {\"Algorithm\": \"Linear Learner\", \"Host\": \"algo-1\", \"Operation\": \"training\", \"epoch\": 8, \"model\": 12}, \"Metrics\": {\"train_absolute_loss_objective\": {\"sum\": 0.18894904613494873, \"count\": 1, \"min\": 0.18894904613494873, \"max\": 0.18894904613494873}}}\u001b[0m\n",
      "\u001b[34m#metrics {\"StartTime\": 1673981791.0005395, \"EndTime\": 1673981791.0005574, \"Dimensions\": {\"Algorithm\": \"Linear Learner\", \"Host\": \"algo-1\", \"Operation\": \"training\", \"epoch\": 8, \"model\": 13}, \"Metrics\": {\"train_absolute_loss_objective\": {\"sum\": 0.18241450548171997, \"count\": 1, \"min\": 0.18241450548171997, \"max\": 0.18241450548171997}}}\u001b[0m\n",
      "\u001b[34m#metrics {\"StartTime\": 1673981791.0006406, \"EndTime\": 1673981791.0006588, \"Dimensions\": {\"Algorithm\": \"Linear Learner\", \"Host\": \"algo-1\", \"Operation\": \"training\", \"epoch\": 8, \"model\": 14}, \"Metrics\": {\"train_absolute_loss_objective\": {\"sum\": 0.20222408771514894, \"count\": 1, \"min\": 0.20222408771514894, \"max\": 0.20222408771514894}}}\u001b[0m\n",
      "\u001b[34m#metrics {\"StartTime\": 1673981791.0007472, \"EndTime\": 1673981791.0007648, \"Dimensions\": {\"Algorithm\": \"Linear Learner\", \"Host\": \"algo-1\", \"Operation\": \"training\", \"epoch\": 8, \"model\": 15}, \"Metrics\": {\"train_absolute_loss_objective\": {\"sum\": 0.19479910373687745, \"count\": 1, \"min\": 0.19479910373687745, \"max\": 0.19479910373687745}}}\u001b[0m\n",
      "\u001b[34m#metrics {\"StartTime\": 1673981791.0008478, \"EndTime\": 1673981791.0008645, \"Dimensions\": {\"Algorithm\": \"Linear Learner\", \"Host\": \"algo-1\", \"Operation\": \"training\", \"epoch\": 8, \"model\": 16}, \"Metrics\": {\"train_absolute_loss_objective\": {\"sum\": 0.6370740175247193, \"count\": 1, \"min\": 0.6370740175247193, \"max\": 0.6370740175247193}}}\u001b[0m\n",
      "\u001b[34m#metrics {\"StartTime\": 1673981791.001012, \"EndTime\": 1673981791.001032, \"Dimensions\": {\"Algorithm\": \"Linear Learner\", \"Host\": \"algo-1\", \"Operation\": \"training\", \"epoch\": 8, \"model\": 17}, \"Metrics\": {\"train_absolute_loss_objective\": {\"sum\": 0.6799825143814087, \"count\": 1, \"min\": 0.6799825143814087, \"max\": 0.6799825143814087}}}\u001b[0m\n",
      "\u001b[34m#metrics {\"StartTime\": 1673981791.0011456, \"EndTime\": 1673981791.0011666, \"Dimensions\": {\"Algorithm\": \"Linear Learner\", \"Host\": \"algo-1\", \"Operation\": \"training\", \"epoch\": 8, \"model\": 18}, \"Metrics\": {\"train_absolute_loss_objective\": {\"sum\": 0.6579319906234741, \"count\": 1, \"min\": 0.6579319906234741, \"max\": 0.6579319906234741}}}\u001b[0m\n",
      "\u001b[34m#metrics {\"StartTime\": 1673981791.0014637, \"EndTime\": 1673981791.0014865, \"Dimensions\": {\"Algorithm\": \"Linear Learner\", \"Host\": \"algo-1\", \"Operation\": \"training\", \"epoch\": 8, \"model\": 19}, \"Metrics\": {\"train_absolute_loss_objective\": {\"sum\": 0.654335823059082, \"count\": 1, \"min\": 0.654335823059082, \"max\": 0.654335823059082}}}\u001b[0m\n",
      "\u001b[34m#metrics {\"StartTime\": 1673981791.0015566, \"EndTime\": 1673981791.0015748, \"Dimensions\": {\"Algorithm\": \"Linear Learner\", \"Host\": \"algo-1\", \"Operation\": \"training\", \"epoch\": 8, \"model\": 20}, \"Metrics\": {\"train_absolute_loss_objective\": {\"sum\": 0.38528990030288696, \"count\": 1, \"min\": 0.38528990030288696, \"max\": 0.38528990030288696}}}\u001b[0m\n",
      "\u001b[34m#metrics {\"StartTime\": 1673981791.0016294, \"EndTime\": 1673981791.0016422, \"Dimensions\": {\"Algorithm\": \"Linear Learner\", \"Host\": \"algo-1\", \"Operation\": \"training\", \"epoch\": 8, \"model\": 21}, \"Metrics\": {\"train_absolute_loss_objective\": {\"sum\": 0.39578613758087156, \"count\": 1, \"min\": 0.39578613758087156, \"max\": 0.39578613758087156}}}\u001b[0m\n",
      "\u001b[34m#metrics {\"StartTime\": 1673981791.0016916, \"EndTime\": 1673981791.001706, \"Dimensions\": {\"Algorithm\": \"Linear Learner\", \"Host\": \"algo-1\", \"Operation\": \"training\", \"epoch\": 8, \"model\": 22}, \"Metrics\": {\"train_absolute_loss_objective\": {\"sum\": 0.37592665672302245, \"count\": 1, \"min\": 0.37592665672302245, \"max\": 0.37592665672302245}}}\u001b[0m\n",
      "\u001b[34m#metrics {\"StartTime\": 1673981791.0017574, \"EndTime\": 1673981791.0017695, \"Dimensions\": {\"Algorithm\": \"Linear Learner\", \"Host\": \"algo-1\", \"Operation\": \"training\", \"epoch\": 8, \"model\": 23}, \"Metrics\": {\"train_absolute_loss_objective\": {\"sum\": 0.3768951940536499, \"count\": 1, \"min\": 0.3768951940536499, \"max\": 0.3768951940536499}}}\u001b[0m\n",
      "\u001b[34m#metrics {\"StartTime\": 1673981791.0018191, \"EndTime\": 1673981791.0018342, \"Dimensions\": {\"Algorithm\": \"Linear Learner\", \"Host\": \"algo-1\", \"Operation\": \"training\", \"epoch\": 8, \"model\": 24}, \"Metrics\": {\"train_absolute_loss_objective\": {\"sum\": 0.7931913757324218, \"count\": 1, \"min\": 0.7931913757324218, \"max\": 0.7931913757324218}}}\u001b[0m\n",
      "\u001b[34m#metrics {\"StartTime\": 1673981791.001883, \"EndTime\": 1673981791.001899, \"Dimensions\": {\"Algorithm\": \"Linear Learner\", \"Host\": \"algo-1\", \"Operation\": \"training\", \"epoch\": 8, \"model\": 25}, \"Metrics\": {\"train_absolute_loss_objective\": {\"sum\": 0.7959375476837158, \"count\": 1, \"min\": 0.7959375476837158, \"max\": 0.7959375476837158}}}\u001b[0m\n",
      "\u001b[34m#metrics {\"StartTime\": 1673981791.0019567, \"EndTime\": 1673981791.0019715, \"Dimensions\": {\"Algorithm\": \"Linear Learner\", \"Host\": \"algo-1\", \"Operation\": \"training\", \"epoch\": 8, \"model\": 26}, \"Metrics\": {\"train_absolute_loss_objective\": {\"sum\": 0.7940778160095214, \"count\": 1, \"min\": 0.7940778160095214, \"max\": 0.7940778160095214}}}\u001b[0m\n",
      "\u001b[34m#metrics {\"StartTime\": 1673981791.0020175, \"EndTime\": 1673981791.0020318, \"Dimensions\": {\"Algorithm\": \"Linear Learner\", \"Host\": \"algo-1\", \"Operation\": \"training\", \"epoch\": 8, \"model\": 27}, \"Metrics\": {\"train_absolute_loss_objective\": {\"sum\": 0.7945126819610596, \"count\": 1, \"min\": 0.7945126819610596, \"max\": 0.7945126819610596}}}\u001b[0m\n",
      "\u001b[34m#metrics {\"StartTime\": 1673981791.0020764, \"EndTime\": 1673981791.0020895, \"Dimensions\": {\"Algorithm\": \"Linear Learner\", \"Host\": \"algo-1\", \"Operation\": \"training\", \"epoch\": 8, \"model\": 28}, \"Metrics\": {\"train_absolute_loss_objective\": {\"sum\": 0.8296611309051514, \"count\": 1, \"min\": 0.8296611309051514, \"max\": 0.8296611309051514}}}\u001b[0m\n",
      "\u001b[34m#metrics {\"StartTime\": 1673981791.0021405, \"EndTime\": 1673981791.0021548, \"Dimensions\": {\"Algorithm\": \"Linear Learner\", \"Host\": \"algo-1\", \"Operation\": \"training\", \"epoch\": 8, \"model\": 29}, \"Metrics\": {\"train_absolute_loss_objective\": {\"sum\": 0.832217435836792, \"count\": 1, \"min\": 0.832217435836792, \"max\": 0.832217435836792}}}\u001b[0m\n",
      "\u001b[34m#metrics {\"StartTime\": 1673981791.0021956, \"EndTime\": 1673981791.0022085, \"Dimensions\": {\"Algorithm\": \"Linear Learner\", \"Host\": \"algo-1\", \"Operation\": \"training\", \"epoch\": 8, \"model\": 30}, \"Metrics\": {\"train_absolute_loss_objective\": {\"sum\": 0.827891674041748, \"count\": 1, \"min\": 0.827891674041748, \"max\": 0.827891674041748}}}\u001b[0m\n",
      "\u001b[34m#metrics {\"StartTime\": 1673981791.0022647, \"EndTime\": 1673981791.0022779, \"Dimensions\": {\"Algorithm\": \"Linear Learner\", \"Host\": \"algo-1\", \"Operation\": \"training\", \"epoch\": 8, \"model\": 31}, \"Metrics\": {\"train_absolute_loss_objective\": {\"sum\": 0.836623125076294, \"count\": 1, \"min\": 0.836623125076294, \"max\": 0.836623125076294}}}\u001b[0m\n",
      "\u001b[34m[01/17/2023 18:56:31 INFO 140353027958592] #quality_metric: host=algo-1, epoch=8, train absolute_loss_objective <loss>=0.6609999942779541\u001b[0m\n",
      "\u001b[34m[01/17/2023 18:56:31 INFO 140353027958592] #early_stopping_criteria_metric: host=algo-1, epoch=8, criteria=absolute_loss_objective, value=0.18241450548171997\u001b[0m\n",
      "\u001b[34m[01/17/2023 18:56:31 INFO 140353027958592] Epoch 8: Loss improved. Updating best model\u001b[0m\n",
      "\u001b[34m[01/17/2023 18:56:31 INFO 140353027958592] Saving model for epoch: 8\u001b[0m\n",
      "\u001b[34m[01/17/2023 18:56:31 INFO 140353027958592] Saved checkpoint to \"/tmp/tmpepw81f5_/mx-mod-0000.params\"\u001b[0m\n",
      "\u001b[34m[01/17/2023 18:56:31 INFO 140353027958592] #progress_metric: host=algo-1, completed 1.8 % of epochs\u001b[0m\n",
      "\u001b[34m#metrics {\"StartTime\": 1673981790.8718264, \"EndTime\": 1673981791.0149686, \"Dimensions\": {\"Algorithm\": \"Linear Learner\", \"Host\": \"algo-1\", \"Operation\": \"training\", \"epoch\": 8, \"Meta\": \"training_data_iter\"}, \"Metrics\": {\"Total Records Seen\": {\"sum\": 265.0, \"count\": 1, \"min\": 265, \"max\": 265}, \"Total Batches Seen\": {\"sum\": 61.0, \"count\": 1, \"min\": 61, \"max\": 61}, \"Max Records Seen Between Resets\": {\"sum\": 26.0, \"count\": 1, \"min\": 26, \"max\": 26}, \"Max Batches Seen Between Resets\": {\"sum\": 6.0, \"count\": 1, \"min\": 6, \"max\": 6}, \"Reset Count\": {\"sum\": 11.0, \"count\": 1, \"min\": 11, \"max\": 11}, \"Number of Records Since Last Reset\": {\"sum\": 26.0, \"count\": 1, \"min\": 26, \"max\": 26}, \"Number of Batches Since Last Reset\": {\"sum\": 6.0, \"count\": 1, \"min\": 6, \"max\": 6}}}\u001b[0m\n",
      "\u001b[34m[01/17/2023 18:56:31 INFO 140353027958592] #throughput_metric: host=algo-1, train throughput=181.42539811407391 records/second\u001b[0m\n",
      "\u001b[34m[2023-01-17 18:56:31.139] [tensorio] [info] epoch_stats={\"data_pipeline\": \"/opt/ml/input/data/train\", \"epoch\": 22, \"duration\": 123, \"num_examples\": 6, \"num_bytes\": 1248}\u001b[0m\n",
      "\u001b[34m#metrics {\"StartTime\": 1673981791.1391838, \"EndTime\": 1673981791.1392663, \"Dimensions\": {\"Algorithm\": \"Linear Learner\", \"Host\": \"algo-1\", \"Operation\": \"training\", \"epoch\": 9, \"model\": 0}, \"Metrics\": {\"train_absolute_loss_objective\": {\"sum\": 0.6444622802734375, \"count\": 1, \"min\": 0.6444622802734375, \"max\": 0.6444622802734375}}}\u001b[0m\n",
      "\u001b[34m#metrics {\"StartTime\": 1673981791.1393619, \"EndTime\": 1673981791.1393776, \"Dimensions\": {\"Algorithm\": \"Linear Learner\", \"Host\": \"algo-1\", \"Operation\": \"training\", \"epoch\": 9, \"model\": 1}, \"Metrics\": {\"train_absolute_loss_objective\": {\"sum\": 0.659970555305481, \"count\": 1, \"min\": 0.659970555305481, \"max\": 0.659970555305481}}}\u001b[0m\n",
      "\u001b[34m#metrics {\"StartTime\": 1673981791.1394198, \"EndTime\": 1673981791.1394334, \"Dimensions\": {\"Algorithm\": \"Linear Learner\", \"Host\": \"algo-1\", \"Operation\": \"training\", \"epoch\": 9, \"model\": 2}, \"Metrics\": {\"train_absolute_loss_objective\": {\"sum\": 0.6465085315704345, \"count\": 1, \"min\": 0.6465085315704345, \"max\": 0.6465085315704345}}}\u001b[0m\n",
      "\u001b[34m#metrics {\"StartTime\": 1673981791.1394844, \"EndTime\": 1673981791.139497, \"Dimensions\": {\"Algorithm\": \"Linear Learner\", \"Host\": \"algo-1\", \"Operation\": \"training\", \"epoch\": 9, \"model\": 3}, \"Metrics\": {\"train_absolute_loss_objective\": {\"sum\": 0.6591704273223877, \"count\": 1, \"min\": 0.6591704273223877, \"max\": 0.6591704273223877}}}\u001b[0m\n",
      "\u001b[34m#metrics {\"StartTime\": 1673981791.1395328, \"EndTime\": 1673981791.1395426, \"Dimensions\": {\"Algorithm\": \"Linear Learner\", \"Host\": \"algo-1\", \"Operation\": \"training\", \"epoch\": 9, \"model\": 4}, \"Metrics\": {\"train_absolute_loss_objective\": {\"sum\": 0.1922458291053772, \"count\": 1, \"min\": 0.1922458291053772, \"max\": 0.1922458291053772}}}\u001b[0m\n",
      "\u001b[34m#metrics {\"StartTime\": 1673981791.139581, \"EndTime\": 1673981791.1395962, \"Dimensions\": {\"Algorithm\": \"Linear Learner\", \"Host\": \"algo-1\", \"Operation\": \"training\", \"epoch\": 9, \"model\": 5}, \"Metrics\": {\"train_absolute_loss_objective\": {\"sum\": 0.19426056385040283, \"count\": 1, \"min\": 0.19426056385040283, \"max\": 0.19426056385040283}}}\u001b[0m\n",
      "\u001b[34m#metrics {\"StartTime\": 1673981791.1396382, \"EndTime\": 1673981791.1396499, \"Dimensions\": {\"Algorithm\": \"Linear Learner\", \"Host\": \"algo-1\", \"Operation\": \"training\", \"epoch\": 9, \"model\": 6}, \"Metrics\": {\"train_absolute_loss_objective\": {\"sum\": 0.19499727249145507, \"count\": 1, \"min\": 0.19499727249145507, \"max\": 0.19499727249145507}}}\u001b[0m\n",
      "\u001b[34m#metrics {\"StartTime\": 1673981791.1396923, \"EndTime\": 1673981791.1397038, \"Dimensions\": {\"Algorithm\": \"Linear Learner\", \"Host\": \"algo-1\", \"Operation\": \"training\", \"epoch\": 9, \"model\": 7}, \"Metrics\": {\"train_absolute_loss_objective\": {\"sum\": 0.256062707901001, \"count\": 1, \"min\": 0.256062707901001, \"max\": 0.256062707901001}}}\u001b[0m\n",
      "\u001b[34m#metrics {\"StartTime\": 1673981791.139741, \"EndTime\": 1673981791.1397507, \"Dimensions\": {\"Algorithm\": \"Linear Learner\", \"Host\": \"algo-1\", \"Operation\": \"training\", \"epoch\": 9, \"model\": 8}, \"Metrics\": {\"train_absolute_loss_objective\": {\"sum\": 0.6920593929290771, \"count\": 1, \"min\": 0.6920593929290771, \"max\": 0.6920593929290771}}}\u001b[0m\n",
      "\u001b[34m#metrics {\"StartTime\": 1673981791.139789, \"EndTime\": 1673981791.1398008, \"Dimensions\": {\"Algorithm\": \"Linear Learner\", \"Host\": \"algo-1\", \"Operation\": \"training\", \"epoch\": 9, \"model\": 9}, \"Metrics\": {\"train_absolute_loss_objective\": {\"sum\": 0.6321813154220581, \"count\": 1, \"min\": 0.6321813154220581, \"max\": 0.6321813154220581}}}\u001b[0m\n",
      "\u001b[34m#metrics {\"StartTime\": 1673981791.13984, \"EndTime\": 1673981791.1398544, \"Dimensions\": {\"Algorithm\": \"Linear Learner\", \"Host\": \"algo-1\", \"Operation\": \"training\", \"epoch\": 9, \"model\": 10}, \"Metrics\": {\"train_absolute_loss_objective\": {\"sum\": 0.6396838188171386, \"count\": 1, \"min\": 0.6396838188171386, \"max\": 0.6396838188171386}}}\u001b[0m\n",
      "\u001b[34m#metrics {\"StartTime\": 1673981791.1398942, \"EndTime\": 1673981791.139907, \"Dimensions\": {\"Algorithm\": \"Linear Learner\", \"Host\": \"algo-1\", \"Operation\": \"training\", \"epoch\": 9, \"model\": 11}, \"Metrics\": {\"train_absolute_loss_objective\": {\"sum\": 0.6253001642227173, \"count\": 1, \"min\": 0.6253001642227173, \"max\": 0.6253001642227173}}}\u001b[0m\n",
      "\u001b[34m#metrics {\"StartTime\": 1673981791.139946, \"EndTime\": 1673981791.1399562, \"Dimensions\": {\"Algorithm\": \"Linear Learner\", \"Host\": \"algo-1\", \"Operation\": \"training\", \"epoch\": 9, \"model\": 12}, \"Metrics\": {\"train_absolute_loss_objective\": {\"sum\": 0.21670032024383545, \"count\": 1, \"min\": 0.21670032024383545, \"max\": 0.21670032024383545}}}\u001b[0m\n",
      "\u001b[34m#metrics {\"StartTime\": 1673981791.1399884, \"EndTime\": 1673981791.1399982, \"Dimensions\": {\"Algorithm\": \"Linear Learner\", \"Host\": \"algo-1\", \"Operation\": \"training\", \"epoch\": 9, \"model\": 13}, \"Metrics\": {\"train_absolute_loss_objective\": {\"sum\": 0.1838860297203064, \"count\": 1, \"min\": 0.1838860297203064, \"max\": 0.1838860297203064}}}\u001b[0m\n",
      "\u001b[34m#metrics {\"StartTime\": 1673981791.1400461, \"EndTime\": 1673981791.1400542, \"Dimensions\": {\"Algorithm\": \"Linear Learner\", \"Host\": \"algo-1\", \"Operation\": \"training\", \"epoch\": 9, \"model\": 14}, \"Metrics\": {\"train_absolute_loss_objective\": {\"sum\": 0.2027580237388611, \"count\": 1, \"min\": 0.2027580237388611, \"max\": 0.2027580237388611}}}\u001b[0m\n",
      "\u001b[34m#metrics {\"StartTime\": 1673981791.1401029, \"EndTime\": 1673981791.1401093, \"Dimensions\": {\"Algorithm\": \"Linear Learner\", \"Host\": \"algo-1\", \"Operation\": \"training\", \"epoch\": 9, \"model\": 15}, \"Metrics\": {\"train_absolute_loss_objective\": {\"sum\": 0.1967036747932434, \"count\": 1, \"min\": 0.1967036747932434, \"max\": 0.1967036747932434}}}\u001b[0m\n",
      "\u001b[34m#metrics {\"StartTime\": 1673981791.1401446, \"EndTime\": 1673981791.1401558, \"Dimensions\": {\"Algorithm\": \"Linear Learner\", \"Host\": \"algo-1\", \"Operation\": \"training\", \"epoch\": 9, \"model\": 16}, \"Metrics\": {\"train_absolute_loss_objective\": {\"sum\": 0.6248505306243897, \"count\": 1, \"min\": 0.6248505306243897, \"max\": 0.6248505306243897}}}\u001b[0m\n",
      "\u001b[34m#metrics {\"StartTime\": 1673981791.1401868, \"EndTime\": 1673981791.1402006, \"Dimensions\": {\"Algorithm\": \"Linear Learner\", \"Host\": \"algo-1\", \"Operation\": \"training\", \"epoch\": 9, \"model\": 17}, \"Metrics\": {\"train_absolute_loss_objective\": {\"sum\": 0.6629926300048828, \"count\": 1, \"min\": 0.6629926300048828, \"max\": 0.6629926300048828}}}\u001b[0m\n",
      "\u001b[34m#metrics {\"StartTime\": 1673981791.14025, \"EndTime\": 1673981791.140264, \"Dimensions\": {\"Algorithm\": \"Linear Learner\", \"Host\": \"algo-1\", \"Operation\": \"training\", \"epoch\": 9, \"model\": 18}, \"Metrics\": {\"train_absolute_loss_objective\": {\"sum\": 0.6452496337890625, \"count\": 1, \"min\": 0.6452496337890625, \"max\": 0.6452496337890625}}}\u001b[0m\n",
      "\u001b[34m#metrics {\"StartTime\": 1673981791.1402972, \"EndTime\": 1673981791.140309, \"Dimensions\": {\"Algorithm\": \"Linear Learner\", \"Host\": \"algo-1\", \"Operation\": \"training\", \"epoch\": 9, \"model\": 19}, \"Metrics\": {\"train_absolute_loss_objective\": {\"sum\": 0.6416733169555664, \"count\": 1, \"min\": 0.6416733169555664, \"max\": 0.6416733169555664}}}\u001b[0m\n",
      "\u001b[34m#metrics {\"StartTime\": 1673981791.1403494, \"EndTime\": 1673981791.1403587, \"Dimensions\": {\"Algorithm\": \"Linear Learner\", \"Host\": \"algo-1\", \"Operation\": \"training\", \"epoch\": 9, \"model\": 20}, \"Metrics\": {\"train_absolute_loss_objective\": {\"sum\": 0.3694153785705566, \"count\": 1, \"min\": 0.3694153785705566, \"max\": 0.3694153785705566}}}\u001b[0m\n",
      "\u001b[34m#metrics {\"StartTime\": 1673981791.1404037, \"EndTime\": 1673981791.1404212, \"Dimensions\": {\"Algorithm\": \"Linear Learner\", \"Host\": \"algo-1\", \"Operation\": \"training\", \"epoch\": 9, \"model\": 21}, \"Metrics\": {\"train_absolute_loss_objective\": {\"sum\": 0.3867273569107056, \"count\": 1, \"min\": 0.3867273569107056, \"max\": 0.3867273569107056}}}\u001b[0m\n",
      "\u001b[34m#metrics {\"StartTime\": 1673981791.1404574, \"EndTime\": 1673981791.1404767, \"Dimensions\": {\"Algorithm\": \"Linear Learner\", \"Host\": \"algo-1\", \"Operation\": \"training\", \"epoch\": 9, \"model\": 22}, \"Metrics\": {\"train_absolute_loss_objective\": {\"sum\": 0.3583638858795166, \"count\": 1, \"min\": 0.3583638858795166, \"max\": 0.3583638858795166}}}\u001b[0m\n",
      "\u001b[34m#metrics {\"StartTime\": 1673981791.1405132, \"EndTime\": 1673981791.1405272, \"Dimensions\": {\"Algorithm\": \"Linear Learner\", \"Host\": \"algo-1\", \"Operation\": \"training\", \"epoch\": 9, \"model\": 23}, \"Metrics\": {\"train_absolute_loss_objective\": {\"sum\": 0.3584741067886352, \"count\": 1, \"min\": 0.3584741067886352, \"max\": 0.3584741067886352}}}\u001b[0m\n",
      "\u001b[34m#metrics {\"StartTime\": 1673981791.1405702, \"EndTime\": 1673981791.140588, \"Dimensions\": {\"Algorithm\": \"Linear Learner\", \"Host\": \"algo-1\", \"Operation\": \"training\", \"epoch\": 9, \"model\": 24}, \"Metrics\": {\"train_absolute_loss_objective\": {\"sum\": 0.7921605157852173, \"count\": 1, \"min\": 0.7921605157852173, \"max\": 0.7921605157852173}}}\u001b[0m\n",
      "\u001b[34m#metrics {\"StartTime\": 1673981791.1406322, \"EndTime\": 1673981791.1406457, \"Dimensions\": {\"Algorithm\": \"Linear Learner\", \"Host\": \"algo-1\", \"Operation\": \"training\", \"epoch\": 9, \"model\": 25}, \"Metrics\": {\"train_absolute_loss_objective\": {\"sum\": 0.7931623315811157, \"count\": 1, \"min\": 0.7931623315811157, \"max\": 0.7931623315811157}}}\u001b[0m\n",
      "\u001b[34m#metrics {\"StartTime\": 1673981791.1406877, \"EndTime\": 1673981791.1406913, \"Dimensions\": {\"Algorithm\": \"Linear Learner\", \"Host\": \"algo-1\", \"Operation\": \"training\", \"epoch\": 9, \"model\": 26}, \"Metrics\": {\"train_absolute_loss_objective\": {\"sum\": 0.7945633935928345, \"count\": 1, \"min\": 0.7945633935928345, \"max\": 0.7945633935928345}}}\u001b[0m\n",
      "\u001b[34m#metrics {\"StartTime\": 1673981791.1407335, \"EndTime\": 1673981791.1407495, \"Dimensions\": {\"Algorithm\": \"Linear Learner\", \"Host\": \"algo-1\", \"Operation\": \"training\", \"epoch\": 9, \"model\": 27}, \"Metrics\": {\"train_absolute_loss_objective\": {\"sum\": 0.7938789749145507, \"count\": 1, \"min\": 0.7938789749145507, \"max\": 0.7938789749145507}}}\u001b[0m\n",
      "\u001b[34m#metrics {\"StartTime\": 1673981791.1407902, \"EndTime\": 1673981791.1408083, \"Dimensions\": {\"Algorithm\": \"Linear Learner\", \"Host\": \"algo-1\", \"Operation\": \"training\", \"epoch\": 9, \"model\": 28}, \"Metrics\": {\"train_absolute_loss_objective\": {\"sum\": 0.8191059398651123, \"count\": 1, \"min\": 0.8191059398651123, \"max\": 0.8191059398651123}}}\u001b[0m\n",
      "\u001b[34m#metrics {\"StartTime\": 1673981791.1408532, \"EndTime\": 1673981791.1408713, \"Dimensions\": {\"Algorithm\": \"Linear Learner\", \"Host\": \"algo-1\", \"Operation\": \"training\", \"epoch\": 9, \"model\": 29}, \"Metrics\": {\"train_absolute_loss_objective\": {\"sum\": 0.8196038389205933, \"count\": 1, \"min\": 0.8196038389205933, \"max\": 0.8196038389205933}}}\u001b[0m\n",
      "\u001b[34m#metrics {\"StartTime\": 1673981791.1409056, \"EndTime\": 1673981791.140913, \"Dimensions\": {\"Algorithm\": \"Linear Learner\", \"Host\": \"algo-1\", \"Operation\": \"training\", \"epoch\": 9, \"model\": 30}, \"Metrics\": {\"train_absolute_loss_objective\": {\"sum\": 0.820803050994873, \"count\": 1, \"min\": 0.820803050994873, \"max\": 0.820803050994873}}}\u001b[0m\n",
      "\u001b[34m#metrics {\"StartTime\": 1673981791.14095, \"EndTime\": 1673981791.140957, \"Dimensions\": {\"Algorithm\": \"Linear Learner\", \"Host\": \"algo-1\", \"Operation\": \"training\", \"epoch\": 9, \"model\": 31}, \"Metrics\": {\"train_absolute_loss_objective\": {\"sum\": 0.8155605411529541, \"count\": 1, \"min\": 0.8155605411529541, \"max\": 0.8155605411529541}}}\u001b[0m\n",
      "\u001b[34m[01/17/2023 18:56:31 INFO 140353027958592] #quality_metric: host=algo-1, epoch=9, train absolute_loss_objective <loss>=0.6444622802734375\u001b[0m\n",
      "\u001b[34m[01/17/2023 18:56:31 INFO 140353027958592] #early_stopping_criteria_metric: host=algo-1, epoch=9, criteria=absolute_loss_objective, value=0.1838860297203064\u001b[0m\n",
      "\u001b[34m[01/17/2023 18:56:31 INFO 140353027958592] Saving model for epoch: 9\u001b[0m\n",
      "\u001b[34m[01/17/2023 18:56:31 INFO 140353027958592] Saved checkpoint to \"/tmp/tmpntppmz_c/mx-mod-0000.params\"\u001b[0m\n",
      "\u001b[34m[01/17/2023 18:56:31 INFO 140353027958592] #progress_metric: host=algo-1, completed 2.0 % of epochs\u001b[0m\n",
      "\u001b[34m#metrics {\"StartTime\": 1673981791.0153315, \"EndTime\": 1673981791.1489768, \"Dimensions\": {\"Algorithm\": \"Linear Learner\", \"Host\": \"algo-1\", \"Operation\": \"training\", \"epoch\": 9, \"Meta\": \"training_data_iter\"}, \"Metrics\": {\"Total Records Seen\": {\"sum\": 291.0, \"count\": 1, \"min\": 291, \"max\": 291}, \"Total Batches Seen\": {\"sum\": 67.0, \"count\": 1, \"min\": 67, \"max\": 67}, \"Max Records Seen Between Resets\": {\"sum\": 26.0, \"count\": 1, \"min\": 26, \"max\": 26}, \"Max Batches Seen Between Resets\": {\"sum\": 6.0, \"count\": 1, \"min\": 6, \"max\": 6}, \"Reset Count\": {\"sum\": 12.0, \"count\": 1, \"min\": 12, \"max\": 12}, \"Number of Records Since Last Reset\": {\"sum\": 26.0, \"count\": 1, \"min\": 26, \"max\": 26}, \"Number of Batches Since Last Reset\": {\"sum\": 6.0, \"count\": 1, \"min\": 6, \"max\": 6}}}\u001b[0m\n",
      "\u001b[34m[01/17/2023 18:56:31 INFO 140353027958592] #throughput_metric: host=algo-1, train throughput=194.34200030652215 records/second\u001b[0m\n",
      "\u001b[34m[2023-01-17 18:56:31.256] [tensorio] [info] epoch_stats={\"data_pipeline\": \"/opt/ml/input/data/train\", \"epoch\": 24, \"duration\": 106, \"num_examples\": 6, \"num_bytes\": 1248}\u001b[0m\n",
      "\u001b[34m#metrics {\"StartTime\": 1673981791.2561767, \"EndTime\": 1673981791.256283, \"Dimensions\": {\"Algorithm\": \"Linear Learner\", \"Host\": \"algo-1\", \"Operation\": \"training\", \"epoch\": 10, \"model\": 0}, \"Metrics\": {\"train_absolute_loss_objective\": {\"sum\": 0.6298672485351563, \"count\": 1, \"min\": 0.6298672485351563, \"max\": 0.6298672485351563}}}\u001b[0m\n",
      "\u001b[34m#metrics {\"StartTime\": 1673981791.2564032, \"EndTime\": 1673981791.2564685, \"Dimensions\": {\"Algorithm\": \"Linear Learner\", \"Host\": \"algo-1\", \"Operation\": \"training\", \"epoch\": 10, \"model\": 1}, \"Metrics\": {\"train_absolute_loss_objective\": {\"sum\": 0.6437286520004273, \"count\": 1, \"min\": 0.6437286520004273, \"max\": 0.6437286520004273}}}\u001b[0m\n",
      "\u001b[34m#metrics {\"StartTime\": 1673981791.2565496, \"EndTime\": 1673981791.25656, \"Dimensions\": {\"Algorithm\": \"Linear Learner\", \"Host\": \"algo-1\", \"Operation\": \"training\", \"epoch\": 10, \"model\": 2}, \"Metrics\": {\"train_absolute_loss_objective\": {\"sum\": 0.6319135093688965, \"count\": 1, \"min\": 0.6319135093688965, \"max\": 0.6319135093688965}}}\u001b[0m\n",
      "\u001b[34m#metrics {\"StartTime\": 1673981791.2566001, \"EndTime\": 1673981791.2566128, \"Dimensions\": {\"Algorithm\": \"Linear Learner\", \"Host\": \"algo-1\", \"Operation\": \"training\", \"epoch\": 10, \"model\": 3}, \"Metrics\": {\"train_absolute_loss_objective\": {\"sum\": 0.6428653812408447, \"count\": 1, \"min\": 0.6428653812408447, \"max\": 0.6428653812408447}}}\u001b[0m\n",
      "\u001b[34m#metrics {\"StartTime\": 1673981791.2567282, \"EndTime\": 1673981791.2567422, \"Dimensions\": {\"Algorithm\": \"Linear Learner\", \"Host\": \"algo-1\", \"Operation\": \"training\", \"epoch\": 10, \"model\": 4}, \"Metrics\": {\"train_absolute_loss_objective\": {\"sum\": 0.2474857187271118, \"count\": 1, \"min\": 0.2474857187271118, \"max\": 0.2474857187271118}}}\u001b[0m\n",
      "\u001b[34m#metrics {\"StartTime\": 1673981791.2567797, \"EndTime\": 1673981791.2568448, \"Dimensions\": {\"Algorithm\": \"Linear Learner\", \"Host\": \"algo-1\", \"Operation\": \"training\", \"epoch\": 10, \"model\": 5}, \"Metrics\": {\"train_absolute_loss_objective\": {\"sum\": 0.23682408094406127, \"count\": 1, \"min\": 0.23682408094406127, \"max\": 0.23682408094406127}}}\u001b[0m\n",
      "\u001b[34m#metrics {\"StartTime\": 1673981791.256916, \"EndTime\": 1673981791.2569325, \"Dimensions\": {\"Algorithm\": \"Linear Learner\", \"Host\": \"algo-1\", \"Operation\": \"training\", \"epoch\": 10, \"model\": 6}, \"Metrics\": {\"train_absolute_loss_objective\": {\"sum\": 0.20013221502304077, \"count\": 1, \"min\": 0.20013221502304077, \"max\": 0.20013221502304077}}}\u001b[0m\n",
      "\u001b[34m#metrics {\"StartTime\": 1673981791.257011, \"EndTime\": 1673981791.2570245, \"Dimensions\": {\"Algorithm\": \"Linear Learner\", \"Host\": \"algo-1\", \"Operation\": \"training\", \"epoch\": 10, \"model\": 7}, \"Metrics\": {\"train_absolute_loss_objective\": {\"sum\": 0.27951504945755007, \"count\": 1, \"min\": 0.27951504945755007, \"max\": 0.27951504945755007}}}\u001b[0m\n",
      "\u001b[34m#metrics {\"StartTime\": 1673981791.25712, \"EndTime\": 1673981791.2571683, \"Dimensions\": {\"Algorithm\": \"Linear Learner\", \"Host\": \"algo-1\", \"Operation\": \"training\", \"epoch\": 10, \"model\": 8}, \"Metrics\": {\"train_absolute_loss_objective\": {\"sum\": 0.6766197633743286, \"count\": 1, \"min\": 0.6766197633743286, \"max\": 0.6766197633743286}}}\u001b[0m\n",
      "\u001b[34m#metrics {\"StartTime\": 1673981791.257235, \"EndTime\": 1673981791.2572525, \"Dimensions\": {\"Algorithm\": \"Linear Learner\", \"Host\": \"algo-1\", \"Operation\": \"training\", \"epoch\": 10, \"model\": 9}, \"Metrics\": {\"train_absolute_loss_objective\": {\"sum\": 0.6164968967437744, \"count\": 1, \"min\": 0.6164968967437744, \"max\": 0.6164968967437744}}}\u001b[0m\n",
      "\u001b[34m#metrics {\"StartTime\": 1673981791.2573197, \"EndTime\": 1673981791.2573333, \"Dimensions\": {\"Algorithm\": \"Linear Learner\", \"Host\": \"algo-1\", \"Operation\": \"training\", \"epoch\": 10, \"model\": 10}, \"Metrics\": {\"train_absolute_loss_objective\": {\"sum\": 0.6243727588653565, \"count\": 1, \"min\": 0.6243727588653565, \"max\": 0.6243727588653565}}}\u001b[0m\n",
      "\u001b[34m#metrics {\"StartTime\": 1673981791.2574294, \"EndTime\": 1673981791.2574728, \"Dimensions\": {\"Algorithm\": \"Linear Learner\", \"Host\": \"algo-1\", \"Operation\": \"training\", \"epoch\": 10, \"model\": 11}, \"Metrics\": {\"train_absolute_loss_objective\": {\"sum\": 0.6096162319183349, \"count\": 1, \"min\": 0.6096162319183349, \"max\": 0.6096162319183349}}}\u001b[0m\n",
      "\u001b[34m#metrics {\"StartTime\": 1673981791.2575285, \"EndTime\": 1673981791.2575436, \"Dimensions\": {\"Algorithm\": \"Linear Learner\", \"Host\": \"algo-1\", \"Operation\": \"training\", \"epoch\": 10, \"model\": 12}, \"Metrics\": {\"train_absolute_loss_objective\": {\"sum\": 0.24297131061553956, \"count\": 1, \"min\": 0.24297131061553956, \"max\": 0.24297131061553956}}}\u001b[0m\n",
      "\u001b[34m#metrics {\"StartTime\": 1673981791.2576728, \"EndTime\": 1673981791.2577412, \"Dimensions\": {\"Algorithm\": \"Linear Learner\", \"Host\": \"algo-1\", \"Operation\": \"training\", \"epoch\": 10, \"model\": 13}, \"Metrics\": {\"train_absolute_loss_objective\": {\"sum\": 0.2043156087398529, \"count\": 1, \"min\": 0.2043156087398529, \"max\": 0.2043156087398529}}}\u001b[0m\n",
      "\u001b[34m#metrics {\"StartTime\": 1673981791.2578497, \"EndTime\": 1673981791.2578764, \"Dimensions\": {\"Algorithm\": \"Linear Learner\", \"Host\": \"algo-1\", \"Operation\": \"training\", \"epoch\": 10, \"model\": 14}, \"Metrics\": {\"train_absolute_loss_objective\": {\"sum\": 0.2059393620491028, \"count\": 1, \"min\": 0.2059393620491028, \"max\": 0.2059393620491028}}}\u001b[0m\n",
      "\u001b[34m#metrics {\"StartTime\": 1673981791.2579548, \"EndTime\": 1673981791.2579834, \"Dimensions\": {\"Algorithm\": \"Linear Learner\", \"Host\": \"algo-1\", \"Operation\": \"training\", \"epoch\": 10, \"model\": 15}, \"Metrics\": {\"train_absolute_loss_objective\": {\"sum\": 0.20520774126052857, \"count\": 1, \"min\": 0.20520774126052857, \"max\": 0.20520774126052857}}}\u001b[0m\n",
      "\u001b[34m#metrics {\"StartTime\": 1673981791.2580674, \"EndTime\": 1673981791.258078, \"Dimensions\": {\"Algorithm\": \"Linear Learner\", \"Host\": \"algo-1\", \"Operation\": \"training\", \"epoch\": 10, \"model\": 16}, \"Metrics\": {\"train_absolute_loss_objective\": {\"sum\": 0.612412405014038, \"count\": 1, \"min\": 0.612412405014038, \"max\": 0.612412405014038}}}\u001b[0m\n",
      "\u001b[34m#metrics {\"StartTime\": 1673981791.2581406, \"EndTime\": 1673981791.2581587, \"Dimensions\": {\"Algorithm\": \"Linear Learner\", \"Host\": \"algo-1\", \"Operation\": \"training\", \"epoch\": 10, \"model\": 17}, \"Metrics\": {\"train_absolute_loss_objective\": {\"sum\": 0.6486494636535645, \"count\": 1, \"min\": 0.6486494636535645, \"max\": 0.6486494636535645}}}\u001b[0m\n",
      "\u001b[34m#metrics {\"StartTime\": 1673981791.2582052, \"EndTime\": 1673981791.2582211, \"Dimensions\": {\"Algorithm\": \"Linear Learner\", \"Host\": \"algo-1\", \"Operation\": \"training\", \"epoch\": 10, \"model\": 18}, \"Metrics\": {\"train_absolute_loss_objective\": {\"sum\": 0.6322323560714722, \"count\": 1, \"min\": 0.6322323560714722, \"max\": 0.6322323560714722}}}\u001b[0m\n",
      "\u001b[34m#metrics {\"StartTime\": 1673981791.2582679, \"EndTime\": 1673981791.2582803, \"Dimensions\": {\"Algorithm\": \"Linear Learner\", \"Host\": \"algo-1\", \"Operation\": \"training\", \"epoch\": 10, \"model\": 19}, \"Metrics\": {\"train_absolute_loss_objective\": {\"sum\": 0.6284760856628417, \"count\": 1, \"min\": 0.6284760856628417, \"max\": 0.6284760856628417}}}\u001b[0m\n",
      "\u001b[34m#metrics {\"StartTime\": 1673981791.2583823, \"EndTime\": 1673981791.2583964, \"Dimensions\": {\"Algorithm\": \"Linear Learner\", \"Host\": \"algo-1\", \"Operation\": \"training\", \"epoch\": 10, \"model\": 20}, \"Metrics\": {\"train_absolute_loss_objective\": {\"sum\": 0.3514541959762573, \"count\": 1, \"min\": 0.3514541959762573, \"max\": 0.3514541959762573}}}\u001b[0m\n",
      "\u001b[34m#metrics {\"StartTime\": 1673981791.2585058, \"EndTime\": 1673981791.25853, \"Dimensions\": {\"Algorithm\": \"Linear Learner\", \"Host\": \"algo-1\", \"Operation\": \"training\", \"epoch\": 10, \"model\": 21}, \"Metrics\": {\"train_absolute_loss_objective\": {\"sum\": 0.39867985248565674, \"count\": 1, \"min\": 0.39867985248565674, \"max\": 0.39867985248565674}}}\u001b[0m\n",
      "\u001b[34m#metrics {\"StartTime\": 1673981791.2585804, \"EndTime\": 1673981791.2585974, \"Dimensions\": {\"Algorithm\": \"Linear Learner\", \"Host\": \"algo-1\", \"Operation\": \"training\", \"epoch\": 10, \"model\": 22}, \"Metrics\": {\"train_absolute_loss_objective\": {\"sum\": 0.34997968673706054, \"count\": 1, \"min\": 0.34997968673706054, \"max\": 0.34997968673706054}}}\u001b[0m\n",
      "\u001b[34m#metrics {\"StartTime\": 1673981791.2586555, \"EndTime\": 1673981791.2586699, \"Dimensions\": {\"Algorithm\": \"Linear Learner\", \"Host\": \"algo-1\", \"Operation\": \"training\", \"epoch\": 10, \"model\": 23}, \"Metrics\": {\"train_absolute_loss_objective\": {\"sum\": 0.35320559978485105, \"count\": 1, \"min\": 0.35320559978485105, \"max\": 0.35320559978485105}}}\u001b[0m\n",
      "\u001b[34m#metrics {\"StartTime\": 1673981791.258784, \"EndTime\": 1673981791.2588015, \"Dimensions\": {\"Algorithm\": \"Linear Learner\", \"Host\": \"algo-1\", \"Operation\": \"training\", \"epoch\": 10, \"model\": 24}, \"Metrics\": {\"train_absolute_loss_objective\": {\"sum\": 0.7930736446380615, \"count\": 1, \"min\": 0.7930736446380615, \"max\": 0.7930736446380615}}}\u001b[0m\n",
      "\u001b[34m#metrics {\"StartTime\": 1673981791.2588546, \"EndTime\": 1673981791.2588723, \"Dimensions\": {\"Algorithm\": \"Linear Learner\", \"Host\": \"algo-1\", \"Operation\": \"training\", \"epoch\": 10, \"model\": 25}, \"Metrics\": {\"train_absolute_loss_objective\": {\"sum\": 0.7921001291275025, \"count\": 1, \"min\": 0.7921001291275025, \"max\": 0.7921001291275025}}}\u001b[0m\n",
      "\u001b[34m#metrics {\"StartTime\": 1673981791.258965, \"EndTime\": 1673981791.258984, \"Dimensions\": {\"Algorithm\": \"Linear Learner\", \"Host\": \"algo-1\", \"Operation\": \"training\", \"epoch\": 10, \"model\": 26}, \"Metrics\": {\"train_absolute_loss_objective\": {\"sum\": 0.7942067623138428, \"count\": 1, \"min\": 0.7942067623138428, \"max\": 0.7942067623138428}}}\u001b[0m\n",
      "\u001b[34m#metrics {\"StartTime\": 1673981791.2590709, \"EndTime\": 1673981791.2590919, \"Dimensions\": {\"Algorithm\": \"Linear Learner\", \"Host\": \"algo-1\", \"Operation\": \"training\", \"epoch\": 10, \"model\": 27}, \"Metrics\": {\"train_absolute_loss_objective\": {\"sum\": 0.7940574836730957, \"count\": 1, \"min\": 0.7940574836730957, \"max\": 0.7940574836730957}}}\u001b[0m\n",
      "\u001b[34m#metrics {\"StartTime\": 1673981791.2592125, \"EndTime\": 1673981791.2592232, \"Dimensions\": {\"Algorithm\": \"Linear Learner\", \"Host\": \"algo-1\", \"Operation\": \"training\", \"epoch\": 10, \"model\": 28}, \"Metrics\": {\"train_absolute_loss_objective\": {\"sum\": 0.838782787322998, \"count\": 1, \"min\": 0.838782787322998, \"max\": 0.838782787322998}}}\u001b[0m\n",
      "\u001b[34m#metrics {\"StartTime\": 1673981791.2593222, \"EndTime\": 1673981791.2593381, \"Dimensions\": {\"Algorithm\": \"Linear Learner\", \"Host\": \"algo-1\", \"Operation\": \"training\", \"epoch\": 10, \"model\": 29}, \"Metrics\": {\"train_absolute_loss_objective\": {\"sum\": 0.8418147563934326, \"count\": 1, \"min\": 0.8418147563934326, \"max\": 0.8418147563934326}}}\u001b[0m\n",
      "\u001b[34m#metrics {\"StartTime\": 1673981791.2593932, \"EndTime\": 1673981791.2594085, \"Dimensions\": {\"Algorithm\": \"Linear Learner\", \"Host\": \"algo-1\", \"Operation\": \"training\", \"epoch\": 10, \"model\": 30}, \"Metrics\": {\"train_absolute_loss_objective\": {\"sum\": 0.8369797945022583, \"count\": 1, \"min\": 0.8369797945022583, \"max\": 0.8369797945022583}}}\u001b[0m\n",
      "\u001b[34m#metrics {\"StartTime\": 1673981791.2594562, \"EndTime\": 1673981791.259476, \"Dimensions\": {\"Algorithm\": \"Linear Learner\", \"Host\": \"algo-1\", \"Operation\": \"training\", \"epoch\": 10, \"model\": 31}, \"Metrics\": {\"train_absolute_loss_objective\": {\"sum\": 0.8445720767974854, \"count\": 1, \"min\": 0.8445720767974854, \"max\": 0.8445720767974854}}}\u001b[0m\n",
      "\u001b[34m[01/17/2023 18:56:31 INFO 140353027958592] #quality_metric: host=algo-1, epoch=10, train absolute_loss_objective <loss>=0.6298672485351563\u001b[0m\n",
      "\u001b[34m[01/17/2023 18:56:31 INFO 140353027958592] #early_stopping_criteria_metric: host=algo-1, epoch=10, criteria=absolute_loss_objective, value=0.20013221502304077\u001b[0m\n",
      "\u001b[34m[01/17/2023 18:56:31 INFO 140353027958592] Saving model for epoch: 10\u001b[0m\n",
      "\u001b[34m[01/17/2023 18:56:31 INFO 140353027958592] Saved checkpoint to \"/tmp/tmp86qck057/mx-mod-0000.params\"\u001b[0m\n",
      "\u001b[34m[01/17/2023 18:56:31 INFO 140353027958592] #progress_metric: host=algo-1, completed 2.2 % of epochs\u001b[0m\n",
      "\u001b[34m#metrics {\"StartTime\": 1673981791.149286, \"EndTime\": 1673981791.2693672, \"Dimensions\": {\"Algorithm\": \"Linear Learner\", \"Host\": \"algo-1\", \"Operation\": \"training\", \"epoch\": 10, \"Meta\": \"training_data_iter\"}, \"Metrics\": {\"Total Records Seen\": {\"sum\": 317.0, \"count\": 1, \"min\": 317, \"max\": 317}, \"Total Batches Seen\": {\"sum\": 73.0, \"count\": 1, \"min\": 73, \"max\": 73}, \"Max Records Seen Between Resets\": {\"sum\": 26.0, \"count\": 1, \"min\": 26, \"max\": 26}, \"Max Batches Seen Between Resets\": {\"sum\": 6.0, \"count\": 1, \"min\": 6, \"max\": 6}, \"Reset Count\": {\"sum\": 13.0, \"count\": 1, \"min\": 13, \"max\": 13}, \"Number of Records Since Last Reset\": {\"sum\": 26.0, \"count\": 1, \"min\": 26, \"max\": 26}, \"Number of Batches Since Last Reset\": {\"sum\": 6.0, \"count\": 1, \"min\": 6, \"max\": 6}}}\u001b[0m\n",
      "\u001b[34m[01/17/2023 18:56:31 INFO 140353027958592] #throughput_metric: host=algo-1, train throughput=216.2685530587435 records/second\u001b[0m\n",
      "\u001b[34m[2023-01-17 18:56:31.416] [tensorio] [info] epoch_stats={\"data_pipeline\": \"/opt/ml/input/data/train\", \"epoch\": 26, \"duration\": 146, \"num_examples\": 6, \"num_bytes\": 1248}\u001b[0m\n",
      "\u001b[34m#metrics {\"StartTime\": 1673981791.4160702, \"EndTime\": 1673981791.4161708, \"Dimensions\": {\"Algorithm\": \"Linear Learner\", \"Host\": \"algo-1\", \"Operation\": \"training\", \"epoch\": 11, \"model\": 0}, \"Metrics\": {\"train_absolute_loss_objective\": {\"sum\": 0.6147006797790527, \"count\": 1, \"min\": 0.6147006797790527, \"max\": 0.6147006797790527}}}\u001b[0m\n",
      "\u001b[34m#metrics {\"StartTime\": 1673981791.4162862, \"EndTime\": 1673981791.4163032, \"Dimensions\": {\"Algorithm\": \"Linear Learner\", \"Host\": \"algo-1\", \"Operation\": \"training\", \"epoch\": 11, \"model\": 1}, \"Metrics\": {\"train_absolute_loss_objective\": {\"sum\": 0.6286169385910034, \"count\": 1, \"min\": 0.6286169385910034, \"max\": 0.6286169385910034}}}\u001b[0m\n",
      "\u001b[34m#metrics {\"StartTime\": 1673981791.4163568, \"EndTime\": 1673981791.4163692, \"Dimensions\": {\"Algorithm\": \"Linear Learner\", \"Host\": \"algo-1\", \"Operation\": \"training\", \"epoch\": 11, \"model\": 2}, \"Metrics\": {\"train_absolute_loss_objective\": {\"sum\": 0.616746940612793, \"count\": 1, \"min\": 0.616746940612793, \"max\": 0.616746940612793}}}\u001b[0m\n",
      "\u001b[34m#metrics {\"StartTime\": 1673981791.416425, \"EndTime\": 1673981791.4164422, \"Dimensions\": {\"Algorithm\": \"Linear Learner\", \"Host\": \"algo-1\", \"Operation\": \"training\", \"epoch\": 11, \"model\": 3}, \"Metrics\": {\"train_absolute_loss_objective\": {\"sum\": 0.6277536725997925, \"count\": 1, \"min\": 0.6277536725997925, \"max\": 0.6277536725997925}}}\u001b[0m\n",
      "\u001b[34m#metrics {\"StartTime\": 1673981791.416491, \"EndTime\": 1673981791.416508, \"Dimensions\": {\"Algorithm\": \"Linear Learner\", \"Host\": \"algo-1\", \"Operation\": \"training\", \"epoch\": 11, \"model\": 4}, \"Metrics\": {\"train_absolute_loss_objective\": {\"sum\": 0.27625869274139403, \"count\": 1, \"min\": 0.27625869274139403, \"max\": 0.27625869274139403}}}\u001b[0m\n",
      "\u001b[34m#metrics {\"StartTime\": 1673981791.4165547, \"EndTime\": 1673981791.4165683, \"Dimensions\": {\"Algorithm\": \"Linear Learner\", \"Host\": \"algo-1\", \"Operation\": \"training\", \"epoch\": 11, \"model\": 5}, \"Metrics\": {\"train_absolute_loss_objective\": {\"sum\": 0.273192880153656, \"count\": 1, \"min\": 0.273192880153656, \"max\": 0.273192880153656}}}\u001b[0m\n",
      "\u001b[34m#metrics {\"StartTime\": 1673981791.4166188, \"EndTime\": 1673981791.4166338, \"Dimensions\": {\"Algorithm\": \"Linear Learner\", \"Host\": \"algo-1\", \"Operation\": \"training\", \"epoch\": 11, \"model\": 6}, \"Metrics\": {\"train_absolute_loss_objective\": {\"sum\": 0.19487049102783202, \"count\": 1, \"min\": 0.19487049102783202, \"max\": 0.19487049102783202}}}\u001b[0m\n",
      "\u001b[34m#metrics {\"StartTime\": 1673981791.4166818, \"EndTime\": 1673981791.4166949, \"Dimensions\": {\"Algorithm\": \"Linear Learner\", \"Host\": \"algo-1\", \"Operation\": \"training\", \"epoch\": 11, \"model\": 7}, \"Metrics\": {\"train_absolute_loss_objective\": {\"sum\": 0.2597013807296753, \"count\": 1, \"min\": 0.2597013807296753, \"max\": 0.2597013807296753}}}\u001b[0m\n",
      "\u001b[34m#metrics {\"StartTime\": 1673981791.4167426, \"EndTime\": 1673981791.4167562, \"Dimensions\": {\"Algorithm\": \"Linear Learner\", \"Host\": \"algo-1\", \"Operation\": \"training\", \"epoch\": 11, \"model\": 8}, \"Metrics\": {\"train_absolute_loss_objective\": {\"sum\": 0.6618329048156738, \"count\": 1, \"min\": 0.6618329048156738, \"max\": 0.6618329048156738}}}\u001b[0m\n",
      "\u001b[34m#metrics {\"StartTime\": 1673981791.4167976, \"EndTime\": 1673981791.416811, \"Dimensions\": {\"Algorithm\": \"Linear Learner\", \"Host\": \"algo-1\", \"Operation\": \"training\", \"epoch\": 11, \"model\": 9}, \"Metrics\": {\"train_absolute_loss_objective\": {\"sum\": 0.6002846097946167, \"count\": 1, \"min\": 0.6002846097946167, \"max\": 0.6002846097946167}}}\u001b[0m\n",
      "\u001b[34m#metrics {\"StartTime\": 1673981791.4168606, \"EndTime\": 1673981791.4168756, \"Dimensions\": {\"Algorithm\": \"Linear Learner\", \"Host\": \"algo-1\", \"Operation\": \"training\", \"epoch\": 11, \"model\": 10}, \"Metrics\": {\"train_absolute_loss_objective\": {\"sum\": 0.6096424293518067, \"count\": 1, \"min\": 0.6096424293518067, \"max\": 0.6096424293518067}}}\u001b[0m\n",
      "\u001b[34m#metrics {\"StartTime\": 1673981791.416917, \"EndTime\": 1673981791.4169369, \"Dimensions\": {\"Algorithm\": \"Linear Learner\", \"Host\": \"algo-1\", \"Operation\": \"training\", \"epoch\": 11, \"model\": 11}, \"Metrics\": {\"train_absolute_loss_objective\": {\"sum\": 0.5934043979644775, \"count\": 1, \"min\": 0.5934043979644775, \"max\": 0.5934043979644775}}}\u001b[0m\n",
      "\u001b[34m#metrics {\"StartTime\": 1673981791.4174001, \"EndTime\": 1673981791.4174294, \"Dimensions\": {\"Algorithm\": \"Linear Learner\", \"Host\": \"algo-1\", \"Operation\": \"training\", \"epoch\": 11, \"model\": 12}, \"Metrics\": {\"train_absolute_loss_objective\": {\"sum\": 0.20633331656455994, \"count\": 1, \"min\": 0.20633331656455994, \"max\": 0.20633331656455994}}}\u001b[0m\n",
      "\u001b[34m#metrics {\"StartTime\": 1673981791.4174736, \"EndTime\": 1673981791.4174953, \"Dimensions\": {\"Algorithm\": \"Linear Learner\", \"Host\": \"algo-1\", \"Operation\": \"training\", \"epoch\": 11, \"model\": 13}, \"Metrics\": {\"train_absolute_loss_objective\": {\"sum\": 0.21236107587814332, \"count\": 1, \"min\": 0.21236107587814332, \"max\": 0.21236107587814332}}}\u001b[0m\n",
      "\u001b[34m#metrics {\"StartTime\": 1673981791.4175463, \"EndTime\": 1673981791.4175613, \"Dimensions\": {\"Algorithm\": \"Linear Learner\", \"Host\": \"algo-1\", \"Operation\": \"training\", \"epoch\": 11, \"model\": 14}, \"Metrics\": {\"train_absolute_loss_objective\": {\"sum\": 0.20928663730621339, \"count\": 1, \"min\": 0.20928663730621339, \"max\": 0.20928663730621339}}}\u001b[0m\n",
      "\u001b[34m#metrics {\"StartTime\": 1673981791.4176064, \"EndTime\": 1673981791.4176197, \"Dimensions\": {\"Algorithm\": \"Linear Learner\", \"Host\": \"algo-1\", \"Operation\": \"training\", \"epoch\": 11, \"model\": 15}, \"Metrics\": {\"train_absolute_loss_objective\": {\"sum\": 0.203219735622406, \"count\": 1, \"min\": 0.203219735622406, \"max\": 0.203219735622406}}}\u001b[0m\n",
      "\u001b[34m#metrics {\"StartTime\": 1673981791.4176638, \"EndTime\": 1673981791.4176753, \"Dimensions\": {\"Algorithm\": \"Linear Learner\", \"Host\": \"algo-1\", \"Operation\": \"training\", \"epoch\": 11, \"model\": 16}, \"Metrics\": {\"train_absolute_loss_objective\": {\"sum\": 0.5998112964630127, \"count\": 1, \"min\": 0.5998112964630127, \"max\": 0.5998112964630127}}}\u001b[0m\n",
      "\u001b[34m#metrics {\"StartTime\": 1673981791.417721, \"EndTime\": 1673981791.4177356, \"Dimensions\": {\"Algorithm\": \"Linear Learner\", \"Host\": \"algo-1\", \"Operation\": \"training\", \"epoch\": 11, \"model\": 17}, \"Metrics\": {\"train_absolute_loss_objective\": {\"sum\": 0.6356483745574951, \"count\": 1, \"min\": 0.6356483745574951, \"max\": 0.6356483745574951}}}\u001b[0m\n",
      "\u001b[34m#metrics {\"StartTime\": 1673981791.4177988, \"EndTime\": 1673981791.4178143, \"Dimensions\": {\"Algorithm\": \"Linear Learner\", \"Host\": \"algo-1\", \"Operation\": \"training\", \"epoch\": 11, \"model\": 18}, \"Metrics\": {\"train_absolute_loss_objective\": {\"sum\": 0.6191780090332031, \"count\": 1, \"min\": 0.6191780090332031, \"max\": 0.6191780090332031}}}\u001b[0m\n",
      "\u001b[34m#metrics {\"StartTime\": 1673981791.4178703, \"EndTime\": 1673981791.4178848, \"Dimensions\": {\"Algorithm\": \"Linear Learner\", \"Host\": \"algo-1\", \"Operation\": \"training\", \"epoch\": 11, \"model\": 19}, \"Metrics\": {\"train_absolute_loss_objective\": {\"sum\": 0.6150316429138184, \"count\": 1, \"min\": 0.6150316429138184, \"max\": 0.6150316429138184}}}\u001b[0m\n",
      "\u001b[34m#metrics {\"StartTime\": 1673981791.417944, \"EndTime\": 1673981791.4179578, \"Dimensions\": {\"Algorithm\": \"Linear Learner\", \"Host\": \"algo-1\", \"Operation\": \"training\", \"epoch\": 11, \"model\": 20}, \"Metrics\": {\"train_absolute_loss_objective\": {\"sum\": 0.3312414741516113, \"count\": 1, \"min\": 0.3312414741516113, \"max\": 0.3312414741516113}}}\u001b[0m\n",
      "\u001b[34m#metrics {\"StartTime\": 1673981791.418005, \"EndTime\": 1673981791.4180202, \"Dimensions\": {\"Algorithm\": \"Linear Learner\", \"Host\": \"algo-1\", \"Operation\": \"training\", \"epoch\": 11, \"model\": 21}, \"Metrics\": {\"train_absolute_loss_objective\": {\"sum\": 0.3425081133842468, \"count\": 1, \"min\": 0.3425081133842468, \"max\": 0.3425081133842468}}}\u001b[0m\n",
      "\u001b[34m#metrics {\"StartTime\": 1673981791.4180818, \"EndTime\": 1673981791.4180946, \"Dimensions\": {\"Algorithm\": \"Linear Learner\", \"Host\": \"algo-1\", \"Operation\": \"training\", \"epoch\": 11, \"model\": 22}, \"Metrics\": {\"train_absolute_loss_objective\": {\"sum\": 0.3372104740142822, \"count\": 1, \"min\": 0.3372104740142822, \"max\": 0.3372104740142822}}}\u001b[0m\n",
      "\u001b[34m#metrics {\"StartTime\": 1673981791.4181454, \"EndTime\": 1673981791.4181588, \"Dimensions\": {\"Algorithm\": \"Linear Learner\", \"Host\": \"algo-1\", \"Operation\": \"training\", \"epoch\": 11, \"model\": 23}, \"Metrics\": {\"train_absolute_loss_objective\": {\"sum\": 0.3387166976928711, \"count\": 1, \"min\": 0.3387166976928711, \"max\": 0.3387166976928711}}}\u001b[0m\n",
      "\u001b[34m#metrics {\"StartTime\": 1673981791.4182167, \"EndTime\": 1673981791.4182339, \"Dimensions\": {\"Algorithm\": \"Linear Learner\", \"Host\": \"algo-1\", \"Operation\": \"training\", \"epoch\": 11, \"model\": 24}, \"Metrics\": {\"train_absolute_loss_objective\": {\"sum\": 0.7947600984573364, \"count\": 1, \"min\": 0.7947600984573364, \"max\": 0.7947600984573364}}}\u001b[0m\n",
      "\u001b[34m#metrics {\"StartTime\": 1673981791.4182873, \"EndTime\": 1673981791.4183028, \"Dimensions\": {\"Algorithm\": \"Linear Learner\", \"Host\": \"algo-1\", \"Operation\": \"training\", \"epoch\": 11, \"model\": 25}, \"Metrics\": {\"train_absolute_loss_objective\": {\"sum\": 0.7935974884033203, \"count\": 1, \"min\": 0.7935974884033203, \"max\": 0.7935974884033203}}}\u001b[0m\n",
      "\u001b[34m#metrics {\"StartTime\": 1673981791.4183624, \"EndTime\": 1673981791.418376, \"Dimensions\": {\"Algorithm\": \"Linear Learner\", \"Host\": \"algo-1\", \"Operation\": \"training\", \"epoch\": 11, \"model\": 26}, \"Metrics\": {\"train_absolute_loss_objective\": {\"sum\": 0.7933666229248046, \"count\": 1, \"min\": 0.7933666229248046, \"max\": 0.7933666229248046}}}\u001b[0m\n",
      "\u001b[34m#metrics {\"StartTime\": 1673981791.4184206, \"EndTime\": 1673981791.4184363, \"Dimensions\": {\"Algorithm\": \"Linear Learner\", \"Host\": \"algo-1\", \"Operation\": \"training\", \"epoch\": 11, \"model\": 27}, \"Metrics\": {\"train_absolute_loss_objective\": {\"sum\": 0.7943922853469849, \"count\": 1, \"min\": 0.7943922853469849, \"max\": 0.7943922853469849}}}\u001b[0m\n",
      "\u001b[34m#metrics {\"StartTime\": 1673981791.4185014, \"EndTime\": 1673981791.4185169, \"Dimensions\": {\"Algorithm\": \"Linear Learner\", \"Host\": \"algo-1\", \"Operation\": \"training\", \"epoch\": 11, \"model\": 28}, \"Metrics\": {\"train_absolute_loss_objective\": {\"sum\": 0.8274746561050415, \"count\": 1, \"min\": 0.8274746561050415, \"max\": 0.8274746561050415}}}\u001b[0m\n",
      "\u001b[34m#metrics {\"StartTime\": 1673981791.418565, \"EndTime\": 1673981791.418579, \"Dimensions\": {\"Algorithm\": \"Linear Learner\", \"Host\": \"algo-1\", \"Operation\": \"training\", \"epoch\": 11, \"model\": 29}, \"Metrics\": {\"train_absolute_loss_objective\": {\"sum\": 0.8302234983444214, \"count\": 1, \"min\": 0.8302234983444214, \"max\": 0.8302234983444214}}}\u001b[0m\n",
      "\u001b[34m#metrics {\"StartTime\": 1673981791.41863, \"EndTime\": 1673981791.418636, \"Dimensions\": {\"Algorithm\": \"Linear Learner\", \"Host\": \"algo-1\", \"Operation\": \"training\", \"epoch\": 11, \"model\": 30}, \"Metrics\": {\"train_absolute_loss_objective\": {\"sum\": 0.8289858579635621, \"count\": 1, \"min\": 0.8289858579635621, \"max\": 0.8289858579635621}}}\u001b[0m\n",
      "\u001b[34m#metrics {\"StartTime\": 1673981791.4186902, \"EndTime\": 1673981791.4187074, \"Dimensions\": {\"Algorithm\": \"Linear Learner\", \"Host\": \"algo-1\", \"Operation\": \"training\", \"epoch\": 11, \"model\": 31}, \"Metrics\": {\"train_absolute_loss_objective\": {\"sum\": 0.8277851629257202, \"count\": 1, \"min\": 0.8277851629257202, \"max\": 0.8277851629257202}}}\u001b[0m\n",
      "\u001b[34m[01/17/2023 18:56:31 INFO 140353027958592] #quality_metric: host=algo-1, epoch=11, train absolute_loss_objective <loss>=0.6147006797790527\u001b[0m\n",
      "\u001b[34m[01/17/2023 18:56:31 INFO 140353027958592] #early_stopping_criteria_metric: host=algo-1, epoch=11, criteria=absolute_loss_objective, value=0.19487049102783202\u001b[0m\n",
      "\u001b[34m[01/17/2023 18:56:31 INFO 140353027958592] Saving model for epoch: 11\u001b[0m\n",
      "\u001b[34m[01/17/2023 18:56:31 INFO 140353027958592] Saved checkpoint to \"/tmp/tmpyomhsa5i/mx-mod-0000.params\"\u001b[0m\n",
      "\u001b[34m[01/17/2023 18:56:31 INFO 140353027958592] #progress_metric: host=algo-1, completed 2.4 % of epochs\u001b[0m\n",
      "\u001b[34m#metrics {\"StartTime\": 1673981791.2696815, \"EndTime\": 1673981791.430168, \"Dimensions\": {\"Algorithm\": \"Linear Learner\", \"Host\": \"algo-1\", \"Operation\": \"training\", \"epoch\": 11, \"Meta\": \"training_data_iter\"}, \"Metrics\": {\"Total Records Seen\": {\"sum\": 343.0, \"count\": 1, \"min\": 343, \"max\": 343}, \"Total Batches Seen\": {\"sum\": 79.0, \"count\": 1, \"min\": 79, \"max\": 79}, \"Max Records Seen Between Resets\": {\"sum\": 26.0, \"count\": 1, \"min\": 26, \"max\": 26}, \"Max Batches Seen Between Resets\": {\"sum\": 6.0, \"count\": 1, \"min\": 6, \"max\": 6}, \"Reset Count\": {\"sum\": 14.0, \"count\": 1, \"min\": 14, \"max\": 14}, \"Number of Records Since Last Reset\": {\"sum\": 26.0, \"count\": 1, \"min\": 26, \"max\": 26}, \"Number of Batches Since Last Reset\": {\"sum\": 6.0, \"count\": 1, \"min\": 6, \"max\": 6}}}\u001b[0m\n",
      "\u001b[34m[01/17/2023 18:56:31 INFO 140353027958592] #throughput_metric: host=algo-1, train throughput=161.85979520380917 records/second\u001b[0m\n",
      "\u001b[34m[2023-01-17 18:56:31.563] [tensorio] [info] epoch_stats={\"data_pipeline\": \"/opt/ml/input/data/train\", \"epoch\": 28, \"duration\": 132, \"num_examples\": 6, \"num_bytes\": 1248}\u001b[0m\n",
      "\u001b[34m#metrics {\"StartTime\": 1673981791.5634315, \"EndTime\": 1673981791.5635138, \"Dimensions\": {\"Algorithm\": \"Linear Learner\", \"Host\": \"algo-1\", \"Operation\": \"training\", \"epoch\": 12, \"model\": 0}, \"Metrics\": {\"train_absolute_loss_objective\": {\"sum\": 0.5991791439056396, \"count\": 1, \"min\": 0.5991791439056396, \"max\": 0.5991791439056396}}}\u001b[0m\n",
      "\u001b[34m#metrics {\"StartTime\": 1673981791.5636146, \"EndTime\": 1673981791.56363, \"Dimensions\": {\"Algorithm\": \"Linear Learner\", \"Host\": \"algo-1\", \"Operation\": \"training\", \"epoch\": 12, \"model\": 1}, \"Metrics\": {\"train_absolute_loss_objective\": {\"sum\": 0.6127695703506469, \"count\": 1, \"min\": 0.6127695703506469, \"max\": 0.6127695703506469}}}\u001b[0m\n",
      "\u001b[34m#metrics {\"StartTime\": 1673981791.563669, \"EndTime\": 1673981791.5636802, \"Dimensions\": {\"Algorithm\": \"Linear Learner\", \"Host\": \"algo-1\", \"Operation\": \"training\", \"epoch\": 12, \"model\": 2}, \"Metrics\": {\"train_absolute_loss_objective\": {\"sum\": 0.6012253952026367, \"count\": 1, \"min\": 0.6012253952026367, \"max\": 0.6012253952026367}}}\u001b[0m\n",
      "\u001b[34m#metrics {\"StartTime\": 1673981791.563715, \"EndTime\": 1673981791.563727, \"Dimensions\": {\"Algorithm\": \"Linear Learner\", \"Host\": \"algo-1\", \"Operation\": \"training\", \"epoch\": 12, \"model\": 3}, \"Metrics\": {\"train_absolute_loss_objective\": {\"sum\": 0.6119063138961792, \"count\": 1, \"min\": 0.6119063138961792, \"max\": 0.6119063138961792}}}\u001b[0m\n",
      "\u001b[34m#metrics {\"StartTime\": 1673981791.5637696, \"EndTime\": 1673981791.5637813, \"Dimensions\": {\"Algorithm\": \"Linear Learner\", \"Host\": \"algo-1\", \"Operation\": \"training\", \"epoch\": 12, \"model\": 4}, \"Metrics\": {\"train_absolute_loss_objective\": {\"sum\": 0.19486141920089722, \"count\": 1, \"min\": 0.19486141920089722, \"max\": 0.19486141920089722}}}\u001b[0m\n",
      "\u001b[34m#metrics {\"StartTime\": 1673981791.5638165, \"EndTime\": 1673981791.5638278, \"Dimensions\": {\"Algorithm\": \"Linear Learner\", \"Host\": \"algo-1\", \"Operation\": \"training\", \"epoch\": 12, \"model\": 5}, \"Metrics\": {\"train_absolute_loss_objective\": {\"sum\": 0.28179790019989015, \"count\": 1, \"min\": 0.28179790019989015, \"max\": 0.28179790019989015}}}\u001b[0m\n",
      "\u001b[34m#metrics {\"StartTime\": 1673981791.5638704, \"EndTime\": 1673981791.5638754, \"Dimensions\": {\"Algorithm\": \"Linear Learner\", \"Host\": \"algo-1\", \"Operation\": \"training\", \"epoch\": 12, \"model\": 6}, \"Metrics\": {\"train_absolute_loss_objective\": {\"sum\": 0.19639570951461793, \"count\": 1, \"min\": 0.19639570951461793, \"max\": 0.19639570951461793}}}\u001b[0m\n",
      "\u001b[34m#metrics {\"StartTime\": 1673981791.5639112, \"EndTime\": 1673981791.5639222, \"Dimensions\": {\"Algorithm\": \"Linear Learner\", \"Host\": \"algo-1\", \"Operation\": \"training\", \"epoch\": 12, \"model\": 7}, \"Metrics\": {\"train_absolute_loss_objective\": {\"sum\": 0.23806289672851563, \"count\": 1, \"min\": 0.23806289672851563, \"max\": 0.23806289672851563}}}\u001b[0m\n",
      "\u001b[34m#metrics {\"StartTime\": 1673981791.5639527, \"EndTime\": 1673981791.563963, \"Dimensions\": {\"Algorithm\": \"Linear Learner\", \"Host\": \"algo-1\", \"Operation\": \"training\", \"epoch\": 12, \"model\": 8}, \"Metrics\": {\"train_absolute_loss_objective\": {\"sum\": 0.6465789890289306, \"count\": 1, \"min\": 0.6465789890289306, \"max\": 0.6465789890289306}}}\u001b[0m\n",
      "\u001b[34m#metrics {\"StartTime\": 1673981791.5640013, \"EndTime\": 1673981791.5640125, \"Dimensions\": {\"Algorithm\": \"Linear Learner\", \"Host\": \"algo-1\", \"Operation\": \"training\", \"epoch\": 12, \"model\": 9}, \"Metrics\": {\"train_absolute_loss_objective\": {\"sum\": 0.5837456035614014, \"count\": 1, \"min\": 0.5837456035614014, \"max\": 0.5837456035614014}}}\u001b[0m\n",
      "\u001b[34m#metrics {\"StartTime\": 1673981791.5640466, \"EndTime\": 1673981791.564056, \"Dimensions\": {\"Algorithm\": \"Linear Learner\", \"Host\": \"algo-1\", \"Operation\": \"training\", \"epoch\": 12, \"model\": 10}, \"Metrics\": {\"train_absolute_loss_objective\": {\"sum\": 0.5949218988418579, \"count\": 1, \"min\": 0.5949218988418579, \"max\": 0.5949218988418579}}}\u001b[0m\n",
      "\u001b[34m#metrics {\"StartTime\": 1673981791.5640962, \"EndTime\": 1673981791.5641124, \"Dimensions\": {\"Algorithm\": \"Linear Learner\", \"Host\": \"algo-1\", \"Operation\": \"training\", \"epoch\": 12, \"model\": 11}, \"Metrics\": {\"train_absolute_loss_objective\": {\"sum\": 0.5776046466827393, \"count\": 1, \"min\": 0.5776046466827393, \"max\": 0.5776046466827393}}}\u001b[0m\n",
      "\u001b[34m#metrics {\"StartTime\": 1673981791.564143, \"EndTime\": 1673981791.5641537, \"Dimensions\": {\"Algorithm\": \"Linear Learner\", \"Host\": \"algo-1\", \"Operation\": \"training\", \"epoch\": 12, \"model\": 12}, \"Metrics\": {\"train_absolute_loss_objective\": {\"sum\": 0.19552668333053588, \"count\": 1, \"min\": 0.19552668333053588, \"max\": 0.19552668333053588}}}\u001b[0m\n",
      "\u001b[34m#metrics {\"StartTime\": 1673981791.564185, \"EndTime\": 1673981791.5641935, \"Dimensions\": {\"Algorithm\": \"Linear Learner\", \"Host\": \"algo-1\", \"Operation\": \"training\", \"epoch\": 12, \"model\": 13}, \"Metrics\": {\"train_absolute_loss_objective\": {\"sum\": 0.19430354595184327, \"count\": 1, \"min\": 0.19430354595184327, \"max\": 0.19430354595184327}}}\u001b[0m\n",
      "\u001b[34m#metrics {\"StartTime\": 1673981791.564233, \"EndTime\": 1673981791.5642447, \"Dimensions\": {\"Algorithm\": \"Linear Learner\", \"Host\": \"algo-1\", \"Operation\": \"training\", \"epoch\": 12, \"model\": 14}, \"Metrics\": {\"train_absolute_loss_objective\": {\"sum\": 0.19595356941223144, \"count\": 1, \"min\": 0.19595356941223144, \"max\": 0.19595356941223144}}}\u001b[0m\n",
      "\u001b[34m#metrics {\"StartTime\": 1673981791.5642772, \"EndTime\": 1673981791.5642867, \"Dimensions\": {\"Algorithm\": \"Linear Learner\", \"Host\": \"algo-1\", \"Operation\": \"training\", \"epoch\": 12, \"model\": 15}, \"Metrics\": {\"train_absolute_loss_objective\": {\"sum\": 0.1907118821144104, \"count\": 1, \"min\": 0.1907118821144104, \"max\": 0.1907118821144104}}}\u001b[0m\n",
      "\u001b[34m#metrics {\"StartTime\": 1673981791.5643194, \"EndTime\": 1673981791.5643358, \"Dimensions\": {\"Algorithm\": \"Linear Learner\", \"Host\": \"algo-1\", \"Operation\": \"training\", \"epoch\": 12, \"model\": 16}, \"Metrics\": {\"train_absolute_loss_objective\": {\"sum\": 0.587216911315918, \"count\": 1, \"min\": 0.587216911315918, \"max\": 0.587216911315918}}}\u001b[0m\n",
      "\u001b[34m#metrics {\"StartTime\": 1673981791.5643673, \"EndTime\": 1673981791.564378, \"Dimensions\": {\"Algorithm\": \"Linear Learner\", \"Host\": \"algo-1\", \"Operation\": \"training\", \"epoch\": 12, \"model\": 17}, \"Metrics\": {\"train_absolute_loss_objective\": {\"sum\": 0.6223737287521363, \"count\": 1, \"min\": 0.6223737287521363, \"max\": 0.6223737287521363}}}\u001b[0m\n",
      "\u001b[34m#metrics {\"StartTime\": 1673981791.5644104, \"EndTime\": 1673981791.5644188, \"Dimensions\": {\"Algorithm\": \"Linear Learner\", \"Host\": \"algo-1\", \"Operation\": \"training\", \"epoch\": 12, \"model\": 18}, \"Metrics\": {\"train_absolute_loss_objective\": {\"sum\": 0.6088648366928101, \"count\": 1, \"min\": 0.6088648366928101, \"max\": 0.6088648366928101}}}\u001b[0m\n",
      "\u001b[34m#metrics {\"StartTime\": 1673981791.5644543, \"EndTime\": 1673981791.5644708, \"Dimensions\": {\"Algorithm\": \"Linear Learner\", \"Host\": \"algo-1\", \"Operation\": \"training\", \"epoch\": 12, \"model\": 19}, \"Metrics\": {\"train_absolute_loss_objective\": {\"sum\": 0.6015581512451171, \"count\": 1, \"min\": 0.6015581512451171, \"max\": 0.6015581512451171}}}\u001b[0m\n",
      "\u001b[34m#metrics {\"StartTime\": 1673981791.5645013, \"EndTime\": 1673981791.5645125, \"Dimensions\": {\"Algorithm\": \"Linear Learner\", \"Host\": \"algo-1\", \"Operation\": \"training\", \"epoch\": 12, \"model\": 20}, \"Metrics\": {\"train_absolute_loss_objective\": {\"sum\": 0.33168713092803953, \"count\": 1, \"min\": 0.33168713092803953, \"max\": 0.33168713092803953}}}\u001b[0m\n",
      "\u001b[34m#metrics {\"StartTime\": 1673981791.564543, \"EndTime\": 1673981791.5645516, \"Dimensions\": {\"Algorithm\": \"Linear Learner\", \"Host\": \"algo-1\", \"Operation\": \"training\", \"epoch\": 12, \"model\": 21}, \"Metrics\": {\"train_absolute_loss_objective\": {\"sum\": 0.3477461862564087, \"count\": 1, \"min\": 0.3477461862564087, \"max\": 0.3477461862564087}}}\u001b[0m\n",
      "\u001b[34m#metrics {\"StartTime\": 1673981791.564589, \"EndTime\": 1673981791.5646005, \"Dimensions\": {\"Algorithm\": \"Linear Learner\", \"Host\": \"algo-1\", \"Operation\": \"training\", \"epoch\": 12, \"model\": 22}, \"Metrics\": {\"train_absolute_loss_objective\": {\"sum\": 0.3407106590270996, \"count\": 1, \"min\": 0.3407106590270996, \"max\": 0.3407106590270996}}}\u001b[0m\n",
      "\u001b[34m#metrics {\"StartTime\": 1673981791.5646546, \"EndTime\": 1673981791.564666, \"Dimensions\": {\"Algorithm\": \"Linear Learner\", \"Host\": \"algo-1\", \"Operation\": \"training\", \"epoch\": 12, \"model\": 23}, \"Metrics\": {\"train_absolute_loss_objective\": {\"sum\": 0.34275550365448, \"count\": 1, \"min\": 0.34275550365448, \"max\": 0.34275550365448}}}\u001b[0m\n",
      "\u001b[34m#metrics {\"StartTime\": 1673981791.5647104, \"EndTime\": 1673981791.5647173, \"Dimensions\": {\"Algorithm\": \"Linear Learner\", \"Host\": \"algo-1\", \"Operation\": \"training\", \"epoch\": 12, \"model\": 24}, \"Metrics\": {\"train_absolute_loss_objective\": {\"sum\": 0.7951021766662598, \"count\": 1, \"min\": 0.7951021766662598, \"max\": 0.7951021766662598}}}\u001b[0m\n",
      "\u001b[34m#metrics {\"StartTime\": 1673981791.5647523, \"EndTime\": 1673981791.5647619, \"Dimensions\": {\"Algorithm\": \"Linear Learner\", \"Host\": \"algo-1\", \"Operation\": \"training\", \"epoch\": 12, \"model\": 25}, \"Metrics\": {\"train_absolute_loss_objective\": {\"sum\": 0.7946283531188965, \"count\": 1, \"min\": 0.7946283531188965, \"max\": 0.7946283531188965}}}\u001b[0m\n",
      "\u001b[34m#metrics {\"StartTime\": 1673981791.5647933, \"EndTime\": 1673981791.564811, \"Dimensions\": {\"Algorithm\": \"Linear Learner\", \"Host\": \"algo-1\", \"Operation\": \"training\", \"epoch\": 12, \"model\": 26}, \"Metrics\": {\"train_absolute_loss_objective\": {\"sum\": 0.7930718326568603, \"count\": 1, \"min\": 0.7930718326568603, \"max\": 0.7930718326568603}}}\u001b[0m\n",
      "\u001b[34m#metrics {\"StartTime\": 1673981791.5648427, \"EndTime\": 1673981791.5648534, \"Dimensions\": {\"Algorithm\": \"Linear Learner\", \"Host\": \"algo-1\", \"Operation\": \"training\", \"epoch\": 12, \"model\": 27}, \"Metrics\": {\"train_absolute_loss_objective\": {\"sum\": 0.7936611557006836, \"count\": 1, \"min\": 0.7936611557006836, \"max\": 0.7936611557006836}}}\u001b[0m\n",
      "\u001b[34m#metrics {\"StartTime\": 1673981791.5648873, \"EndTime\": 1673981791.5648952, \"Dimensions\": {\"Algorithm\": \"Linear Learner\", \"Host\": \"algo-1\", \"Operation\": \"training\", \"epoch\": 12, \"model\": 28}, \"Metrics\": {\"train_absolute_loss_objective\": {\"sum\": 0.8226364898681641, \"count\": 1, \"min\": 0.8226364898681641, \"max\": 0.8226364898681641}}}\u001b[0m\n",
      "\u001b[34m#metrics {\"StartTime\": 1673981791.564933, \"EndTime\": 1673981791.5649493, \"Dimensions\": {\"Algorithm\": \"Linear Learner\", \"Host\": \"algo-1\", \"Operation\": \"training\", \"epoch\": 12, \"model\": 29}, \"Metrics\": {\"train_absolute_loss_objective\": {\"sum\": 0.823839807510376, \"count\": 1, \"min\": 0.823839807510376, \"max\": 0.823839807510376}}}\u001b[0m\n",
      "\u001b[34m#metrics {\"StartTime\": 1673981791.5649774, \"EndTime\": 1673981791.5649877, \"Dimensions\": {\"Algorithm\": \"Linear Learner\", \"Host\": \"algo-1\", \"Operation\": \"training\", \"epoch\": 12, \"model\": 30}, \"Metrics\": {\"train_absolute_loss_objective\": {\"sum\": 0.8211145782470703, \"count\": 1, \"min\": 0.8211145782470703, \"max\": 0.8211145782470703}}}\u001b[0m\n",
      "\u001b[34m#metrics {\"StartTime\": 1673981791.56502, \"EndTime\": 1673981791.5650284, \"Dimensions\": {\"Algorithm\": \"Linear Learner\", \"Host\": \"algo-1\", \"Operation\": \"training\", \"epoch\": 12, \"model\": 31}, \"Metrics\": {\"train_absolute_loss_objective\": {\"sum\": 0.8260299777984619, \"count\": 1, \"min\": 0.8260299777984619, \"max\": 0.8260299777984619}}}\u001b[0m\n",
      "\u001b[34m[01/17/2023 18:56:31 INFO 140353027958592] #quality_metric: host=algo-1, epoch=12, train absolute_loss_objective <loss>=0.5991791439056396\u001b[0m\n",
      "\u001b[34m[01/17/2023 18:56:31 INFO 140353027958592] #early_stopping_criteria_metric: host=algo-1, epoch=12, criteria=absolute_loss_objective, value=0.1907118821144104\u001b[0m\n",
      "\u001b[34m[01/17/2023 18:56:31 INFO 140353027958592] Saving model for epoch: 12\u001b[0m\n",
      "\u001b[34m[01/17/2023 18:56:31 INFO 140353027958592] Saved checkpoint to \"/tmp/tmps1olyvn6/mx-mod-0000.params\"\u001b[0m\n",
      "\u001b[34m[01/17/2023 18:56:31 INFO 140353027958592] Early stop condition met. Stopping training.\u001b[0m\n",
      "\u001b[34m[01/17/2023 18:56:31 INFO 140353027958592] #progress_metric: host=algo-1, completed 100 % epochs\u001b[0m\n",
      "\u001b[34m#metrics {\"StartTime\": 1673981791.430485, \"EndTime\": 1673981791.5734546, \"Dimensions\": {\"Algorithm\": \"Linear Learner\", \"Host\": \"algo-1\", \"Operation\": \"training\", \"epoch\": 12, \"Meta\": \"training_data_iter\"}, \"Metrics\": {\"Total Records Seen\": {\"sum\": 369.0, \"count\": 1, \"min\": 369, \"max\": 369}, \"Total Batches Seen\": {\"sum\": 85.0, \"count\": 1, \"min\": 85, \"max\": 85}, \"Max Records Seen Between Resets\": {\"sum\": 26.0, \"count\": 1, \"min\": 26, \"max\": 26}, \"Max Batches Seen Between Resets\": {\"sum\": 6.0, \"count\": 1, \"min\": 6, \"max\": 6}, \"Reset Count\": {\"sum\": 15.0, \"count\": 1, \"min\": 15, \"max\": 15}, \"Number of Records Since Last Reset\": {\"sum\": 26.0, \"count\": 1, \"min\": 26, \"max\": 26}, \"Number of Batches Since Last Reset\": {\"sum\": 6.0, \"count\": 1, \"min\": 6, \"max\": 6}}}\u001b[0m\n",
      "\u001b[34m[01/17/2023 18:56:31 INFO 140353027958592] #throughput_metric: host=algo-1, train throughput=181.69170097450362 records/second\u001b[0m\n",
      "\u001b[34m[01/17/2023 18:56:31 WARNING 140353027958592] wait_for_all_workers will not sync workers since the kv store is not running distributed\u001b[0m\n",
      "\u001b[34m[01/17/2023 18:56:31 WARNING 140353027958592] wait_for_all_workers will not sync workers since the kv store is not running distributed\u001b[0m\n",
      "\u001b[34m[2023-01-17 18:56:31.574] [tensorio] [info] epoch_stats={\"data_pipeline\": \"/opt/ml/input/data/train\", \"epoch\": 30, \"duration\": 0, \"num_examples\": 1, \"num_bytes\": 240}\u001b[0m\n",
      "\u001b[34m[2023-01-17 18:56:31.587] [tensorio] [info] epoch_stats={\"data_pipeline\": \"/opt/ml/input/data/train\", \"epoch\": 32, \"duration\": 10, \"num_examples\": 6, \"num_bytes\": 1248}\u001b[0m\n",
      "\u001b[34m[01/17/2023 18:56:31 INFO 140353027958592] #train_score (algo-1) : ('absolute_loss_objective', 5401.685396634615)\u001b[0m\n",
      "\u001b[34m[01/17/2023 18:56:31 INFO 140353027958592] #train_score (algo-1) : ('mse', 44319698.615384616)\u001b[0m\n",
      "\u001b[34m[01/17/2023 18:56:31 INFO 140353027958592] #train_score (algo-1) : ('absolute_loss', 5401.685396634615)\u001b[0m\n",
      "\u001b[34m[01/17/2023 18:56:31 INFO 140353027958592] #train_score (algo-1) : ('rmse', 6657.304155240664)\u001b[0m\n",
      "\u001b[34m[01/17/2023 18:56:31 INFO 140353027958592] #train_score (algo-1) : ('r2', 0.9561618750255678)\u001b[0m\n",
      "\u001b[34m[01/17/2023 18:56:31 INFO 140353027958592] #train_score (algo-1) : ('mae', 5401.685396634615)\u001b[0m\n",
      "\u001b[34m[01/17/2023 18:56:31 INFO 140353027958592] #quality_metric: host=algo-1, train absolute_loss_objective <loss>=5401.685396634615\u001b[0m\n",
      "\u001b[34m[01/17/2023 18:56:31 INFO 140353027958592] #quality_metric: host=algo-1, train mse <loss>=44319698.615384616\u001b[0m\n",
      "\u001b[34m[01/17/2023 18:56:31 INFO 140353027958592] #quality_metric: host=algo-1, train absolute_loss <loss>=5401.685396634615\u001b[0m\n",
      "\u001b[34m[01/17/2023 18:56:31 INFO 140353027958592] #quality_metric: host=algo-1, train rmse <loss>=6657.304155240664\u001b[0m\n",
      "\u001b[34m[01/17/2023 18:56:31 INFO 140353027958592] #quality_metric: host=algo-1, train r2 <loss>=0.9561618750255678\u001b[0m\n",
      "\u001b[34m[01/17/2023 18:56:31 INFO 140353027958592] #quality_metric: host=algo-1, train mae <loss>=5401.685396634615\u001b[0m\n",
      "\u001b[34m[01/17/2023 18:56:31 INFO 140353027958592] Best model found for hyperparameters: {\"optimizer\": \"adam\", \"learning_rate\": 0.1, \"wd\": 0.01, \"l1\": 0.0, \"lr_scheduler_step\": 100, \"lr_scheduler_factor\": 0.99, \"lr_scheduler_minimum_lr\": 1e-05}\u001b[0m\n",
      "\u001b[34m[01/17/2023 18:56:31 INFO 140353027958592] Saved checkpoint to \"/tmp/tmpozrq3hgt/mx-mod-0000.params\"\u001b[0m\n",
      "\u001b[34m[01/17/2023 18:56:31 INFO 140353027958592] Test data is not provided.\u001b[0m\n",
      "\u001b[34m#metrics {\"StartTime\": 1673981789.700984, \"EndTime\": 1673981791.597399, \"Dimensions\": {\"Algorithm\": \"Linear Learner\", \"Host\": \"algo-1\", \"Operation\": \"training\"}, \"Metrics\": {\"initialize.time\": {\"sum\": 163.29121589660645, \"count\": 1, \"min\": 163.29121589660645, \"max\": 163.29121589660645}, \"epochs\": {\"sum\": 500.0, \"count\": 1, \"min\": 500, \"max\": 500}, \"check_early_stopping.time\": {\"sum\": 9.404659271240234, \"count\": 13, \"min\": 0.19240379333496094, \"max\": 1.5218257904052734}, \"update.time\": {\"sum\": 1663.2051467895508, \"count\": 13, \"min\": 110.04042625427246, \"max\": 157.31549263000488}, \"finalize.time\": {\"sum\": 16.872882843017578, \"count\": 1, \"min\": 16.872882843017578, \"max\": 16.872882843017578}, \"setuptime\": {\"sum\": 2.2907257080078125, \"count\": 1, \"min\": 2.2907257080078125, \"max\": 2.2907257080078125}, \"totaltime\": {\"sum\": 2005.5575370788574, \"count\": 1, \"min\": 2005.5575370788574, \"max\": 2005.5575370788574}}}\u001b[0m\n",
      "\n",
      "2023-01-17 18:56:49 Uploading - Uploading generated training model\n",
      "2023-01-17 18:56:49 Completed - Training job completed\n",
      "Training seconds: 137\n",
      "Billable seconds: 137\n"
     ]
    }
   ],
   "source": [
    "# We have pass in the container, the type of instance that we would like to use for training \n",
    "# output path and sagemaker session into the Estimator. \n",
    "# We can also specify how many instances we would like to use for training\n",
    "# sagemaker_session = sagemaker.Session()\n",
    "\n",
    "linear = sagemaker.estimator.Estimator(container,\n",
    "                                       role, \n",
    "                                       train_instance_count = 1, \n",
    "                                       train_instance_type = 'ml.c4.xlarge',\n",
    "                                       output_path = output_location,\n",
    "                                       sagemaker_session = sagemaker_session)\n",
    "\n",
    "\n",
    "# We can tune parameters like the number of features that we are passing in, type of predictor like 'regressor' or 'classifier', mini batch size, epochs\n",
    "# Train 32 different versions of the model and will get the best out of them (built-in parameters optimization!)\n",
    "\n",
    "linear.set_hyperparameters(feature_dim = 1,\n",
    "                           predictor_type = 'regressor',\n",
    "                           mini_batch_size = 5,\n",
    "                           epochs = 500,\n",
    "                           num_models = 40,\n",
    "                           loss = 'absolute_loss')\n",
    "\n",
    "# Now we are ready to pass in the training data from S3 to train the linear learner model\n",
    "\n",
    "linear.fit({'train': s3_train_data})\n",
    "\n",
    "# Let's see the progress using cloudwatch logs"
   ]
  },
  {
   "cell_type": "markdown",
   "metadata": {},
   "source": [
    "# TASK #8: DEPLOY AND TEST THE TRAINED LINEAR LEARNER MODEL "
   ]
  },
  {
   "cell_type": "code",
   "execution_count": null,
   "metadata": {
    "tags": []
   },
   "outputs": [],
   "source": [
    "# Deploying the model to perform inference \n",
    "\n",
    "linear_regressor = linear.deploy(initial_instance_count = 1,\n",
    "                                          instance_type = 'ml.m4.xlarge')"
   ]
  },
  {
   "cell_type": "code",
   "execution_count": 171,
   "metadata": {
    "tags": []
   },
   "outputs": [
    {
     "ename": "NameError",
     "evalue": "name 'linear_regressor' is not defined",
     "output_type": "error",
     "traceback": [
      "\u001b[0;31m---------------------------------------------------------------------------\u001b[0m",
      "\u001b[0;31mNameError\u001b[0m                                 Traceback (most recent call last)",
      "\u001b[0;32m<ipython-input-171-b56a2d121995>\u001b[0m in \u001b[0;36m<module>\u001b[0;34m\u001b[0m\n\u001b[1;32m     10\u001b[0m \u001b[0;34m\u001b[0m\u001b[0m\n\u001b[1;32m     11\u001b[0m \u001b[0;31m# linear_regressor.content_type = 'text/csv'\u001b[0m\u001b[0;34m\u001b[0m\u001b[0;34m\u001b[0m\u001b[0;34m\u001b[0m\u001b[0m\n\u001b[0;32m---> 12\u001b[0;31m \u001b[0mlinear_regressor\u001b[0m\u001b[0;34m.\u001b[0m\u001b[0mserializer\u001b[0m \u001b[0;34m=\u001b[0m \u001b[0mcsv_serializer\u001b[0m\u001b[0;34m\u001b[0m\u001b[0;34m\u001b[0m\u001b[0m\n\u001b[0m\u001b[1;32m     13\u001b[0m \u001b[0mlinear_regressor\u001b[0m\u001b[0;34m.\u001b[0m\u001b[0mdeserializer\u001b[0m \u001b[0;34m=\u001b[0m \u001b[0mjson_deserializer\u001b[0m\u001b[0;34m\u001b[0m\u001b[0;34m\u001b[0m\u001b[0m\n",
      "\u001b[0;31mNameError\u001b[0m: name 'linear_regressor' is not defined"
     ]
    }
   ],
   "source": [
    "from sagemaker.predictor import csv_serializer, json_deserializer\n",
    "\n",
    "# Content type overrides the data that will be passed to the deployed model, since the deployed model expects data in text/csv format.\n",
    "\n",
    "# Serializer accepts a single argument, the input data, and returns a sequence of bytes in the specified content type\n",
    "\n",
    "# Deserializer accepts two arguments, the result data and the response content type, and return a sequence of bytes in the specified content type.\n",
    "\n",
    "# Reference: https://sagemaker.readthedocs.io/en/stable/predictors.html\n",
    "\n",
    "# linear_regressor.content_type = 'text/csv'\n",
    "linear_regressor.serializer = csv_serializer\n",
    "linear_regressor.deserializer = json_deserializer"
   ]
  },
  {
   "cell_type": "code",
   "execution_count": null,
   "metadata": {
    "tags": []
   },
   "outputs": [],
   "source": [
    "# making prediction on the test data\n",
    "\n",
    "result = linear_regressor.predict(X_test)"
   ]
  },
  {
   "cell_type": "code",
   "execution_count": 172,
   "metadata": {
    "tags": []
   },
   "outputs": [
    {
     "ename": "NameError",
     "evalue": "name 'result' is not defined",
     "output_type": "error",
     "traceback": [
      "\u001b[0;31m---------------------------------------------------------------------------\u001b[0m",
      "\u001b[0;31mNameError\u001b[0m                                 Traceback (most recent call last)",
      "\u001b[0;32m<ipython-input-172-9e0b0f822ece>\u001b[0m in \u001b[0;36m<module>\u001b[0;34m\u001b[0m\n\u001b[0;32m----> 1\u001b[0;31m \u001b[0mresult\u001b[0m \u001b[0;31m# results are in Json format\u001b[0m\u001b[0;34m\u001b[0m\u001b[0;34m\u001b[0m\u001b[0m\n\u001b[0m",
      "\u001b[0;31mNameError\u001b[0m: name 'result' is not defined"
     ]
    }
   ],
   "source": [
    "result # results are in Json format"
   ]
  },
  {
   "cell_type": "code",
   "execution_count": 173,
   "metadata": {
    "tags": []
   },
   "outputs": [
    {
     "ename": "NameError",
     "evalue": "name 'result' is not defined",
     "output_type": "error",
     "traceback": [
      "\u001b[0;31m---------------------------------------------------------------------------\u001b[0m",
      "\u001b[0;31mNameError\u001b[0m                                 Traceback (most recent call last)",
      "\u001b[0;32m<ipython-input-173-6403e5d059fa>\u001b[0m in \u001b[0;36m<module>\u001b[0;34m\u001b[0m\n\u001b[1;32m      1\u001b[0m \u001b[0;31m# Since the result is in json format, we access the scores by iterating through the scores in the predictions\u001b[0m\u001b[0;34m\u001b[0m\u001b[0;34m\u001b[0m\u001b[0;34m\u001b[0m\u001b[0m\n\u001b[1;32m      2\u001b[0m \u001b[0;34m\u001b[0m\u001b[0m\n\u001b[0;32m----> 3\u001b[0;31m \u001b[0mpredictions\u001b[0m \u001b[0;34m=\u001b[0m \u001b[0mnp\u001b[0m\u001b[0;34m.\u001b[0m\u001b[0marray\u001b[0m\u001b[0;34m(\u001b[0m\u001b[0;34m[\u001b[0m\u001b[0mr\u001b[0m\u001b[0;34m[\u001b[0m\u001b[0;34m'score'\u001b[0m\u001b[0;34m]\u001b[0m \u001b[0;32mfor\u001b[0m \u001b[0mr\u001b[0m \u001b[0;32min\u001b[0m \u001b[0mresult\u001b[0m\u001b[0;34m[\u001b[0m\u001b[0;34m'predictions'\u001b[0m\u001b[0;34m]\u001b[0m\u001b[0;34m]\u001b[0m\u001b[0;34m)\u001b[0m\u001b[0;34m\u001b[0m\u001b[0;34m\u001b[0m\u001b[0m\n\u001b[0m",
      "\u001b[0;31mNameError\u001b[0m: name 'result' is not defined"
     ]
    }
   ],
   "source": [
    "# Since the result is in json format, we access the scores by iterating through the scores in the predictions\n",
    "\n",
    "predictions = np.array([r['score'] for r in result['predictions']])"
   ]
  },
  {
   "cell_type": "code",
   "execution_count": 56,
   "metadata": {},
   "outputs": [
    {
     "data": {
      "text/plain": [
       "array([110375.671875 ,  95310.7265625, 144271.78125  ,  49174.34375  ,\n",
       "        47291.2265625,  67063.9609375, 155570.5      ])"
      ]
     },
     "execution_count": 56,
     "metadata": {},
     "output_type": "execute_result"
    }
   ],
   "source": [
    "predictions"
   ]
  },
  {
   "cell_type": "code",
   "execution_count": 57,
   "metadata": {
    "scrolled": true
   },
   "outputs": [
    {
     "data": {
      "text/plain": [
       "(7,)"
      ]
     },
     "execution_count": 57,
     "metadata": {},
     "output_type": "execute_result"
    }
   ],
   "source": [
    "predictions.shape"
   ]
  },
  {
   "cell_type": "code",
   "execution_count": 58,
   "metadata": {},
   "outputs": [
    {
     "data": {
      "text/plain": [
       "Text(0.5, 1.0, 'Salary vs. Years of Experience')"
      ]
     },
     "execution_count": 58,
     "metadata": {},
     "output_type": "execute_result"
    },
    {
     "data": {
      "image/png": "[encoded data removed]",
      "text/plain": [
       "<Figure size 432x288 with 1 Axes>"
      ]
     },
     "metadata": {
      "needs_background": "light"
     },
     "output_type": "display_data"
    }
   ],
   "source": [
    "# VISUALIZE TEST SET RESULTS\n",
    "plt.scatter(X_test, y_test, color = 'gray')\n",
    "plt.plot(X_test, predictions, color = 'red')\n",
    "plt.xlabel('Years of Experience (Testing Dataset)')\n",
    "plt.ylabel('salary')\n",
    "plt.title('Salary vs. Years of Experience')"
   ]
  },
  {
   "cell_type": "code",
   "execution_count": 59,
   "metadata": {},
   "outputs": [],
   "source": [
    "# Delete the end-point\n",
    "\n",
    "linear_regressor.delete_endpoint()"
   ]
  },
  {
   "cell_type": "markdown",
   "metadata": {},
   "source": [
    "# EXCELLENT JOB! NOW YOU'RE FAMILIAR WITH SAGEMAKER LINEAR LEARNER, YOU SHOULD BE PROUD OF YOUR NEWLY ACQUIRED SKILLS"
   ]
  }
 ],
 "metadata": {
  "colab": {
   "collapsed_sections": [],
   "name": "Graduate_Admission_Prediction.ipynb",
   "provenance": [],
   "toc_visible": true
  },
  "instance_type": "ml.t3.medium",
  "kernelspec": {
   "display_name": "Python 3 (Data Science)",
   "language": "python",
   "name": "python3__SAGEMAKER_INTERNAL__arn:aws:sagemaker:eu-west-2:712779665605:image/datascience-1.0"
  },
  "language_info": {
   "codemirror_mode": {
    "name": "ipython",
    "version": 3
   },
   "file_extension": ".py",
   "mimetype": "text/x-python",
   "name": "python",
   "nbconvert_exporter": "python",
   "pygments_lexer": "ipython3",
   "version": "3.7.10"
  }
 },
 "nbformat": 4,
 "nbformat_minor": 4
}
